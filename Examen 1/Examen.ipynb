{
 "cells": [
  {
   "cell_type": "markdown",
   "metadata": {},
   "source": [
    "### Creación del entorno virtual.\n",
    "<p>Al activar el entorno en el juypter notebook se instalan paquetes como el ipykernel.<p>"
   ]
  },
  {
   "cell_type": "code",
   "execution_count": null,
   "metadata": {},
   "outputs": [],
   "source": [
    "#!conda create -n cargoalto\n",
    "%conda activate cargoalto\n",
    "%conda install requests\n",
    "%conda install pandas\n",
    "%conda install -c conda-forge selenium"
   ]
  },
  {
   "cell_type": "markdown",
   "metadata": {},
   "source": [
    "### Imports necesarios."
   ]
  },
  {
   "cell_type": "code",
   "execution_count": 153,
   "metadata": {},
   "outputs": [],
   "source": [
    "import pandas as pd\n",
    "from selenium import webdriver\n",
    "from selenium.webdriver.common.by import By\n",
    "import requests\n",
    "import time\n",
    "import matplotlib.pyplot as plt \n",
    "import numpy as np"
   ]
  },
  {
   "cell_type": "markdown",
   "metadata": {},
   "source": [
    "### Iniciar la página con selenium y rechazar las cookies."
   ]
  },
  {
   "cell_type": "code",
   "execution_count": null,
   "metadata": {},
   "outputs": [],
   "source": [
    "\n",
    "driver = webdriver.Firefox()\n",
    "\n",
    "URL = \"https://transparencia.xunta.gal/tema/transparencia-institucional/goberno-e-altos-cargos/administracion-xeral\"\n",
    "driver.get(URL)\n",
    "\n",
    "try:\n",
    "    cookies = driver.find_element(By.CLASS_NAME, 'cm-btn-danger')\n",
    "    cookies.click()\n",
    "    time.sleep(2)\n",
    "except Exception as e:\n",
    "    print(\"Error:\", e)\n",
    "\n",
    "\n",
    "presidencia = driver.find_elements(By.CLASS_NAME,'contedor__titulo')\n",
    "\n",
    "# a = driver.find_elements(By.CLASS_NAME, 'contedor__altoCargo')\n",
    "\n",
    "# a\n"
   ]
  },
  {
   "cell_type": "markdown",
   "metadata": {},
   "source": [
    "<p>Canto costa ao contrbuínte cada Consellería?<p>"
   ]
  },
  {
   "cell_type": "code",
   "execution_count": null,
   "metadata": {},
   "outputs": [
    {
     "data": {
      "text/plain": [
       "Conselleria\n",
       "Cultura Lingua e Xuventude                                  74468.64\n",
       "Economía e Industria                                        83395.02\n",
       "Educación Ciencia Universidades e Formación Profesional     79199.94\n",
       "Emprego Comercio e Emigración                               93355.36\n",
       "Facenda e Administración Pública                            84746.82\n",
       "Mar                                                         76189.74\n",
       "Medio Ambiente e Cambio Climático                           74468.64\n",
       "Medio Rural                                                 79985.82\n",
       "Política Social e Igualdade                                 74468.64\n",
       "Presidencia da Xunta                                        91407.90\n",
       "Sanidade                                                    87442.74\n",
       "Vivenda e Planificación de Infraestruturas                  79439.28\n",
       "Xustiza e Deportes                                         153655.08\n",
       "Name: salario_total_anual, dtype: float64"
      ]
     },
     "execution_count": 93,
     "metadata": {},
     "output_type": "execute_result"
    }
   ],
   "source": [
    "df = pd.read_csv('ejemplo.csv')\n",
    "\n",
    "df.groupby('Conselleria')['salario_total_anual'].sum()"
   ]
  },
  {
   "cell_type": "code",
   "execution_count": 163,
   "metadata": {},
   "outputs": [
    {
     "data": {
      "text/html": [
       "<div>\n",
       "<style scoped>\n",
       "    .dataframe tbody tr th:only-of-type {\n",
       "        vertical-align: middle;\n",
       "    }\n",
       "\n",
       "    .dataframe tbody tr th {\n",
       "        vertical-align: top;\n",
       "    }\n",
       "\n",
       "    .dataframe thead th {\n",
       "        text-align: right;\n",
       "    }\n",
       "</style>\n",
       "<table border=\"1\" class=\"dataframe\">\n",
       "  <thead>\n",
       "    <tr style=\"text-align: right;\">\n",
       "      <th></th>\n",
       "      <th>Nombre</th>\n",
       "      <th>Conselleria</th>\n",
       "      <th>salario_total_anual</th>\n",
       "    </tr>\n",
       "  </thead>\n",
       "  <tbody>\n",
       "    <tr>\n",
       "      <th>0</th>\n",
       "      <td>Alfonso Rueda Valenzuela</td>\n",
       "      <td>Presidencia da Xunta</td>\n",
       "      <td>91407.90</td>\n",
       "    </tr>\n",
       "    <tr>\n",
       "      <th>1</th>\n",
       "      <td>Beatriz Cuiña Barja</td>\n",
       "      <td>Xustiza e Deportes</td>\n",
       "      <td>78179.34</td>\n",
       "    </tr>\n",
       "    <tr>\n",
       "      <th>2</th>\n",
       "      <td>Francisco Javier Abad Pardo</td>\n",
       "      <td>Xustiza e Deportes</td>\n",
       "      <td>75475.74</td>\n",
       "    </tr>\n",
       "    <tr>\n",
       "      <th>3</th>\n",
       "      <td>Ángeles Vázquez Mejuto</td>\n",
       "      <td>Medio Ambiente e Cambio Climático</td>\n",
       "      <td>74468.64</td>\n",
       "    </tr>\n",
       "    <tr>\n",
       "      <th>4</th>\n",
       "      <td>Román Rodríguez González</td>\n",
       "      <td>Educación Ciencia Universidades e Formación Pr...</td>\n",
       "      <td>79199.94</td>\n",
       "    </tr>\n",
       "    <tr>\n",
       "      <th>5</th>\n",
       "      <td>Fabiola García Martínez</td>\n",
       "      <td>Política Social e Igualdade</td>\n",
       "      <td>74468.64</td>\n",
       "    </tr>\n",
       "    <tr>\n",
       "      <th>6</th>\n",
       "      <td>María Jesús Lorenzana Somoza</td>\n",
       "      <td>Economía e Industria</td>\n",
       "      <td>83395.02</td>\n",
       "    </tr>\n",
       "    <tr>\n",
       "      <th>7</th>\n",
       "      <td>Miguel Corgos López-Prado</td>\n",
       "      <td>Facenda e Administración Pública</td>\n",
       "      <td>84746.82</td>\n",
       "    </tr>\n",
       "    <tr>\n",
       "      <th>8</th>\n",
       "      <td>María Martínez Allegue</td>\n",
       "      <td>Vivenda e Planificación de Infraestruturas</td>\n",
       "      <td>79439.28</td>\n",
       "    </tr>\n",
       "    <tr>\n",
       "      <th>9</th>\n",
       "      <td>Antonio Gómez Caamaño</td>\n",
       "      <td>Sanidade</td>\n",
       "      <td>87442.74</td>\n",
       "    </tr>\n",
       "    <tr>\n",
       "      <th>10</th>\n",
       "      <td>José López Campos</td>\n",
       "      <td>Cultura Lingua e Xuventude</td>\n",
       "      <td>74468.64</td>\n",
       "    </tr>\n",
       "    <tr>\n",
       "      <th>11</th>\n",
       "      <td>José González Vázquez</td>\n",
       "      <td>Emprego Comercio e Emigración</td>\n",
       "      <td>93355.36</td>\n",
       "    </tr>\n",
       "    <tr>\n",
       "      <th>12</th>\n",
       "      <td>María José Gómez Rodríguez</td>\n",
       "      <td>Medio Rural</td>\n",
       "      <td>79985.82</td>\n",
       "    </tr>\n",
       "    <tr>\n",
       "      <th>13</th>\n",
       "      <td>Alfonso Villares Bermúdez</td>\n",
       "      <td>Mar</td>\n",
       "      <td>76189.74</td>\n",
       "    </tr>\n",
       "  </tbody>\n",
       "</table>\n",
       "</div>"
      ],
      "text/plain": [
       "                          Nombre  \\\n",
       "0       Alfonso Rueda Valenzuela   \n",
       "1            Beatriz Cuiña Barja   \n",
       "2    Francisco Javier Abad Pardo   \n",
       "3         Ángeles Vázquez Mejuto   \n",
       "4       Román Rodríguez González   \n",
       "5        Fabiola García Martínez   \n",
       "6   María Jesús Lorenzana Somoza   \n",
       "7      Miguel Corgos López-Prado   \n",
       "8         María Martínez Allegue   \n",
       "9          Antonio Gómez Caamaño   \n",
       "10             José López Campos   \n",
       "11         José González Vázquez   \n",
       "12    María José Gómez Rodríguez   \n",
       "13     Alfonso Villares Bermúdez   \n",
       "\n",
       "                                          Conselleria  salario_total_anual  \n",
       "0                                Presidencia da Xunta             91407.90  \n",
       "1                                  Xustiza e Deportes             78179.34  \n",
       "2                                  Xustiza e Deportes             75475.74  \n",
       "3                   Medio Ambiente e Cambio Climático             74468.64  \n",
       "4   Educación Ciencia Universidades e Formación Pr...             79199.94  \n",
       "5                         Política Social e Igualdade             74468.64  \n",
       "6                                Economía e Industria             83395.02  \n",
       "7                    Facenda e Administración Pública             84746.82  \n",
       "8          Vivenda e Planificación de Infraestruturas             79439.28  \n",
       "9                                            Sanidade             87442.74  \n",
       "10                         Cultura Lingua e Xuventude             74468.64  \n",
       "11                      Emprego Comercio e Emigración             93355.36  \n",
       "12                                        Medio Rural             79985.82  \n",
       "13                                                Mar             76189.74  "
      ]
     },
     "execution_count": 163,
     "metadata": {},
     "output_type": "execute_result"
    }
   ],
   "source": [
    "df"
   ]
  },
  {
   "cell_type": "markdown",
   "metadata": {},
   "source": [
    "<p>Canto costan en total os altos cargos a Galicia?<p>"
   ]
  },
  {
   "cell_type": "code",
   "execution_count": null,
   "metadata": {},
   "outputs": [
    {
     "name": "stdout",
     "output_type": "stream",
     "text": [
      "1132223.62 €\n"
     ]
    }
   ],
   "source": [
    "print(f\"{df['salario_total_anual'].sum()} €\")"
   ]
  },
  {
   "cell_type": "markdown",
   "metadata": {},
   "source": [
    "<p>Cal é a persona con maior salario total anual, en qué consellería traballa e canto gaña<p>"
   ]
  },
  {
   "cell_type": "code",
   "execution_count": 102,
   "metadata": {},
   "outputs": [
    {
     "data": {
      "text/html": [
       "<div>\n",
       "<style scoped>\n",
       "    .dataframe tbody tr th:only-of-type {\n",
       "        vertical-align: middle;\n",
       "    }\n",
       "\n",
       "    .dataframe tbody tr th {\n",
       "        vertical-align: top;\n",
       "    }\n",
       "\n",
       "    .dataframe thead th {\n",
       "        text-align: right;\n",
       "    }\n",
       "</style>\n",
       "<table border=\"1\" class=\"dataframe\">\n",
       "  <thead>\n",
       "    <tr style=\"text-align: right;\">\n",
       "      <th></th>\n",
       "      <th>Nombre</th>\n",
       "      <th>Conselleria</th>\n",
       "      <th>salario_total_anual</th>\n",
       "    </tr>\n",
       "  </thead>\n",
       "  <tbody>\n",
       "    <tr>\n",
       "      <th>11</th>\n",
       "      <td>José González Vázquez</td>\n",
       "      <td>Emprego Comercio e Emigración</td>\n",
       "      <td>93355.36</td>\n",
       "    </tr>\n",
       "  </tbody>\n",
       "</table>\n",
       "</div>"
      ],
      "text/plain": [
       "                   Nombre                    Conselleria  salario_total_anual\n",
       "11  José González Vázquez  Emprego Comercio e Emigración             93355.36"
      ]
     },
     "execution_count": 102,
     "metadata": {},
     "output_type": "execute_result"
    }
   ],
   "source": [
    "df.sort_values(by='salario_total_anual',ascending=False).head(1)"
   ]
  },
  {
   "cell_type": "markdown",
   "metadata": {},
   "source": [
    "<p>Saca un análise automático con medias,percentiles,etc dos salarios totais anuais.<p>"
   ]
  },
  {
   "cell_type": "code",
   "execution_count": 116,
   "metadata": {},
   "outputs": [
    {
     "name": "stdout",
     "output_type": "stream",
     "text": [
      "media: 80873.11571428573 €\n",
      "mediana: 79319.61 €\n",
      "salario más alto: 93355.36 €\n",
      "salario más bajo: 74468.64 €\n"
     ]
    }
   ],
   "source": [
    "print(f\"media: {df['salario_total_anual'].mean()} €\") \n",
    "\n",
    "print(f\"mediana: {df['salario_total_anual'].median()} €\") \n",
    "\n",
    "print(f\"salario más alto: {df['salario_total_anual'].max()} €\") \n",
    "\n",
    "print(f\"salario más bajo: {df['salario_total_anual'].min()} €\") \n"
   ]
  },
  {
   "cell_type": "markdown",
   "metadata": {},
   "source": [
    "<p>Fai un gráfico de barras con matplotlib do coste de cada Consellería.<p>"
   ]
  },
  {
   "cell_type": "code",
   "execution_count": 168,
   "metadata": {},
   "outputs": [
    {
     "data": {
      "image/png": "[encoded data removed]",
      "text/plain": [
       "<Figure size 3500x600 with 1 Axes>"
      ]
     },
     "metadata": {},
     "output_type": "display_data"
    }
   ],
   "source": [
    "x = df['Conselleria']\n",
    "y = df['salario_total_anual']\n",
    "\n",
    "plt.figure(figsize=(35,6))\n",
    "plt.xlabel('Consellería')\n",
    "plt.ylabel('Coste')\n",
    "plt.title(\"Coste de cada Consellería\")\n",
    "plt.bar(x,y)\n",
    "\n",
    "plt.show()\n"
   ]
  }
 ],
 "metadata": {
  "kernelspec": {
   "display_name": "cargoalto",
   "language": "python",
   "name": "python3"
  },
  "language_info": {
   "codemirror_mode": {
    "name": "ipython",
    "version": 3
   },
   "file_extension": ".py",
   "mimetype": "text/x-python",
   "name": "python",
   "nbconvert_exporter": "python",
   "pygments_lexer": "ipython3",
   "version": "3.13.2"
  }
 },
 "nbformat": 4,
 "nbformat_minor": 2
}
