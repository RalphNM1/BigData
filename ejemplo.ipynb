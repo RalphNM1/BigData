{
 "cells": [
  {
   "cell_type": "code",
   "execution_count": null,
   "metadata": {},
   "outputs": [
    {
     "name": "stdout",
     "output_type": "stream",
     "text": [
      "Vaime levar: 3 s.\n"
     ]
    }
   ],
   "source": [
    "import time\n",
    "from random import randint\n",
    "\n",
    "\n",
    "\n",
    "def espera():\n",
    "    tiempo_espera= randint(1,10)\n",
    "    print(f\"Vaime levar: {tiempo_espera}s.\")\n",
    "    time.sleep(tiempo_espera)\n",
    "\n",
    "espera()\n"
   ]
  },
  {
   "cell_type": "code",
   "execution_count": 3,
   "metadata": {},
   "outputs": [
    {
     "name": "stdout",
     "output_type": "stream",
     "text": [
      "Vaime levar: 6 s.\n",
      "CPU times: total: 0 ns\n",
      "Wall time: 6 s\n"
     ]
    }
   ],
   "source": [
    "%time espera()"
   ]
  },
  {
   "cell_type": "code",
   "execution_count": 10,
   "metadata": {},
   "outputs": [
    {
     "data": {
      "text/plain": [
       "{'ALLUSERSPROFILE': 'C:\\\\ProgramData',\n",
       " 'APPDATA': 'C:\\\\Users\\\\ralphy.nunezmercado\\\\AppData\\\\Roaming',\n",
       " 'CHROME_CRASHPAD_PIPE_NAME': '\\\\\\\\.\\\\pipe\\\\crashpad_11200_PZJUTLXSYRKJNLFX',\n",
       " 'COMMONPROGRAMFILES': 'C:\\\\Program Files\\\\Common Files',\n",
       " 'COMMONPROGRAMFILES(X86)': 'C:\\\\Program Files (x86)\\\\Common Files',\n",
       " 'COMMONPROGRAMW6432': 'C:\\\\Program Files\\\\Common Files',\n",
       " 'COMPUTERNAME': 'A23P164C',\n",
       " 'COMSPEC': 'C:\\\\WINDOWS\\\\system32\\\\cmd.exe',\n",
       " 'CONDA_DEFAULT_ENV': 'bigdata',\n",
       " 'CONDA_EXE': 'C:\\\\Users\\\\ralphy.nunezmercado\\\\AppData\\\\Local\\\\miniconda3\\\\Scripts\\\\conda.exe',\n",
       " 'CONDA_PREFIX': 'C:\\\\Users\\\\ralphy.nunezmercado\\\\AppData\\\\Local\\\\miniconda3\\\\envs\\\\bigdata',\n",
       " 'CONDA_PROMPT_MODIFIER': '(bigdata) ',\n",
       " 'CONDA_PYTHON_EXE': 'C:\\\\Users\\\\ralphy.nunezmercado\\\\AppData\\\\Local\\\\miniconda3\\\\python.exe',\n",
       " 'CONDA_ROOT': 'C:\\\\Users\\\\ralphy.nunezmercado\\\\AppData\\\\Local\\\\miniconda3',\n",
       " 'CONDA_SHLVL': '1',\n",
       " 'DRIVERDATA': 'C:\\\\Windows\\\\System32\\\\Drivers\\\\DriverData',\n",
       " 'EFC_9320': '1',\n",
       " 'ELECTRON_RUN_AS_NODE': '1',\n",
       " 'FPS_BROWSER_APP_PROFILE_STRING': 'Internet Explorer',\n",
       " 'FPS_BROWSER_USER_PROFILE_STRING': 'Default',\n",
       " 'HOMEDRIVE': 'C:',\n",
       " 'HOMEPATH': '\\\\Users\\\\ralphy.nunezmercado',\n",
       " 'JAVA_HOME': 'C:\\\\Program Files\\\\jdk-17.0.3.1',\n",
       " 'JPY_INTERRUPT_EVENT': '1004',\n",
       " 'LOCALAPPDATA': 'C:\\\\Users\\\\ralphy.nunezmercado\\\\AppData\\\\Local',\n",
       " 'LOGONSERVER': '\\\\\\\\SERVIDOR',\n",
       " 'NUMBER_OF_PROCESSORS': '6',\n",
       " 'ONEDRIVE': 'C:\\\\Users\\\\ralphy.nunezmercado\\\\OneDrive',\n",
       " 'ORIGINAL_XDG_CURRENT_DESKTOP': 'undefined',\n",
       " 'OS': 'Windows_NT',\n",
       " 'PATH': 'c:\\\\Users\\\\ralphy.nunezmercado\\\\AppData\\\\Local\\\\miniconda3\\\\envs\\\\bigdata;C:\\\\Users\\\\ralphy.nunezmercado\\\\AppData\\\\Local\\\\miniconda3\\\\envs\\\\bigdata;C:\\\\Users\\\\ralphy.nunezmercado\\\\AppData\\\\Local\\\\miniconda3\\\\envs\\\\bigdata\\\\Library\\\\mingw-w64\\\\bin;C:\\\\Users\\\\ralphy.nunezmercado\\\\AppData\\\\Local\\\\miniconda3\\\\envs\\\\bigdata\\\\Library\\\\usr\\\\bin;C:\\\\Users\\\\ralphy.nunezmercado\\\\AppData\\\\Local\\\\miniconda3\\\\envs\\\\bigdata\\\\Library\\\\bin;C:\\\\Users\\\\ralphy.nunezmercado\\\\AppData\\\\Local\\\\miniconda3\\\\envs\\\\bigdata\\\\Scripts;C:\\\\Users\\\\ralphy.nunezmercado\\\\AppData\\\\Local\\\\miniconda3\\\\envs\\\\bigdata\\\\bin;C:\\\\Users\\\\ralphy.nunezmercado\\\\AppData\\\\Local\\\\miniconda3\\\\condabin;C:\\\\Program Files (x86)\\\\VMware\\\\VMware Workstation\\\\bin;C:\\\\WINDOWS\\\\system32;C:\\\\WINDOWS;C:\\\\WINDOWS\\\\System32\\\\Wbem;C:\\\\WINDOWS\\\\System32\\\\WindowsPowerShell\\\\v1.0;C:\\\\WINDOWS\\\\System32\\\\OpenSSH;C:\\\\Program Files\\\\jdk-17.0.3.1\\\\bin;C:\\\\MinGW\\\\bin;C:\\\\Program Files\\\\Microsoft VS Code\\\\bin;C:\\\\Strawberry\\\\c\\\\bin;C:\\\\Strawberry\\\\perl\\\\site\\\\bin;C:\\\\Strawberry\\\\perl\\\\bin;C:\\\\Users\\\\ralphy.nunezmercado\\\\AppData\\\\Local\\\\Programs\\\\Python\\\\Python313\\\\Scripts;C:\\\\Users\\\\ralphy.nunezmercado\\\\AppData\\\\Local\\\\Programs\\\\Python\\\\Python313;C:\\\\Users\\\\ralphy.nunezmercado\\\\AppData\\\\Local\\\\Programs\\\\Python\\\\Launcher;C:\\\\Users\\\\ralphy.nunezmercado\\\\AppData\\\\Local\\\\Microsoft\\\\WindowsApps;C:\\\\Users\\\\ralphy.nunezmercado\\\\AppData\\\\Local\\\\Programs\\\\Git\\\\cmd;C:\\\\Users\\\\ralphy.nunezmercado\\\\AppData\\\\Local\\\\Programs\\\\MiKTeX\\\\miktex\\\\bin\\\\x64',\n",
       " 'PATHEXT': '.COM;.EXE;.BAT;.CMD;.VBS;.VBE;.JS;.JSE;.WSF;.WSH;.MSC',\n",
       " 'PROCESSOR_ARCHITECTURE': 'AMD64',\n",
       " 'PROCESSOR_IDENTIFIER': 'Intel64 Family 6 Model 158 Stepping 10, GenuineIntel',\n",
       " 'PROCESSOR_LEVEL': '6',\n",
       " 'PROCESSOR_REVISION': '9e0a',\n",
       " 'PROGRAMDATA': 'C:\\\\ProgramData',\n",
       " 'PROGRAMFILES': 'C:\\\\Program Files',\n",
       " 'PROGRAMFILES(X86)': 'C:\\\\Program Files (x86)',\n",
       " 'PROGRAMW6432': 'C:\\\\Program Files',\n",
       " 'PROMPT': '(bigdata) $P$G',\n",
       " 'PSMODULEPATH': 'C:\\\\Program Files\\\\WindowsPowerShell\\\\Modules;C:\\\\WINDOWS\\\\system32\\\\WindowsPowerShell\\\\v1.0\\\\Modules',\n",
       " 'PUBLIC': 'C:\\\\Users\\\\Public',\n",
       " 'PYDEVD_IPYTHON_COMPATIBLE_DEBUGGING': '1',\n",
       " 'PYTHONIOENCODING': 'utf-8',\n",
       " 'PYTHONUNBUFFERED': '1',\n",
       " 'PYTHONUTF8': '1',\n",
       " 'PYTHON_FROZEN_MODULES': 'on',\n",
       " 'SESSIONNAME': 'Console',\n",
       " 'SSL_CERT_DIR': 'C:\\\\Users\\\\ralphy.nunezmercado\\\\AppData\\\\Local\\\\miniconda3\\\\envs\\\\bigdata\\\\Library\\\\ssl\\\\certs',\n",
       " 'SSL_CERT_FILE': 'C:\\\\Users\\\\ralphy.nunezmercado\\\\AppData\\\\Local\\\\miniconda3\\\\envs\\\\bigdata\\\\Library\\\\ssl\\\\cacert.pem',\n",
       " 'SYSTEMDRIVE': 'C:',\n",
       " 'SYSTEMROOT': 'C:\\\\WINDOWS',\n",
       " 'TEMP': 'C:\\\\Users\\\\RALPHY~1.NUN\\\\AppData\\\\Local\\\\Temp',\n",
       " 'TMP': 'C:\\\\Users\\\\RALPHY~1.NUN\\\\AppData\\\\Local\\\\Temp',\n",
       " 'USERDNSDOMAIN': 'WIRTZ.LOCAL',\n",
       " 'USERDOMAIN': 'WIRTZ',\n",
       " 'USERDOMAIN_ROAMINGPROFILE': 'WIRTZ',\n",
       " 'USERNAME': 'ralphy.nunezmercado',\n",
       " 'USERPROFILE': 'C:\\\\Users\\\\ralphy.nunezmercado',\n",
       " 'VBOX_MSI_INSTALL_PATH': 'C:\\\\Program Files\\\\Oracle\\\\VirtualBox\\\\',\n",
       " 'VSCODE_CODE_CACHE_PATH': 'C:\\\\Users\\\\ralphy.nunezmercado\\\\AppData\\\\Roaming\\\\Code\\\\CachedData\\\\138f619c86f1199955d53b4166bef66ef252935c',\n",
       " 'VSCODE_CRASH_REPORTER_PROCESS_TYPE': 'extensionHost',\n",
       " 'VSCODE_CWD': 'C:\\\\Program Files\\\\Microsoft VS Code',\n",
       " 'VSCODE_ESM_ENTRYPOINT': 'vs/workbench/api/node/extensionHostProcess',\n",
       " 'VSCODE_HANDLES_UNCAUGHT_ERRORS': 'true',\n",
       " 'VSCODE_IPC_HOOK': '\\\\\\\\.\\\\pipe\\\\76c3527f-1.96.0-main-sock',\n",
       " 'VSCODE_NLS_CONFIG': '{\"userLocale\":\"en-us\",\"osLocale\":\"es-es\",\"resolvedLanguage\":\"en\",\"defaultMessagesFile\":\"C:\\\\\\\\Program Files\\\\\\\\Microsoft VS Code\\\\\\\\resources\\\\\\\\app\\\\\\\\out\\\\\\\\nls.messages.json\",\"locale\":\"en-us\",\"availableLanguages\":{}}',\n",
       " 'VSCODE_PID': '11200',\n",
       " 'WINDIR': 'C:\\\\WINDOWS',\n",
       " 'ZES_ENABLE_SYSMAN': '1',\n",
       " '_CONDA_OLD_CHCP': '850',\n",
       " '__CONDA_OPENSSL_CERT_DIR_SET': '\"1\"',\n",
       " '__CONDA_OPENSSL_CERT_FILE_SET': '\"1\"',\n",
       " 'PYDEVD_USE_FRAME_EVAL': 'NO',\n",
       " 'TERM': 'xterm-color',\n",
       " 'CLICOLOR': '1',\n",
       " 'FORCE_COLOR': '1',\n",
       " 'CLICOLOR_FORCE': '1',\n",
       " 'PAGER': 'cat',\n",
       " 'GIT_PAGER': 'cat',\n",
       " 'MPLBACKEND': 'module://matplotlib_inline.backend_inline'}"
      ]
     },
     "execution_count": 10,
     "metadata": {},
     "output_type": "execute_result"
    }
   ],
   "source": [
    "#%run script.py\n",
    "#%load script.py\n",
    "#%edit script.py\n",
    "#%load ??\n",
    "#%pycat script.py\n",
    "#%who\n",
    "#%reset\n",
    "#%save C:\\\\Users\\\\ralphy.nunezmercado\\\\Documents\\\\Directorio\\\\BigData\n",
    "#%lsmagic\n",
    "#%env"
   ]
  }
 ],
 "metadata": {
  "kernelspec": {
   "display_name": "bigdata",
   "language": "python",
   "name": "python3"
  },
  "language_info": {
   "codemirror_mode": {
    "name": "ipython",
    "version": 3
   },
   "file_extension": ".py",
   "mimetype": "text/x-python",
   "name": "python",
   "nbconvert_exporter": "python",
   "pygments_lexer": "ipython3",
   "version": "3.12.3"
  }
 },
 "nbformat": 4,
 "nbformat_minor": 2
}
