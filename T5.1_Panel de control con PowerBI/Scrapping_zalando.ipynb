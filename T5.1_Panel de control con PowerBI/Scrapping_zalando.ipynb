{
 "cells": [
  {
   "cell_type": "markdown",
   "metadata": {},
   "source": [
    "# T5.1 Panel de control con PowerBI\n",
    "## Ralphy Núñez Mercado\n",
    "Hai que facer un proxecto con PowerBI que teña os seguintes elementosPower BI:\n",
    "\n",
    "Dous informes (e vista para móbiles e ordenador por cada informe).\n",
    "Alomenos 2 gráficas ou elementos gráficos ordinarios de PowerBI.\n",
    "1 Mapa (aínda que sexa con outros datos sen relación).\n",
    "Dúas orixes de datos, por exemplo un excel e un JSON.\n",
    "Relacións entre os datos (alomenos algunha que teña sentido).\n",
    "Un obxecto visual de Python.\n",
    "Un orixe de datos cun script de Python.\n",
    "Emprega varios orixes de datos (diferentes) para comparar.\n",
    "\n",
    "Na práctica debe verse algo de:\n",
    "\n",
    "Scrapping\n",
    "PANDAS\n",
    "Spark-HDFS <-> PowerBi\n",
    "\n",
    "E ademáis que quede bonito o deseño do informe :)\n",
    "\n",
    "Deberase facer con PowerBI Desktop e publicarase a app.powerbi.com coa conta @fernandowirtz.com.\n",
    "Subirase a esta tarefa o arquivo .pbix. Se é moi grande para subir, darase unha ligazón ao arquivo en OneDrive (coa conta @fernandowirtz.com).\n",
    "Compartirase a ligazón ao informe publicado en app.powerbi.com tamén co profe (pode poñerse no texto da tarefa ou engadir ao membro da organización co email: scj@fernandowirtz.com)"
   ]
  },
  {
   "cell_type": "markdown",
   "metadata": {},
   "source": [
    "### ⬇️ Instalar las librerías"
   ]
  },
  {
   "cell_type": "code",
   "execution_count": null,
   "metadata": {},
   "outputs": [
    {
     "name": "stdout",
     "output_type": "stream",
     "text": [
      "Retrieving notices: done\n",
      "Channels:\n",
      " - defaults\n",
      " - conda-forge\n",
      " - anaconda\n",
      "Platform: win-64\n",
      "Collecting package metadata (repodata.json): ...working... done\n",
      "Solving environment: ...working... done\n",
      "\n",
      "## Package Plan ##\n",
      "\n",
      "  environment location: C:\\Users\\ralphy.nunezmercado\\AppData\\Local\\miniconda3\\envs\\bigdata\n",
      "\n",
      "  added / updated specs:\n",
      "    - pip\n",
      "\n",
      "\n",
      "The following packages will be downloaded:\n",
      "\n",
      "    package                    |            build\n",
      "    ---------------------------|-----------------\n",
      "    certifi-2025.4.26          |  py312haa95532_0         158 KB\n",
      "    jupyterlab-4.4.2           |     pyhd8ed1ab_0         8.2 MB  conda-forge\n",
      "    pip-25.1                   |     pyhc872135_2         1.3 MB\n",
      "    ------------------------------------------------------------\n",
      "                                           Total:         9.6 MB\n",
      "\n",
      "The following packages will be UPDATED:\n",
      "\n",
      "  certifi            conda-forge/noarch::certifi-2025.1.31~ --> pkgs/main/win-64::certifi-2025.4.26-py312haa95532_0 \n",
      "  jupyterlab                             4.3.6-pyhd8ed1ab_0 --> 4.4.2-pyhd8ed1ab_0 \n",
      "  pip                pkgs/main/win-64::pip-25.0-py312haa95~ --> pkgs/main/noarch::pip-25.1-pyhc872135_2 \n",
      "\n",
      "\n",
      "\n",
      "Downloading and Extracting Packages: ...working...\n",
      "jupyterlab-4.4.2     | 8.2 MB    |            |   0% \n",
      "\n",
      "pip-25.1             | 1.3 MB    |            |   0% \u001b[A\n",
      "\n",
      "\n",
      "certifi-2025.4.26    | 158 KB    |            |   0% \u001b[A\u001b[A\n",
      "\n",
      "\n",
      "certifi-2025.4.26    | 158 KB    | ####       |  41% \u001b[A\u001b[A\n",
      "\n",
      "pip-25.1             | 1.3 MB    | 4          |   5% \u001b[A\n",
      "jupyterlab-4.4.2     | 8.2 MB    |            |   0% \n",
      "\n",
      "\n",
      "certifi-2025.4.26    | 158 KB    | ########## | 100% \u001b[A\u001b[A\n",
      "\n",
      "pip-25.1             | 1.3 MB    | ########## | 100% \u001b[A\n",
      "\n",
      "\n",
      "certifi-2025.4.26    | 158 KB    | ########## | 100% \u001b[A\u001b[A\n",
      "\n",
      "\n",
      "certifi-2025.4.26    | 158 KB    | ########## | 100% \u001b[A\u001b[A\n",
      "jupyterlab-4.4.2     | 8.2 MB    | ####       |  41% \n",
      "jupyterlab-4.4.2     | 8.2 MB    | #########9 |  99% \n",
      "jupyterlab-4.4.2     | 8.2 MB    | ########## | 100% \n",
      "\n",
      "pip-25.1             | 1.3 MB    | ########## | 100% \u001b[A\n",
      "\n",
      "pip-25.1             | 1.3 MB    | ########## | 100% \u001b[A\n",
      "jupyterlab-4.4.2     | 8.2 MB    | ########## | 100% \n",
      "                                                     \n",
      "\n",
      "\n",
      "                                                     \u001b[A\n",
      "\n",
      "\n",
      "                                                     \u001b[A\u001b[A done\n",
      "Preparing transaction: done\n",
      "Verifying transaction: done\n",
      "Executing transaction: done\n"
     ]
    }
   ],
   "source": [
    "!conda install pip -y || true\n",
    "!conda install -c conda-forge selenium -y || true\n",
    "!pip install webdriver_manager || true\n",
    "!conda install pandas -y || true\n",
    "!conda install sqlalchemy -y || true\n",
    "!pip install pyodbc -y || true"
   ]
  },
  {
   "cell_type": "markdown",
   "metadata": {},
   "source": [
    "### 🦎 Instalar gecko Driver"
   ]
  },
  {
   "cell_type": "code",
   "execution_count": 1,
   "metadata": {},
   "outputs": [
    {
     "data": {
      "text/plain": [
       "'C:\\\\Users\\\\ralphy.nunezmercado\\\\.wdm\\\\drivers\\\\geckodriver\\\\win64\\\\v0.36.0\\\\geckodriver.exe'"
      ]
     },
     "execution_count": 1,
     "metadata": {},
     "output_type": "execute_result"
    }
   ],
   "source": [
    "from webdriver_manager.firefox import GeckoDriverManager\n",
    "GeckoDriverManager().install()"
   ]
  },
  {
   "cell_type": "markdown",
   "metadata": {},
   "source": [
    "### ⬇️ Importar las librerías"
   ]
  },
  {
   "cell_type": "code",
   "execution_count": 5,
   "metadata": {},
   "outputs": [],
   "source": [
    "from selenium import webdriver\n",
    "from selenium.webdriver.common.by import By\n",
    "from selenium import webdriver\n",
    "from selenium.webdriver.support.ui import WebDriverWait\n",
    "from selenium.webdriver.support import expected_conditions as EC\n",
    "import time\n",
    "import itertools\n",
    "from selenium.common.exceptions import NoSuchElementException, TimeoutException\n",
    "import json\n",
    "from datetime import datetime\n",
    "from sqlalchemy import create_engine, text\n",
    "import pyodbc\n",
    "import pandas as pd"
   ]
  },
  {
   "cell_type": "markdown",
   "metadata": {},
   "source": [
    "### Conectar el driver de Firefox"
   ]
  },
  {
   "cell_type": "code",
   "execution_count": 7,
   "metadata": {},
   "outputs": [],
   "source": [
    "URL = \"https://www.zalando.es\"\n",
    "\n",
    "driver = webdriver.Firefox()\n",
    "\n",
    "driver.get(URL)"
   ]
  },
  {
   "cell_type": "markdown",
   "metadata": {},
   "source": []
  },
  {
   "cell_type": "code",
   "execution_count": null,
   "metadata": {},
   "outputs": [
    {
     "ename": "AttributeError",
     "evalue": "type object 'By' has no attribute 'Class'",
     "output_type": "error",
     "traceback": [
      "\u001b[1;31m---------------------------------------------------------------------------\u001b[0m",
      "\u001b[1;31mAttributeError\u001b[0m                            Traceback (most recent call last)",
      "Cell \u001b[1;32mIn[8], line 1\u001b[0m\n\u001b[1;32m----> 1\u001b[0m driver\u001b[38;5;241m.\u001b[39mfind_element(By\u001b[38;5;241m.\u001b[39mClass,\u001b[38;5;124m'\u001b[39m\u001b[38;5;124mvoFjEy _2kjxJ6 Sb5G3D HlZ_Tf\u001b[39m\u001b[38;5;124m'\u001b[39m)\n",
      "\u001b[1;31mAttributeError\u001b[0m: type object 'By' has no attribute 'Class'"
     ]
    }
   ],
   "source": [
    "driver.find_element(By)"
   ]
  }
 ],
 "metadata": {
  "kernelspec": {
   "display_name": "bigdata",
   "language": "python",
   "name": "python3"
  },
  "language_info": {
   "codemirror_mode": {
    "name": "ipython",
    "version": 3
   },
   "file_extension": ".py",
   "mimetype": "text/x-python",
   "name": "python",
   "nbconvert_exporter": "python",
   "pygments_lexer": "ipython3",
   "version": "3.12.3"
  }
 },
 "nbformat": 4,
 "nbformat_minor": 2
}
