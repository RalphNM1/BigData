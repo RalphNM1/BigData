{
 "cells": [
  {
   "cell_type": "markdown",
   "metadata": {},
   "source": [
    "# T5.1 Panel de control con PowerBI\n",
    "## Ralphy Núñez Mercado\n",
    "Hai que facer un proxecto con PowerBI que teña os seguintes elementosPower BI:\n",
    "\n",
    "Dous informes (e vista para móbiles e ordenador por cada informe).\n",
    "Alomenos 2 gráficas ou elementos gráficos ordinarios de PowerBI.\n",
    "1 Mapa (aínda que sexa con outros datos sen relación).\n",
    "Dúas orixes de datos, por exemplo un excel e un JSON.\n",
    "Relacións entre os datos (alomenos algunha que teña sentido).\n",
    "Un obxecto visual de Python.\n",
    "Un orixe de datos cun script de Python.\n",
    "Emprega varios orixes de datos (diferentes) para comparar.\n",
    "\n",
    "Na práctica debe verse algo de:\n",
    "\n",
    "Scrapping\n",
    "PANDAS\n",
    "Spark-HDFS <-> PowerBi\n",
    "\n",
    "E ademáis que quede bonito o deseño do informe :)\n",
    "\n",
    "Deberase facer con PowerBI Desktop e publicarase a app.powerbi.com coa conta @fernandowirtz.com.\n",
    "Subirase a esta tarefa o arquivo .pbix. Se é moi grande para subir, darase unha ligazón ao arquivo en OneDrive (coa conta @fernandowirtz.com).\n",
    "Compartirase a ligazón ao informe publicado en app.powerbi.com tamén co profe (pode poñerse no texto da tarefa ou engadir ao membro da organización co email: scj@fernandowirtz.com)"
   ]
  },
  {
   "cell_type": "markdown",
   "metadata": {},
   "source": [
    "### ⬇️ Instalar las librerías"
   ]
  },
  {
   "cell_type": "code",
   "execution_count": null,
   "metadata": {},
   "outputs": [
    {
     "name": "stdout",
     "output_type": "stream",
     "text": [
      "^C\n"
     ]
    }
   ],
   "source": [
    "!conda install pip -y || true\n",
    "!conda install -c conda-forge selenium -y || true\n",
    "!pip install webdriver_manager || true\n",
    "!conda install pandas -y || true\n",
    "!conda install sqlalchemy -y || true\n",
    "!pip install pyodbc -y || true"
   ]
  },
  {
   "cell_type": "markdown",
   "metadata": {},
   "source": [
    "### 🦎 Instalar gecko Driver"
   ]
  },
  {
   "cell_type": "code",
   "execution_count": null,
   "metadata": {},
   "outputs": [
    {
     "data": {
      "text/plain": [
       "'C:\\\\Users\\\\ralphy.nunezmercado\\\\.wdm\\\\drivers\\\\geckodriver\\\\win64\\\\v0.36.0\\\\geckodriver.exe'"
      ]
     },
     "execution_count": 1,
     "metadata": {},
     "output_type": "execute_result"
    }
   ],
   "source": [
    "from webdriver_manager.firefox import GeckoDriverManager\n",
    "GeckoDriverManager().install()"
   ]
  },
  {
   "cell_type": "markdown",
   "metadata": {},
   "source": [
    "### ⬇️ Importar las librerías"
   ]
  },
  {
   "cell_type": "code",
   "execution_count": 1,
   "metadata": {},
   "outputs": [],
   "source": [
    "from selenium import webdriver\n",
    "from selenium.webdriver.common.by import By\n",
    "from selenium import webdriver\n",
    "from selenium.webdriver.support.ui import WebDriverWait\n",
    "from selenium.webdriver.support import expected_conditions as EC\n",
    "import time\n",
    "import itertools\n",
    "from selenium.common.exceptions import NoSuchElementException, TimeoutException\n",
    "import json\n",
    "from datetime import datetime\n",
    "from sqlalchemy import create_engine, text\n",
    "import pyodbc\n",
    "import pandas as pd"
   ]
  },
  {
   "cell_type": "markdown",
   "metadata": {},
   "source": [
    "### Conectar el driver de Firefox"
   ]
  },
  {
   "cell_type": "code",
   "execution_count": null,
   "metadata": {},
   "outputs": [
    {
     "name": "stdout",
     "output_type": "stream",
     "text": [
      "Error al navegar entre páginas: Message: Unable to locate element: .next; For documentation on this error, please visit: https://www.selenium.dev/documentation/webdriver/troubleshooting/errors#no-such-element-exception\n",
      "Stacktrace:\n",
      "RemoteError@chrome://remote/content/shared/RemoteError.sys.mjs:8:8\n",
      "WebDriverError@chrome://remote/content/shared/webdriver/Errors.sys.mjs:197:5\n",
      "NoSuchElementError@chrome://remote/content/shared/webdriver/Errors.sys.mjs:527:5\n",
      "dom.find/</<@chrome://remote/content/shared/DOM.sys.mjs:136:16\n",
      "\n"
     ]
    }
   ],
   "source": [
    "from selenium import webdriver\n",
    "from selenium.webdriver.common.by import By\n",
    "from selenium.webdriver.firefox.service import Service as FirefoxService\n",
    "from webdriver_manager.firefox import GeckoDriverManager\n",
    "from selenium.webdriver.support.ui import WebDriverWait\n",
    "from selenium.webdriver.support import expected_conditions as EC\n",
    "import pandas as pd\n",
    "import time\n",
    "\n",
    "# Iniciar navegador\n",
    "options = webdriver.FirefoxOptions()\n",
    "# options.add_argument(\"--headless\")\n",
    "driver = webdriver.Firefox(service=FirefoxService(GeckoDriverManager().install()), options=options)\n",
    "\n",
    "# Ir á páxina\n",
    "url = \"https://www.autoscout24.es/lst?sort=standard&desc=0&ustate=N%2CU&atype=C&cy=E&source=homepage_search-mask\"\n",
    "driver.get(url)\n",
    "\n",
    "# Espera a que cargue e aceptar cookies\n",
    "try:\n",
    "    WebDriverWait(driver, 10).until(\n",
    "        EC.element_to_be_clickable((By.CSS_SELECTOR, 'button[data-testid=\"as24-cmp-accept-all-button\"]'))\n",
    "    ).click()\n",
    "    print(\"Cookies aceptadas.\")\n",
    "except Exception as e:\n",
    "    print(\"Non se puideron aceptar as cookies:\", e)\n",
    "\n",
    "# Esperar á recarga (ou esperar polo elemento clave que indica que xa cargou)\n",
    "try:\n",
    "    WebDriverWait(driver, 10).until(\n",
    "        EC.presence_of_element_located((By.CLASS_NAME, 'cl-list-element-gap'))\n",
    "    )\n",
    "    print(\"Páxina cargada correctamente.\")\n",
    "except:\n",
    "    print(\"Erro esperando polos resultados\")\n",
    "\n",
    "# Recolle os datos\n",
    "coches = driver.find_elements(By.CLASS_NAME, 'cl-list-element-gap')\n",
    "data = []\n",
    "\n",
    "for coche in coches:\n",
    "    try:\n",
    "        titulo = coche.find_element(By.CSS_SELECTOR, 'h2[class*=\"Title\"]').text\n",
    "        precio = coche.find_element(By.CSS_SELECTOR, '[data-item-name=\"price\"]').text\n",
    "        detalles = coche.find_elements(By.CSS_SELECTOR, '[data-item-name=\"specs\"] li')\n",
    "        combustible = detalles[0].text if len(detalles) > 0 else \"N/A\"\n",
    "        kilometros = detalles[1].text if len(detalles) > 1 else \"N/A\"\n",
    "        ano = detalles[2].text if len(detalles) > 2 else \"N/A\"\n",
    "        ubicacion = coche.find_element(By.CSS_SELECTOR, '[data-item-name=\"seller-location\"]').text\n",
    "\n",
    "        data.append({\n",
    "            'Título': titulo,\n",
    "            'Precio': precio,\n",
    "            'Combustible': combustible,\n",
    "            'Kilómetros': kilometros,\n",
    "            'Año': ano,\n",
    "            'Ubicación': ubicacion\n",
    "        })\n",
    "    except Exception as e:\n",
    "        print(\"Erro procesando un coche:\", e)\n",
    "        continue\n",
    "\n",
    "driver.quit()\n",
    "\n",
    "# Gardar en CSV\n",
    "df = pd.DataFrame(data)\n",
    "df.to_csv(\"coches_autoscout24.csv\", index=False)\n",
    "print(\"Scraping completo. Gardados\", len(df), \"coches.\")\n",
    "print(df.head())\n"
   ]
  },
  {
   "cell_type": "markdown",
   "metadata": {},
   "source": []
  }
 ],
 "metadata": {
  "kernelspec": {
   "display_name": "bigdata",
   "language": "python",
   "name": "python3"
  },
  "language_info": {
   "codemirror_mode": {
    "name": "ipython",
    "version": 3
   },
   "file_extension": ".py",
   "mimetype": "text/x-python",
   "name": "python",
   "nbconvert_exporter": "python",
   "pygments_lexer": "ipython3",
   "version": "3.12.3"
  }
 },
 "nbformat": 4,
 "nbformat_minor": 2
}
