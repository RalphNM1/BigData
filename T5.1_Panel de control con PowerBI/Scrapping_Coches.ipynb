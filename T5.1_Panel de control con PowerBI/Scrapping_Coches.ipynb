{
 "cells": [
  {
   "cell_type": "markdown",
   "metadata": {},
   "source": [
    "# T5.1 Panel de control con PowerBI\n",
    "## Ralphy Núñez Mercado\n",
    "Hai que facer un proxecto con PowerBI que teña os seguintes elementosPower BI:\n",
    "\n",
    "Dous informes (e vista para móbiles e ordenador por cada informe).\n",
    "Alomenos 2 gráficas ou elementos gráficos ordinarios de PowerBI.\n",
    "1 Mapa (aínda que sexa con outros datos sen relación).\n",
    "Dúas orixes de datos, por exemplo un excel e un JSON.\n",
    "Relacións entre os datos (alomenos algunha que teña sentido).\n",
    "Un obxecto visual de Python.\n",
    "Un orixe de datos cun script de Python.\n",
    "Emprega varios orixes de datos (diferentes) para comparar.\n",
    "\n",
    "Na práctica debe verse algo de:\n",
    "\n",
    "Scrapping\n",
    "PANDAS\n",
    "Spark-HDFS <-> PowerBi\n",
    "\n",
    "E ademáis que quede bonito o deseño do informe :)\n",
    "\n",
    "Deberase facer con PowerBI Desktop e publicarase a app.powerbi.com coa conta @fernandowirtz.com.\n",
    "Subirase a esta tarefa o arquivo .pbix. Se é moi grande para subir, darase unha ligazón ao arquivo en OneDrive (coa conta @fernandowirtz.com).\n",
    "Compartirase a ligazón ao informe publicado en app.powerbi.com tamén co profe (pode poñerse no texto da tarefa ou engadir ao membro da organización co email: scj@fernandowirtz.com)"
   ]
  },
  {
   "cell_type": "markdown",
   "metadata": {},
   "source": [
    "### ⬇️ Instalar las librerías"
   ]
  },
  {
   "cell_type": "code",
   "execution_count": null,
   "metadata": {},
   "outputs": [
    {
     "name": "stdout",
     "output_type": "stream",
     "text": [
      "^C\n"
     ]
    }
   ],
   "source": [
    "!conda install pip -y || true\n",
    "!conda install -c conda-forge selenium -y || true\n",
    "!pip install webdriver_manager || true\n",
    "!conda install pandas -y || true\n",
    "!conda install sqlalchemy -y || true\n",
    "!pip install pyodbc -y || true"
   ]
  },
  {
   "cell_type": "markdown",
   "metadata": {},
   "source": [
    "### 🦎 Instalar gecko Driver"
   ]
  },
  {
   "cell_type": "code",
   "execution_count": null,
   "metadata": {},
   "outputs": [
    {
     "data": {
      "text/plain": [
       "'C:\\\\Users\\\\ralphy.nunezmercado\\\\.wdm\\\\drivers\\\\geckodriver\\\\win64\\\\v0.36.0\\\\geckodriver.exe'"
      ]
     },
     "execution_count": 1,
     "metadata": {},
     "output_type": "execute_result"
    }
   ],
   "source": [
    "from webdriver_manager.firefox import GeckoDriverManager\n",
    "GeckoDriverManager().install()"
   ]
  },
  {
   "cell_type": "markdown",
   "metadata": {},
   "source": [
    "### ⬇️ Importar las librerías"
   ]
  },
  {
   "cell_type": "code",
   "execution_count": 1,
   "metadata": {},
   "outputs": [],
   "source": [
    "from selenium import webdriver\n",
    "from selenium.webdriver.common.by import By\n",
    "from selenium.webdriver.firefox.service import Service as FirefoxService\n",
    "from selenium.webdriver.support.ui import WebDriverWait\n",
    "from selenium.webdriver.support import expected_conditions as EC\n",
    "from webdriver_manager.firefox import GeckoDriverManager\n",
    "import pandas as pd\n",
    "import time\n",
    "import random"
   ]
  },
  {
   "cell_type": "markdown",
   "metadata": {},
   "source": [
    "### Conectar el driver de Firefox"
   ]
  },
  {
   "cell_type": "code",
   "execution_count": 3,
   "metadata": {},
   "outputs": [
    {
     "name": "stdout",
     "output_type": "stream",
     "text": [
      "Cookies aceptadas.\n",
      "Error esperando por los resultados.\n",
      "Detectados 0 coches.\n",
      "Scraping completo. Guardados 0 coches.\n",
      "Empty DataFrame\n",
      "Columns: []\n",
      "Index: []\n"
     ]
    }
   ],
   "source": [
    "from selenium import webdriver\n",
    "from selenium.webdriver.common.by import By\n",
    "from selenium.webdriver.chrome.service import Service as ChromeService\n",
    "from webdriver_manager.chrome import ChromeDriverManager\n",
    "from selenium.webdriver.support.ui import WebDriverWait\n",
    "from selenium.webdriver.support import expected_conditions as EC\n",
    "import pandas as pd\n",
    "import time\n",
    "import random\n",
    "\n",
    "# Configuración del navegador Chrome\n",
    "options = webdriver.ChromeOptions()\n",
    "# options.add_argument(\"--headless\")  # Descomenta si no quieres abrir el navegador visualmente\n",
    "options.add_argument(\"--disable-blink-features=AutomationControlled\")\n",
    "options.add_argument(\"start-maximized\")\n",
    "options.add_argument(\"user-agent=Mozilla/5.0 (Windows NT 10.0; Win64; x64) AppleWebKit/537.36 (KHTML, like Gecko) Chrome/124.0.0.0 Safari/537.36\")\n",
    "\n",
    "# Inicializa el navegador\n",
    "driver = webdriver.Chrome(service=ChromeService(ChromeDriverManager().install()), options=options)\n",
    "\n",
    "# Ir a la página\n",
    "url = \"https://www.autoscout24.es/lst?sort=standard&desc=0&ustate=N%2CU&atype=C&cy=E&source=homepage_search-mask\"\n",
    "driver.get(url)\n",
    "\n",
    "# Aceptar cookies si aparecen\n",
    "try:\n",
    "    WebDriverWait(driver, 10).until(\n",
    "        EC.element_to_be_clickable((By.CSS_SELECTOR, 'button[data-testid=\"as24-cmp-accept-all-button\"]'))\n",
    "    ).click()\n",
    "    print(\"Cookies aceptadas.\")\n",
    "except Exception as e:\n",
    "    print(\"No se pudieron aceptar las cookies:\", e)\n",
    "\n",
    "# Scroll infinito para cargar más coches\n",
    "max_scrolls = 15\n",
    "scroll_pause = (2, 4)\n",
    "scroll_attempts = 0\n",
    "last_height = driver.execute_script(\"return document.body.scrollHeight\")\n",
    "\n",
    "while scroll_attempts < max_scrolls:\n",
    "    driver.execute_script(\"window.scrollTo(0, document.body.scrollHeight);\")\n",
    "    time.sleep(random.uniform(*scroll_pause))\n",
    "    new_height = driver.execute_script(\"return document.body.scrollHeight\")\n",
    "    if new_height == last_height:\n",
    "        scroll_attempts += 1\n",
    "    else:\n",
    "        scroll_attempts = 0\n",
    "    last_height = new_height\n",
    "\n",
    "# Esperar a que cargue la lista\n",
    "try:\n",
    "    WebDriverWait(driver, 15).until(\n",
    "        EC.presence_of_all_elements_located((By.CLASS_NAME, 'cl-list-element-gap'))\n",
    "    )\n",
    "    print(\"Página cargada correctamente.\")\n",
    "except:\n",
    "    print(\"Error esperando por los resultados.\")\n",
    "\n",
    "# Obtener los elementos de los coches\n",
    "coches = driver.find_elements(By.CLASS_NAME, 'cl-list-element-gap')\n",
    "print(f\"Detectados {len(coches)} coches.\")\n",
    "data = []\n",
    "\n",
    "# Extraer la información de cada coche\n",
    "for coche in coches:\n",
    "    try:\n",
    "        titulo = coche.find_element(By.CSS_SELECTOR, 'h2[class*=\"Title\"]').text\n",
    "        precio = coche.find_element(By.CSS_SELECTOR, '[data-item-name=\"price\"]').text\n",
    "        detalles = coche.find_elements(By.CSS_SELECTOR, '[data-item-name=\"specs\"] li')\n",
    "        combustible = detalles[0].text if len(detalles) > 0 else \"N/A\"\n",
    "        kilometros = detalles[1].text if len(detalles) > 1 else \"N/A\"\n",
    "        ano = detalles[2].text if len(detalles) > 2 else \"N/A\"\n",
    "        ubicacion = coche.find_element(By.CSS_SELECTOR, '[data-item-name=\"seller-location\"]').text\n",
    "\n",
    "        data.append({\n",
    "            'Título': titulo,\n",
    "            'Precio': precio,\n",
    "            'Combustible': combustible,\n",
    "            'Kilómetros': kilometros,\n",
    "            'Año': ano,\n",
    "            'Ubicación': ubicacion\n",
    "        })\n",
    "\n",
    "    except Exception as e:\n",
    "        print(\"Error procesando un coche:\", e)\n",
    "        time.sleep(1)\n",
    "        continue\n",
    "\n",
    "driver.quit()\n",
    "\n",
    "# Guardar los datos en un archivo CSV\n",
    "df = pd.DataFrame(data)\n",
    "df.to_csv(\"coches_autoscout24.csv\", index=False, encoding=\"utf-8-sig\")\n",
    "print(f\"Scraping completo. Guardados {len(df)} coches.\")\n",
    "print(df.head())\n"
   ]
  },
  {
   "cell_type": "markdown",
   "metadata": {},
   "source": []
  }
 ],
 "metadata": {
  "kernelspec": {
   "display_name": "bigdata",
   "language": "python",
   "name": "python3"
  },
  "language_info": {
   "codemirror_mode": {
    "name": "ipython",
    "version": 3
   },
   "file_extension": ".py",
   "mimetype": "text/x-python",
   "name": "python",
   "nbconvert_exporter": "python",
   "pygments_lexer": "ipython3",
   "version": "3.12.3"
  }
 },
 "nbformat": 4,
 "nbformat_minor": 2
}
