{
 "cells": [
  {
   "cell_type": "markdown",
   "metadata": {},
   "source": [
    "# T5.1 Panel de control con PowerBI\n",
    "## Ralphy Núñez Mercado\n",
    "Hai que facer un proxecto con PowerBI que teña os seguintes elementosPower BI:\n",
    "\n",
    "Dous informes (e vista para móbiles e ordenador por cada informe).\n",
    "Alomenos 2 gráficas ou elementos gráficos ordinarios de PowerBI.\n",
    "1 Mapa (aínda que sexa con outros datos sen relación).\n",
    "Dúas orixes de datos, por exemplo un excel e un JSON.\n",
    "Relacións entre os datos (alomenos algunha que teña sentido).\n",
    "Un obxecto visual de Python.\n",
    "Un orixe de datos cun script de Python.\n",
    "Emprega varios orixes de datos (diferentes) para comparar.\n",
    "\n",
    "Na práctica debe verse algo de:\n",
    "\n",
    "Scrapping\n",
    "PANDAS\n",
    "Spark-HDFS <-> PowerBi\n",
    "\n",
    "E ademáis que quede bonito o deseño do informe :)\n",
    "\n",
    "Deberase facer con PowerBI Desktop e publicarase a app.powerbi.com coa conta @fernandowirtz.com.\n",
    "Subirase a esta tarefa o arquivo .pbix. Se é moi grande para subir, darase unha ligazón ao arquivo en OneDrive (coa conta @fernandowirtz.com).\n",
    "Compartirase a ligazón ao informe publicado en app.powerbi.com tamén co profe (pode poñerse no texto da tarefa ou engadir ao membro da organización co email: scj@fernandowirtz.com)"
   ]
  },
  {
   "cell_type": "markdown",
   "metadata": {},
   "source": [
    "### ⬇️ Instalar las librerías"
   ]
  },
  {
   "cell_type": "code",
   "execution_count": null,
   "metadata": {},
   "outputs": [
    {
     "name": "stdout",
     "output_type": "stream",
     "text": [
      "^C\n"
     ]
    }
   ],
   "source": [
    "!conda install pip -y || true\n",
    "!conda install -c conda-forge selenium -y || true\n",
    "!pip install webdriver_manager || true\n",
    "!conda install pandas -y || true\n",
    "!conda install sqlalchemy -y || true\n",
    "!pip install pyodbc -y || true"
   ]
  },
  {
   "cell_type": "markdown",
   "metadata": {},
   "source": [
    "### 🦎 Instalar gecko Driver"
   ]
  },
  {
   "cell_type": "code",
   "execution_count": null,
   "metadata": {},
   "outputs": [
    {
     "data": {
      "text/plain": [
       "'C:\\\\Users\\\\ralphy.nunezmercado\\\\.wdm\\\\drivers\\\\geckodriver\\\\win64\\\\v0.36.0\\\\geckodriver.exe'"
      ]
     },
     "execution_count": 1,
     "metadata": {},
     "output_type": "execute_result"
    }
   ],
   "source": [
    "from webdriver_manager.firefox import GeckoDriverManager\n",
    "GeckoDriverManager().install()"
   ]
  },
  {
   "cell_type": "markdown",
   "metadata": {},
   "source": [
    "### ⬇️ Importar las librerías"
   ]
  },
  {
   "cell_type": "code",
   "execution_count": 1,
   "metadata": {},
   "outputs": [],
   "source": [
    "from selenium import webdriver\n",
    "from selenium.webdriver.common.by import By\n",
    "from selenium.webdriver.firefox.service import Service as FirefoxService\n",
    "from selenium.webdriver.support.ui import WebDriverWait\n",
    "from selenium.webdriver.support import expected_conditions as EC\n",
    "from webdriver_manager.firefox import GeckoDriverManager\n",
    "import pandas as pd\n",
    "import time\n",
    "import random"
   ]
  },
  {
   "cell_type": "markdown",
   "metadata": {},
   "source": [
    "### Conectar el driver de Firefox"
   ]
  },
  {
   "cell_type": "code",
   "execution_count": 11,
   "metadata": {},
   "outputs": [
    {
     "name": "stdout",
     "output_type": "stream",
     "text": [
      "¡Datos guardados en coches.csv!\n"
     ]
    }
   ],
   "source": [
    "from selenium import webdriver\n",
    "from selenium.webdriver.common.by import By\n",
    "from selenium.webdriver.chrome.service import Service as ChromeService\n",
    "from webdriver_manager.chrome import ChromeDriverManager\n",
    "from selenium.webdriver.support.ui import WebDriverWait\n",
    "from selenium.webdriver.support import expected_conditions as EC\n",
    "import pandas as pd\n",
    "import time\n",
    "import random\n",
    "import csv\n",
    "import re\n",
    "\n",
    "# Configuración del navegador Chrome\n",
    "options = webdriver.ChromeOptions()\n",
    "# options.add_argument(\"--headless\")  # Descomenta si no quieres abrir el navegador visualmente\n",
    "options.add_argument(\"--disable-blink-features=AutomationControlled\")\n",
    "options.add_argument(\"start-maximized\")\n",
    "options.add_argument(\"user-agent=Mozilla/5.0 (Windows NT 10.0; Win64; x64) AppleWebKit/537.36 (KHTML, like Gecko) Chrome/124.0.0.0 Safari/537.36\")\n",
    "\n",
    "# Inicializa el navegador\n",
    "driver = webdriver.Chrome(service=ChromeService(ChromeDriverManager().install()), options=options)\n",
    "\n",
    "\n",
    "\n",
    "# Ir a la página\n",
    "url = \"https://www.autoscout24.es/lst?sort=standard&desc=0&ustate=N%2CU&atype=C&cy=E&source=homepage_search-mask\"\n",
    "driver.get(url)\n",
    "\n",
    "main = driver.find_element(By.TAG_NAME, 'main')\n",
    "articulos = main.find_elements(By.TAG_NAME, 'article')\n",
    "\n",
    "datos_coches = []\n",
    "for articulo in articulos:\n",
    "    # Marca y Modelo\n",
    "    marca = articulo.get_attribute('data-make') or ''\n",
    "    modelo = articulo.get_attribute('data-model') or ''\n",
    "\n",
    "    # Precio\n",
    "    precio = articulo.get_attribute('data-price') or ''\n",
    "    if not precio:\n",
    "        try:\n",
    "            precio = articulo.find_element(By.CSS_SELECTOR, '[data-testid=\"regular-price\"]').text\n",
    "            precio = re.sub(r'[^\\d]', '', precio)\n",
    "        except:\n",
    "            precio = ''\n",
    "\n",
    "    # KM\n",
    "    try:\n",
    "        km_text = articulo.find_element(By.CSS_SELECTOR, '[data-testid=\"VehicleDetails-mileage_road\"]').text\n",
    "        km = re.sub(r'[^\\d]', '', km_text)\n",
    "    except:\n",
    "        km = ''\n",
    "\n",
    "    # Año\n",
    "    try:\n",
    "        year_text = articulo.find_element(By.CSS_SELECTOR, '[data-testid=\"VehicleDetails-calendar\"]').text\n",
    "        year = year_text.split('/')[-1] if '/' in year_text else year_text\n",
    "    except:\n",
    "        year = ''\n",
    "\n",
    "    # Tipo de combustible\n",
    "    try:\n",
    "        combustible = articulo.find_element(By.CSS_SELECTOR, '[data-testid=\"VehicleDetails-gas_pump\"]').text\n",
    "    except:\n",
    "        combustible = ''\n",
    "\n",
    "    # CV\n",
    "    try:\n",
    "        cv_text = articulo.find_element(By.CSS_SELECTOR, '[data-testid=\"VehicleDetails-speedometer\"]').text\n",
    "        match = re.search(r'\\((\\d+)\\s*CV\\)', cv_text)\n",
    "        cv = match.group(1) if match else ''\n",
    "    except:\n",
    "        cv = ''\n",
    "\n",
    "    # Ubicación (solo ciudad/provincia, sin \"Contáctanos en: • ES-...\")\n",
    "    try:\n",
    "        ubicacion_raw = articulo.find_element(By.CSS_SELECTOR, '[data-testid=\"sellerinfo-address\"]').text\n",
    "        # Busca la última palabra después del último espacio (normalmente la ciudad/provincia)\n",
    "        if \"Contáctanos en:\" in ubicacion_raw:\n",
    "            # Extrae lo que hay después del último espacio\n",
    "            ubicacion = ubicacion_raw.split()[-1]\n",
    "        else:\n",
    "            ubicacion = ubicacion_raw\n",
    "    except:\n",
    "        ubicacion = ''\n",
    "\n",
    "    # Transmisión\n",
    "    try:\n",
    "        transmision = articulo.find_element(By.CSS_SELECTOR, '[data-testid=\"VehicleDetails-transmission\"]').text\n",
    "    except:\n",
    "        transmision = ''\n",
    "\n",
    "    datos_coches.append([\n",
    "        marca.capitalize(), modelo, precio, km, year, combustible, cv, ubicacion, transmision\n",
    "    ])\n",
    "\n",
    "driver.quit()\n",
    "\n",
    "# Escribe el CSV\n",
    "with open('coches.csv', 'w', newline='', encoding='utf-8') as f:\n",
    "    writer = csv.writer(f)\n",
    "    writer.writerow([\n",
    "        'Marca', 'Modelo', 'Precio', 'KM', 'año',\n",
    "        'Tipo de combustile', 'CV', 'Ubicacion', 'Trasmision'\n",
    "    ])\n",
    "    writer.writerows(datos_coches)\n",
    "\n",
    "print(\"¡Datos guardados en coches.csv!\")\n",
    "#driver.quit()\n",
    "\n",
    "# driver.quit()"
   ]
  },
  {
   "cell_type": "markdown",
   "metadata": {},
   "source": []
  }
 ],
 "metadata": {
  "kernelspec": {
   "display_name": "bigdata",
   "language": "python",
   "name": "python3"
  },
  "language_info": {
   "codemirror_mode": {
    "name": "ipython",
    "version": 3
   },
   "file_extension": ".py",
   "mimetype": "text/x-python",
   "name": "python",
   "nbconvert_exporter": "python",
   "pygments_lexer": "ipython3",
   "version": "3.12.3"
  }
 },
 "nbformat": 4,
 "nbformat_minor": 2
}
