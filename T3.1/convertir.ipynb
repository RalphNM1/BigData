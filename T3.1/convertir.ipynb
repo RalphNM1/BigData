{
 "cells": [
  {
   "cell_type": "code",
   "execution_count": 4,
   "metadata": {},
   "outputs": [
    {
     "name": "stdout",
     "output_type": "stream",
     "text": [
      "Archivo convertido: A-CORUNA-Cee_Brens-Cis_Ferrol-2023-2024.json -> A-CORUNA-Cee_Brens-Cis_Ferrol-2023-2024.csv\n",
      "Archivo convertido: A-CORUNA-Cee_Brens-Cis_Ferrol-2024-2025.json -> A-CORUNA-Cee_Brens-Cis_Ferrol-2024-2025.csv\n",
      "Archivo convertido: A-CORUNA-Muralla-Malpica-2023-2024.json -> A-CORUNA-Muralla-Malpica-2023-2024.csv\n",
      "Archivo convertido: A-CORUNA-Muralla-Malpica-2024-2025.json -> A-CORUNA-Muralla-Malpica-2024-2025.csv\n",
      "Archivo convertido: A-CORUNA-Abelleira-O_Val-2023-2024.json -> A-CORUNA-Abelleira-O_Val-2023-2024.csv\n",
      "Archivo convertido: A-CORUNA-Abelleira-O_Val-2024-2025.json -> A-CORUNA-Abelleira-O_Val-2024-2025.csv\n",
      "Archivo convertido: A-CORUNA-Melide-Marco_da_Curra-2023-2024.json -> A-CORUNA-Melide-Marco_da_Curra-2023-2024.csv\n",
      "Archivo convertido: A-CORUNA-Melide-Marco_da_Curra-2024-2025.json -> A-CORUNA-Melide-Marco_da_Curra-2024-2025.csv\n"
     ]
    }
   ],
   "source": [
    "import pandas as pd\n",
    "\n",
    "# Cargar el CSV en un DataFrame\n",
    "\n",
    "# Lista de nombres de archivos JSON\n",
    "lista_nombres = [\n",
    "    \"A-CORUNA-Cee_Brens-Cis_Ferrol-2023-2024.json\",\n",
    "    \"A-CORUNA-Cee_Brens-Cis_Ferrol-2024-2025.json\",\n",
    "    \"A-CORUNA-Muralla-Malpica-2023-2024.json\",\n",
    "    \"A-CORUNA-Muralla-Malpica-2024-2025.json\",\n",
    "    \"A-CORUNA-Abelleira-O_Val-2023-2024.json\",\n",
    "    \"A-CORUNA-Abelleira-O_Val-2024-2025.json\",\n",
    "    \"A-CORUNA-Melide-Marco_da_Curra-2023-2024.json\",\n",
    "    \"A-CORUNA-Melide-Marco_da_Curra-2024-2025.json\"\n",
    "]\n",
    "\n",
    "# Convertir cada archivo JSON a CSV\n",
    "for nombre in lista_nombres:\n",
    "    try:\n",
    "        # Cargar JSON en un DataFrame\n",
    "        data = pd.read_json(nombre)\n",
    "        \n",
    "        # Generar nombre del archivo CSV\n",
    "        nombre_csv = nombre.replace(\".json\", \".csv\")\n",
    "        \n",
    "        # Guardar DataFrame como CSV\n",
    "        data.to_csv(nombre_csv, index=False, encoding='utf-8')\n",
    "        \n",
    "        print(f\"Archivo convertido: {nombre} -> {nombre_csv}\")\n",
    "    \n",
    "    except Exception as e:\n",
    "        print(f\"Error al procesar {nombre}: {e}\")\n",
    "\n",
    "\n",
    "#"
   ]
  }
 ],
 "metadata": {
  "kernelspec": {
   "display_name": "bigdata",
   "language": "python",
   "name": "python3"
  },
  "language_info": {
   "codemirror_mode": {
    "name": "ipython",
    "version": 3
   },
   "file_extension": ".py",
   "mimetype": "text/x-python",
   "name": "python",
   "nbconvert_exporter": "python",
   "pygments_lexer": "ipython3",
   "version": "3.12.3"
  }
 },
 "nbformat": 4,
 "nbformat_minor": 2
}
