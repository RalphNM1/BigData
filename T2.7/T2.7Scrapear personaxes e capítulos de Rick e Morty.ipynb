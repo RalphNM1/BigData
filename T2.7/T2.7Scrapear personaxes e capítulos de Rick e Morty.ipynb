{
 "cells": [
  {
   "cell_type": "markdown",
   "metadata": {},
   "source": [
    "# Ralphy Núñez Mercado"
   ]
  },
  {
   "cell_type": "markdown",
   "metadata": {
    "vscode": {
     "languageId": "plaintext"
    }
   },
   "source": [
    "## T2.3: Scrapear personaxes e capítulos de Rick e Morty"
   ]
  },
  {
   "cell_type": "markdown",
   "metadata": {},
   "source": [
    "Scraping nivel 0. Servizos web\n",
    "Apuntes relacionados: https://github.com/jfsanchez/SBD/blob/main/notebooks/scraping/scraping-0-API-REST.ipynb\n",
    "\n",
    "Exercicio: Das URL seguintes podes obter os episodios e personaxes.\n",
    "\n",
    "Capítulos: https://rickandmortyapi.com/api/episode\n",
    "Personaxes: https://rickandmortyapi.com/api/character\n",
    "Queremos saber por unha banda as personaxes e por outra os capítulos.\n",
    "\n",
    "Coidado! A API ten un paxinador:\n",
    "\n",
    "https://rickandmortyapi.com/api/character?page=42\n",
    "https://rickandmortyapi.com/api/episode?page=3\n",
    "Tes que recorrer as páxinas ata que en info, next sexa null.\n",
    "\n",
    "O código debe ser xenérico e ser chamado cunha función tanto para personaxes como para episodios.\n",
    "\n",
    "Deben gardarse os datos nunha base de datos de PostgreSQL."
   ]
  },
  {
   "cell_type": "markdown",
   "metadata": {},
   "source": [
    "### ⬇️📚 Imports necesarios"
   ]
  },
  {
   "cell_type": "code",
   "execution_count": 1,
   "metadata": {},
   "outputs": [],
   "source": [
    "import requests\n",
    "import pandas as pd\n",
    "import matplotlib.pyplot as plt\n",
    "import numpy as np\n",
    "import json"
   ]
  },
  {
   "cell_type": "markdown",
   "metadata": {},
   "source": [
    "## 🔗 Creando a cadea de conexión"
   ]
  },
  {
   "cell_type": "code",
   "execution_count": 2,
   "metadata": {},
   "outputs": [],
   "source": [
    "#Datos de conexión\n",
    "db_host = \"10.133.28.46\" # ip cesga\n",
    "db_port=5432 \n",
    "db_user = \"postgres\"\n",
    "db_passwd=\"Cl431Ns3gur4\"\n",
    "db_name=\"rickymorty\""
   ]
  },
  {
   "cell_type": "markdown",
   "metadata": {},
   "source": [
    "## 🔁 Recorrer la API"
   ]
  },
  {
   "cell_type": "code",
   "execution_count": 3,
   "metadata": {},
   "outputs": [
    {
     "name": "stdout",
     "output_type": "stream",
     "text": [
      "filas : 51\n"
     ]
    }
   ],
   "source": [
    "URL_episodio = \"https://rickandmortyapi.com/api/episode\"\n",
    "URL_personaje = \"https://rickandmortyapi.com/api/character\" \n",
    "\n",
    "def recorrer(URL):\n",
    "    paginas = requests.get(URL).json()[\"info\"][\"pages\"] \n",
    "    resultados = []\n",
    "\n",
    "    for i in range(1, paginas + 1):\n",
    "        response = requests.get(f\"{URL}?page={i}\").json()\n",
    "        resultados.extend(response[\"results\"])\n",
    "    \n",
    "    return resultados  \n",
    "\n",
    "episodios = recorrer(URL_episodio)\n",
    "print(f\"filas : {len(episodios)}\")\n"
   ]
  },
  {
   "cell_type": "markdown",
   "metadata": {},
   "source": [
    "(en los episodio guardar  los personajes pero en los personajes no guardar los episodios)"
   ]
  },
  {
   "cell_type": "markdown",
   "metadata": {},
   "source": [
    "## Creacion de la base de datos postgresql rick y morty\n",
    "\n",
    "### Primero crearemos el Docker   \n",
    "\n",
    "\n"
   ]
  },
  {
   "cell_type": "markdown",
   "metadata": {},
   "source": [
    "```bash\n",
    "docker run \n",
    "\\ --name de-postre-sql \n",
    "\\ -v /home/cesgaxuser/BBDD:/BBDDdocker \n",
    "\\ -e POSTGRES_PASSWORD=Cl431Ns3gur4 \n",
    "\\ --restart unless-stopped \n",
    "\\ -p 5432:5432 \n",
    "\\ -p 5433:5433 \n",
    "\\ -d postgres\n",
    "```"
   ]
  },
  {
   "cell_type": "markdown",
   "metadata": {},
   "source": [
    "\n",
    "### Entramos en el docker y creamos la base de datos  \n",
    "\n",
    "```bash\n",
    "docker exec -it de-postre-sql psql -U postgres\n",
    "```"
   ]
  },
  {
   "cell_type": "markdown",
   "metadata": {},
   "source": [
    "### Creación de las tablas para nuestra BD"
   ]
  },
  {
   "cell_type": "markdown",
   "metadata": {},
   "source": [
    "Episodio:\n",
    "\n",
    "```sql\n",
    "CREATE TABLE episodio (id INT, \n",
    "    name VARCHAR(255), \n",
    "    air_date VARCHAR(255), \n",
    "    episode VARCHAR(255), \n",
    "    characters text[], \n",
    "    url text, \n",
    "    created text);\n",
    "```\n",
    "Personaje: \n",
    "\n",
    "```sql\n",
    "CREATE TABLE personaje (id INT,   \n",
    "    name VARCHAR(255), \n",
    "    status VARCHAR(255), \n",
    "    species VARCHAR(255), \n",
    "    type VARCHAR(255), \n",
    "    gender VARCHAR(255), \n",
    "    origin TEXT, \n",
    "    location TEXT, \n",
    "    image text, \n",
    "    url text, \n",
    "    created text);\n",
    "```"
   ]
  },
  {
   "cell_type": "markdown",
   "metadata": {},
   "source": [
    "### Ahora tendremos que insertar los datos de la API a las tablas de nuestra base de datos de PostgreSQL ( OJO que en la tabla personaje no vamos a guardar los episodios )"
   ]
  },
  {
   "cell_type": "markdown",
   "metadata": {},
   "source": [
    "### 🔗 Primero vamos a probar la conexion con la base de datos en postgreSQL"
   ]
  },
  {
   "cell_type": "markdown",
   "metadata": {},
   "source": [
    "Anteriormente usabamos una conection string como esta:\n",
    "```python \n",
    "    connectionString=f'mysql+pymysql://{db_user}:{db_passwd}@{db_host}:{db_port}/{db_name}'\n",
    "```\n",
    "El problema es que esta connectionString es para mysql y en este ejercicio usamos postgreSQL.  \n",
    "\n",
    "Para poder conectarnos a una BD en postgreSQL tendremos que instalar esta librería: "
   ]
  },
  {
   "cell_type": "code",
   "execution_count": 4,
   "metadata": {},
   "outputs": [],
   "source": [
    "# %pip install psycopg2 \n",
    "# %conda install anaconda::psycopg2"
   ]
  },
  {
   "cell_type": "markdown",
   "metadata": {},
   "source": [
    "Con la libreria instalada esta sería la connectionString adecuada para conectarnos."
   ]
  },
  {
   "cell_type": "code",
   "execution_count": 5,
   "metadata": {},
   "outputs": [],
   "source": [
    "connectionString = f'postgresql+psycopg2://{db_user}:{db_passwd}@{db_host}:{db_port}/{db_name}'"
   ]
  },
  {
   "cell_type": "markdown",
   "metadata": {},
   "source": [
    "Creamos el engine"
   ]
  },
  {
   "cell_type": "code",
   "execution_count": 6,
   "metadata": {},
   "outputs": [],
   "source": [
    "from sqlalchemy import create_engine, text\n",
    "from sqlalchemy import insert\n",
    "\n",
    "engine = create_engine(connectionString)"
   ]
  },
  {
   "cell_type": "markdown",
   "metadata": {},
   "source": [
    "Creacion de las tablas desde python"
   ]
  },
  {
   "cell_type": "code",
   "execution_count": null,
   "metadata": {},
   "outputs": [],
   "source": [
    "create_table_episodioSQL = \"CREATE TABLE episodio (id INT, name VARCHAR(255), air_date VARCHAR(255), episode VARCHAR(255), characters text[], url text, created text);\"\n",
    "create_table_personajeSQL = \"CREATE TABLE personaje (id INT, name VARCHAR(255), status VARCHAR(255), species VARCHAR(255), type VARCHAR(255), gender VARCHAR(255), origin TEXT, location TEXT, image text, url text,created text);\"\n",
    "\n",
    "with engine.connect() as conn:\n",
    "    conn.execute(text(create_table_episodioSQL))\n",
    "    conn.execute(text(create_table_personajeSQL))\n",
    "    conn.commit()\n",
    "\n",
    "selectSQL = \"SELECT * FROM episodio\"\n",
    "dfPanda = pd.read_sql(selectSQL, engine)\n",
    "print(dfPanda.head())"
   ]
  },
  {
   "cell_type": "markdown",
   "metadata": {},
   "source": [
    "Obtener los json "
   ]
  },
  {
   "cell_type": "code",
   "execution_count": 8,
   "metadata": {},
   "outputs": [],
   "source": [
    "json_episodios = recorrer(URL_episodio)\n",
    "json_personajes = recorrer(URL_personaje)"
   ]
  },
  {
   "cell_type": "markdown",
   "metadata": {},
   "source": [
    "### ⬇️ Ahora ya podremos insertar los datos en las tablas."
   ]
  },
  {
   "cell_type": "code",
   "execution_count": null,
   "metadata": {},
   "outputs": [],
   "source": [
    "with engine.connect() as conn:\n",
    "    for episodio in json_episodios:\n",
    "        id = episodio['id']\n",
    "        name = episodio['name'].replace(\"'\",\"\")\n",
    "        air_date = episodio['air_date']\n",
    "        episode = episodio['episode']\n",
    "        characters = episodio['characters']\n",
    "        url = episodio['url']\n",
    "        created = episodio['created']\n",
    "        \n",
    "        sql = f\"\"\"\n",
    "            INSERT INTO episodio ( id, name, air_date, episode, characters, url, created) \n",
    "            VALUES ({id}, '{name}', '{air_date}', '{episode}', array{str(characters)}, '{url}', '{created}')\n",
    "        \"\"\"\n",
    "\n",
    "        conn.execute(text(sql))\n",
    "    conn.commit()\n",
    "\n",
    "\n",
    "with engine.connect() as conn:\n",
    "    for personaje in json_personajes:\n",
    "        id = personaje['id']\n",
    "        name = personaje['name'].replace(\"'\",\"\")\n",
    "        status = personaje['status'].replace(\"'\",\"\")\n",
    "        species = personaje['species'].replace(\"'\",\"\")\n",
    "        typep = personaje['type'].replace(\"'\",\"\")\n",
    "        gender = personaje['gender'].replace(\"'\",\"\")\n",
    "        origin = personaje['origin']['name'].replace(\"'\",\"\")\n",
    "        location = personaje['location']['name'].replace(\"'\",\"\")\n",
    "        image = personaje['image']\n",
    "        url = personaje['url']\n",
    "        created = personaje['created']\n",
    "\n",
    "         \n",
    "        sql = f\"\"\"\n",
    "            INSERT INTO personaje ( id, name, status, species, type, gender, origin, location, image, url,created) \n",
    "            VALUES ({id}, '{name}', '{status}', '{species}', {f\"'{typep}'\" if typep != 'NULL' else 'NULL'}, '{gender}','{location}','{origin}' ,'{image}','{url}','{created}')\n",
    "        \"\"\"\n",
    "        conn.execute(text(sql))\n",
    "    conn.commit()"
   ]
  },
  {
   "cell_type": "markdown",
   "metadata": {},
   "source": [
    "### ✅ Comprobamos que los datos se han insertado correctamente"
   ]
  },
  {
   "cell_type": "code",
   "execution_count": null,
   "metadata": {},
   "outputs": [
    {
     "name": "stdout",
     "output_type": "stream",
     "text": [
      "   count\n",
      "0     51\n"
     ]
    },
    {
     "data": {
      "text/html": [
       "<div>\n",
       "<style scoped>\n",
       "    .dataframe tbody tr th:only-of-type {\n",
       "        vertical-align: middle;\n",
       "    }\n",
       "\n",
       "    .dataframe tbody tr th {\n",
       "        vertical-align: top;\n",
       "    }\n",
       "\n",
       "    .dataframe thead th {\n",
       "        text-align: right;\n",
       "    }\n",
       "</style>\n",
       "<table border=\"1\" class=\"dataframe\">\n",
       "  <thead>\n",
       "    <tr style=\"text-align: right;\">\n",
       "      <th></th>\n",
       "      <th>id</th>\n",
       "      <th>name</th>\n",
       "      <th>air_date</th>\n",
       "      <th>episode</th>\n",
       "      <th>characters</th>\n",
       "      <th>url</th>\n",
       "      <th>created</th>\n",
       "    </tr>\n",
       "  </thead>\n",
       "  <tbody>\n",
       "    <tr>\n",
       "      <th>0</th>\n",
       "      <td>1</td>\n",
       "      <td>Pilot</td>\n",
       "      <td>December 2, 2013</td>\n",
       "      <td>S01E01</td>\n",
       "      <td>[https://rickandmortyapi.com/api/character/1, ...</td>\n",
       "      <td>https://rickandmortyapi.com/api/episode/1</td>\n",
       "      <td>2017-11-10T12:56:33.798Z</td>\n",
       "    </tr>\n",
       "    <tr>\n",
       "      <th>1</th>\n",
       "      <td>2</td>\n",
       "      <td>Lawnmower Dog</td>\n",
       "      <td>December 9, 2013</td>\n",
       "      <td>S01E02</td>\n",
       "      <td>[https://rickandmortyapi.com/api/character/1, ...</td>\n",
       "      <td>https://rickandmortyapi.com/api/episode/2</td>\n",
       "      <td>2017-11-10T12:56:33.916Z</td>\n",
       "    </tr>\n",
       "    <tr>\n",
       "      <th>2</th>\n",
       "      <td>3</td>\n",
       "      <td>Anatomy Park</td>\n",
       "      <td>December 16, 2013</td>\n",
       "      <td>S01E03</td>\n",
       "      <td>[https://rickandmortyapi.com/api/character/1, ...</td>\n",
       "      <td>https://rickandmortyapi.com/api/episode/3</td>\n",
       "      <td>2017-11-10T12:56:34.022Z</td>\n",
       "    </tr>\n",
       "    <tr>\n",
       "      <th>3</th>\n",
       "      <td>4</td>\n",
       "      <td>M. Night Shaym-Aliens!</td>\n",
       "      <td>January 13, 2014</td>\n",
       "      <td>S01E04</td>\n",
       "      <td>[https://rickandmortyapi.com/api/character/1, ...</td>\n",
       "      <td>https://rickandmortyapi.com/api/episode/4</td>\n",
       "      <td>2017-11-10T12:56:34.129Z</td>\n",
       "    </tr>\n",
       "    <tr>\n",
       "      <th>4</th>\n",
       "      <td>5</td>\n",
       "      <td>Meeseeks and Destroy</td>\n",
       "      <td>January 20, 2014</td>\n",
       "      <td>S01E05</td>\n",
       "      <td>[https://rickandmortyapi.com/api/character/1, ...</td>\n",
       "      <td>https://rickandmortyapi.com/api/episode/5</td>\n",
       "      <td>2017-11-10T12:56:34.236Z</td>\n",
       "    </tr>\n",
       "  </tbody>\n",
       "</table>\n",
       "</div>"
      ],
      "text/plain": [
       "   id                    name           air_date episode  \\\n",
       "0   1                   Pilot   December 2, 2013  S01E01   \n",
       "1   2           Lawnmower Dog   December 9, 2013  S01E02   \n",
       "2   3            Anatomy Park  December 16, 2013  S01E03   \n",
       "3   4  M. Night Shaym-Aliens!   January 13, 2014  S01E04   \n",
       "4   5    Meeseeks and Destroy   January 20, 2014  S01E05   \n",
       "\n",
       "                                          characters  \\\n",
       "0  [https://rickandmortyapi.com/api/character/1, ...   \n",
       "1  [https://rickandmortyapi.com/api/character/1, ...   \n",
       "2  [https://rickandmortyapi.com/api/character/1, ...   \n",
       "3  [https://rickandmortyapi.com/api/character/1, ...   \n",
       "4  [https://rickandmortyapi.com/api/character/1, ...   \n",
       "\n",
       "                                         url                   created  \n",
       "0  https://rickandmortyapi.com/api/episode/1  2017-11-10T12:56:33.798Z  \n",
       "1  https://rickandmortyapi.com/api/episode/2  2017-11-10T12:56:33.916Z  \n",
       "2  https://rickandmortyapi.com/api/episode/3  2017-11-10T12:56:34.022Z  \n",
       "3  https://rickandmortyapi.com/api/episode/4  2017-11-10T12:56:34.129Z  \n",
       "4  https://rickandmortyapi.com/api/episode/5  2017-11-10T12:56:34.236Z  "
      ]
     },
     "execution_count": 29,
     "metadata": {},
     "output_type": "execute_result"
    }
   ],
   "source": [
    "count = \"SELECT count(*) FROM episodio \"\n",
    "dfCount = pd.read_sql(count, engine)\n",
    "print(dfCount)\n",
    "dfPanda = pd.read_sql(selectSQL,engine)\n",
    "dfPanda.head()"
   ]
  },
  {
   "cell_type": "code",
   "execution_count": null,
   "metadata": {},
   "outputs": [
    {
     "name": "stdout",
     "output_type": "stream",
     "text": [
      "   count\n",
      "0    826\n"
     ]
    },
    {
     "data": {
      "text/html": [
       "<div>\n",
       "<style scoped>\n",
       "    .dataframe tbody tr th:only-of-type {\n",
       "        vertical-align: middle;\n",
       "    }\n",
       "\n",
       "    .dataframe tbody tr th {\n",
       "        vertical-align: top;\n",
       "    }\n",
       "\n",
       "    .dataframe thead th {\n",
       "        text-align: right;\n",
       "    }\n",
       "</style>\n",
       "<table border=\"1\" class=\"dataframe\">\n",
       "  <thead>\n",
       "    <tr style=\"text-align: right;\">\n",
       "      <th></th>\n",
       "      <th>id</th>\n",
       "      <th>name</th>\n",
       "      <th>status</th>\n",
       "      <th>species</th>\n",
       "      <th>type</th>\n",
       "      <th>gender</th>\n",
       "      <th>origin</th>\n",
       "      <th>location</th>\n",
       "      <th>image</th>\n",
       "      <th>url</th>\n",
       "      <th>created</th>\n",
       "    </tr>\n",
       "  </thead>\n",
       "  <tbody>\n",
       "    <tr>\n",
       "      <th>0</th>\n",
       "      <td>1</td>\n",
       "      <td>Rick Sanchez</td>\n",
       "      <td>Alive</td>\n",
       "      <td>Human</td>\n",
       "      <td></td>\n",
       "      <td>Male</td>\n",
       "      <td>Citadel of Ricks</td>\n",
       "      <td>Earth (C-137)</td>\n",
       "      <td>https://rickandmortyapi.com/api/character/avat...</td>\n",
       "      <td>https://rickandmortyapi.com/api/character/1</td>\n",
       "      <td>2017-11-04T18:48:46.250Z</td>\n",
       "    </tr>\n",
       "    <tr>\n",
       "      <th>1</th>\n",
       "      <td>2</td>\n",
       "      <td>Morty Smith</td>\n",
       "      <td>Alive</td>\n",
       "      <td>Human</td>\n",
       "      <td></td>\n",
       "      <td>Male</td>\n",
       "      <td>Citadel of Ricks</td>\n",
       "      <td>unknown</td>\n",
       "      <td>https://rickandmortyapi.com/api/character/avat...</td>\n",
       "      <td>https://rickandmortyapi.com/api/character/2</td>\n",
       "      <td>2017-11-04T18:50:21.651Z</td>\n",
       "    </tr>\n",
       "    <tr>\n",
       "      <th>2</th>\n",
       "      <td>3</td>\n",
       "      <td>Summer Smith</td>\n",
       "      <td>Alive</td>\n",
       "      <td>Human</td>\n",
       "      <td></td>\n",
       "      <td>Female</td>\n",
       "      <td>Earth (Replacement Dimension)</td>\n",
       "      <td>Earth (Replacement Dimension)</td>\n",
       "      <td>https://rickandmortyapi.com/api/character/avat...</td>\n",
       "      <td>https://rickandmortyapi.com/api/character/3</td>\n",
       "      <td>2017-11-04T19:09:56.428Z</td>\n",
       "    </tr>\n",
       "    <tr>\n",
       "      <th>3</th>\n",
       "      <td>4</td>\n",
       "      <td>Beth Smith</td>\n",
       "      <td>Alive</td>\n",
       "      <td>Human</td>\n",
       "      <td></td>\n",
       "      <td>Female</td>\n",
       "      <td>Earth (Replacement Dimension)</td>\n",
       "      <td>Earth (Replacement Dimension)</td>\n",
       "      <td>https://rickandmortyapi.com/api/character/avat...</td>\n",
       "      <td>https://rickandmortyapi.com/api/character/4</td>\n",
       "      <td>2017-11-04T19:22:43.665Z</td>\n",
       "    </tr>\n",
       "    <tr>\n",
       "      <th>4</th>\n",
       "      <td>5</td>\n",
       "      <td>Jerry Smith</td>\n",
       "      <td>Alive</td>\n",
       "      <td>Human</td>\n",
       "      <td></td>\n",
       "      <td>Male</td>\n",
       "      <td>Earth (Replacement Dimension)</td>\n",
       "      <td>Earth (Replacement Dimension)</td>\n",
       "      <td>https://rickandmortyapi.com/api/character/avat...</td>\n",
       "      <td>https://rickandmortyapi.com/api/character/5</td>\n",
       "      <td>2017-11-04T19:26:56.301Z</td>\n",
       "    </tr>\n",
       "  </tbody>\n",
       "</table>\n",
       "</div>"
      ],
      "text/plain": [
       "   id          name status species type  gender  \\\n",
       "0   1  Rick Sanchez  Alive   Human         Male   \n",
       "1   2   Morty Smith  Alive   Human         Male   \n",
       "2   3  Summer Smith  Alive   Human       Female   \n",
       "3   4    Beth Smith  Alive   Human       Female   \n",
       "4   5   Jerry Smith  Alive   Human         Male   \n",
       "\n",
       "                          origin                       location  \\\n",
       "0               Citadel of Ricks                  Earth (C-137)   \n",
       "1               Citadel of Ricks                        unknown   \n",
       "2  Earth (Replacement Dimension)  Earth (Replacement Dimension)   \n",
       "3  Earth (Replacement Dimension)  Earth (Replacement Dimension)   \n",
       "4  Earth (Replacement Dimension)  Earth (Replacement Dimension)   \n",
       "\n",
       "                                               image  \\\n",
       "0  https://rickandmortyapi.com/api/character/avat...   \n",
       "1  https://rickandmortyapi.com/api/character/avat...   \n",
       "2  https://rickandmortyapi.com/api/character/avat...   \n",
       "3  https://rickandmortyapi.com/api/character/avat...   \n",
       "4  https://rickandmortyapi.com/api/character/avat...   \n",
       "\n",
       "                                           url                   created  \n",
       "0  https://rickandmortyapi.com/api/character/1  2017-11-04T18:48:46.250Z  \n",
       "1  https://rickandmortyapi.com/api/character/2  2017-11-04T18:50:21.651Z  \n",
       "2  https://rickandmortyapi.com/api/character/3  2017-11-04T19:09:56.428Z  \n",
       "3  https://rickandmortyapi.com/api/character/4  2017-11-04T19:22:43.665Z  \n",
       "4  https://rickandmortyapi.com/api/character/5  2017-11-04T19:26:56.301Z  "
      ]
     },
     "execution_count": 28,
     "metadata": {},
     "output_type": "execute_result"
    }
   ],
   "source": [
    "count = \"SELECT count(*) FROM personaje \"\n",
    "dfCount = pd.read_sql(count, engine)\n",
    "print(dfCount)\n",
    "select_personaje = \"SELECT * FROM personaje\"\n",
    "dfselect_personaje = pd.read_sql(select_personaje,engine)\n",
    "dfselect_personaje.head()"
   ]
  },
  {
   "cell_type": "markdown",
   "metadata": {},
   "source": [
    "## MONGO DB"
   ]
  },
  {
   "cell_type": "markdown",
   "metadata": {},
   "source": [
    "### ⬇️📚 Instalar librerias para poder conectarnos con MongoDB"
   ]
  },
  {
   "cell_type": "markdown",
   "metadata": {},
   "source": [
    "Para conectarnos a mongoDB, una vez más deberemos descargar la libreria para poder utilizar su respectiva conectionString"
   ]
  },
  {
   "cell_type": "code",
   "execution_count": null,
   "metadata": {},
   "outputs": [
    {
     "name": "stdout",
     "output_type": "stream",
     "text": [
      "^C\n"
     ]
    },
    {
     "name": "stdout",
     "output_type": "stream",
     "text": [
      "Retrieving notices: done\n",
      "Channels:\n",
      " - defaults\n",
      " - conda-forge\n",
      " - anaconda\n",
      "Platform: win-64\n",
      "Collecting package metadata (repodata.json): ...working... done\n",
      "Solving environment: ...working... done\n",
      "\n",
      "## Package Plan ##\n",
      "\n",
      "  environment location: C:\\Users\\ralphy.nunezmercado\\AppData\\Local\\miniconda3\\envs\\bigdata\n",
      "\n",
      "  added / updated specs:\n",
      "    - dnspython\n",
      "    - pymongo\n",
      "\n",
      "\n",
      "The following packages will be downloaded:\n",
      "\n",
      "    package                    |            build\n",
      "    ---------------------------|-----------------\n",
      "    dnspython-2.4.2            |  py312haa95532_0         480 KB\n",
      "    pymongo-4.8.0              |  py312h827c3e9_0         1.3 MB\n",
      "    ------------------------------------------------------------\n",
      "                                           Total:         1.7 MB\n",
      "\n",
      "The following NEW packages will be INSTALLED:\n",
      "\n",
      "  dnspython          pkgs/main/win-64::dnspython-2.4.2-py312haa95532_0 \n",
      "  pymongo            pkgs/main/win-64::pymongo-4.8.0-py312h827c3e9_0 \n",
      "\n",
      "\n",
      "\n",
      "Downloading and Extracting Packages: ...working...\n",
      "pymongo-4.8.0        | 1.3 MB    |            |   0% \n",
      "\n",
      "dnspython-2.4.2      | 480 KB    |            |   0% \u001b[A\n",
      "\n",
      "dnspython-2.4.2      | 480 KB    | ####       |  40% \u001b[A\n",
      "pymongo-4.8.0        | 1.3 MB    | 4          |   5% \n",
      "\n",
      "dnspython-2.4.2      | 480 KB    | ########## | 100% \u001b[A\n",
      "pymongo-4.8.0        | 1.3 MB    | ########## | 100% \n",
      "\n",
      "dnspython-2.4.2      | 480 KB    | ########## | 100% \u001b[A\n",
      "\n",
      "dnspython-2.4.2      | 480 KB    | ########## | 100% \u001b[A\n",
      "pymongo-4.8.0        | 1.3 MB    | ########## | 100% \n",
      "pymongo-4.8.0        | 1.3 MB    | ########## | 100% \n",
      "                                                     \n",
      "\n",
      "\n",
      "                                                     \u001b[A done\n",
      "Preparing transaction: done\n",
      "Verifying transaction: done\n",
      "Executing transaction: done\n"
     ]
    }
   ],
   "source": [
    "# %conda install -y pymongo dnspython"
   ]
  },
  {
   "cell_type": "markdown",
   "metadata": {},
   "source": [
    "### 🔗 Conectarnos a Mongo"
   ]
  },
  {
   "cell_type": "code",
   "execution_count": null,
   "metadata": {},
   "outputs": [
    {
     "name": "stdout",
     "output_type": "stream",
     "text": [
      "['rickymorty', 'sample_mflix', 'admin', 'local']\n"
     ]
    }
   ],
   "source": [
    "from pymongo import MongoClient\n",
    "\n",
    "#HOST=\"(...).mongodb.net\"\n",
    "HOST=\"cluster0.6ej71.mongodb.net\"\n",
    "PORT=27017\n",
    "USERNAME=\"ralphynm1000\"\n",
    "PASSWORD=\"hola1234\"\n",
    "\n",
    "if HOST == 'localhost':\n",
    "    if not USERNAME:\n",
    "        cli_mongo = MongoClient(HOST, PORT)\n",
    "    else:\n",
    "        cli_mongo = MongoClient(HOST, PORT, USERNAME, PASSWORD)\n",
    "else:\n",
    "    cli_mongo = MongoClient(f\"mongodb+srv://{USERNAME}:{PASSWORD}@{HOST}/\")\n",
    "\n",
    "\n"
   ]
  },
  {
   "cell_type": "markdown",
   "metadata": {},
   "source": [
    "### 🔗 Probar la conexión con mongo listando las bases de datos."
   ]
  },
  {
   "cell_type": "code",
   "execution_count": null,
   "metadata": {},
   "outputs": [
    {
     "name": "stdout",
     "output_type": "stream",
     "text": [
      "['rickymorty', 'sample_mflix', 'admin', 'local']\n"
     ]
    }
   ],
   "source": [
    "print (cli_mongo.list_database_names())"
   ]
  },
  {
   "cell_type": "markdown",
   "metadata": {},
   "source": [
    "### 🔃 Cargar la base datos y mostar las colecciones que tiene"
   ]
  },
  {
   "cell_type": "code",
   "execution_count": null,
   "metadata": {},
   "outputs": [
    {
     "name": "stdout",
     "output_type": "stream",
     "text": [
      "['episodios', 'personajes']\n"
     ]
    }
   ],
   "source": [
    "db_rickymotry=cli_mongo['rickymorty']\n",
    "print (db_rickymotry.list_collection_names())"
   ]
  },
  {
   "cell_type": "markdown",
   "metadata": {},
   "source": [
    "### ⬇️ Insertar datos en la coleccion de episodios"
   ]
  },
  {
   "cell_type": "code",
   "execution_count": null,
   "metadata": {},
   "outputs": [
    {
     "data": {
      "text/plain": [
       "InsertManyResult([ObjectId('67d85abcc8d275a6fe6e32fd'), ObjectId('67d85abcc8d275a6fe6e32fe'), ObjectId('67d85abcc8d275a6fe6e32ff'), ObjectId('67d85abcc8d275a6fe6e3300'), ObjectId('67d85abcc8d275a6fe6e3301'), ObjectId('67d85abcc8d275a6fe6e3302'), ObjectId('67d85abcc8d275a6fe6e3303'), ObjectId('67d85abcc8d275a6fe6e3304'), ObjectId('67d85abcc8d275a6fe6e3305'), ObjectId('67d85abcc8d275a6fe6e3306'), ObjectId('67d85abcc8d275a6fe6e3307'), ObjectId('67d85abcc8d275a6fe6e3308'), ObjectId('67d85abcc8d275a6fe6e3309'), ObjectId('67d85abcc8d275a6fe6e330a'), ObjectId('67d85abcc8d275a6fe6e330b'), ObjectId('67d85abcc8d275a6fe6e330c'), ObjectId('67d85abcc8d275a6fe6e330d'), ObjectId('67d85abcc8d275a6fe6e330e'), ObjectId('67d85abcc8d275a6fe6e330f'), ObjectId('67d85abcc8d275a6fe6e3310'), ObjectId('67d85abcc8d275a6fe6e3311'), ObjectId('67d85abcc8d275a6fe6e3312'), ObjectId('67d85abcc8d275a6fe6e3313'), ObjectId('67d85abcc8d275a6fe6e3314'), ObjectId('67d85abcc8d275a6fe6e3315'), ObjectId('67d85abcc8d275a6fe6e3316'), ObjectId('67d85abcc8d275a6fe6e3317'), ObjectId('67d85abcc8d275a6fe6e3318'), ObjectId('67d85abcc8d275a6fe6e3319'), ObjectId('67d85abcc8d275a6fe6e331a'), ObjectId('67d85abcc8d275a6fe6e331b'), ObjectId('67d85abcc8d275a6fe6e331c'), ObjectId('67d85abcc8d275a6fe6e331d'), ObjectId('67d85abcc8d275a6fe6e331e'), ObjectId('67d85abcc8d275a6fe6e331f'), ObjectId('67d85abcc8d275a6fe6e3320'), ObjectId('67d85abcc8d275a6fe6e3321'), ObjectId('67d85abcc8d275a6fe6e3322'), ObjectId('67d85abcc8d275a6fe6e3323'), ObjectId('67d85abcc8d275a6fe6e3324'), ObjectId('67d85abcc8d275a6fe6e3325'), ObjectId('67d85abcc8d275a6fe6e3326'), ObjectId('67d85abcc8d275a6fe6e3327'), ObjectId('67d85abcc8d275a6fe6e3328'), ObjectId('67d85abcc8d275a6fe6e3329'), ObjectId('67d85abcc8d275a6fe6e332a'), ObjectId('67d85abcc8d275a6fe6e332b'), ObjectId('67d85abcc8d275a6fe6e332c'), ObjectId('67d85abcc8d275a6fe6e332d'), ObjectId('67d85abcc8d275a6fe6e332e'), ObjectId('67d85abcc8d275a6fe6e332f')], acknowledged=True)"
      ]
     },
     "execution_count": 12,
     "metadata": {},
     "output_type": "execute_result"
    }
   ],
   "source": [
    "coleccion_episodios=db_rickymotry['episodios']\n",
    "\n",
    "coleccion_episodios.insert_many(json_episodios)"
   ]
  },
  {
   "cell_type": "markdown",
   "metadata": {},
   "source": [
    "### ⬇️ Insertar los datos en la coleccion de personajes"
   ]
  },
  {
   "cell_type": "code",
   "execution_count": null,
   "metadata": {},
   "outputs": [
    {
     "data": {
      "text/plain": [
       "InsertManyResult([ObjectId('67d85c67c8d275a6fe6e3330'), ObjectId('67d85c67c8d275a6fe6e3331'), ObjectId('67d85c67c8d275a6fe6e3332'), ObjectId('67d85c67c8d275a6fe6e3333'), ObjectId('67d85c67c8d275a6fe6e3334'), ObjectId('67d85c67c8d275a6fe6e3335'), ObjectId('67d85c67c8d275a6fe6e3336'), ObjectId('67d85c67c8d275a6fe6e3337'), ObjectId('67d85c67c8d275a6fe6e3338'), ObjectId('67d85c67c8d275a6fe6e3339'), ObjectId('67d85c67c8d275a6fe6e333a'), ObjectId('67d85c67c8d275a6fe6e333b'), ObjectId('67d85c67c8d275a6fe6e333c'), ObjectId('67d85c67c8d275a6fe6e333d'), ObjectId('67d85c67c8d275a6fe6e333e'), ObjectId('67d85c67c8d275a6fe6e333f'), ObjectId('67d85c67c8d275a6fe6e3340'), ObjectId('67d85c67c8d275a6fe6e3341'), ObjectId('67d85c67c8d275a6fe6e3342'), ObjectId('67d85c67c8d275a6fe6e3343'), ObjectId('67d85c67c8d275a6fe6e3344'), ObjectId('67d85c67c8d275a6fe6e3345'), ObjectId('67d85c67c8d275a6fe6e3346'), ObjectId('67d85c67c8d275a6fe6e3347'), ObjectId('67d85c67c8d275a6fe6e3348'), ObjectId('67d85c67c8d275a6fe6e3349'), ObjectId('67d85c67c8d275a6fe6e334a'), ObjectId('67d85c67c8d275a6fe6e334b'), ObjectId('67d85c67c8d275a6fe6e334c'), ObjectId('67d85c67c8d275a6fe6e334d'), ObjectId('67d85c67c8d275a6fe6e334e'), ObjectId('67d85c67c8d275a6fe6e334f'), ObjectId('67d85c67c8d275a6fe6e3350'), ObjectId('67d85c67c8d275a6fe6e3351'), ObjectId('67d85c67c8d275a6fe6e3352'), ObjectId('67d85c67c8d275a6fe6e3353'), ObjectId('67d85c67c8d275a6fe6e3354'), ObjectId('67d85c67c8d275a6fe6e3355'), ObjectId('67d85c67c8d275a6fe6e3356'), ObjectId('67d85c67c8d275a6fe6e3357'), ObjectId('67d85c67c8d275a6fe6e3358'), ObjectId('67d85c67c8d275a6fe6e3359'), ObjectId('67d85c67c8d275a6fe6e335a'), ObjectId('67d85c67c8d275a6fe6e335b'), ObjectId('67d85c67c8d275a6fe6e335c'), ObjectId('67d85c67c8d275a6fe6e335d'), ObjectId('67d85c67c8d275a6fe6e335e'), ObjectId('67d85c67c8d275a6fe6e335f'), ObjectId('67d85c67c8d275a6fe6e3360'), ObjectId('67d85c67c8d275a6fe6e3361'), ObjectId('67d85c67c8d275a6fe6e3362'), ObjectId('67d85c67c8d275a6fe6e3363'), ObjectId('67d85c67c8d275a6fe6e3364'), ObjectId('67d85c67c8d275a6fe6e3365'), ObjectId('67d85c67c8d275a6fe6e3366'), ObjectId('67d85c67c8d275a6fe6e3367'), ObjectId('67d85c67c8d275a6fe6e3368'), ObjectId('67d85c67c8d275a6fe6e3369'), ObjectId('67d85c67c8d275a6fe6e336a'), ObjectId('67d85c67c8d275a6fe6e336b'), ObjectId('67d85c67c8d275a6fe6e336c'), ObjectId('67d85c67c8d275a6fe6e336d'), ObjectId('67d85c67c8d275a6fe6e336e'), ObjectId('67d85c67c8d275a6fe6e336f'), ObjectId('67d85c67c8d275a6fe6e3370'), ObjectId('67d85c67c8d275a6fe6e3371'), ObjectId('67d85c67c8d275a6fe6e3372'), ObjectId('67d85c67c8d275a6fe6e3373'), ObjectId('67d85c67c8d275a6fe6e3374'), ObjectId('67d85c67c8d275a6fe6e3375'), ObjectId('67d85c67c8d275a6fe6e3376'), ObjectId('67d85c67c8d275a6fe6e3377'), ObjectId('67d85c67c8d275a6fe6e3378'), ObjectId('67d85c67c8d275a6fe6e3379'), ObjectId('67d85c67c8d275a6fe6e337a'), ObjectId('67d85c67c8d275a6fe6e337b'), ObjectId('67d85c67c8d275a6fe6e337c'), ObjectId('67d85c67c8d275a6fe6e337d'), ObjectId('67d85c67c8d275a6fe6e337e'), ObjectId('67d85c67c8d275a6fe6e337f'), ObjectId('67d85c67c8d275a6fe6e3380'), ObjectId('67d85c67c8d275a6fe6e3381'), ObjectId('67d85c67c8d275a6fe6e3382'), ObjectId('67d85c67c8d275a6fe6e3383'), ObjectId('67d85c67c8d275a6fe6e3384'), ObjectId('67d85c67c8d275a6fe6e3385'), ObjectId('67d85c67c8d275a6fe6e3386'), ObjectId('67d85c67c8d275a6fe6e3387'), ObjectId('67d85c67c8d275a6fe6e3388'), ObjectId('67d85c67c8d275a6fe6e3389'), ObjectId('67d85c67c8d275a6fe6e338a'), ObjectId('67d85c67c8d275a6fe6e338b'), ObjectId('67d85c67c8d275a6fe6e338c'), ObjectId('67d85c67c8d275a6fe6e338d'), ObjectId('67d85c67c8d275a6fe6e338e'), ObjectId('67d85c67c8d275a6fe6e338f'), ObjectId('67d85c67c8d275a6fe6e3390'), ObjectId('67d85c67c8d275a6fe6e3391'), ObjectId('67d85c67c8d275a6fe6e3392'), ObjectId('67d85c67c8d275a6fe6e3393'), ObjectId('67d85c67c8d275a6fe6e3394'), ObjectId('67d85c67c8d275a6fe6e3395'), ObjectId('67d85c67c8d275a6fe6e3396'), ObjectId('67d85c67c8d275a6fe6e3397'), ObjectId('67d85c67c8d275a6fe6e3398'), ObjectId('67d85c67c8d275a6fe6e3399'), ObjectId('67d85c67c8d275a6fe6e339a'), ObjectId('67d85c67c8d275a6fe6e339b'), ObjectId('67d85c67c8d275a6fe6e339c'), ObjectId('67d85c67c8d275a6fe6e339d'), ObjectId('67d85c67c8d275a6fe6e339e'), ObjectId('67d85c67c8d275a6fe6e339f'), ObjectId('67d85c67c8d275a6fe6e33a0'), ObjectId('67d85c67c8d275a6fe6e33a1'), ObjectId('67d85c67c8d275a6fe6e33a2'), ObjectId('67d85c67c8d275a6fe6e33a3'), ObjectId('67d85c67c8d275a6fe6e33a4'), ObjectId('67d85c67c8d275a6fe6e33a5'), ObjectId('67d85c67c8d275a6fe6e33a6'), ObjectId('67d85c67c8d275a6fe6e33a7'), ObjectId('67d85c67c8d275a6fe6e33a8'), ObjectId('67d85c67c8d275a6fe6e33a9'), ObjectId('67d85c67c8d275a6fe6e33aa'), ObjectId('67d85c67c8d275a6fe6e33ab'), ObjectId('67d85c67c8d275a6fe6e33ac'), ObjectId('67d85c67c8d275a6fe6e33ad'), ObjectId('67d85c67c8d275a6fe6e33ae'), ObjectId('67d85c67c8d275a6fe6e33af'), ObjectId('67d85c67c8d275a6fe6e33b0'), ObjectId('67d85c67c8d275a6fe6e33b1'), ObjectId('67d85c67c8d275a6fe6e33b2'), ObjectId('67d85c67c8d275a6fe6e33b3'), ObjectId('67d85c67c8d275a6fe6e33b4'), ObjectId('67d85c67c8d275a6fe6e33b5'), ObjectId('67d85c67c8d275a6fe6e33b6'), ObjectId('67d85c67c8d275a6fe6e33b7'), ObjectId('67d85c67c8d275a6fe6e33b8'), ObjectId('67d85c67c8d275a6fe6e33b9'), ObjectId('67d85c67c8d275a6fe6e33ba'), ObjectId('67d85c67c8d275a6fe6e33bb'), ObjectId('67d85c67c8d275a6fe6e33bc'), ObjectId('67d85c67c8d275a6fe6e33bd'), ObjectId('67d85c67c8d275a6fe6e33be'), ObjectId('67d85c67c8d275a6fe6e33bf'), ObjectId('67d85c67c8d275a6fe6e33c0'), ObjectId('67d85c67c8d275a6fe6e33c1'), ObjectId('67d85c67c8d275a6fe6e33c2'), ObjectId('67d85c67c8d275a6fe6e33c3'), ObjectId('67d85c67c8d275a6fe6e33c4'), ObjectId('67d85c67c8d275a6fe6e33c5'), ObjectId('67d85c67c8d275a6fe6e33c6'), ObjectId('67d85c67c8d275a6fe6e33c7'), ObjectId('67d85c67c8d275a6fe6e33c8'), ObjectId('67d85c67c8d275a6fe6e33c9'), ObjectId('67d85c67c8d275a6fe6e33ca'), ObjectId('67d85c67c8d275a6fe6e33cb'), ObjectId('67d85c67c8d275a6fe6e33cc'), ObjectId('67d85c67c8d275a6fe6e33cd'), ObjectId('67d85c67c8d275a6fe6e33ce'), ObjectId('67d85c67c8d275a6fe6e33cf'), ObjectId('67d85c67c8d275a6fe6e33d0'), ObjectId('67d85c67c8d275a6fe6e33d1'), ObjectId('67d85c67c8d275a6fe6e33d2'), ObjectId('67d85c67c8d275a6fe6e33d3'), ObjectId('67d85c67c8d275a6fe6e33d4'), ObjectId('67d85c67c8d275a6fe6e33d5'), ObjectId('67d85c67c8d275a6fe6e33d6'), ObjectId('67d85c67c8d275a6fe6e33d7'), ObjectId('67d85c67c8d275a6fe6e33d8'), ObjectId('67d85c67c8d275a6fe6e33d9'), ObjectId('67d85c67c8d275a6fe6e33da'), ObjectId('67d85c67c8d275a6fe6e33db'), ObjectId('67d85c67c8d275a6fe6e33dc'), ObjectId('67d85c67c8d275a6fe6e33dd'), ObjectId('67d85c67c8d275a6fe6e33de'), ObjectId('67d85c67c8d275a6fe6e33df'), ObjectId('67d85c67c8d275a6fe6e33e0'), ObjectId('67d85c67c8d275a6fe6e33e1'), ObjectId('67d85c67c8d275a6fe6e33e2'), ObjectId('67d85c67c8d275a6fe6e33e3'), ObjectId('67d85c67c8d275a6fe6e33e4'), ObjectId('67d85c67c8d275a6fe6e33e5'), ObjectId('67d85c67c8d275a6fe6e33e6'), ObjectId('67d85c67c8d275a6fe6e33e7'), ObjectId('67d85c67c8d275a6fe6e33e8'), ObjectId('67d85c67c8d275a6fe6e33e9'), ObjectId('67d85c67c8d275a6fe6e33ea'), ObjectId('67d85c67c8d275a6fe6e33eb'), ObjectId('67d85c67c8d275a6fe6e33ec'), ObjectId('67d85c67c8d275a6fe6e33ed'), ObjectId('67d85c67c8d275a6fe6e33ee'), ObjectId('67d85c67c8d275a6fe6e33ef'), ObjectId('67d85c67c8d275a6fe6e33f0'), ObjectId('67d85c67c8d275a6fe6e33f1'), ObjectId('67d85c67c8d275a6fe6e33f2'), ObjectId('67d85c67c8d275a6fe6e33f3'), ObjectId('67d85c67c8d275a6fe6e33f4'), ObjectId('67d85c67c8d275a6fe6e33f5'), ObjectId('67d85c67c8d275a6fe6e33f6'), ObjectId('67d85c67c8d275a6fe6e33f7'), ObjectId('67d85c67c8d275a6fe6e33f8'), ObjectId('67d85c67c8d275a6fe6e33f9'), ObjectId('67d85c67c8d275a6fe6e33fa'), ObjectId('67d85c67c8d275a6fe6e33fb'), ObjectId('67d85c67c8d275a6fe6e33fc'), ObjectId('67d85c67c8d275a6fe6e33fd'), ObjectId('67d85c67c8d275a6fe6e33fe'), ObjectId('67d85c67c8d275a6fe6e33ff'), ObjectId('67d85c67c8d275a6fe6e3400'), ObjectId('67d85c67c8d275a6fe6e3401'), ObjectId('67d85c67c8d275a6fe6e3402'), ObjectId('67d85c67c8d275a6fe6e3403'), ObjectId('67d85c67c8d275a6fe6e3404'), ObjectId('67d85c67c8d275a6fe6e3405'), ObjectId('67d85c67c8d275a6fe6e3406'), ObjectId('67d85c67c8d275a6fe6e3407'), ObjectId('67d85c67c8d275a6fe6e3408'), ObjectId('67d85c67c8d275a6fe6e3409'), ObjectId('67d85c67c8d275a6fe6e340a'), ObjectId('67d85c67c8d275a6fe6e340b'), ObjectId('67d85c67c8d275a6fe6e340c'), ObjectId('67d85c67c8d275a6fe6e340d'), ObjectId('67d85c67c8d275a6fe6e340e'), ObjectId('67d85c67c8d275a6fe6e340f'), ObjectId('67d85c67c8d275a6fe6e3410'), ObjectId('67d85c67c8d275a6fe6e3411'), ObjectId('67d85c67c8d275a6fe6e3412'), ObjectId('67d85c67c8d275a6fe6e3413'), ObjectId('67d85c67c8d275a6fe6e3414'), ObjectId('67d85c67c8d275a6fe6e3415'), ObjectId('67d85c67c8d275a6fe6e3416'), ObjectId('67d85c67c8d275a6fe6e3417'), ObjectId('67d85c67c8d275a6fe6e3418'), ObjectId('67d85c67c8d275a6fe6e3419'), ObjectId('67d85c67c8d275a6fe6e341a'), ObjectId('67d85c67c8d275a6fe6e341b'), ObjectId('67d85c67c8d275a6fe6e341c'), ObjectId('67d85c67c8d275a6fe6e341d'), ObjectId('67d85c67c8d275a6fe6e341e'), ObjectId('67d85c67c8d275a6fe6e341f'), ObjectId('67d85c67c8d275a6fe6e3420'), ObjectId('67d85c67c8d275a6fe6e3421'), ObjectId('67d85c67c8d275a6fe6e3422'), ObjectId('67d85c67c8d275a6fe6e3423'), ObjectId('67d85c67c8d275a6fe6e3424'), ObjectId('67d85c67c8d275a6fe6e3425'), ObjectId('67d85c67c8d275a6fe6e3426'), ObjectId('67d85c67c8d275a6fe6e3427'), ObjectId('67d85c67c8d275a6fe6e3428'), ObjectId('67d85c67c8d275a6fe6e3429'), ObjectId('67d85c67c8d275a6fe6e342a'), ObjectId('67d85c67c8d275a6fe6e342b'), ObjectId('67d85c67c8d275a6fe6e342c'), ObjectId('67d85c67c8d275a6fe6e342d'), ObjectId('67d85c67c8d275a6fe6e342e'), ObjectId('67d85c67c8d275a6fe6e342f'), ObjectId('67d85c67c8d275a6fe6e3430'), ObjectId('67d85c67c8d275a6fe6e3431'), ObjectId('67d85c67c8d275a6fe6e3432'), ObjectId('67d85c67c8d275a6fe6e3433'), ObjectId('67d85c67c8d275a6fe6e3434'), ObjectId('67d85c67c8d275a6fe6e3435'), ObjectId('67d85c67c8d275a6fe6e3436'), ObjectId('67d85c67c8d275a6fe6e3437'), ObjectId('67d85c67c8d275a6fe6e3438'), ObjectId('67d85c67c8d275a6fe6e3439'), ObjectId('67d85c67c8d275a6fe6e343a'), ObjectId('67d85c67c8d275a6fe6e343b'), ObjectId('67d85c67c8d275a6fe6e343c'), ObjectId('67d85c67c8d275a6fe6e343d'), ObjectId('67d85c67c8d275a6fe6e343e'), ObjectId('67d85c67c8d275a6fe6e343f'), ObjectId('67d85c67c8d275a6fe6e3440'), ObjectId('67d85c67c8d275a6fe6e3441'), ObjectId('67d85c67c8d275a6fe6e3442'), ObjectId('67d85c67c8d275a6fe6e3443'), ObjectId('67d85c67c8d275a6fe6e3444'), ObjectId('67d85c67c8d275a6fe6e3445'), ObjectId('67d85c67c8d275a6fe6e3446'), ObjectId('67d85c67c8d275a6fe6e3447'), ObjectId('67d85c67c8d275a6fe6e3448'), ObjectId('67d85c67c8d275a6fe6e3449'), ObjectId('67d85c67c8d275a6fe6e344a'), ObjectId('67d85c67c8d275a6fe6e344b'), ObjectId('67d85c67c8d275a6fe6e344c'), ObjectId('67d85c67c8d275a6fe6e344d'), ObjectId('67d85c67c8d275a6fe6e344e'), ObjectId('67d85c67c8d275a6fe6e344f'), ObjectId('67d85c67c8d275a6fe6e3450'), ObjectId('67d85c67c8d275a6fe6e3451'), ObjectId('67d85c67c8d275a6fe6e3452'), ObjectId('67d85c67c8d275a6fe6e3453'), ObjectId('67d85c67c8d275a6fe6e3454'), ObjectId('67d85c67c8d275a6fe6e3455'), ObjectId('67d85c67c8d275a6fe6e3456'), ObjectId('67d85c67c8d275a6fe6e3457'), ObjectId('67d85c67c8d275a6fe6e3458'), ObjectId('67d85c67c8d275a6fe6e3459'), ObjectId('67d85c67c8d275a6fe6e345a'), ObjectId('67d85c67c8d275a6fe6e345b'), ObjectId('67d85c67c8d275a6fe6e345c'), ObjectId('67d85c67c8d275a6fe6e345d'), ObjectId('67d85c67c8d275a6fe6e345e'), ObjectId('67d85c67c8d275a6fe6e345f'), ObjectId('67d85c67c8d275a6fe6e3460'), ObjectId('67d85c67c8d275a6fe6e3461'), ObjectId('67d85c67c8d275a6fe6e3462'), ObjectId('67d85c67c8d275a6fe6e3463'), ObjectId('67d85c67c8d275a6fe6e3464'), ObjectId('67d85c67c8d275a6fe6e3465'), ObjectId('67d85c67c8d275a6fe6e3466'), ObjectId('67d85c67c8d275a6fe6e3467'), ObjectId('67d85c67c8d275a6fe6e3468'), ObjectId('67d85c67c8d275a6fe6e3469'), ObjectId('67d85c67c8d275a6fe6e346a'), ObjectId('67d85c67c8d275a6fe6e346b'), ObjectId('67d85c67c8d275a6fe6e346c'), ObjectId('67d85c67c8d275a6fe6e346d'), ObjectId('67d85c67c8d275a6fe6e346e'), ObjectId('67d85c67c8d275a6fe6e346f'), ObjectId('67d85c67c8d275a6fe6e3470'), ObjectId('67d85c67c8d275a6fe6e3471'), ObjectId('67d85c67c8d275a6fe6e3472'), ObjectId('67d85c67c8d275a6fe6e3473'), ObjectId('67d85c67c8d275a6fe6e3474'), ObjectId('67d85c67c8d275a6fe6e3475'), ObjectId('67d85c67c8d275a6fe6e3476'), ObjectId('67d85c67c8d275a6fe6e3477'), ObjectId('67d85c67c8d275a6fe6e3478'), ObjectId('67d85c67c8d275a6fe6e3479'), ObjectId('67d85c67c8d275a6fe6e347a'), ObjectId('67d85c67c8d275a6fe6e347b'), ObjectId('67d85c67c8d275a6fe6e347c'), ObjectId('67d85c67c8d275a6fe6e347d'), ObjectId('67d85c67c8d275a6fe6e347e'), ObjectId('67d85c67c8d275a6fe6e347f'), ObjectId('67d85c67c8d275a6fe6e3480'), ObjectId('67d85c67c8d275a6fe6e3481'), ObjectId('67d85c67c8d275a6fe6e3482'), ObjectId('67d85c67c8d275a6fe6e3483'), ObjectId('67d85c67c8d275a6fe6e3484'), ObjectId('67d85c67c8d275a6fe6e3485'), ObjectId('67d85c67c8d275a6fe6e3486'), ObjectId('67d85c67c8d275a6fe6e3487'), ObjectId('67d85c67c8d275a6fe6e3488'), ObjectId('67d85c67c8d275a6fe6e3489'), ObjectId('67d85c67c8d275a6fe6e348a'), ObjectId('67d85c67c8d275a6fe6e348b'), ObjectId('67d85c67c8d275a6fe6e348c'), ObjectId('67d85c67c8d275a6fe6e348d'), ObjectId('67d85c67c8d275a6fe6e348e'), ObjectId('67d85c67c8d275a6fe6e348f'), ObjectId('67d85c67c8d275a6fe6e3490'), ObjectId('67d85c67c8d275a6fe6e3491'), ObjectId('67d85c67c8d275a6fe6e3492'), ObjectId('67d85c67c8d275a6fe6e3493'), ObjectId('67d85c67c8d275a6fe6e3494'), ObjectId('67d85c67c8d275a6fe6e3495'), ObjectId('67d85c67c8d275a6fe6e3496'), ObjectId('67d85c67c8d275a6fe6e3497'), ObjectId('67d85c67c8d275a6fe6e3498'), ObjectId('67d85c67c8d275a6fe6e3499'), ObjectId('67d85c67c8d275a6fe6e349a'), ObjectId('67d85c67c8d275a6fe6e349b'), ObjectId('67d85c67c8d275a6fe6e349c'), ObjectId('67d85c67c8d275a6fe6e349d'), ObjectId('67d85c67c8d275a6fe6e349e'), ObjectId('67d85c67c8d275a6fe6e349f'), ObjectId('67d85c67c8d275a6fe6e34a0'), ObjectId('67d85c67c8d275a6fe6e34a1'), ObjectId('67d85c67c8d275a6fe6e34a2'), ObjectId('67d85c67c8d275a6fe6e34a3'), ObjectId('67d85c67c8d275a6fe6e34a4'), ObjectId('67d85c67c8d275a6fe6e34a5'), ObjectId('67d85c67c8d275a6fe6e34a6'), ObjectId('67d85c67c8d275a6fe6e34a7'), ObjectId('67d85c67c8d275a6fe6e34a8'), ObjectId('67d85c67c8d275a6fe6e34a9'), ObjectId('67d85c67c8d275a6fe6e34aa'), ObjectId('67d85c67c8d275a6fe6e34ab'), ObjectId('67d85c67c8d275a6fe6e34ac'), ObjectId('67d85c67c8d275a6fe6e34ad'), ObjectId('67d85c67c8d275a6fe6e34ae'), ObjectId('67d85c67c8d275a6fe6e34af'), ObjectId('67d85c67c8d275a6fe6e34b0'), ObjectId('67d85c67c8d275a6fe6e34b1'), ObjectId('67d85c67c8d275a6fe6e34b2'), ObjectId('67d85c67c8d275a6fe6e34b3'), ObjectId('67d85c67c8d275a6fe6e34b4'), ObjectId('67d85c67c8d275a6fe6e34b5'), ObjectId('67d85c67c8d275a6fe6e34b6'), ObjectId('67d85c67c8d275a6fe6e34b7'), ObjectId('67d85c67c8d275a6fe6e34b8'), ObjectId('67d85c67c8d275a6fe6e34b9'), ObjectId('67d85c67c8d275a6fe6e34ba'), ObjectId('67d85c67c8d275a6fe6e34bb'), ObjectId('67d85c67c8d275a6fe6e34bc'), ObjectId('67d85c67c8d275a6fe6e34bd'), ObjectId('67d85c67c8d275a6fe6e34be'), ObjectId('67d85c67c8d275a6fe6e34bf'), ObjectId('67d85c67c8d275a6fe6e34c0'), ObjectId('67d85c67c8d275a6fe6e34c1'), ObjectId('67d85c67c8d275a6fe6e34c2'), ObjectId('67d85c67c8d275a6fe6e34c3'), ObjectId('67d85c67c8d275a6fe6e34c4'), ObjectId('67d85c67c8d275a6fe6e34c5'), ObjectId('67d85c67c8d275a6fe6e34c6'), ObjectId('67d85c67c8d275a6fe6e34c7'), ObjectId('67d85c67c8d275a6fe6e34c8'), ObjectId('67d85c67c8d275a6fe6e34c9'), ObjectId('67d85c67c8d275a6fe6e34ca'), ObjectId('67d85c67c8d275a6fe6e34cb'), ObjectId('67d85c67c8d275a6fe6e34cc'), ObjectId('67d85c67c8d275a6fe6e34cd'), ObjectId('67d85c67c8d275a6fe6e34ce'), ObjectId('67d85c67c8d275a6fe6e34cf'), ObjectId('67d85c67c8d275a6fe6e34d0'), ObjectId('67d85c67c8d275a6fe6e34d1'), ObjectId('67d85c67c8d275a6fe6e34d2'), ObjectId('67d85c67c8d275a6fe6e34d3'), ObjectId('67d85c67c8d275a6fe6e34d4'), ObjectId('67d85c67c8d275a6fe6e34d5'), ObjectId('67d85c67c8d275a6fe6e34d6'), ObjectId('67d85c67c8d275a6fe6e34d7'), ObjectId('67d85c67c8d275a6fe6e34d8'), ObjectId('67d85c67c8d275a6fe6e34d9'), ObjectId('67d85c67c8d275a6fe6e34da'), ObjectId('67d85c67c8d275a6fe6e34db'), ObjectId('67d85c67c8d275a6fe6e34dc'), ObjectId('67d85c67c8d275a6fe6e34dd'), ObjectId('67d85c67c8d275a6fe6e34de'), ObjectId('67d85c67c8d275a6fe6e34df'), ObjectId('67d85c67c8d275a6fe6e34e0'), ObjectId('67d85c67c8d275a6fe6e34e1'), ObjectId('67d85c67c8d275a6fe6e34e2'), ObjectId('67d85c67c8d275a6fe6e34e3'), ObjectId('67d85c67c8d275a6fe6e34e4'), ObjectId('67d85c67c8d275a6fe6e34e5'), ObjectId('67d85c67c8d275a6fe6e34e6'), ObjectId('67d85c67c8d275a6fe6e34e7'), ObjectId('67d85c67c8d275a6fe6e34e8'), ObjectId('67d85c67c8d275a6fe6e34e9'), ObjectId('67d85c67c8d275a6fe6e34ea'), ObjectId('67d85c67c8d275a6fe6e34eb'), ObjectId('67d85c67c8d275a6fe6e34ec'), ObjectId('67d85c67c8d275a6fe6e34ed'), ObjectId('67d85c67c8d275a6fe6e34ee'), ObjectId('67d85c67c8d275a6fe6e34ef'), ObjectId('67d85c67c8d275a6fe6e34f0'), ObjectId('67d85c67c8d275a6fe6e34f1'), ObjectId('67d85c67c8d275a6fe6e34f2'), ObjectId('67d85c67c8d275a6fe6e34f3'), ObjectId('67d85c67c8d275a6fe6e34f4'), ObjectId('67d85c67c8d275a6fe6e34f5'), ObjectId('67d85c67c8d275a6fe6e34f6'), ObjectId('67d85c67c8d275a6fe6e34f7'), ObjectId('67d85c67c8d275a6fe6e34f8'), ObjectId('67d85c67c8d275a6fe6e34f9'), ObjectId('67d85c67c8d275a6fe6e34fa'), ObjectId('67d85c67c8d275a6fe6e34fb'), ObjectId('67d85c67c8d275a6fe6e34fc'), ObjectId('67d85c67c8d275a6fe6e34fd'), ObjectId('67d85c67c8d275a6fe6e34fe'), ObjectId('67d85c67c8d275a6fe6e34ff'), ObjectId('67d85c67c8d275a6fe6e3500'), ObjectId('67d85c67c8d275a6fe6e3501'), ObjectId('67d85c67c8d275a6fe6e3502'), ObjectId('67d85c67c8d275a6fe6e3503'), ObjectId('67d85c67c8d275a6fe6e3504'), ObjectId('67d85c67c8d275a6fe6e3505'), ObjectId('67d85c67c8d275a6fe6e3506'), ObjectId('67d85c67c8d275a6fe6e3507'), ObjectId('67d85c67c8d275a6fe6e3508'), ObjectId('67d85c67c8d275a6fe6e3509'), ObjectId('67d85c67c8d275a6fe6e350a'), ObjectId('67d85c67c8d275a6fe6e350b'), ObjectId('67d85c67c8d275a6fe6e350c'), ObjectId('67d85c67c8d275a6fe6e350d'), ObjectId('67d85c67c8d275a6fe6e350e'), ObjectId('67d85c67c8d275a6fe6e350f'), ObjectId('67d85c67c8d275a6fe6e3510'), ObjectId('67d85c67c8d275a6fe6e3511'), ObjectId('67d85c67c8d275a6fe6e3512'), ObjectId('67d85c67c8d275a6fe6e3513'), ObjectId('67d85c67c8d275a6fe6e3514'), ObjectId('67d85c67c8d275a6fe6e3515'), ObjectId('67d85c67c8d275a6fe6e3516'), ObjectId('67d85c67c8d275a6fe6e3517'), ObjectId('67d85c67c8d275a6fe6e3518'), ObjectId('67d85c67c8d275a6fe6e3519'), ObjectId('67d85c67c8d275a6fe6e351a'), ObjectId('67d85c67c8d275a6fe6e351b'), ObjectId('67d85c67c8d275a6fe6e351c'), ObjectId('67d85c67c8d275a6fe6e351d'), ObjectId('67d85c67c8d275a6fe6e351e'), ObjectId('67d85c67c8d275a6fe6e351f'), ObjectId('67d85c67c8d275a6fe6e3520'), ObjectId('67d85c67c8d275a6fe6e3521'), ObjectId('67d85c67c8d275a6fe6e3522'), ObjectId('67d85c67c8d275a6fe6e3523'), ObjectId('67d85c67c8d275a6fe6e3524'), ObjectId('67d85c67c8d275a6fe6e3525'), ObjectId('67d85c67c8d275a6fe6e3526'), ObjectId('67d85c67c8d275a6fe6e3527'), ObjectId('67d85c67c8d275a6fe6e3528'), ObjectId('67d85c67c8d275a6fe6e3529'), ObjectId('67d85c67c8d275a6fe6e352a'), ObjectId('67d85c67c8d275a6fe6e352b'), ObjectId('67d85c67c8d275a6fe6e352c'), ObjectId('67d85c67c8d275a6fe6e352d'), ObjectId('67d85c67c8d275a6fe6e352e'), ObjectId('67d85c67c8d275a6fe6e352f'), ObjectId('67d85c67c8d275a6fe6e3530'), ObjectId('67d85c67c8d275a6fe6e3531'), ObjectId('67d85c67c8d275a6fe6e3532'), ObjectId('67d85c67c8d275a6fe6e3533'), ObjectId('67d85c67c8d275a6fe6e3534'), ObjectId('67d85c67c8d275a6fe6e3535'), ObjectId('67d85c67c8d275a6fe6e3536'), ObjectId('67d85c67c8d275a6fe6e3537'), ObjectId('67d85c67c8d275a6fe6e3538'), ObjectId('67d85c67c8d275a6fe6e3539'), ObjectId('67d85c67c8d275a6fe6e353a'), ObjectId('67d85c67c8d275a6fe6e353b'), ObjectId('67d85c67c8d275a6fe6e353c'), ObjectId('67d85c67c8d275a6fe6e353d'), ObjectId('67d85c67c8d275a6fe6e353e'), ObjectId('67d85c67c8d275a6fe6e353f'), ObjectId('67d85c67c8d275a6fe6e3540'), ObjectId('67d85c67c8d275a6fe6e3541'), ObjectId('67d85c67c8d275a6fe6e3542'), ObjectId('67d85c67c8d275a6fe6e3543'), ObjectId('67d85c67c8d275a6fe6e3544'), ObjectId('67d85c67c8d275a6fe6e3545'), ObjectId('67d85c67c8d275a6fe6e3546'), ObjectId('67d85c67c8d275a6fe6e3547'), ObjectId('67d85c67c8d275a6fe6e3548'), ObjectId('67d85c67c8d275a6fe6e3549'), ObjectId('67d85c67c8d275a6fe6e354a'), ObjectId('67d85c67c8d275a6fe6e354b'), ObjectId('67d85c67c8d275a6fe6e354c'), ObjectId('67d85c67c8d275a6fe6e354d'), ObjectId('67d85c67c8d275a6fe6e354e'), ObjectId('67d85c67c8d275a6fe6e354f'), ObjectId('67d85c67c8d275a6fe6e3550'), ObjectId('67d85c67c8d275a6fe6e3551'), ObjectId('67d85c67c8d275a6fe6e3552'), ObjectId('67d85c67c8d275a6fe6e3553'), ObjectId('67d85c67c8d275a6fe6e3554'), ObjectId('67d85c67c8d275a6fe6e3555'), ObjectId('67d85c67c8d275a6fe6e3556'), ObjectId('67d85c67c8d275a6fe6e3557'), ObjectId('67d85c67c8d275a6fe6e3558'), ObjectId('67d85c67c8d275a6fe6e3559'), ObjectId('67d85c67c8d275a6fe6e355a'), ObjectId('67d85c67c8d275a6fe6e355b'), ObjectId('67d85c67c8d275a6fe6e355c'), ObjectId('67d85c67c8d275a6fe6e355d'), ObjectId('67d85c67c8d275a6fe6e355e'), ObjectId('67d85c67c8d275a6fe6e355f'), ObjectId('67d85c67c8d275a6fe6e3560'), ObjectId('67d85c67c8d275a6fe6e3561'), ObjectId('67d85c67c8d275a6fe6e3562'), ObjectId('67d85c67c8d275a6fe6e3563'), ObjectId('67d85c67c8d275a6fe6e3564'), ObjectId('67d85c67c8d275a6fe6e3565'), ObjectId('67d85c67c8d275a6fe6e3566'), ObjectId('67d85c67c8d275a6fe6e3567'), ObjectId('67d85c67c8d275a6fe6e3568'), ObjectId('67d85c67c8d275a6fe6e3569'), ObjectId('67d85c67c8d275a6fe6e356a'), ObjectId('67d85c67c8d275a6fe6e356b'), ObjectId('67d85c67c8d275a6fe6e356c'), ObjectId('67d85c67c8d275a6fe6e356d'), ObjectId('67d85c67c8d275a6fe6e356e'), ObjectId('67d85c67c8d275a6fe6e356f'), ObjectId('67d85c67c8d275a6fe6e3570'), ObjectId('67d85c67c8d275a6fe6e3571'), ObjectId('67d85c67c8d275a6fe6e3572'), ObjectId('67d85c67c8d275a6fe6e3573'), ObjectId('67d85c67c8d275a6fe6e3574'), ObjectId('67d85c67c8d275a6fe6e3575'), ObjectId('67d85c67c8d275a6fe6e3576'), ObjectId('67d85c67c8d275a6fe6e3577'), ObjectId('67d85c67c8d275a6fe6e3578'), ObjectId('67d85c67c8d275a6fe6e3579'), ObjectId('67d85c67c8d275a6fe6e357a'), ObjectId('67d85c67c8d275a6fe6e357b'), ObjectId('67d85c67c8d275a6fe6e357c'), ObjectId('67d85c67c8d275a6fe6e357d'), ObjectId('67d85c67c8d275a6fe6e357e'), ObjectId('67d85c67c8d275a6fe6e357f'), ObjectId('67d85c67c8d275a6fe6e3580'), ObjectId('67d85c67c8d275a6fe6e3581'), ObjectId('67d85c67c8d275a6fe6e3582'), ObjectId('67d85c67c8d275a6fe6e3583'), ObjectId('67d85c67c8d275a6fe6e3584'), ObjectId('67d85c67c8d275a6fe6e3585'), ObjectId('67d85c67c8d275a6fe6e3586'), ObjectId('67d85c67c8d275a6fe6e3587'), ObjectId('67d85c67c8d275a6fe6e3588'), ObjectId('67d85c67c8d275a6fe6e3589'), ObjectId('67d85c67c8d275a6fe6e358a'), ObjectId('67d85c67c8d275a6fe6e358b'), ObjectId('67d85c67c8d275a6fe6e358c'), ObjectId('67d85c67c8d275a6fe6e358d'), ObjectId('67d85c67c8d275a6fe6e358e'), ObjectId('67d85c67c8d275a6fe6e358f'), ObjectId('67d85c67c8d275a6fe6e3590'), ObjectId('67d85c67c8d275a6fe6e3591'), ObjectId('67d85c67c8d275a6fe6e3592'), ObjectId('67d85c67c8d275a6fe6e3593'), ObjectId('67d85c67c8d275a6fe6e3594'), ObjectId('67d85c67c8d275a6fe6e3595'), ObjectId('67d85c67c8d275a6fe6e3596'), ObjectId('67d85c67c8d275a6fe6e3597'), ObjectId('67d85c67c8d275a6fe6e3598'), ObjectId('67d85c67c8d275a6fe6e3599'), ObjectId('67d85c67c8d275a6fe6e359a'), ObjectId('67d85c67c8d275a6fe6e359b'), ObjectId('67d85c67c8d275a6fe6e359c'), ObjectId('67d85c67c8d275a6fe6e359d'), ObjectId('67d85c67c8d275a6fe6e359e'), ObjectId('67d85c67c8d275a6fe6e359f'), ObjectId('67d85c67c8d275a6fe6e35a0'), ObjectId('67d85c67c8d275a6fe6e35a1'), ObjectId('67d85c67c8d275a6fe6e35a2'), ObjectId('67d85c67c8d275a6fe6e35a3'), ObjectId('67d85c67c8d275a6fe6e35a4'), ObjectId('67d85c67c8d275a6fe6e35a5'), ObjectId('67d85c67c8d275a6fe6e35a6'), ObjectId('67d85c67c8d275a6fe6e35a7'), ObjectId('67d85c67c8d275a6fe6e35a8'), ObjectId('67d85c67c8d275a6fe6e35a9'), ObjectId('67d85c67c8d275a6fe6e35aa'), ObjectId('67d85c67c8d275a6fe6e35ab'), ObjectId('67d85c67c8d275a6fe6e35ac'), ObjectId('67d85c67c8d275a6fe6e35ad'), ObjectId('67d85c67c8d275a6fe6e35ae'), ObjectId('67d85c67c8d275a6fe6e35af'), ObjectId('67d85c67c8d275a6fe6e35b0'), ObjectId('67d85c67c8d275a6fe6e35b1'), ObjectId('67d85c67c8d275a6fe6e35b2'), ObjectId('67d85c67c8d275a6fe6e35b3'), ObjectId('67d85c67c8d275a6fe6e35b4'), ObjectId('67d85c67c8d275a6fe6e35b5'), ObjectId('67d85c67c8d275a6fe6e35b6'), ObjectId('67d85c67c8d275a6fe6e35b7'), ObjectId('67d85c67c8d275a6fe6e35b8'), ObjectId('67d85c67c8d275a6fe6e35b9'), ObjectId('67d85c67c8d275a6fe6e35ba'), ObjectId('67d85c67c8d275a6fe6e35bb'), ObjectId('67d85c67c8d275a6fe6e35bc'), ObjectId('67d85c67c8d275a6fe6e35bd'), ObjectId('67d85c67c8d275a6fe6e35be'), ObjectId('67d85c67c8d275a6fe6e35bf'), ObjectId('67d85c67c8d275a6fe6e35c0'), ObjectId('67d85c67c8d275a6fe6e35c1'), ObjectId('67d85c67c8d275a6fe6e35c2'), ObjectId('67d85c67c8d275a6fe6e35c3'), ObjectId('67d85c67c8d275a6fe6e35c4'), ObjectId('67d85c67c8d275a6fe6e35c5'), ObjectId('67d85c67c8d275a6fe6e35c6'), ObjectId('67d85c67c8d275a6fe6e35c7'), ObjectId('67d85c67c8d275a6fe6e35c8'), ObjectId('67d85c67c8d275a6fe6e35c9'), ObjectId('67d85c67c8d275a6fe6e35ca'), ObjectId('67d85c67c8d275a6fe6e35cb'), ObjectId('67d85c67c8d275a6fe6e35cc'), ObjectId('67d85c67c8d275a6fe6e35cd'), ObjectId('67d85c67c8d275a6fe6e35ce'), ObjectId('67d85c67c8d275a6fe6e35cf'), ObjectId('67d85c67c8d275a6fe6e35d0'), ObjectId('67d85c67c8d275a6fe6e35d1'), ObjectId('67d85c67c8d275a6fe6e35d2'), ObjectId('67d85c67c8d275a6fe6e35d3'), ObjectId('67d85c67c8d275a6fe6e35d4'), ObjectId('67d85c67c8d275a6fe6e35d5'), ObjectId('67d85c67c8d275a6fe6e35d6'), ObjectId('67d85c67c8d275a6fe6e35d7'), ObjectId('67d85c67c8d275a6fe6e35d8'), ObjectId('67d85c67c8d275a6fe6e35d9'), ObjectId('67d85c67c8d275a6fe6e35da'), ObjectId('67d85c67c8d275a6fe6e35db'), ObjectId('67d85c67c8d275a6fe6e35dc'), ObjectId('67d85c67c8d275a6fe6e35dd'), ObjectId('67d85c67c8d275a6fe6e35de'), ObjectId('67d85c67c8d275a6fe6e35df'), ObjectId('67d85c67c8d275a6fe6e35e0'), ObjectId('67d85c67c8d275a6fe6e35e1'), ObjectId('67d85c67c8d275a6fe6e35e2'), ObjectId('67d85c67c8d275a6fe6e35e3'), ObjectId('67d85c67c8d275a6fe6e35e4'), ObjectId('67d85c67c8d275a6fe6e35e5'), ObjectId('67d85c67c8d275a6fe6e35e6'), ObjectId('67d85c67c8d275a6fe6e35e7'), ObjectId('67d85c67c8d275a6fe6e35e8'), ObjectId('67d85c67c8d275a6fe6e35e9'), ObjectId('67d85c67c8d275a6fe6e35ea'), ObjectId('67d85c67c8d275a6fe6e35eb'), ObjectId('67d85c67c8d275a6fe6e35ec'), ObjectId('67d85c67c8d275a6fe6e35ed'), ObjectId('67d85c67c8d275a6fe6e35ee'), ObjectId('67d85c67c8d275a6fe6e35ef'), ObjectId('67d85c67c8d275a6fe6e35f0'), ObjectId('67d85c67c8d275a6fe6e35f1'), ObjectId('67d85c67c8d275a6fe6e35f2'), ObjectId('67d85c67c8d275a6fe6e35f3'), ObjectId('67d85c67c8d275a6fe6e35f4'), ObjectId('67d85c67c8d275a6fe6e35f5'), ObjectId('67d85c67c8d275a6fe6e35f6'), ObjectId('67d85c67c8d275a6fe6e35f7'), ObjectId('67d85c67c8d275a6fe6e35f8'), ObjectId('67d85c67c8d275a6fe6e35f9'), ObjectId('67d85c67c8d275a6fe6e35fa'), ObjectId('67d85c67c8d275a6fe6e35fb'), ObjectId('67d85c67c8d275a6fe6e35fc'), ObjectId('67d85c67c8d275a6fe6e35fd'), ObjectId('67d85c67c8d275a6fe6e35fe'), ObjectId('67d85c67c8d275a6fe6e35ff'), ObjectId('67d85c67c8d275a6fe6e3600'), ObjectId('67d85c67c8d275a6fe6e3601'), ObjectId('67d85c67c8d275a6fe6e3602'), ObjectId('67d85c67c8d275a6fe6e3603'), ObjectId('67d85c67c8d275a6fe6e3604'), ObjectId('67d85c67c8d275a6fe6e3605'), ObjectId('67d85c67c8d275a6fe6e3606'), ObjectId('67d85c67c8d275a6fe6e3607'), ObjectId('67d85c67c8d275a6fe6e3608'), ObjectId('67d85c67c8d275a6fe6e3609'), ObjectId('67d85c67c8d275a6fe6e360a'), ObjectId('67d85c67c8d275a6fe6e360b'), ObjectId('67d85c67c8d275a6fe6e360c'), ObjectId('67d85c67c8d275a6fe6e360d'), ObjectId('67d85c67c8d275a6fe6e360e'), ObjectId('67d85c67c8d275a6fe6e360f'), ObjectId('67d85c67c8d275a6fe6e3610'), ObjectId('67d85c67c8d275a6fe6e3611'), ObjectId('67d85c67c8d275a6fe6e3612'), ObjectId('67d85c67c8d275a6fe6e3613'), ObjectId('67d85c67c8d275a6fe6e3614'), ObjectId('67d85c67c8d275a6fe6e3615'), ObjectId('67d85c67c8d275a6fe6e3616'), ObjectId('67d85c67c8d275a6fe6e3617'), ObjectId('67d85c67c8d275a6fe6e3618'), ObjectId('67d85c67c8d275a6fe6e3619'), ObjectId('67d85c67c8d275a6fe6e361a'), ObjectId('67d85c67c8d275a6fe6e361b'), ObjectId('67d85c67c8d275a6fe6e361c'), ObjectId('67d85c67c8d275a6fe6e361d'), ObjectId('67d85c67c8d275a6fe6e361e'), ObjectId('67d85c67c8d275a6fe6e361f'), ObjectId('67d85c67c8d275a6fe6e3620'), ObjectId('67d85c67c8d275a6fe6e3621'), ObjectId('67d85c67c8d275a6fe6e3622'), ObjectId('67d85c67c8d275a6fe6e3623'), ObjectId('67d85c67c8d275a6fe6e3624'), ObjectId('67d85c67c8d275a6fe6e3625'), ObjectId('67d85c67c8d275a6fe6e3626'), ObjectId('67d85c67c8d275a6fe6e3627'), ObjectId('67d85c67c8d275a6fe6e3628'), ObjectId('67d85c67c8d275a6fe6e3629'), ObjectId('67d85c67c8d275a6fe6e362a'), ObjectId('67d85c67c8d275a6fe6e362b'), ObjectId('67d85c67c8d275a6fe6e362c'), ObjectId('67d85c67c8d275a6fe6e362d'), ObjectId('67d85c67c8d275a6fe6e362e'), ObjectId('67d85c67c8d275a6fe6e362f'), ObjectId('67d85c67c8d275a6fe6e3630'), ObjectId('67d85c67c8d275a6fe6e3631'), ObjectId('67d85c67c8d275a6fe6e3632'), ObjectId('67d85c67c8d275a6fe6e3633'), ObjectId('67d85c67c8d275a6fe6e3634'), ObjectId('67d85c67c8d275a6fe6e3635'), ObjectId('67d85c67c8d275a6fe6e3636'), ObjectId('67d85c67c8d275a6fe6e3637'), ObjectId('67d85c67c8d275a6fe6e3638'), ObjectId('67d85c67c8d275a6fe6e3639'), ObjectId('67d85c67c8d275a6fe6e363a'), ObjectId('67d85c67c8d275a6fe6e363b'), ObjectId('67d85c67c8d275a6fe6e363c'), ObjectId('67d85c67c8d275a6fe6e363d'), ObjectId('67d85c67c8d275a6fe6e363e'), ObjectId('67d85c67c8d275a6fe6e363f'), ObjectId('67d85c67c8d275a6fe6e3640'), ObjectId('67d85c67c8d275a6fe6e3641'), ObjectId('67d85c67c8d275a6fe6e3642'), ObjectId('67d85c67c8d275a6fe6e3643'), ObjectId('67d85c67c8d275a6fe6e3644'), ObjectId('67d85c67c8d275a6fe6e3645'), ObjectId('67d85c67c8d275a6fe6e3646'), ObjectId('67d85c67c8d275a6fe6e3647'), ObjectId('67d85c67c8d275a6fe6e3648'), ObjectId('67d85c67c8d275a6fe6e3649'), ObjectId('67d85c67c8d275a6fe6e364a'), ObjectId('67d85c67c8d275a6fe6e364b'), ObjectId('67d85c67c8d275a6fe6e364c'), ObjectId('67d85c67c8d275a6fe6e364d'), ObjectId('67d85c67c8d275a6fe6e364e'), ObjectId('67d85c67c8d275a6fe6e364f'), ObjectId('67d85c67c8d275a6fe6e3650'), ObjectId('67d85c67c8d275a6fe6e3651'), ObjectId('67d85c67c8d275a6fe6e3652'), ObjectId('67d85c67c8d275a6fe6e3653'), ObjectId('67d85c67c8d275a6fe6e3654'), ObjectId('67d85c67c8d275a6fe6e3655'), ObjectId('67d85c67c8d275a6fe6e3656'), ObjectId('67d85c67c8d275a6fe6e3657'), ObjectId('67d85c67c8d275a6fe6e3658'), ObjectId('67d85c67c8d275a6fe6e3659'), ObjectId('67d85c67c8d275a6fe6e365a'), ObjectId('67d85c67c8d275a6fe6e365b'), ObjectId('67d85c67c8d275a6fe6e365c'), ObjectId('67d85c67c8d275a6fe6e365d'), ObjectId('67d85c67c8d275a6fe6e365e'), ObjectId('67d85c67c8d275a6fe6e365f'), ObjectId('67d85c67c8d275a6fe6e3660'), ObjectId('67d85c67c8d275a6fe6e3661'), ObjectId('67d85c67c8d275a6fe6e3662'), ObjectId('67d85c67c8d275a6fe6e3663'), ObjectId('67d85c67c8d275a6fe6e3664'), ObjectId('67d85c67c8d275a6fe6e3665'), ObjectId('67d85c67c8d275a6fe6e3666'), ObjectId('67d85c67c8d275a6fe6e3667'), ObjectId('67d85c67c8d275a6fe6e3668'), ObjectId('67d85c67c8d275a6fe6e3669')], acknowledged=True)"
      ]
     },
     "execution_count": 15,
     "metadata": {},
     "output_type": "execute_result"
    }
   ],
   "source": [
    "coleccion_personajes=db_rickymotry['personajes']\n",
    "\n",
    "coleccion_personajes.insert_many(json_personajes)"
   ]
  },
  {
   "cell_type": "markdown",
   "metadata": {},
   "source": [
    "## Redis"
   ]
  },
  {
   "cell_type": "markdown",
   "metadata": {},
   "source": [
    "### ⬇️📚 Instalar la libreria de redis"
   ]
  },
  {
   "cell_type": "code",
   "execution_count": null,
   "metadata": {},
   "outputs": [],
   "source": [
    "#!conda install -y -c conda-forge redis-py sqlalchemy\n"
   ]
  },
  {
   "cell_type": "markdown",
   "metadata": {},
   "source": [
    "Para poder conectarnos a correctamente debemos abrir el puerto 6379"
   ]
  },
  {
   "cell_type": "markdown",
   "metadata": {},
   "source": [
    "```bash \n",
    "ssh cesgaxuser@10.133.28.46 -L 6379:localhost:6379\n",
    "```"
   ]
  },
  {
   "cell_type": "markdown",
   "metadata": {},
   "source": [
    "### Conectarnos con Redis"
   ]
  },
  {
   "cell_type": "code",
   "execution_count": null,
   "metadata": {},
   "outputs": [],
   "source": [
    "import redis \n",
    "\n",
    "\n",
    "r = redis.Redis(host='localhost', port=6379, password=\"123quetal123\")\n",
    "\n",
    "r.json().set('episodios', '$', json_episodios)\n",
    "r.json().get('episodios')\n",
    "\n",
    "\n"
   ]
  }
 ],
 "metadata": {
  "kernelspec": {
   "display_name": "bigdata",
   "language": "python",
   "name": "python3"
  },
  "language_info": {
   "codemirror_mode": {
    "name": "ipython",
    "version": 3
   },
   "file_extension": ".py",
   "mimetype": "text/x-python",
   "name": "python",
   "nbconvert_exporter": "python",
   "pygments_lexer": "ipython3",
   "version": "3.12.3"
  }
 },
 "nbformat": 4,
 "nbformat_minor": 2
}
