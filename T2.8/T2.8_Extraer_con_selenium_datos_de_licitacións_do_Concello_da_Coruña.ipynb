{
 "cells": [
  {
   "cell_type": "markdown",
   "metadata": {},
   "source": [
    "# T2.8 Extraer con selenium datos de licitacións do Concello da Coruña\n",
    "## Ralphy Núñez Mercado"
   ]
  },
  {
   "cell_type": "markdown",
   "metadata": {},
   "source": [
    "Queremos facer un código que garde nunha BBDD a Microsoft SQL Server a información dos expedientes de licitación do Concello da Coruña e nun directorio (no actual) as capturas de pantalla de cada expediente.\n",
    "\n",
    "Para montar o Microsoft SQL Server sigue a guía de: https://jfsanchez.es/docs/docker-5-mssql-server/\n",
    "\n",
    "Debes empregar selenium e a páxina: https://contrataciondelestado.es\n",
    "\n",
    "Debes navegar por ela coma se indica no documento.\n",
    "\n",
    "Por cada elemento (expediente), meterse nel e facer captura de pantalla (automáticamente, coa API de selenium).\n",
    "\n",
    "Entrega:\n",
    "\n",
    "O código nun jupyter notebook.\n",
    "A BBDD exportada de Microsoft SQL Server.\n",
    "Un zip coas capturas de pantalla que fixo selenium."
   ]
  },
  {
   "cell_type": "markdown",
   "metadata": {},
   "source": [
    "### ⬇️ Imports "
   ]
  },
  {
   "cell_type": "code",
   "execution_count": 8,
   "metadata": {},
   "outputs": [],
   "source": [
    "from selenium import webdriver\n",
    "from selenium.webdriver.common.by import By\n",
    "from selenium import webdriver\n",
    "from selenium.webdriver.support.ui import WebDriverWait\n",
    "from selenium.webdriver.support import expected_conditions as EC\n",
    "import time\n",
    "import random\n",
    "import itertools\n",
    "from selenium.common.exceptions import NoSuchElementException\n",
    "import json"
   ]
  },
  {
   "cell_type": "markdown",
   "metadata": {},
   "source": [
    "### Definir Funciones"
   ]
  },
  {
   "cell_type": "code",
   "execution_count": 10,
   "metadata": {},
   "outputs": [],
   "source": [
    "def waitFinishLoad(driver):\n",
    "    WebDriverWait(driver, 10).until(EC.presence_of_element_located((By.ID, \"page-loader\")))\n",
    "    WebDriverWait(driver, 10).until(EC.invisibility_of_element((By.ID, \"page-loader\")))\n",
    "    alea=random.choice([0.5, 0.1, 0.2, 0.3, 0.4, 0.6])\n",
    "    time.sleep(alea)\n",
    "\n",
    "def clickSelectByPartialText(auxText, driver):\n",
    "    waitFinishLoad(driver)\n",
    "    driver.find_element_by_xpath(\"//select//option[contains(., '\"+auxText+\"')]\").click()\n",
    "    waitFinishLoad(driver)\n",
    "\n",
    "def getCurrentPage(driver):\n",
    "    print()\n",
    "\n",
    "def getLastPage(driver):\n",
    "    print()\n",
    "\n",
    "def isThisLastPage(driver):\n",
    "    if (getLastPage(driver) == getCurrentPage(driver)):\n",
    "        return True\n",
    "    return False\n",
    "\n",
    "def goNextPage(driver,DOMINIO):\n",
    "    driver.find_element(by=By.ID, value=\"id_domain\").send_keys(DOMINIO)\n",
    "\n",
    "    elem = driver.find_element(By.ID, \"loginBtn\")\n",
    "    elem.click()\n",
    "\n",
    "def clickByPartialText(auxText, driver):\n",
    "    waitFinishLoad(driver)\n",
    "    elem = driver.find_element_by_partial_link_text(auxText)\n",
    "    elem.click()\n",
    "    waitFinishLoad(driver)\n",
    "    \n",
    "\n",
    "### HECHAS POR MI\n",
    "def select_opcion_portal(driver,link):\n",
    "    driver.find_element(By.XPATH, f\"//div/p/a[contains(@href,'{link}')]\").click()\n",
    "\n",
    "def click_opciones_busqueda(driver,opcion):\n",
    "    driver.find_element(By.XPATH, f\"//div/a/p/img[contains(@id,'{opcion}')]\").click()\n",
    "    \n",
    "def buscar_by_id(driver,id):\n",
    "    driver.find_element(By.ID,id).click()\n",
    "\n",
    "def buscar_elementos_lista(driver, elemento, n=None):\n",
    "    if n is not None:\n",
    "        driver.find_element(By.XPATH, f\"(//td[@class='tafelTreecanevas']/div[text()='A Coruña'])[{n}]\").click()\n",
    "    else:\n",
    "        driver.find_element(By.XPATH, f\"//td[@class='multiline'][following-sibling::td[2]/div[text()='{elemento}']]\").click()\n",
    "\n",
    "def select_combo_organo(driver,combo,valor):\n",
    "    driver.find_element(By.XPATH, f\"//select[contains(@id,'{combo}')]//option[@value='{valor}']\").click()"
   ]
  },
  {
   "cell_type": "markdown",
   "metadata": {},
   "source": [
    "### Definir Variables"
   ]
  },
  {
   "cell_type": "code",
   "execution_count": 11,
   "metadata": {},
   "outputs": [],
   "source": [
    "\n",
    "URL = \"https://contrataciondelestado.es/wps/portal/plataforma\"\n",
    "\n",
    "lista_tree = ['ENTIDADES LOCALES','Galicia','A Coruña','Ayuntamientos','A Coruña']\n",
    "\n",
    "links = []"
   ]
  },
  {
   "cell_type": "code",
   "execution_count": null,
   "metadata": {},
   "outputs": [
    {
     "ename": "NameError",
     "evalue": "name 'URL' is not defined",
     "output_type": "error",
     "traceback": [
      "\u001b[1;31m---------------------------------------------------------------------------\u001b[0m",
      "\u001b[1;31mNameError\u001b[0m                                 Traceback (most recent call last)",
      "Cell \u001b[1;32mIn[7], line 3\u001b[0m\n\u001b[0;32m      1\u001b[0m driver \u001b[38;5;241m=\u001b[39m webdriver\u001b[38;5;241m.\u001b[39mFirefox()\n\u001b[1;32m----> 3\u001b[0m driver\u001b[38;5;241m.\u001b[39mget(URL)\n\u001b[0;32m      5\u001b[0m select_opcion_portal(driver,\u001b[38;5;124m'\u001b[39m\u001b[38;5;124m/wps/portal/licitaciones\u001b[39m\u001b[38;5;124m'\u001b[39m) \u001b[38;5;66;03m# click en publicaciones\u001b[39;00m\n\u001b[0;32m      7\u001b[0m click_opciones_busqueda(driver,\u001b[38;5;124m'\u001b[39m\u001b[38;5;124mviewns_Z7_AVEQAI930OBRD02JPMTPG21004_:form1:logoFormularioBusqueda\u001b[39m\u001b[38;5;124m'\u001b[39m) \u001b[38;5;66;03m# click en licitaciones\u001b[39;00m\n",
      "\u001b[1;31mNameError\u001b[0m: name 'URL' is not defined"
     ]
    }
   ],
   "source": [
    "driver = webdriver.Firefox()\n",
    "\n",
    "driver.get(URL)\n",
    "\n",
    "select_opcion_portal(driver,'/wps/portal/licitaciones') # click en publicaciones\n",
    "\n",
    "click_opciones_busqueda(driver,'viewns_Z7_AVEQAI930OBRD02JPMTPG21004_:form1:logoFormularioBusqueda') # click en licitaciones\n",
    "\n",
    "buscar_by_id(driver,'viewns_Z7_AVEQAI930OBRD02JPMTPG21004_:form1:textBusquedaAvanzada') # click en busqueda avanzada\n",
    "\n",
    "buscar_by_id(driver,'viewns_Z7_AVEQAI930OBRD02JPMTPG21004_:form1:idSeleccionarOCLink') # click en selecionar (organizacion contratante)\n",
    "\n",
    "time.sleep(2) # test\n",
    "\n",
    "for i, elemento in enumerate(lista_tree): # iterar sobre la lista para buscar los datos que queremos obtener\n",
    "    if i == len(lista_tree) - 1:\n",
    "        buscar_elementos_lista(driver, elemento, 2)\n",
    "    else:\n",
    "        buscar_elementos_lista(driver, elemento)\n",
    "\n",
    "    time.sleep(0.5) # test\n",
    "\n",
    "\n",
    "select_combo_organo(driver,'viewns_Z7_AVEQAI930OBRD02JPMTPG21004_:form1:comboNombreOrgano','93655277') # selecionar opcion combo organo\n",
    "\n",
    "buscar_by_id(driver,'viewns_Z7_AVEQAI930OBRD02JPMTPG21004_:form1:botonAnadirMostrarPopUpArbolEO') # click en boton añadir\n",
    "buscar_by_id(driver,'viewns_Z7_AVEQAI930OBRD02JPMTPG21004_:form1:button1') # click en buscar\n",
    "\n",
    "time.sleep(0.2) # test\n",
    "n_paginas = int(driver.find_element(By.XPATH,'//*[@id=\"viewns_Z7_AVEQAI930OBRD02JPMTPG21004_:form1:textfooterInfoTotalPaginaMAQ\"]').text)\n",
    "\n",
    "print(n_paginas)\n",
    "for i in range(1, n_paginas + 1):\n",
    "    path_links = driver.find_elements(By.XPATH,\"//table[contains(@id,'myTablaBusquedaCustom')]//a[2]\")\n",
    "\n",
    "    links.append([item.get_attribute(\"href\") for item in path_links if item.get_attribute(\"href\")])\n",
    "\n",
    "    try:\n",
    "        buscar_by_id(driver, 'viewns_Z7_AVEQAI930OBRD02JPMTPG21004_:form1:footerSiguiente')\n",
    "        time.sleep(0.1)  # test\n",
    "    except NoSuchElementException:\n",
    "        print(\"Última página.\")\n",
    "        break  \n",
    "\n",
    "links = list(itertools.chain(*links))\n",
    "with open(\"links.json\", \"w\") as f:\n",
    "    json.dump(links, f, indent=4)\n",
    "\n",
    "# driver.close()"
   ]
  },
  {
   "cell_type": "markdown",
   "metadata": {},
   "source": []
  },
  {
   "cell_type": "code",
   "execution_count": 6,
   "metadata": {},
   "outputs": [
    {
     "ename": "NameError",
     "evalue": "name 'links' is not defined",
     "output_type": "error",
     "traceback": [
      "\u001b[1;31m---------------------------------------------------------------------------\u001b[0m",
      "\u001b[1;31mNameError\u001b[0m                                 Traceback (most recent call last)",
      "Cell \u001b[1;32mIn[6], line 2\u001b[0m\n\u001b[0;32m      1\u001b[0m driver \u001b[38;5;241m=\u001b[39m webdriver\u001b[38;5;241m.\u001b[39mFirefox()\n\u001b[1;32m----> 2\u001b[0m \u001b[38;5;28;01mfor\u001b[39;00m link,i \u001b[38;5;129;01min\u001b[39;00m links:\n\u001b[0;32m      3\u001b[0m     driver\u001b[38;5;241m.\u001b[39mget(link)\n\u001b[0;32m      5\u001b[0m     WebDriverWait(driver, \u001b[38;5;241m10\u001b[39m)\u001b[38;5;241m.\u001b[39muntil(EC\u001b[38;5;241m.\u001b[39mpresence_of_element_located((By\u001b[38;5;241m.\u001b[39mTAG_NAME, \u001b[38;5;124m\"\u001b[39m\u001b[38;5;124mbody\u001b[39m\u001b[38;5;124m\"\u001b[39m)))\n",
      "\u001b[1;31mNameError\u001b[0m: name 'links' is not defined"
     ]
    }
   ],
   "source": [
    "driver = webdriver.Firefox()\n",
    "for link,i in links:\n",
    "    driver.get(link)\n",
    "    \n",
    "    WebDriverWait(driver, 10).until(EC.presence_of_element_located((By.TAG_NAME, \"body\")))\n",
    "    driver.get_full_page_screenshot_as_png(f'capturas/{i}.png')"
   ]
  },
  {
   "cell_type": "markdown",
   "metadata": {},
   "source": [
    "#### TODO\n",
    "substituir los   \n",
    "    ``` time.sleep ```   \n",
    "por    \n",
    "    ```WebDriverWait(driver, 10).until(EC.visibility_of_element_located((By.XPATH, \"//select[contains(@id,'viewns_Z7_AVEQAI930OBRD02JPMTPG21004_:form1:comboNombreOrgano')]\"))) ```\n",
    "\n",
    "- poner varibables para las funciones\n",
    "\n",
    "- obtener enlaces\n",
    "\n",
    "- obtener informacion de los enlaces"
   ]
  }
 ],
 "metadata": {
  "kernelspec": {
   "display_name": "bigdata",
   "language": "python",
   "name": "python3"
  },
  "language_info": {
   "codemirror_mode": {
    "name": "ipython",
    "version": 3
   },
   "file_extension": ".py",
   "mimetype": "text/x-python",
   "name": "python",
   "nbconvert_exporter": "python",
   "pygments_lexer": "ipython3",
   "version": "3.12.3"
  }
 },
 "nbformat": 4,
 "nbformat_minor": 2
}
