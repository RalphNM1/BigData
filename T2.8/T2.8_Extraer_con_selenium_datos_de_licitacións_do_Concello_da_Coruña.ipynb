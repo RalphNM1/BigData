{
 "cells": [
  {
   "cell_type": "markdown",
   "metadata": {},
   "source": [
    "# T2.8 Extraer con selenium datos de licitacións do Concello da Coruña\n",
    "## Ralphy Núñez Mercado"
   ]
  },
  {
   "cell_type": "markdown",
   "metadata": {},
   "source": [
    "Queremos facer un código que garde nunha BBDD a Microsoft SQL Server a información dos expedientes de licitación do Concello da Coruña e nun directorio (no actual) as capturas de pantalla de cada expediente.\n",
    "\n",
    "Para montar o Microsoft SQL Server sigue a guía de: https://jfsanchez.es/docs/docker-5-mssql-server/\n",
    "\n",
    "Debes empregar selenium e a páxina: https://contrataciondelestado.es\n",
    "\n",
    "Debes navegar por ela coma se indica no documento.\n",
    "\n",
    "Por cada elemento (expediente), meterse nel e facer captura de pantalla (automáticamente, coa API de selenium).\n",
    "\n",
    "Entrega:\n",
    "\n",
    "O código nun jupyter notebook.\n",
    "A BBDD exportada de Microsoft SQL Server.\n",
    "Un zip coas capturas de pantalla que fixo selenium."
   ]
  },
  {
   "cell_type": "markdown",
   "metadata": {},
   "source": [
    "### ⬇️ Imports "
   ]
  },
  {
   "cell_type": "code",
   "execution_count": 5,
   "metadata": {},
   "outputs": [],
   "source": [
    "import argparse\n",
    "from enum import Enum\n",
    "import sys\n",
    "from selenium import webdriver\n",
    "from selenium.webdriver.common.by import By\n",
    "from selenium import webdriver\n",
    "from selenium.webdriver.common.keys import Keys\n",
    "from selenium.webdriver.support.ui import WebDriverWait\n",
    "from selenium.webdriver.support import expected_conditions as EC\n",
    "from selenium.webdriver.support.select import Select\n",
    "import time\n",
    "import random"
   ]
  },
  {
   "cell_type": "markdown",
   "metadata": {},
   "source": [
    "### Definir Funciones"
   ]
  },
  {
   "cell_type": "code",
   "execution_count": 6,
   "metadata": {},
   "outputs": [],
   "source": [
    "def waitFinishLoad(driver):\n",
    "    WebDriverWait(driver, 10).until(EC.presence_of_element_located((By.ID, \"page-loader\")))\n",
    "    WebDriverWait(driver, 10).until(EC.invisibility_of_element((By.ID, \"page-loader\")))\n",
    "    alea=random.choice([0.5, 0.1, 0.2, 0.3, 0.4, 0.6])\n",
    "    time.sleep(alea)\n",
    "\n",
    "def clickSelectByPartialText(auxText, driver):\n",
    "    waitFinishLoad(driver)\n",
    "    driver.find_element_by_xpath(\"//select//option[contains(., '\"+auxText+\"')]\").click()\n",
    "    waitFinishLoad(driver)\n",
    "\n",
    "def getCurrentPage(driver):\n",
    "    print()\n",
    "\n",
    "def getLastPage(driver):\n",
    "    print()\n",
    "\n",
    "def isThisLastPage(driver):\n",
    "    if (getLastPage(driver) == getCurrentPage(driver)):\n",
    "        return True\n",
    "    return False\n",
    "\n",
    "def goNextPage(driver,DOMINIO):\n",
    "    driver.find_element(by=By.ID, value=\"id_domain\").send_keys(DOMINIO)\n",
    "\n",
    "    elem = driver.find_element(By.ID, \"loginBtn\")\n",
    "    elem.click()\n",
    "\n",
    "def clickByPartialText(auxText, driver):\n",
    "    waitFinishLoad(driver)\n",
    "    elem = driver.find_element_by_partial_link_text(auxText)\n",
    "    elem.click()\n",
    "    waitFinishLoad(driver)\n",
    "    \n",
    "\n",
    "### HECHAS POR MI\n",
    "def select_opcion_portal(driver,link):\n",
    "    driver.find_element(By.XPATH, f\"//div/p/a[contains(@href,'{link}')]\").click()\n",
    "\n",
    "def click_opciones_busqueda(driver,opcion):\n",
    "    driver.find_element(By.XPATH, f\"//div/a/p/img[contains(@id,'{opcion}')]\").click()\n",
    "    \n",
    "def buscar_by_id(driver,id):\n",
    "    driver.find_element(By.ID,id).click()\n",
    "\n",
    "def buscar_elementos_lista(driver, elemento, n=None):\n",
    "    if n is not None:\n",
    "        driver.find_element(By.XPATH, f\"(//td[@class='tafelTreecanevas']/div[text()='A Coruña'])[{n}]\").click()\n",
    "    else:\n",
    "        driver.find_element(By.XPATH, f\"//td[@class='multiline'][following-sibling::td[2]/div[text()='{elemento}']]\").click()\n",
    "\n",
    "def select_combo_organo(driver,combo,valor):\n",
    "    driver.find_element(By.XPATH, f\"//select[contains(@id,'{combo}')]//option[@value='{valor}']\").click()"
   ]
  },
  {
   "cell_type": "markdown",
   "metadata": {},
   "source": [
    "### Definir Variables"
   ]
  },
  {
   "cell_type": "code",
   "execution_count": 7,
   "metadata": {},
   "outputs": [],
   "source": [
    "\n",
    "URL = \"https://contrataciondelestado.es/wps/portal/plataforma\"\n",
    "\n",
    "lista_tree = ['ENTIDADES LOCALES','Galicia','A Coruña','Ayuntamientos','A Coruña']"
   ]
  },
  {
   "cell_type": "code",
   "execution_count": null,
   "metadata": {},
   "outputs": [],
   "source": [
    "driver = webdriver.Firefox()\n",
    "\n",
    "driver.get(URL)\n",
    "\n",
    "select_opcion_portal(driver,'/wps/portal/licitaciones') # click en publicaciones\n",
    "\n",
    "click_opciones_busqueda(driver,'viewns_Z7_AVEQAI930OBRD02JPMTPG21004_:form1:logoFormularioBusqueda') # click en licitaciones \n",
    "\n",
    "buscar_by_id(driver,'viewns_Z7_AVEQAI930OBRD02JPMTPG21004_:form1:textBusquedaAvanzada') # click en busqueda avanzada\n",
    "\n",
    "buscar_by_id(driver,'viewns_Z7_AVEQAI930OBRD02JPMTPG21004_:form1:idSeleccionarOCLink') # click en selecionar (organizacion contratante)\n",
    "\n",
    "time.sleep(2) # test\n",
    "\n",
    "for i, elemento in enumerate(lista_tree): # iterar sobre la lista para buscar los datos que queremos obtener\n",
    "    if i == len(lista_tree) - 1:\n",
    "        buscar_elementos_lista(driver, elemento, 2)\n",
    "    else:\n",
    "        buscar_elementos_lista(driver, elemento)\n",
    "    \n",
    "    time.sleep(0.5) # test\n",
    "    \n",
    "\n",
    "select_combo_organo(driver,'viewns_Z7_AVEQAI930OBRD02JPMTPG21004_:form1:comboNombreOrgano','93655277') # selecionar opcion combo organo\n",
    "\n",
    "buscar_by_id(driver,'viewns_Z7_AVEQAI930OBRD02JPMTPG21004_:form1:botonAnadirMostrarPopUpArbolEO') # click en boton añadir\n",
    "buscar_by_id(driver,'viewns_Z7_AVEQAI930OBRD02JPMTPG21004_:form1:button1') # click en buscar\n",
    "\n",
    "\n",
    "\n",
    "\n",
    "\n",
    " \n",
    "# driver.close()"
   ]
  },
  {
   "cell_type": "markdown",
   "metadata": {},
   "source": []
  },
  {
   "cell_type": "code",
   "execution_count": null,
   "metadata": {},
   "outputs": [],
   "source": []
  },
  {
   "cell_type": "markdown",
   "metadata": {},
   "source": [
    "#### TODO\n",
    "substituir los   \n",
    "    ``` time.sleep ```   \n",
    "por    \n",
    "    ```WebDriverWait(driver, 10).until(EC.visibility_of_element_located((By.XPATH, \"//select[contains(@id,'viewns_Z7_AVEQAI930OBRD02JPMTPG21004_:form1:comboNombreOrgano')]\"))) ```\n",
    "\n",
    "- poner varibables para las funciones\n",
    "\n",
    "- obtener enlaces\n",
    "\n",
    "- obtener informacion de los enlaces"
   ]
  }
 ],
 "metadata": {
  "kernelspec": {
   "display_name": "bigdata",
   "language": "python",
   "name": "python3"
  },
  "language_info": {
   "codemirror_mode": {
    "name": "ipython",
    "version": 3
   },
   "file_extension": ".py",
   "mimetype": "text/x-python",
   "name": "python",
   "nbconvert_exporter": "python",
   "pygments_lexer": "ipython3",
   "version": "3.12.3"
  }
 },
 "nbformat": 4,
 "nbformat_minor": 2
}
