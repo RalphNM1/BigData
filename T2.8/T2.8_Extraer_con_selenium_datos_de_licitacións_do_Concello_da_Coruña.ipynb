{
 "cells": [
  {
   "cell_type": "markdown",
   "metadata": {},
   "source": [
    "# T2.8 Extraer con selenium datos de licitacións do Concello da Coruña\n",
    "## Ralphy Núñez Mercado"
   ]
  },
  {
   "cell_type": "markdown",
   "metadata": {},
   "source": [
    "Queremos facer un código que garde nunha BBDD a Microsoft SQL Server a información dos expedientes de licitación do Concello da Coruña e nun directorio (no actual) as capturas de pantalla de cada expediente.\n",
    "\n",
    "Para montar o Microsoft SQL Server sigue a guía de: https://jfsanchez.es/docs/docker-5-mssql-server/\n",
    "\n",
    "Debes empregar selenium e a páxina: https://contrataciondelestado.es\n",
    "\n",
    "Debes navegar por ela coma se indica no documento.\n",
    "\n",
    "Por cada elemento (expediente), meterse nel e facer captura de pantalla (automáticamente, coa API de selenium).\n",
    "\n",
    "Entrega:\n",
    "\n",
    "O código nun jupyter notebook.\n",
    "A BBDD exportada de Microsoft SQL Server.\n",
    "Un zip coas capturas de pantalla que fixo selenium."
   ]
  },
  {
   "cell_type": "markdown",
   "metadata": {},
   "source": [
    "### ⬇️ Instalar librerias necesarias"
   ]
  },
  {
   "cell_type": "code",
   "execution_count": 22,
   "metadata": {},
   "outputs": [
    {
     "name": "stdout",
     "output_type": "stream",
     "text": [
      "Retrieving notices: ...working... done\n",
      "Channels:\n",
      " - defaults\n",
      " - conda-forge\n",
      "Platform: win-64\n",
      "Collecting package metadata (repodata.json): ...working... done\n",
      "Solving environment: ...working... done\n",
      "\n",
      "# All requested packages already installed.\n",
      "\n",
      "Channels:\n",
      " - conda-forge\n",
      " - defaults\n",
      "Platform: win-64\n",
      "Collecting package metadata (repodata.json): ...working... done\n",
      "Solving environment: ...working... done\n",
      "\n",
      "## Package Plan ##\n",
      "\n",
      "  environment location: C:\\Users\\ralph\\.conda\\envs\\IAbigdata\n",
      "\n",
      "  added / updated specs:\n",
      "    - selenium\n",
      "\n",
      "\n",
      "The following packages will be downloaded:\n",
      "\n",
      "    package                    |            build\n",
      "    ---------------------------|-----------------\n",
      "    selenium-4.31.0            |     pyh29332c3_0         310 KB  conda-forge\n",
      "    selenium-manager-4.31.0    |       ha073cba_0         1.9 MB  conda-forge\n",
      "    ------------------------------------------------------------\n",
      "                                           Total:         2.2 MB\n",
      "\n",
      "The following packages will be UPDATED:\n",
      "\n",
      "  selenium                              4.29.0-pyh29332c3_0 --> 4.31.0-pyh29332c3_0 \n",
      "  selenium-manager                        4.29.0-ha073cba_0 --> 4.31.0-ha073cba_0 \n",
      "\n",
      "The following packages will be SUPERSEDED by a higher-priority channel:\n",
      "\n",
      "  certifi            pkgs/main/win-64::certifi-2025.1.31-p~ --> conda-forge/noarch::certifi-2025.1.31-pyhd8ed1ab_0 \n",
      "\n",
      "\n",
      "\n",
      "Downloading and Extracting Packages: ...working... done\n",
      "Preparing transaction: ...working... done\n",
      "Verifying transaction: ...working... done\n",
      "Executing transaction: ...working... done\n",
      "Collecting webdriver_manager\n",
      "  Using cached webdriver_manager-4.0.2-py2.py3-none-any.whl.metadata (12 kB)\n",
      "Requirement already satisfied: requests in c:\\users\\ralph\\.conda\\envs\\iabigdata\\lib\\site-packages (from webdriver_manager) (2.32.3)\n",
      "Collecting python-dotenv (from webdriver_manager)\n",
      "  Downloading python_dotenv-1.1.0-py3-none-any.whl.metadata (24 kB)\n",
      "Requirement already satisfied: packaging in c:\\users\\ralph\\.conda\\envs\\iabigdata\\lib\\site-packages (from webdriver_manager) (24.2)\n",
      "Requirement already satisfied: charset_normalizer<4,>=2 in c:\\users\\ralph\\.conda\\envs\\iabigdata\\lib\\site-packages (from requests->webdriver_manager) (3.4.1)\n",
      "Requirement already satisfied: idna<4,>=2.5 in c:\\users\\ralph\\.conda\\envs\\iabigdata\\lib\\site-packages (from requests->webdriver_manager) (3.10)\n",
      "Requirement already satisfied: urllib3<3,>=1.21.1 in c:\\users\\ralph\\.conda\\envs\\iabigdata\\lib\\site-packages (from requests->webdriver_manager) (2.3.0)\n",
      "Requirement already satisfied: certifi>=2017.4.17 in c:\\users\\ralph\\.conda\\envs\\iabigdata\\lib\\site-packages (from requests->webdriver_manager) (2025.1.31)\n",
      "Using cached webdriver_manager-4.0.2-py2.py3-none-any.whl (27 kB)\n",
      "Downloading python_dotenv-1.1.0-py3-none-any.whl (20 kB)\n",
      "Installing collected packages: python-dotenv, webdriver_manager\n",
      "Successfully installed python-dotenv-1.1.0 webdriver_manager-4.0.2\n",
      "Channels:\n",
      " - defaults\n",
      " - conda-forge\n",
      "Platform: win-64\n",
      "Collecting package metadata (repodata.json): ...working... done\n",
      "Solving environment: ...working... done\n",
      "\n",
      "## Package Plan ##\n",
      "\n",
      "  environment location: C:\\Users\\ralph\\.conda\\envs\\IAbigdata\n",
      "\n",
      "  added / updated specs:\n",
      "    - pandas\n",
      "\n",
      "\n",
      "The following packages will be downloaded:\n",
      "\n",
      "    package                    |            build\n",
      "    ---------------------------|-----------------\n",
      "    bottleneck-1.4.2           |  py311h57dcf0c_0         146 KB\n",
      "    numexpr-2.10.1             |  py311h4cd664f_0         207 KB\n",
      "    pandas-2.2.3               |  py311h5da7b33_0        14.7 MB\n",
      "    ------------------------------------------------------------\n",
      "                                           Total:        15.0 MB\n",
      "\n",
      "The following NEW packages will be INSTALLED:\n",
      "\n",
      "  bottleneck         pkgs/main/win-64::bottleneck-1.4.2-py311h57dcf0c_0 \n",
      "  numexpr            pkgs/main/win-64::numexpr-2.10.1-py311h4cd664f_0 \n",
      "\n",
      "The following packages will be SUPERSEDED by a higher-priority channel:\n",
      "\n",
      "  certifi            conda-forge/noarch::certifi-2025.1.31~ --> pkgs/main/win-64::certifi-2025.1.31-py311haa95532_0 \n",
      "  pandas             conda-forge::pandas-2.2.3-py311hcf9f9~ --> pkgs/main::pandas-2.2.3-py311h5da7b33_0 \n",
      "\n",
      "\n",
      "\n",
      "Downloading and Extracting Packages: ...working... done\n",
      "Preparing transaction: ...working... done\n",
      "Verifying transaction: ...working... done\n",
      "Executing transaction: ...working... done\n",
      "Channels:\n",
      " - defaults\n",
      " - conda-forge\n",
      "Platform: win-64\n",
      "Collecting package metadata (repodata.json): ...working... done\n",
      "Solving environment: ...working... done\n",
      "\n",
      "# All requested packages already installed.\n",
      "\n"
     ]
    }
   ],
   "source": [
    "!conda install pip -y || true\n",
    "!conda install -c conda-forge selenium -y || true\n",
    "!pip install webdriver_manager || true\n",
    "!conda install pandas -y || true\n",
    "!conda install sqlalchemy -y || true"
   ]
  },
  {
   "cell_type": "markdown",
   "metadata": {},
   "source": [
    "### 🦎 Instalar GeckoDriver"
   ]
  },
  {
   "cell_type": "code",
   "execution_count": null,
   "metadata": {},
   "outputs": [],
   "source": [
    "from webdriver_manager.firefox import GeckoDriverManager\n",
    "GeckoDriverManager().install()"
   ]
  },
  {
   "cell_type": "markdown",
   "metadata": {},
   "source": [
    "### ⬇️ Imports necesarios."
   ]
  },
  {
   "cell_type": "code",
   "execution_count": 1,
   "metadata": {},
   "outputs": [],
   "source": [
    "from selenium import webdriver\n",
    "from selenium.webdriver.common.by import By\n",
    "from selenium import webdriver\n",
    "from selenium.webdriver.support.ui import WebDriverWait\n",
    "from selenium.webdriver.support import expected_conditions as EC\n",
    "import time\n",
    "import random\n",
    "import itertools\n",
    "from selenium.common.exceptions import NoSuchElementException\n",
    "import json\n",
    "from datetime import datetime\n",
    "from sqlalchemy import create_engine, text\n",
    "from sqlalchemy import insert\n",
    "import pyodbc\n",
    "import pandas as pd"
   ]
  },
  {
   "cell_type": "markdown",
   "metadata": {},
   "source": [
    "### ✏️ Definir Funciones"
   ]
  },
  {
   "cell_type": "code",
   "execution_count": null,
   "metadata": {},
   "outputs": [],
   "source": [
    "def select_opcion_portal(driver,link):\n",
    "    driver.find_element(By.XPATH, f\"//div/p/a[contains(@href,'{link}')]\").click()\n",
    "\n",
    "def click_opciones_busqueda(driver,opcion):\n",
    "    driver.find_element(By.XPATH, f\"//div/a/p/img[contains(@id,'{opcion}')]\").click()\n",
    "    \n",
    "def buscar_by_id(driver,id):\n",
    "    driver.find_element(By.ID,id).click()\n",
    "\n",
    "def buscar_elementos_lista(driver, elemento, n=None):\n",
    "    if n is not None:\n",
    "        driver.find_element(By.XPATH, f\"(//td[@class='tafelTreecanevas']/div[text()='A Coruña'])[{n}]\").click()\n",
    "    else:\n",
    "        driver.find_element(By.XPATH, f\"//td[@class='multiline'][following-sibling::td[2]/div[text()='{elemento}']]\").click()\n",
    "\n",
    "def select_combo_organo(driver,combo,valor):\n",
    "    driver.find_element(By.XPATH, f\"//select[contains(@id,'{combo}')]//option[@value='{valor}']\").click()\n",
    "\n",
    "def getDatos(driver, XPath):\n",
    "    # Buscar todos los elementos que coinciden con el XPath\n",
    "    elementos = driver.find_elements(By.XPATH, XPath)\n",
    "\n",
    "    dic = {}\n",
    "    for elemento in elementos:\n",
    "        # Dentro de cada elemento, buscar todos los elementos li\n",
    "        lista = elemento.find_elements(By.TAG_NAME, 'li')\n",
    "\n",
    "        if len(lista) > 1:\n",
    "            # Si hay al menos dos li:\n",
    "            # lista[0] es la clave \n",
    "            # lista[1] es el valor\n",
    "            dic[lista[0].text] = \" \".join(lista[1].text.split())\n",
    "        else:\n",
    "            # Si solo hay un li, es decir, no hay valor guarda el valor como None\n",
    "            dic[lista[0].text] = None\n",
    "\n",
    "    return dic \n",
    "\n",
    "def limpiar_datos_json(json_data):\n",
    "    datos_limpios = []\n",
    "\n",
    "    for elemento in json_data:\n",
    "        nuevo_elemento = {}\n",
    "\n",
    "        for key, valor in elemento.items():\n",
    "            # Quitar \":\" al final de las claves\n",
    "            clave_limpia = key.rstrip(\":\")\n",
    "\n",
    "            # Si el valor es \"Ver detalle de la adjudicación\", cambiarlo a None\n",
    "            if valor == \"Ver detalle de la adjudicación\":\n",
    "                nuevo_elemento[clave_limpia] = None\n",
    "\n",
    "            # Convertir valores vacíos a None\n",
    "            elif valor == \"\":\n",
    "                nuevo_elemento[clave_limpia] = None\n",
    "\n",
    "            # Convertir valores con Euros a float\n",
    "            elif isinstance(valor, str) and \"Euros\" in valor:\n",
    "                # Limpiar la cadena y convertir el valor a float\n",
    "                numeric_str = valor.replace(\"Euros\", \"\").replace(\".\", \"\").replace(\",\", \".\").strip()\n",
    "                try:\n",
    "                    nuevo_elemento[clave_limpia] = float(numeric_str)\n",
    "                except ValueError:\n",
    "                    nuevo_elemento[clave_limpia] = None\n",
    "\n",
    "            # Convertir \"ID del Órgano de Contratación\" a int\n",
    "            elif clave_limpia == \"ID del Órgano de Contratación\" and isinstance(valor, str) and valor.isdigit():\n",
    "                nuevo_elemento[clave_limpia] = int(valor)\n",
    "\n",
    "            else:\n",
    "                nuevo_elemento[clave_limpia] = valor\n",
    "\n",
    "        datos_limpios.append(nuevo_elemento)\n",
    "\n",
    "    return datos_limpios\n",
    "\n",
    "\n",
    "def obtenerLinks(driver,nombre_json,path_links,pagina_siguiente,n_paginas):\n",
    "    for i in range(1, n_paginas + 1): # iterar sobre las páginas\n",
    "        path_links = driver.find_elements(By.XPATH,path_links)\n",
    "\n",
    "        links.append([item.get_attribute(\"href\") for item in path_links if item.get_attribute(\"href\")]) # Obtener el atributo href de cada elemento \n",
    "\n",
    "        try: # pasar a la siguiente página\n",
    "            buscar_by_id(driver, pagina_siguiente)\n",
    "            time.sleep(0.1)  # test\n",
    "        except NoSuchElementException:\n",
    "            print(\"Última página.\")\n",
    "            break  \n",
    "\n",
    "    links = list(itertools.chain(*links))\n",
    "    with open(nombre_json, \"w\") as f:\n",
    "        json.dump(links, f, indent=4)\n",
    "\n",
    "def convertir_fecha(valor):\n",
    "    if valor:\n",
    "        try:\n",
    "            # Intentar convertir el valor a una fecha con el formato esperado\n",
    "            return datetime.strptime(valor, \"%d/%m/%Y %H:%M\")\n",
    "        except ValueError:\n",
    "            # Si no se puede convertir, retornar None (en lugar de texto no válido)\n",
    "            return None\n",
    "    return None  # Si el valor es vacío o nulo, retornamos None\n"
   ]
  },
  {
   "cell_type": "markdown",
   "metadata": {},
   "source": [
    "### Definir Variables"
   ]
  },
  {
   "cell_type": "code",
   "execution_count": 25,
   "metadata": {},
   "outputs": [],
   "source": [
    "\n",
    "URL = \"https://contrataciondelestado.es/wps/portal/plataforma\"\n",
    "\n",
    "lista_tree = ['ENTIDADES LOCALES','Galicia','A Coruña','Ayuntamientos','A Coruña']\n",
    "\n",
    "links = []\n",
    "\n",
    "publicaciones = '/wps/portal/licitaciones'\n",
    "\n",
    "licitaciones = 'viewns_Z7_AVEQAI930OBRD02JPMTPG21004_:form1:logoFormularioBusqueda'\n",
    "\n",
    "busqueda_avanzada = 'viewns_Z7_AVEQAI930OBRD02JPMTPG21004_:form1:textBusquedaAvanzada'\n",
    "\n",
    "organizacion_contrante = 'viewns_Z7_AVEQAI930OBRD02JPMTPG21004_:form1:idSeleccionarOCLink'\n",
    "\n",
    "opcion_combo = 'viewns_Z7_AVEQAI930OBRD02JPMTPG21004_:form1:comboNombreOrgano'\n",
    "\n",
    "valor_combo = '93655277'\n",
    "\n",
    "btn_añadir = 'viewns_Z7_AVEQAI930OBRD02JPMTPG21004_:form1:botonAnadirMostrarPopUpArbolEO'\n",
    "\n",
    "btn_buscar = 'viewns_Z7_AVEQAI930OBRD02JPMTPG21004_:form1:button1'\n",
    "\n",
    "total_pag = '//*[@id=\"viewns_Z7_AVEQAI930OBRD02JPMTPG21004_:form1:textfooterInfoTotalPaginaMAQ\"]'"
   ]
  },
  {
   "cell_type": "code",
   "execution_count": null,
   "metadata": {},
   "outputs": [
    {
     "name": "stdout",
     "output_type": "stream",
     "text": [
      "55\n",
      "Última página.\n"
     ]
    }
   ],
   "source": [
    "driver = webdriver.Firefox()\n",
    "\n",
    "driver.get(URL)\n",
    "\n",
    "\n",
    "select_opcion_portal(driver,publicaciones) # click en publicaciones\n",
    "\n",
    "click_opciones_busqueda(driver,licitaciones) # click en licitaciones\n",
    "\n",
    "buscar_by_id(driver,busqueda_avanzada) # click en busqueda avanzada\n",
    "\n",
    "buscar_by_id(driver,organizacion_contrante) # click en selecionar (organizacion contratante)\n",
    "\n",
    "\n",
    "for i, elemento in enumerate(lista_tree): # iterar sobre la lista para buscar los datos que queremos obtener\n",
    "    if i == len(lista_tree) - 1:\n",
    "        buscar_elementos_lista(driver, elemento, 2)\n",
    "    else:\n",
    "        buscar_elementos_lista(driver, elemento)\n",
    "\n",
    "\n",
    "\n",
    "select_combo_organo(driver,opcion_combo,valor_combo) # selecionar opcion combo organo\n",
    "\n",
    "buscar_by_id(driver,btn_añadir) # click en boton añadir\n",
    "buscar_by_id(driver,btn_buscar) # click en buscar\n",
    "\n",
    "time.sleep(0.2) # test\n",
    "\n",
    "n_paginas = int(driver.find_element(By.XPATH,total_pag).text)\n",
    "\n",
    "obtenerLinks(driver,'links.json',\"//table[contains(@id,'myTablaBusquedaCustom')]//a[2]\",'viewns_Z7_AVEQAI930OBRD02JPMTPG21004_:form1:footerSiguiente',n_paginas)\n",
    "\n",
    "\n",
    "driver.close()"
   ]
  },
  {
   "cell_type": "markdown",
   "metadata": {},
   "source": [
    "### 🔄️ Iterar sobre los links obtenidos y crear un json con los datos de cada página de licitaciones además de sacar capturas de cada página."
   ]
  },
  {
   "cell_type": "code",
   "execution_count": null,
   "metadata": {},
   "outputs": [],
   "source": [
    "driver = webdriver.Firefox()\n",
    "\n",
    "\n",
    "# Cargar los enlaces desde el archivo JSON\n",
    "with open(\"links.json\", \"r\") as f:\n",
    "    links = json.load(f)\n",
    "\n",
    "lista_jsons = []\n",
    "\n",
    "for i, link in enumerate(links):\n",
    "    driver.get(link)\n",
    "\n",
    "    WebDriverWait(driver, 10).until(EC.presence_of_element_located((By.TAG_NAME, \"body\")))\n",
    "\n",
    "    # Tomar captura de la página completa \n",
    "    screenshot = driver.get_full_page_screenshot_as_png() \n",
    "    with open(f'capturas/{i}.png', 'wb') as file:\n",
    "        file.write(screenshot)\n",
    "\n",
    "    # Obtener datos de cada página \n",
    "    datos =  getDatos(driver,\"//ul[@class='altoDetalleLicitacion']\")\n",
    "    datos.update(getDatos(driver,\"//ul[@class='ancho100 altoDetalleLicitacion']\"))\n",
    "    lista_jsons.append(datos)\n",
    "\n",
    "# Guardar los datos en un json\n",
    "with open(\"resultados.json\", \"w\", encoding=\"utf-8\") as f:\n",
    "    json.dump(lista_jsons, f, ensure_ascii=False, indent=4)\n",
    "\n",
    "driver.quit()"
   ]
  },
  {
   "cell_type": "markdown",
   "metadata": {},
   "source": [
    "### ⬇️ Cargar el json con los datos obtenidos."
   ]
  },
  {
   "cell_type": "code",
   "execution_count": 26,
   "metadata": {},
   "outputs": [],
   "source": [
    "with open(\"resultados.json\", \"r\") as f:\n",
    "    resultados = json.load(f)"
   ]
  },
  {
   "cell_type": "markdown",
   "metadata": {},
   "source": [
    "### ✅ Comprobar el tamaño del json para saber si hemos obtenido los datos correctamente."
   ]
  },
  {
   "cell_type": "code",
   "execution_count": 27,
   "metadata": {},
   "outputs": [
    {
     "name": "stdout",
     "output_type": "stream",
     "text": [
      "1082\n"
     ]
    }
   ],
   "source": [
    "print(len(resultados))"
   ]
  },
  {
   "cell_type": "markdown",
   "metadata": {},
   "source": [
    "### 🧹 Limpiar los datos para cambiar algunos formatos de los datos."
   ]
  },
  {
   "cell_type": "code",
   "execution_count": 28,
   "metadata": {},
   "outputs": [],
   "source": [
    "resultados = limpiar_datos_json(resultados)\n",
    "\n",
    "with open(\"resultados.json\", \"w\", encoding=\"utf-8\") as f:\n",
    "    json.dump(resultados, f, ensure_ascii=False, indent=4)"
   ]
  },
  {
   "cell_type": "markdown",
   "metadata": {},
   "source": [
    "### 📋 Datos de conexión"
   ]
  },
  {
   "cell_type": "code",
   "execution_count": 7,
   "metadata": {},
   "outputs": [],
   "source": [
    "db_host = \"10.133.28.46\" # ip cesga\n",
    "db_port=41433 # Puerto Microsoft SQL Server\n",
    "db_user = \"sa\" # Usuario Admin por defecto\n",
    "db_passwd=\"Abc12300\" # Contraseña \n",
    "db_name=\"licitaciones\" # Nombre de la BD"
   ]
  },
  {
   "cell_type": "markdown",
   "metadata": {},
   "source": [
    "### ✏️ Definición de la connectionString y creación del engine."
   ]
  },
  {
   "cell_type": "code",
   "execution_count": 8,
   "metadata": {},
   "outputs": [],
   "source": [
    "connectionString = f'mssql+pyodbc://{db_user}:{db_passwd}@{db_host}:{db_port}/{db_name}?driver=ODBC+Driver+18+for+SQL+Server&Encrypt=no'\n",
    "engine = create_engine(connectionString)"
   ]
  },
  {
   "cell_type": "markdown",
   "metadata": {},
   "source": [
    "#### Para poder hacer uso de nuestro engine tendremos que instalar la libreria para Microsft SQL Server y el driver de este mismo\n",
    "#### Librería: ```python !pip install pyodbc ```\n",
    "#### Driver: https://learn.microsoft.com/en-us/sql/connect/odbc/download-odbc-driver-for-sql-server?view=sql-server-ver16\n"
   ]
  },
  {
   "cell_type": "markdown",
   "metadata": {},
   "source": [
    "### ⛏️ Creacion de la tabla desde python"
   ]
  },
  {
   "cell_type": "markdown",
   "metadata": {},
   "source": [
    "\n",
    "```sql\n",
    "CREATE TABLE Licitaciones (\n",
    "    ID_Pub_TED VARCHAR(512) NULL,\n",
    "    Organo_Contratacion VARCHAR(512) NULL,\n",
    "    ID_Organo_Contratacion FLOAT NULL,\n",
    "    Estado_Licitacion VARCHAR(256) NULL,\n",
    "    Objeto_Contrato VARCHAR(256) NULL,\n",
    "    Financiacion_UE VARCHAR(256) NULL,\n",
    "    Presupuesto_Base_Licitacion_Sin_Impuestos FLOAT NULL,\n",
    "    Valor_Est_Contrato FLOAT NULL,\n",
    "    Tipo_Contrato VARCHAR(256) NULL,\n",
    "    Cod_CPV TEXT NULL,\n",
    "    Lugar_Ejecucion VARCHAR(256) NULL,\n",
    "    Sistema_Contratacion VARCHAR(256) NULL,\n",
    "    Procedimiento_Contratacion VARCHAR(256) NULL,\n",
    "    Tipo_Tramitacion VARCHAR(256) NULL,\n",
    "    Metodo_Presentacion_Oferta VARCHAR(256) NULL,\n",
    "    Fecha_Fin_Presentacion_Oferta DATETIME NULL,\n",
    "    Resultado VARCHAR(256) NULL,\n",
    "    Adjudicatario VARCHAR(256) NULL,\n",
    "    N_Licitadores_Presentados VARCHAR(256) NULL,\n",
    "    Importe_Adjudiacion FLOAT NULL,\n",
    "    Enlace_Licitacion VARCHAR(256) NULL,\n",
    "    Fecha_Fin_Presentacion_Solicitud DATETIME NULL\n",
    ");\n",
    "```"
   ]
  },
  {
   "cell_type": "code",
   "execution_count": 30,
   "metadata": {},
   "outputs": [],
   "source": [
    "create_table = \"CREATE TABLE Licitaciones (ID_Pub_TED VARCHAR(512) NULL,\" \\\n",
    "                                        \" Organo_Contratacion VARCHAR(512) NULL, ID_Organo_Contratacion FLOAT NULL,\" \\\n",
    "                                        \" Estado_Licitacion VARCHAR(256) NULL, \" \\\n",
    "                                        \"Objeto_Contrato TEXT NULL, \" \\\n",
    "                                        \"Financiacion_UE VARCHAR(256) NULL, \" \\\n",
    "                                        \"Presupuesto_Base_Licitacion_Sin_Impuestos FLOAT NULL, \" \\\n",
    "                                        \"Valor_Est_Contrato FLOAT NULL, \" \\\n",
    "                                        \"Tipo_Contrato VARCHAR(256) NULL, \" \\\n",
    "                                        \"Cod_CPV TEXT NULL, \" \\\n",
    "                                        \"Lugar_Ejecucion VARCHAR(256) NULL, \" \\\n",
    "                                        \"Sistema_Contratacion VARCHAR(256) NULL,\" \\\n",
    "                                        \" Procedimiento_Contratacion VARCHAR(256) NULL, \" \\\n",
    "                                        \"Tipo_Tramitacion VARCHAR(256) NULL,\" \\\n",
    "                                        \" Metodo_Presentacion_Oferta VARCHAR(256) NULL,\" \\\n",
    "                                        \"Fecha_Fin_Presentacion_Oferta DATETIME NULL, \" \\\n",
    "                                        \"Resultado VARCHAR(256) NULL,\" \\\n",
    "                                        \" Adjudicatario VARCHAR(256) NULL, \" \\\n",
    "                                        \"N_Licitadores_Presentados VARCHAR(256) NULL, \" \\\n",
    "                                        \"Importe_Adjudiacion VARCHAR(256) NULL, \" \\\n",
    "                                        \"Enlace_Licitacion VARCHAR(256) NULL, \" \\\n",
    "                                        \"Fecha_Fin_Presentacion_Solicitud DATETIME NULL);\"\n",
    "\n",
    "with engine.connect() as conn:\n",
    "    conn.execute(text(create_table))\n",
    "    conn.commit()\n",
    "\n",
    "\n"
   ]
  },
  {
   "cell_type": "markdown",
   "metadata": {},
   "source": [
    "### ✅ Comprobar que que la tabla se creado correctamente "
   ]
  },
  {
   "cell_type": "code",
   "execution_count": 17,
   "metadata": {},
   "outputs": [
    {
     "name": "stdout",
     "output_type": "stream",
     "text": [
      "Empty DataFrame\n",
      "Columns: [ID_Pub_TED, Organo_Contratacion, ID_Organo_Contratacion, Estado_Licitacion, Objeto_Contrato, Financiacion_UE, Presupuesto_Base_Licitacion_Sin_Impuestos, Valor_Est_Contrato, Tipo_Contrato, Cod_CPV, Lugar_Ejecucion, Sistema_Contratacion, Procedimiento_Contratacion, Tipo_Tramitacion, Metodo_Presentacion_Oferta, Fecha_Fin_Presentacion_Oferta, Resultado, Adjudicatario, N_Licitadores_Presentados, Importe_Adjudiacion, Enlace_Licitacion, Fecha_Fin_Presentacion_Solicitud]\n",
      "Index: []\n",
      "\n",
      "[0 rows x 22 columns]\n"
     ]
    }
   ],
   "source": [
    "selectSQL = \"SELECT * FROM licitaciones\"\n",
    "dfPanda = pd.read_sql(selectSQL, engine)\n",
    "print(dfPanda.head())"
   ]
  },
  {
   "cell_type": "markdown",
   "metadata": {},
   "source": [
    "### ⬇️ Insertar los datos del json a nuestra BD"
   ]
  },
  {
   "cell_type": "code",
   "execution_count": 31,
   "metadata": {},
   "outputs": [],
   "source": [
    "from sqlalchemy import text\n",
    "\n",
    "sql = text(\"\"\"\n",
    "    INSERT INTO Licitaciones (\n",
    "        ID_Pub_TED, Organo_Contratacion, ID_Organo_Contratacion, Estado_Licitacion, \n",
    "        Objeto_Contrato, Financiacion_UE, Presupuesto_Base_Licitacion_Sin_Impuestos, \n",
    "        Valor_Est_Contrato, Tipo_Contrato, Cod_CPV, Lugar_Ejecucion, Sistema_Contratacion, \n",
    "        Procedimiento_Contratacion, Tipo_Tramitacion, Metodo_Presentacion_Oferta, \n",
    "        Fecha_Fin_Presentacion_Oferta, Resultado, Adjudicatario, N_Licitadores_Presentados, \n",
    "        Importe_Adjudiacion, Enlace_Licitacion, Fecha_Fin_Presentacion_Solicitud\n",
    "    ) VALUES (\n",
    "        :ID_Pub_TED, :Organo_Contratacion, :ID_Organo_Contratacion, :Estado_Licitacion,\n",
    "        :Objeto_Contrato, :Financiacion_UE, :Presupuesto_Base_Licitacion_Sin_Impuestos,\n",
    "        :Valor_Est_Contrato, :Tipo_Contrato, :Cod_CPV, :Lugar_Ejecucion, :Sistema_Contratacion,\n",
    "        :Procedimiento_Contratacion, :Tipo_Tramitacion, :Metodo_Presentacion_Oferta,\n",
    "        :Fecha_Fin_Presentacion_Oferta, :Resultado, :Adjudicatario, :N_Licitadores_Presentados,\n",
    "        :Importe_Adjudiacion, :Enlace_Licitacion, :Fecha_Fin_Presentacion_Solicitud\n",
    "    )\n",
    "\"\"\")\n",
    "\n",
    "with engine.connect() as conn:\n",
    "    for licitacion in resultados:\n",
    "        data = {\n",
    "            'ID_Pub_TED': licitacion.get('ID de publicación en TED'),\n",
    "            'Organo_Contratacion': licitacion.get('Órgano de Contratación'),\n",
    "            'ID_Organo_Contratacion': licitacion.get('ID del Órgano de Contratación'),\n",
    "            'Estado_Licitacion': licitacion.get('Estado de la Licitación'),\n",
    "            'Objeto_Contrato': licitacion.get('Objeto del contrato'),\n",
    "            'Financiacion_UE': licitacion.get('Financiación UE'),\n",
    "            'Presupuesto_Base_Licitacion_Sin_Impuestos': licitacion.get('Presupuesto base de licitación sin impuestos'),\n",
    "            'Valor_Est_Contrato': licitacion.get('Valor estimado del contrato'),\n",
    "            'Tipo_Contrato': licitacion.get('Tipo de Contrato'),\n",
    "            'Cod_CPV': licitacion.get('Código CPV'),\n",
    "            'Lugar_Ejecucion': licitacion.get('Lugar de Ejecución'),\n",
    "            'Sistema_Contratacion': licitacion.get('Sistema de contratación'),\n",
    "            'Procedimiento_Contratacion': licitacion.get('Procedimiento de contratación'),\n",
    "            'Tipo_Tramitacion': licitacion.get('Tipo de tramitación'),\n",
    "            'Metodo_Presentacion_Oferta': licitacion.get('Método de presentación de la oferta'),\n",
    "            'Fecha_Fin_Presentacion_Oferta': convertir_fecha(licitacion.get('Fecha fin de presentación de oferta')),\n",
    "            'Resultado': licitacion.get('Resultado'),\n",
    "            'Adjudicatario': licitacion.get('Adjudicatario'),\n",
    "            'N_Licitadores_Presentados': licitacion.get('Nº de Licitadores Presentados'),\n",
    "            'Importe_Adjudiacion': licitacion.get('Importe de Adjudicación'),\n",
    "            'Enlace_Licitacion': licitacion.get('Enlace a la licitación'),\n",
    "            'Fecha_Fin_Presentacion_Solicitud': convertir_fecha(licitacion.get('Fecha fin de presentación de solicitud'))\n",
    "        }\n",
    "\n",
    "        conn.execute(sql, data)\n",
    "    conn.commit()\n"
   ]
  },
  {
   "cell_type": "markdown",
   "metadata": {},
   "source": [
    "# Poner WebDriverWait en todos lados "
   ]
  }
 ],
 "metadata": {
  "kernelspec": {
   "display_name": "IAbigdata",
   "language": "python",
   "name": "python3"
  },
  "language_info": {
   "codemirror_mode": {
    "name": "ipython",
    "version": 3
   },
   "file_extension": ".py",
   "mimetype": "text/x-python",
   "name": "python",
   "nbconvert_exporter": "python",
   "pygments_lexer": "ipython3",
   "version": "3.11.11"
  }
 },
 "nbformat": 4,
 "nbformat_minor": 2
}
