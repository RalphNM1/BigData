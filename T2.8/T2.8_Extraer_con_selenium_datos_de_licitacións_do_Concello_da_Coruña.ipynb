{
 "cells": [
  {
   "cell_type": "markdown",
   "metadata": {},
   "source": [
    "# T2.8 Extraer con selenium datos de licitacións do Concello da Coruña\n",
    "## Ralphy Núñez Mercado"
   ]
  },
  {
   "cell_type": "markdown",
   "metadata": {},
   "source": [
    "Queremos facer un código que garde nunha BBDD a Microsoft SQL Server a información dos expedientes de licitación do Concello da Coruña e nun directorio (no actual) as capturas de pantalla de cada expediente.\n",
    "\n",
    "Para montar o Microsoft SQL Server sigue a guía de: https://jfsanchez.es/docs/docker-5-mssql-server/\n",
    "\n",
    "Debes empregar selenium e a páxina: https://contrataciondelestado.es\n",
    "\n",
    "Debes navegar por ela coma se indica no documento.\n",
    "\n",
    "Por cada elemento (expediente), meterse nel e facer captura de pantalla (automáticamente, coa API de selenium).\n",
    "\n",
    "Entrega:\n",
    "\n",
    "O código nun jupyter notebook.\n",
    "A BBDD exportada de Microsoft SQL Server.\n",
    "Un zip coas capturas de pantalla que fixo selenium."
   ]
  },
  {
   "cell_type": "markdown",
   "metadata": {},
   "source": [
    "### ⬇️ Imports "
   ]
  },
  {
   "cell_type": "code",
   "execution_count": 11,
   "metadata": {},
   "outputs": [],
   "source": [
    "from selenium import webdriver\n",
    "from selenium.webdriver.common.by import By\n",
    "from selenium import webdriver\n",
    "from selenium.webdriver.support.ui import WebDriverWait\n",
    "from selenium.webdriver.support import expected_conditions as EC\n",
    "import time\n",
    "import random\n",
    "import itertools\n",
    "from selenium.common.exceptions import NoSuchElementException\n",
    "import json\n",
    "from sqlalchemy import create_engine, text\n",
    "from sqlalchemy import insert"
   ]
  },
  {
   "cell_type": "markdown",
   "metadata": {},
   "source": [
    "### Definir Funciones"
   ]
  },
  {
   "cell_type": "code",
   "execution_count": 8,
   "metadata": {},
   "outputs": [],
   "source": [
    "def waitFinishLoad(driver):\n",
    "    WebDriverWait(driver, 10).until(EC.presence_of_element_located((By.ID, \"page-loader\")))\n",
    "    WebDriverWait(driver, 10).until(EC.invisibility_of_element((By.ID, \"page-loader\")))\n",
    "    alea=random.choice([0.5, 0.1, 0.2, 0.3, 0.4, 0.6])\n",
    "    time.sleep(alea)\n",
    "\n",
    "def clickSelectByPartialText(auxText, driver):\n",
    "    waitFinishLoad(driver)\n",
    "    driver.find_element_by_xpath(\"//select//option[contains(., '\"+auxText+\"')]\").click()\n",
    "    waitFinishLoad(driver)\n",
    "\n",
    "def getCurrentPage(driver):\n",
    "    print()\n",
    "\n",
    "def getLastPage(driver):\n",
    "    print()\n",
    "\n",
    "def isThisLastPage(driver):\n",
    "    if (getLastPage(driver) == getCurrentPage(driver)):\n",
    "        return True\n",
    "    return False\n",
    "\n",
    "def goNextPage(driver,DOMINIO):\n",
    "    driver.find_element(by=By.ID, value=\"id_domain\").send_keys(DOMINIO)\n",
    "\n",
    "    elem = driver.find_element(By.ID, \"loginBtn\")\n",
    "    elem.click()\n",
    "\n",
    "def clickByPartialText(auxText, driver):\n",
    "    waitFinishLoad(driver)\n",
    "    elem = driver.find_element_by_partial_link_text(auxText)\n",
    "    elem.click()\n",
    "    waitFinishLoad(driver)\n",
    "    \n",
    "\n",
    "### HECHAS POR MI\n",
    "def select_opcion_portal(driver,link):\n",
    "    driver.find_element(By.XPATH, f\"//div/p/a[contains(@href,'{link}')]\").click()\n",
    "\n",
    "def click_opciones_busqueda(driver,opcion):\n",
    "    driver.find_element(By.XPATH, f\"//div/a/p/img[contains(@id,'{opcion}')]\").click()\n",
    "    \n",
    "def buscar_by_id(driver,id):\n",
    "    driver.find_element(By.ID,id).click()\n",
    "\n",
    "def buscar_elementos_lista(driver, elemento, n=None):\n",
    "    if n is not None:\n",
    "        driver.find_element(By.XPATH, f\"(//td[@class='tafelTreecanevas']/div[text()='A Coruña'])[{n}]\").click()\n",
    "    else:\n",
    "        driver.find_element(By.XPATH, f\"//td[@class='multiline'][following-sibling::td[2]/div[text()='{elemento}']]\").click()\n",
    "\n",
    "def select_combo_organo(driver,combo,valor):\n",
    "    driver.find_element(By.XPATH, f\"//select[contains(@id,'{combo}')]//option[@value='{valor}']\").click()\n",
    "\n",
    "def getDatos(driver,XPath):\n",
    "    elementos = driver.find_elements(By.XPATH,XPath)\n",
    "\n",
    "    dic = {}\n",
    "\n",
    "    for elemento in elementos:\n",
    "        lista = elemento.find_elements(By.TAG_NAME,'li')\n",
    "\n",
    "        if(len(lista) > 1):\n",
    "            dic[lista[0].text] = \" \".join(lista[1].text.split())\n",
    "        else: \n",
    "            dic[lista[0].text] = None\n",
    "    return dic\n"
   ]
  },
  {
   "cell_type": "markdown",
   "metadata": {},
   "source": [
    "### Definir Variables"
   ]
  },
  {
   "cell_type": "code",
   "execution_count": 4,
   "metadata": {},
   "outputs": [],
   "source": [
    "\n",
    "URL = \"https://contrataciondelestado.es/wps/portal/plataforma\"\n",
    "\n",
    "lista_tree = ['ENTIDADES LOCALES','Galicia','A Coruña','Ayuntamientos','A Coruña']\n",
    "\n",
    "links = []"
   ]
  },
  {
   "cell_type": "code",
   "execution_count": 11,
   "metadata": {},
   "outputs": [
    {
     "name": "stdout",
     "output_type": "stream",
     "text": [
      "55\n",
      "Última página.\n"
     ]
    }
   ],
   "source": [
    "driver = webdriver.Firefox()\n",
    "\n",
    "driver.get(URL)\n",
    "\n",
    "select_opcion_portal(driver,'/wps/portal/licitaciones') # click en publicaciones\n",
    "\n",
    "click_opciones_busqueda(driver,'viewns_Z7_AVEQAI930OBRD02JPMTPG21004_:form1:logoFormularioBusqueda') # click en licitaciones\n",
    "\n",
    "buscar_by_id(driver,'viewns_Z7_AVEQAI930OBRD02JPMTPG21004_:form1:textBusquedaAvanzada') # click en busqueda avanzada\n",
    "\n",
    "buscar_by_id(driver,'viewns_Z7_AVEQAI930OBRD02JPMTPG21004_:form1:idSeleccionarOCLink') # click en selecionar (organizacion contratante)\n",
    "\n",
    "time.sleep(2) # test\n",
    "\n",
    "for i, elemento in enumerate(lista_tree): # iterar sobre la lista para buscar los datos que queremos obtener\n",
    "    if i == len(lista_tree) - 1:\n",
    "        buscar_elementos_lista(driver, elemento, 2)\n",
    "    else:\n",
    "        buscar_elementos_lista(driver, elemento)\n",
    "\n",
    "    time.sleep(0.5) # test\n",
    "\n",
    "\n",
    "select_combo_organo(driver,'viewns_Z7_AVEQAI930OBRD02JPMTPG21004_:form1:comboNombreOrgano','93655277') # selecionar opcion combo organo\n",
    "\n",
    "buscar_by_id(driver,'viewns_Z7_AVEQAI930OBRD02JPMTPG21004_:form1:botonAnadirMostrarPopUpArbolEO') # click en boton añadir\n",
    "buscar_by_id(driver,'viewns_Z7_AVEQAI930OBRD02JPMTPG21004_:form1:button1') # click en buscar\n",
    "\n",
    "time.sleep(0.2) # test\n",
    "n_paginas = int(driver.find_element(By.XPATH,'//*[@id=\"viewns_Z7_AVEQAI930OBRD02JPMTPG21004_:form1:textfooterInfoTotalPaginaMAQ\"]').text)\n",
    "\n",
    "print(n_paginas)\n",
    "for i in range(1, n_paginas + 1):\n",
    "    path_links = driver.find_elements(By.XPATH,\"//table[contains(@id,'myTablaBusquedaCustom')]//a[2]\")\n",
    "\n",
    "    links.append([item.get_attribute(\"href\") for item in path_links if item.get_attribute(\"href\")])\n",
    "\n",
    "    try:\n",
    "        buscar_by_id(driver, 'viewns_Z7_AVEQAI930OBRD02JPMTPG21004_:form1:footerSiguiente')\n",
    "        time.sleep(0.1)  # test\n",
    "    except NoSuchElementException:\n",
    "        print(\"Última página.\")\n",
    "        break  \n",
    "\n",
    "links = list(itertools.chain(*links))\n",
    "with open(\"links.json\", \"w\") as f:\n",
    "    json.dump(links, f, indent=4)\n",
    "\n",
    "# driver.close()"
   ]
  },
  {
   "cell_type": "markdown",
   "metadata": {},
   "source": []
  },
  {
   "cell_type": "code",
   "execution_count": null,
   "metadata": {},
   "outputs": [],
   "source": [
    "driver = webdriver.Firefox()\n",
    "\n",
    "\n",
    "# Cargar los enlaces desde el archivo JSON\n",
    "with open(\"links.json\", \"r\") as f:\n",
    "    links = json.load(f)\n",
    "\n",
    "lista_jsons = []\n",
    "\n",
    "for i, link in enumerate(links):\n",
    "    driver.get(link)\n",
    "\n",
    "    # WebDriverWait(driver, 10).until(EC.presence_of_element_located((By.TAG_NAME, \"body\")))\n",
    "\n",
    "    # screenshot = driver.get_full_page_screenshot_as_png()\n",
    "    # with open(f'capturas/{i}.png', 'wb') as file:\n",
    "    #     file.write(screenshot)\n",
    "    datos =  getDatos(driver,\"//ul[@class='altoDetalleLicitacion']\")\n",
    "    datos.update(getDatos(driver,\"//ul[@class='ancho100 altoDetalleLicitacion']\"))\n",
    "    lista_jsons.append(datos)\n",
    "\n",
    "with open(\"resultados.json\", \"w\", encoding=\"utf-8\") as f:\n",
    "    json.dump(lista_jsons, f, ensure_ascii=False, indent=4)\n",
    "# driver.quit()\n",
    "\n",
    "\n"
   ]
  },
  {
   "cell_type": "markdown",
   "metadata": {},
   "source": []
  },
  {
   "cell_type": "code",
   "execution_count": null,
   "metadata": {},
   "outputs": [
    {
     "name": "stdout",
     "output_type": "stream",
     "text": [
      "1082\n"
     ]
    }
   ],
   "source": [
    "with open(\"resultados.json\", \"r\") as f:\n",
    "    resultados = json.load(f)\n",
    "\n",
    "print(len(resultados))\n"
   ]
  },
  {
   "cell_type": "code",
   "execution_count": null,
   "metadata": {},
   "outputs": [],
   "source": [
    "#Datos de conexión\n",
    "db_host = \"10.133.28.46\" # ip cesga\n",
    "db_port=5432 \n",
    "db_user = \"postgres\"\n",
    "db_passwd=\"Cl431Ns3gur4\"\n",
    "db_name=\"rickymorty\""
   ]
  },
  {
   "cell_type": "code",
   "execution_count": null,
   "metadata": {},
   "outputs": [],
   "source": []
  },
  {
   "cell_type": "code",
   "execution_count": null,
   "metadata": {},
   "outputs": [],
   "source": [
    "with engine.connect() as conn:\n",
    "    for episodio in json_episodios:\n",
    "        id = episodio['id']\n",
    "        name = episodio['name'].replace(\"'\",\"\")\n",
    "        air_date = episodio['air_date']\n",
    "        episode = episodio['episode']\n",
    "        characters = episodio['characters']\n",
    "        url = episodio['url']\n",
    "        created = episodio['created']\n",
    "        \n",
    "        sql = f\"\"\"\n",
    "            INSERT INTO episodio ( id, name, air_date, episode, characters, url, created) \n",
    "            VALUES ({id}, '{name}', '{air_date}', '{episode}', array{str(characters)}, '{url}', '{created}')\n",
    "        \"\"\"\n",
    "\n",
    "        conn.execute(text(sql))\n",
    "    conn.commit()"
   ]
  },
  {
   "cell_type": "markdown",
   "metadata": {},
   "source": [
    "#### TODO\n",
    "substituir los   \n",
    "    ``` time.sleep ```   \n",
    "por    \n",
    "    ```WebDriverWait(driver, 10).until(EC.visibility_of_element_located((By.XPATH, \"//select[contains(@id,'viewns_Z7_AVEQAI930OBRD02JPMTPG21004_:form1:comboNombreOrgano')]\"))) ```\n",
    "\n",
    "- poner varibables para las funciones\n",
    "\n",
    "- obtener enlaces\n",
    "\n",
    "- obtener informacion de los enlaces"
   ]
  }
 ],
 "metadata": {
  "kernelspec": {
   "display_name": "bigdata",
   "language": "python",
   "name": "python3"
  },
  "language_info": {
   "codemirror_mode": {
    "name": "ipython",
    "version": 3
   },
   "file_extension": ".py",
   "mimetype": "text/x-python",
   "name": "python",
   "nbconvert_exporter": "python",
   "pygments_lexer": "ipython3",
   "version": "3.12.3"
  }
 },
 "nbformat": 4,
 "nbformat_minor": 2
}
