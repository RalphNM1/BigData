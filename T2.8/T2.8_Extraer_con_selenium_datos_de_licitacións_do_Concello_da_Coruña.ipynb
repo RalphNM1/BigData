{
 "cells": [
  {
   "cell_type": "markdown",
   "metadata": {},
   "source": [
    "# T2.8 Extraer con selenium datos de licitacións do Concello da Coruña\n",
    "## Ralphy Núñez Mercado"
   ]
  },
  {
   "cell_type": "markdown",
   "metadata": {},
   "source": [
    "Queremos facer un código que garde nunha BBDD a Microsoft SQL Server a información dos expedientes de licitación do Concello da Coruña e nun directorio (no actual) as capturas de pantalla de cada expediente.\n",
    "\n",
    "Para montar o Microsoft SQL Server sigue a guía de: https://jfsanchez.es/docs/docker-5-mssql-server/\n",
    "\n",
    "Debes empregar selenium e a páxina: https://contrataciondelestado.es\n",
    "\n",
    "Debes navegar por ela coma se indica no documento.\n",
    "\n",
    "Por cada elemento (expediente), meterse nel e facer captura de pantalla (automáticamente, coa API de selenium).\n",
    "\n",
    "Entrega:\n",
    "\n",
    "O código nun jupyter notebook.\n",
    "A BBDD exportada de Microsoft SQL Server.\n",
    "Un zip coas capturas de pantalla que fixo selenium."
   ]
  },
  {
   "cell_type": "markdown",
   "metadata": {},
   "source": [
    "### ⬇️ Imports "
   ]
  },
  {
   "cell_type": "code",
   "execution_count": null,
   "metadata": {},
   "outputs": [],
   "source": [
    "import argparse\n",
    "from enum import Enum\n",
    "import sys\n",
    "from selenium import webdriver\n",
    "from selenium.webdriver.common.by import By\n",
    "from selenium import webdriver\n",
    "from selenium.webdriver.common.keys import Keys\n",
    "from selenium.webdriver.support.ui import WebDriverWait\n",
    "from selenium.webdriver.support import expected_conditions as EC\n",
    "from selenium.webdriver.support.select import Select\n",
    "import time\n",
    "import random\n",
    "import json\n",
    "import itertools"
   ]
  },
  {
   "cell_type": "markdown",
   "metadata": {},
   "source": [
    "### Definir Funciones"
   ]
  },
  {
   "cell_type": "code",
   "execution_count": 21,
   "metadata": {},
   "outputs": [],
   "source": [
    "def waitFinishLoad(driver):\n",
    "    WebDriverWait(driver, 10).until(EC.presence_of_element_located((By.ID, \"page-loader\")))\n",
    "    WebDriverWait(driver, 10).until(EC.invisibility_of_element((By.ID, \"page-loader\")))\n",
    "    alea=random.choice([0.5, 0.1, 0.2, 0.3, 0.4, 0.6])\n",
    "    time.sleep(alea)\n",
    "\n",
    "def clickSelectByPartialText(auxText, driver):\n",
    "    waitFinishLoad(driver)\n",
    "    driver.find_element_by_xpath(\"//select//option[contains(., '\"+auxText+\"')]\").click()\n",
    "    waitFinishLoad(driver)\n",
    "\n",
    "def getCurrentPage(driver):\n",
    "    print()\n",
    "\n",
    "def getLastPage(driver):\n",
    "    print()\n",
    "\n",
    "def isThisLastPage(driver):\n",
    "    if (getLastPage(driver) == getCurrentPage(driver)):\n",
    "        return True\n",
    "    return False\n",
    "\n",
    "def goNextPage(driver,DOMINIO):\n",
    "    driver.find_element(by=By.ID, value=\"id_domain\").send_keys(DOMINIO)\n",
    "\n",
    "    elem = driver.find_element(By.ID, \"loginBtn\")\n",
    "    elem.click()\n",
    "\n",
    "def clickByPartialText(auxText, driver):\n",
    "    waitFinishLoad(driver)\n",
    "    elem = driver.find_element_by_partial_link_text(auxText)\n",
    "    elem.click()\n",
    "    waitFinishLoad(driver)\n",
    "    \n",
    "\n",
    "### HECHAS POR MI\n",
    "def select_opcion_portal(driver,link):\n",
    "    driver.find_element(By.XPATH, f\"//div/p/a[contains(@href,'{link}')]\").click()\n",
    "\n",
    "def click_opciones_busqueda(driver,opcion):\n",
    "    driver.find_element(By.XPATH, f\"//div/a/p/img[contains(@id,'{opcion}')]\").click()\n",
    "    \n",
    "def buscar_by_id(driver,id):\n",
    "    driver.find_element(By.ID,id).click()\n",
    "\n",
    "def buscar_elementos_lista(driver, elemento, n=None):\n",
    "    if n is not None:\n",
    "        driver.find_element(By.XPATH, f\"(//td[@class='tafelTreecanevas']/div[text()='A Coruña'])[{n}]\").click()\n",
    "    else:\n",
    "        driver.find_element(By.XPATH, f\"//td[@class='multiline'][following-sibling::td[2]/div[text()='{elemento}']]\").click()\n",
    "\n",
    "def select_combo_organo(driver,combo,valor):\n",
    "    driver.find_element(By.XPATH, f\"//select[contains(@id,'{combo}')]//option[@value='{valor}']\").click()"
   ]
  },
  {
   "cell_type": "markdown",
   "metadata": {},
   "source": [
    "### Definir Variables"
   ]
  },
  {
   "cell_type": "code",
   "execution_count": 22,
   "metadata": {},
   "outputs": [],
   "source": [
    "\n",
    "URL = \"https://contrataciondelestado.es/wps/portal/plataforma\"\n",
    "\n",
    "lista_tree = ['ENTIDADES LOCALES','Galicia','A Coruña','Ayuntamientos','A Coruña']\n",
    "\n",
    "links = []"
   ]
  },
  {
   "cell_type": "code",
   "execution_count": 23,
   "metadata": {},
   "outputs": [
    {
     "ename": "NoSuchElementException",
     "evalue": "Message: Unable to locate element: (//td[@class='tafelTreecanevas']/div[text()='A Coruña'])[2]; For documentation on this error, please visit: https://www.selenium.dev/documentation/webdriver/troubleshooting/errors#no-such-element-exception\nStacktrace:\nRemoteError@chrome://remote/content/shared/RemoteError.sys.mjs:8:8\nWebDriverError@chrome://remote/content/shared/webdriver/Errors.sys.mjs:197:5\nNoSuchElementError@chrome://remote/content/shared/webdriver/Errors.sys.mjs:527:5\ndom.find/</<@chrome://remote/content/shared/DOM.sys.mjs:136:16\n",
     "output_type": "error",
     "traceback": [
      "\u001b[31m---------------------------------------------------------------------------\u001b[39m",
      "\u001b[31mNoSuchElementException\u001b[39m                    Traceback (most recent call last)",
      "\u001b[36mCell\u001b[39m\u001b[36m \u001b[39m\u001b[32mIn[23]\u001b[39m\u001b[32m, line 17\u001b[39m\n\u001b[32m     15\u001b[39m \u001b[38;5;28;01mfor\u001b[39;00m i, elemento \u001b[38;5;129;01min\u001b[39;00m \u001b[38;5;28menumerate\u001b[39m(lista_tree): \u001b[38;5;66;03m# iterar sobre la lista para buscar los datos que queremos obtener\u001b[39;00m\n\u001b[32m     16\u001b[39m     \u001b[38;5;28;01mif\u001b[39;00m i == \u001b[38;5;28mlen\u001b[39m(lista_tree) - \u001b[32m1\u001b[39m:\n\u001b[32m---> \u001b[39m\u001b[32m17\u001b[39m         \u001b[43mbuscar_elementos_lista\u001b[49m\u001b[43m(\u001b[49m\u001b[43mdriver\u001b[49m\u001b[43m,\u001b[49m\u001b[43m \u001b[49m\u001b[43melemento\u001b[49m\u001b[43m,\u001b[49m\u001b[43m \u001b[49m\u001b[32;43m2\u001b[39;49m\u001b[43m)\u001b[49m\n\u001b[32m     18\u001b[39m     \u001b[38;5;28;01melse\u001b[39;00m:\n\u001b[32m     19\u001b[39m         buscar_elementos_lista(driver, elemento)\n",
      "\u001b[36mCell\u001b[39m\u001b[36m \u001b[39m\u001b[32mIn[21]\u001b[39m\u001b[32m, line 48\u001b[39m, in \u001b[36mbuscar_elementos_lista\u001b[39m\u001b[34m(driver, elemento, n)\u001b[39m\n\u001b[32m     46\u001b[39m \u001b[38;5;28;01mdef\u001b[39;00m\u001b[38;5;250m \u001b[39m\u001b[34mbuscar_elementos_lista\u001b[39m(driver, elemento, n=\u001b[38;5;28;01mNone\u001b[39;00m):\n\u001b[32m     47\u001b[39m     \u001b[38;5;28;01mif\u001b[39;00m n \u001b[38;5;129;01mis\u001b[39;00m \u001b[38;5;129;01mnot\u001b[39;00m \u001b[38;5;28;01mNone\u001b[39;00m:\n\u001b[32m---> \u001b[39m\u001b[32m48\u001b[39m         \u001b[43mdriver\u001b[49m\u001b[43m.\u001b[49m\u001b[43mfind_element\u001b[49m\u001b[43m(\u001b[49m\u001b[43mBy\u001b[49m\u001b[43m.\u001b[49m\u001b[43mXPATH\u001b[49m\u001b[43m,\u001b[49m\u001b[43m \u001b[49m\u001b[33;43mf\u001b[39;49m\u001b[33;43m\"\u001b[39;49m\u001b[33;43m(//td[@class=\u001b[39;49m\u001b[33;43m'\u001b[39;49m\u001b[33;43mtafelTreecanevas\u001b[39;49m\u001b[33;43m'\u001b[39;49m\u001b[33;43m]/div[text()=\u001b[39;49m\u001b[33;43m'\u001b[39;49m\u001b[33;43mA Coruña\u001b[39;49m\u001b[33;43m'\u001b[39;49m\u001b[33;43m])[\u001b[39;49m\u001b[38;5;132;43;01m{\u001b[39;49;00m\u001b[43mn\u001b[49m\u001b[38;5;132;43;01m}\u001b[39;49;00m\u001b[33;43m]\u001b[39;49m\u001b[33;43m\"\u001b[39;49m\u001b[43m)\u001b[49m.click()\n\u001b[32m     49\u001b[39m     \u001b[38;5;28;01melse\u001b[39;00m:\n\u001b[32m     50\u001b[39m         driver.find_element(By.XPATH, \u001b[33mf\u001b[39m\u001b[33m\"\u001b[39m\u001b[33m//td[@class=\u001b[39m\u001b[33m'\u001b[39m\u001b[33mmultiline\u001b[39m\u001b[33m'\u001b[39m\u001b[33m][following-sibling::td[2]/div[text()=\u001b[39m\u001b[33m'\u001b[39m\u001b[38;5;132;01m{\u001b[39;00melemento\u001b[38;5;132;01m}\u001b[39;00m\u001b[33m'\u001b[39m\u001b[33m]]\u001b[39m\u001b[33m\"\u001b[39m).click()\n",
      "\u001b[36mFile \u001b[39m\u001b[32mc:\\Users\\ralph\\.conda\\envs\\IAbigdata\\Lib\\site-packages\\selenium\\webdriver\\remote\\webdriver.py:898\u001b[39m, in \u001b[36mWebDriver.find_element\u001b[39m\u001b[34m(self, by, value)\u001b[39m\n\u001b[32m    895\u001b[39m         \u001b[38;5;28;01mraise\u001b[39;00m NoSuchElementException(\u001b[33mf\u001b[39m\u001b[33m\"\u001b[39m\u001b[33mCannot locate relative element with: \u001b[39m\u001b[38;5;132;01m{\u001b[39;00mby.root\u001b[38;5;132;01m}\u001b[39;00m\u001b[33m\"\u001b[39m)\n\u001b[32m    896\u001b[39m     \u001b[38;5;28;01mreturn\u001b[39;00m elements[\u001b[32m0\u001b[39m]\n\u001b[32m--> \u001b[39m\u001b[32m898\u001b[39m \u001b[38;5;28;01mreturn\u001b[39;00m \u001b[38;5;28;43mself\u001b[39;49m\u001b[43m.\u001b[49m\u001b[43mexecute\u001b[49m\u001b[43m(\u001b[49m\u001b[43mCommand\u001b[49m\u001b[43m.\u001b[49m\u001b[43mFIND_ELEMENT\u001b[49m\u001b[43m,\u001b[49m\u001b[43m \u001b[49m\u001b[43m{\u001b[49m\u001b[33;43m\"\u001b[39;49m\u001b[33;43musing\u001b[39;49m\u001b[33;43m\"\u001b[39;49m\u001b[43m:\u001b[49m\u001b[43m \u001b[49m\u001b[43mby\u001b[49m\u001b[43m,\u001b[49m\u001b[43m \u001b[49m\u001b[33;43m\"\u001b[39;49m\u001b[33;43mvalue\u001b[39;49m\u001b[33;43m\"\u001b[39;49m\u001b[43m:\u001b[49m\u001b[43m \u001b[49m\u001b[43mvalue\u001b[49m\u001b[43m}\u001b[49m\u001b[43m)\u001b[49m[\u001b[33m\"\u001b[39m\u001b[33mvalue\u001b[39m\u001b[33m\"\u001b[39m]\n",
      "\u001b[36mFile \u001b[39m\u001b[32mc:\\Users\\ralph\\.conda\\envs\\IAbigdata\\Lib\\site-packages\\selenium\\webdriver\\remote\\webdriver.py:429\u001b[39m, in \u001b[36mWebDriver.execute\u001b[39m\u001b[34m(self, driver_command, params)\u001b[39m\n\u001b[32m    427\u001b[39m response = \u001b[38;5;28mself\u001b[39m.command_executor.execute(driver_command, params)\n\u001b[32m    428\u001b[39m \u001b[38;5;28;01mif\u001b[39;00m response:\n\u001b[32m--> \u001b[39m\u001b[32m429\u001b[39m     \u001b[38;5;28;43mself\u001b[39;49m\u001b[43m.\u001b[49m\u001b[43merror_handler\u001b[49m\u001b[43m.\u001b[49m\u001b[43mcheck_response\u001b[49m\u001b[43m(\u001b[49m\u001b[43mresponse\u001b[49m\u001b[43m)\u001b[49m\n\u001b[32m    430\u001b[39m     response[\u001b[33m\"\u001b[39m\u001b[33mvalue\u001b[39m\u001b[33m\"\u001b[39m] = \u001b[38;5;28mself\u001b[39m._unwrap_value(response.get(\u001b[33m\"\u001b[39m\u001b[33mvalue\u001b[39m\u001b[33m\"\u001b[39m, \u001b[38;5;28;01mNone\u001b[39;00m))\n\u001b[32m    431\u001b[39m     \u001b[38;5;28;01mreturn\u001b[39;00m response\n",
      "\u001b[36mFile \u001b[39m\u001b[32mc:\\Users\\ralph\\.conda\\envs\\IAbigdata\\Lib\\site-packages\\selenium\\webdriver\\remote\\errorhandler.py:232\u001b[39m, in \u001b[36mErrorHandler.check_response\u001b[39m\u001b[34m(self, response)\u001b[39m\n\u001b[32m    230\u001b[39m         alert_text = value[\u001b[33m\"\u001b[39m\u001b[33malert\u001b[39m\u001b[33m\"\u001b[39m].get(\u001b[33m\"\u001b[39m\u001b[33mtext\u001b[39m\u001b[33m\"\u001b[39m)\n\u001b[32m    231\u001b[39m     \u001b[38;5;28;01mraise\u001b[39;00m exception_class(message, screen, stacktrace, alert_text)  \u001b[38;5;66;03m# type: ignore[call-arg]  # mypy is not smart enough here\u001b[39;00m\n\u001b[32m--> \u001b[39m\u001b[32m232\u001b[39m \u001b[38;5;28;01mraise\u001b[39;00m exception_class(message, screen, stacktrace)\n",
      "\u001b[31mNoSuchElementException\u001b[39m: Message: Unable to locate element: (//td[@class='tafelTreecanevas']/div[text()='A Coruña'])[2]; For documentation on this error, please visit: https://www.selenium.dev/documentation/webdriver/troubleshooting/errors#no-such-element-exception\nStacktrace:\nRemoteError@chrome://remote/content/shared/RemoteError.sys.mjs:8:8\nWebDriverError@chrome://remote/content/shared/webdriver/Errors.sys.mjs:197:5\nNoSuchElementError@chrome://remote/content/shared/webdriver/Errors.sys.mjs:527:5\ndom.find/</<@chrome://remote/content/shared/DOM.sys.mjs:136:16\n"
     ]
    }
   ],
   "source": [
    "driver = webdriver.Firefox()\n",
    "\n",
    "driver.get(URL)\n",
    "\n",
    "select_opcion_portal(driver,'/wps/portal/licitaciones') # click en publicaciones\n",
    "\n",
    "click_opciones_busqueda(driver,'viewns_Z7_AVEQAI930OBRD02JPMTPG21004_:form1:logoFormularioBusqueda') # click en licitaciones\n",
    "\n",
    "buscar_by_id(driver,'viewns_Z7_AVEQAI930OBRD02JPMTPG21004_:form1:textBusquedaAvanzada') # click en busqueda avanzada\n",
    "\n",
    "buscar_by_id(driver,'viewns_Z7_AVEQAI930OBRD02JPMTPG21004_:form1:idSeleccionarOCLink') # click en selecionar (organizacion contratante)\n",
    "\n",
    "time.sleep(2) # test\n",
    "\n",
    "for i, elemento in enumerate(lista_tree): # iterar sobre la lista para buscar los datos que queremos obtener\n",
    "    if i == len(lista_tree) - 1:\n",
    "        buscar_elementos_lista(driver, elemento, 2)\n",
    "    else:\n",
    "        buscar_elementos_lista(driver, elemento)\n",
    "\n",
    "    time.sleep(0.5) # test\n",
    "\n",
    "\n",
    "select_combo_organo(driver,'viewns_Z7_AVEQAI930OBRD02JPMTPG21004_:form1:comboNombreOrgano','93655277') # selecionar opcion combo organo\n",
    "\n",
    "buscar_by_id(driver,'viewns_Z7_AVEQAI930OBRD02JPMTPG21004_:form1:botonAnadirMostrarPopUpArbolEO') # click en boton añadir\n",
    "buscar_by_id(driver,'viewns_Z7_AVEQAI930OBRD02JPMTPG21004_:form1:button1') # click en buscar\n",
    "\n",
    "time.sleep(0.2) # test\n",
    "n_paginas = driver.find_element(By.XPATH,'//*[@id=\"viewns_Z7_AVEQAI930OBRD02JPMTPG21004_:form1:textfooterInfoTotalPaginaMAQ\"]').text\n",
    "\n",
    "for i in range(int(n_paginas)-1):\n",
    "    print(i)\n",
    "    path_links = driver.find_elements(By.XPATH,\"//table[contains(@id,'myTablaBusquedaCustom')]//a[2]\")\n",
    "\n",
    "    links.append([item.get_attribute(\"href\") for item in path_links if item.get_attribute(\"href\")])\n",
    "    \n",
    "    buscar_by_id(driver,'viewns_Z7_AVEQAI930OBRD02JPMTPG21004_:form1:footerSiguiente')\n",
    "    time.sleep(0.2) # test\n",
    "\n",
    "\n",
    "links = list(itertools.chain(*links))\n",
    "\n",
    "json.dumps(links)\n",
    "\n",
    "# driver.close()"
   ]
  },
  {
   "cell_type": "markdown",
   "metadata": {},
   "source": []
  },
  {
   "cell_type": "code",
   "execution_count": null,
   "metadata": {},
   "outputs": [],
   "source": []
  },
  {
   "cell_type": "markdown",
   "metadata": {},
   "source": [
    "#### TODO\n",
    "substituir los   \n",
    "    ``` time.sleep ```   \n",
    "por    \n",
    "    ```WebDriverWait(driver, 10).until(EC.visibility_of_element_located((By.XPATH, \"//select[contains(@id,'viewns_Z7_AVEQAI930OBRD02JPMTPG21004_:form1:comboNombreOrgano')]\"))) ```\n",
    "\n",
    "- poner varibables para las funciones\n",
    "\n",
    "- obtener enlaces\n",
    "\n",
    "- obtener informacion de los enlaces"
   ]
  }
 ],
 "metadata": {
  "kernelspec": {
   "display_name": "bigdata",
   "language": "python",
   "name": "python3"
  },
  "language_info": {
   "codemirror_mode": {
    "name": "ipython",
    "version": 3
   },
   "file_extension": ".py",
   "mimetype": "text/x-python",
   "name": "python",
   "nbconvert_exporter": "python",
   "pygments_lexer": "ipython3",
   "version": "3.12.3"
  }
 },
 "nbformat": 4,
 "nbformat_minor": 2
}
