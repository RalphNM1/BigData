{
 "cells": [
  {
   "cell_type": "markdown",
   "metadata": {},
   "source": [
    "# T2.2: PANDAS. Ler excels de alcaldes\n",
    "\n"
   ]
  },
  {
   "cell_type": "markdown",
   "metadata": {},
   "source": [
    "<p>Instalación de paquetes necesarios</p>"
   ]
  },
  {
   "cell_type": "code",
   "execution_count": null,
   "metadata": {},
   "outputs": [],
   "source": [
    "%conda install pandas # o  %pip install pandas\n",
    "%conda install datetime #o %pip install datetime\n",
    "%conda install unidecode # o %pip install unidecode"
   ]
  },
  {
   "cell_type": "markdown",
   "metadata": {},
   "source": [
    "<p>Importar librerías</p>"
   ]
  },
  {
   "cell_type": "code",
   "execution_count": 19,
   "metadata": {},
   "outputs": [],
   "source": [
    "import pandas as pd\n",
    "from datetime import datetime\n",
    "from unidecode import unidecode"
   ]
  },
  {
   "cell_type": "markdown",
   "metadata": {},
   "source": [
    "Normalización del data frame"
   ]
  },
  {
   "cell_type": "code",
   "execution_count": null,
   "metadata": {},
   "outputs": [],
   "source": [
    "excel_entero = pd.read_excel(\"Alcades_1979_2023.xlsx\", na_values='\\\\N', sheet_name=None)\n",
    "\n",
    "\n",
    "def limpiar(df): \n",
    "    df = df.dropna(axis=1, how='all') # Quitar valores NaN\n",
    "    df = df.drop([0,1,2,3,4,5,6]) # Quitar columnas innecesarias\n",
    "    df = df.drop(['Unnamed: 13'], axis=1) # Quitar columna vacía\n",
    "    df.rename(columns={'Unnamed: 3': 'COMUNIDAD AUTONOMA', 'Unnamed: 4': 'PROVINCIA', 'Unnamed: 5': 'MUNICIPIO', 'Unnamed: 6': 'CODIGO INE', 'Unnamed: 7': 'NOMBRE', 'Unnamed: 8': 'LISTA', 'Unnamed: 9': 'FECHA POSESION', 'Unnamed: 10': 'FECHA BAJA'}, inplace=True) # Renombrar header\n",
    "    df = df.map(lambda s: unidecode(s.lower()) if isinstance(s, str) else s) # Quitar acentos y convertirlo a minuscula\n",
    "\n",
    "    for fecha_col in ['FECHA POSESION', 'FECHA BAJA']: # Cambiar formato de la fecha \n",
    "        if fecha_col in df.columns:\n",
    "            df[fecha_col] = pd.to_datetime(df[fecha_col], errors='coerce',dayfirst=True).dt.strftime('%d/%m/%Y') \n",
    "\n",
    "\n",
    "    return df \n",
    "\n",
    "excel_entero_df = pd.concat([limpiar(excel_entero['Alcaldes 1979-1983']),limpiar(excel_entero['Alcaldes 1983-1987']),limpiar(excel_entero['Alcaldes 1987-1991']),limpiar(excel_entero['Alcaldes 1991-1995']),limpiar(excel_entero['Alcaldes 1995-1999']),limpiar(excel_entero['Alcaldes 1999-2003']),limpiar(excel_entero['Alcaldes 2003-2007']),limpiar(excel_entero['Alcaldes 2007-2011']),limpiar(excel_entero['Alcaldes 2011-2015']),limpiar(excel_entero['Alcaldes 2015-2019']),limpiar(excel_entero['Alcaldes 2019-2023'])])\n",
    "\n",
    "\n",
    "excel_entero_df.head(50)\n",
    "\n",
    "\n"
   ]
  },
  {
   "cell_type": "markdown",
   "metadata": {},
   "source": [
    "### Fai algunhas averiguacións sobre os datos:\n",
    "\n",
    "<p>1. Saber qué alcaldes repetiron mandato e en qué lexislaturas (ollo, poden mudar un pouco os nomes).</p>"
   ]
  },
  {
   "cell_type": "code",
   "execution_count": null,
   "metadata": {},
   "outputs": [],
   "source": []
  },
  {
   "cell_type": "markdown",
   "metadata": {},
   "source": [
    "<p>2. De repetir mandato. Qué partidos políticos tiveron máis éxito? Qué alcaldes mudaron de partido?</p>"
   ]
  },
  {
   "cell_type": "code",
   "execution_count": null,
   "metadata": {},
   "outputs": [],
   "source": []
  },
  {
   "cell_type": "markdown",
   "metadata": {},
   "source": [
    "<p>3. Cantos alcaldes cesaron antes de tempo?</p>"
   ]
  },
  {
   "cell_type": "code",
   "execution_count": null,
   "metadata": {},
   "outputs": [],
   "source": []
  },
  {
   "cell_type": "markdown",
   "metadata": {},
   "source": [
    "<p>4. Cal é o soldo máis alto e de que alcaldes?</p>"
   ]
  },
  {
   "cell_type": "code",
   "execution_count": null,
   "metadata": {},
   "outputs": [],
   "source": []
  },
  {
   "cell_type": "markdown",
   "metadata": {},
   "source": [
    "<p>5. Relaciona os soldos altos e baixos coa \"probabilidade\" de repetir mandato.</p>"
   ]
  },
  {
   "cell_type": "code",
   "execution_count": null,
   "metadata": {},
   "outputs": [],
   "source": []
  },
  {
   "cell_type": "markdown",
   "metadata": {},
   "source": [
    "<p>6. Outra información interesante.</p>\n"
   ]
  },
  {
   "cell_type": "code",
   "execution_count": null,
   "metadata": {},
   "outputs": [],
   "source": []
  }
 ],
 "metadata": {
  "kernelspec": {
   "display_name": "bigdata",
   "language": "python",
   "name": "python3"
  },
  "language_info": {
   "codemirror_mode": {
    "name": "ipython",
    "version": 3
   },
   "file_extension": ".py",
   "mimetype": "text/x-python",
   "name": "python",
   "nbconvert_exporter": "python",
   "pygments_lexer": "ipython3",
   "version": "3.12.3"
  }
 },
 "nbformat": 4,
 "nbformat_minor": 2
}
