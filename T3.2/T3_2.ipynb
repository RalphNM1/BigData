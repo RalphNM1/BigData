{
 "cells": [
  {
   "cell_type": "markdown",
   "metadata": {},
   "source": [
    "# T3.2 Analizar e visualizar estatísticas de datos baixados de MongoDB\n",
    "## Ralphy Núñez Mercado\n",
    "## Conexión a MongoDB dende Python e análise de datos"
   ]
  },
  {
   "cell_type": "markdown",
   "metadata": {},
   "source": [
    "En Atlas mete o dataset de exemplo na túa base de datos.\n",
    "\n",
    "Engade o enderezo IP autorizado a conectar para que poidas conectar á base de datos.\n",
    "\n",
    "Proba a conectar dende compass coa URL de conexión que che da.\n",
    "\n",
    "Da BBDD de proba: sample_mfix, na colección movies: https://www.mongodb.com/docs/atlas/sample-data/sample-mflix/"
   ]
  },
  {
   "cell_type": "markdown",
   "metadata": {},
   "source": [
    "Conecta a Atlas dende Python, carga a colección en Pandas. Averigua o modo máis adecuado."
   ]
  },
  {
   "cell_type": "code",
   "execution_count": 1,
   "metadata": {},
   "outputs": [],
   "source": [
    "# %conda install -y pymongo dnspython\n",
    "from pymongo import MongoClient\n",
    "import json\n",
    "import pandas as pd\n",
    "\n",
    "#HOST=\"(...).mongodb.net\"\n",
    "HOST=\"cluster0.6ej71.mongodb.net\"\n",
    "PORT=27017\n",
    "USERNAME=\"ralphynm1000\"\n",
    "PASSWORD=\"hola1234\"\n",
    "\n",
    "if HOST == 'localhost':\n",
    "    if not USERNAME:\n",
    "        cli_mongo = MongoClient(HOST, PORT)\n",
    "    else:\n",
    "        cli_mongo = MongoClient(HOST, PORT, USERNAME, PASSWORD)\n",
    "else:\n",
    "    cli_mongo = MongoClient(f\"mongodb+srv://{USERNAME}:{PASSWORD}@{HOST}/\")\n",
    "\n",
    "db_sample_mflix = cli_mongo['sample_mflix']\n",
    "movies = db_sample_mflix['movies']\n"
   ]
  },
  {
   "cell_type": "markdown",
   "metadata": {},
   "source": [
    "A) Contar o total de películas.\n"
   ]
  },
  {
   "cell_type": "code",
   "execution_count": 2,
   "metadata": {},
   "outputs": [
    {
     "data": {
      "text/plain": [
       "21349"
      ]
     },
     "execution_count": 2,
     "metadata": {},
     "output_type": "execute_result"
    }
   ],
   "source": [
    "movies.estimated_document_count({})"
   ]
  },
  {
   "cell_type": "markdown",
   "metadata": {},
   "source": [
    "B) Contar o número de películas de cada xénero."
   ]
  },
  {
   "cell_type": "code",
   "execution_count": null,
   "metadata": {},
   "outputs": [
    {
     "data": {
      "text/html": [
       "<div>\n",
       "<style scoped>\n",
       "    .dataframe tbody tr th:only-of-type {\n",
       "        vertical-align: middle;\n",
       "    }\n",
       "\n",
       "    .dataframe tbody tr th {\n",
       "        vertical-align: top;\n",
       "    }\n",
       "\n",
       "    .dataframe thead th {\n",
       "        text-align: right;\n",
       "    }\n",
       "</style>\n",
       "<table border=\"1\" class=\"dataframe\">\n",
       "  <thead>\n",
       "    <tr style=\"text-align: right;\">\n",
       "      <th></th>\n",
       "      <th>Género</th>\n",
       "      <th>Cantidad</th>\n",
       "    </tr>\n",
       "  </thead>\n",
       "  <tbody>\n",
       "    <tr>\n",
       "      <th>0</th>\n",
       "      <td>Action</td>\n",
       "      <td>2381</td>\n",
       "    </tr>\n",
       "    <tr>\n",
       "      <th>1</th>\n",
       "      <td>Adventure</td>\n",
       "      <td>1900</td>\n",
       "    </tr>\n",
       "    <tr>\n",
       "      <th>2</th>\n",
       "      <td>Animation</td>\n",
       "      <td>912</td>\n",
       "    </tr>\n",
       "    <tr>\n",
       "      <th>3</th>\n",
       "      <td>Biography</td>\n",
       "      <td>1269</td>\n",
       "    </tr>\n",
       "    <tr>\n",
       "      <th>4</th>\n",
       "      <td>Comedy</td>\n",
       "      <td>6532</td>\n",
       "    </tr>\n",
       "    <tr>\n",
       "      <th>5</th>\n",
       "      <td>Crime</td>\n",
       "      <td>2457</td>\n",
       "    </tr>\n",
       "    <tr>\n",
       "      <th>6</th>\n",
       "      <td>Documentary</td>\n",
       "      <td>1834</td>\n",
       "    </tr>\n",
       "    <tr>\n",
       "      <th>7</th>\n",
       "      <td>Drama</td>\n",
       "      <td>12385</td>\n",
       "    </tr>\n",
       "    <tr>\n",
       "      <th>8</th>\n",
       "      <td>Family</td>\n",
       "      <td>1249</td>\n",
       "    </tr>\n",
       "    <tr>\n",
       "      <th>9</th>\n",
       "      <td>Fantasy</td>\n",
       "      <td>1055</td>\n",
       "    </tr>\n",
       "    <tr>\n",
       "      <th>10</th>\n",
       "      <td>Film-Noir</td>\n",
       "      <td>77</td>\n",
       "    </tr>\n",
       "    <tr>\n",
       "      <th>11</th>\n",
       "      <td>History</td>\n",
       "      <td>874</td>\n",
       "    </tr>\n",
       "    <tr>\n",
       "      <th>12</th>\n",
       "      <td>Horror</td>\n",
       "      <td>1470</td>\n",
       "    </tr>\n",
       "    <tr>\n",
       "      <th>13</th>\n",
       "      <td>Music</td>\n",
       "      <td>780</td>\n",
       "    </tr>\n",
       "    <tr>\n",
       "      <th>14</th>\n",
       "      <td>Musical</td>\n",
       "      <td>440</td>\n",
       "    </tr>\n",
       "    <tr>\n",
       "      <th>15</th>\n",
       "      <td>Mystery</td>\n",
       "      <td>1139</td>\n",
       "    </tr>\n",
       "    <tr>\n",
       "      <th>16</th>\n",
       "      <td>News</td>\n",
       "      <td>44</td>\n",
       "    </tr>\n",
       "    <tr>\n",
       "      <th>17</th>\n",
       "      <td>Romance</td>\n",
       "      <td>3318</td>\n",
       "    </tr>\n",
       "    <tr>\n",
       "      <th>18</th>\n",
       "      <td>Sci-Fi</td>\n",
       "      <td>958</td>\n",
       "    </tr>\n",
       "    <tr>\n",
       "      <th>19</th>\n",
       "      <td>Short</td>\n",
       "      <td>442</td>\n",
       "    </tr>\n",
       "    <tr>\n",
       "      <th>20</th>\n",
       "      <td>Sport</td>\n",
       "      <td>366</td>\n",
       "    </tr>\n",
       "    <tr>\n",
       "      <th>21</th>\n",
       "      <td>Talk-Show</td>\n",
       "      <td>1</td>\n",
       "    </tr>\n",
       "    <tr>\n",
       "      <th>22</th>\n",
       "      <td>Thriller</td>\n",
       "      <td>2454</td>\n",
       "    </tr>\n",
       "    <tr>\n",
       "      <th>23</th>\n",
       "      <td>War</td>\n",
       "      <td>699</td>\n",
       "    </tr>\n",
       "    <tr>\n",
       "      <th>24</th>\n",
       "      <td>Western</td>\n",
       "      <td>242</td>\n",
       "    </tr>\n",
       "  </tbody>\n",
       "</table>\n",
       "</div>"
      ],
      "text/plain": [
       "         Género  Cantidad\n",
       "0        Action      2381\n",
       "1     Adventure      1900\n",
       "2     Animation       912\n",
       "3     Biography      1269\n",
       "4        Comedy      6532\n",
       "5         Crime      2457\n",
       "6   Documentary      1834\n",
       "7         Drama     12385\n",
       "8        Family      1249\n",
       "9       Fantasy      1055\n",
       "10    Film-Noir        77\n",
       "11      History       874\n",
       "12       Horror      1470\n",
       "13        Music       780\n",
       "14      Musical       440\n",
       "15      Mystery      1139\n",
       "16         News        44\n",
       "17      Romance      3318\n",
       "18       Sci-Fi       958\n",
       "19        Short       442\n",
       "20        Sport       366\n",
       "21    Talk-Show         1\n",
       "22     Thriller      2454\n",
       "23          War       699\n",
       "24      Western       242"
      ]
     },
     "execution_count": 6,
     "metadata": {},
     "output_type": "execute_result"
    }
   ],
   "source": [
    "generos = movies.distinct('genres')\n",
    "\n",
    "data = {}\n",
    "for i in generos:\n",
    "    data[i] = movies.count_documents({\"genres\": i})\n",
    "\n",
    "# convertir diccionario en dataFrame\n",
    "df = pd.DataFrame(list(data.items()), columns=['Género', 'Cantidad'])\n",
    "\n",
    "df"
   ]
  },
  {
   "cell_type": "markdown",
   "metadata": {},
   "source": [
    "C) Contar cantas películas hai por ano."
   ]
  },
  {
   "cell_type": "code",
   "execution_count": null,
   "metadata": {},
   "outputs": [],
   "source": [
    "años = movies.distinct('released')\n",
    "\n",
    "data = {}\n",
    "for i in años:\n",
    "    data[i.year] = movies.count_documents({\"released\": i.year})\n",
    "\n",
    "df = pd.DataFrame(list(data.items()), columns=['Año', 'Peliculas'])\n",
    "\n",
    "df"
   ]
  },
  {
   "cell_type": "markdown",
   "metadata": {},
   "source": [
    "D) Mirar se hai correlación entre imdb e rotten tomatoes."
   ]
  },
  {
   "cell_type": "code",
   "execution_count": null,
   "metadata": {},
   "outputs": [],
   "source": []
  },
  {
   "cell_type": "markdown",
   "metadata": {},
   "source": [
    "E) Contar cantas películas ten cada director"
   ]
  },
  {
   "cell_type": "code",
   "execution_count": null,
   "metadata": {},
   "outputs": [],
   "source": [
    "generos = movies.distinct('directors')\n",
    "\n",
    "data = {}\n",
    "for i in generos:\n",
    "    data[i] = movies.count_documents({\"directors\": i})\n",
    "\n",
    "df = pd.DataFrame(list(data.items()), columns=['Director', 'Cantidad'])\n",
    "\n",
    "df"
   ]
  },
  {
   "cell_type": "markdown",
   "metadata": {},
   "source": [
    "F) Contar en cantas películas ten participado cada actor"
   ]
  },
  {
   "cell_type": "code",
   "execution_count": null,
   "metadata": {},
   "outputs": [],
   "source": [
    "actores = movies.distinct('cast')\n",
    "\n",
    "data = {}\n",
    "for i in actores:\n",
    "    data[i] = movies.count_documents({\"cast\": i})\n",
    "\n",
    "df = pd.DataFrame(list(data.items()), columns=['Actor', 'Peliculas'])\n",
    "\n",
    "df"
   ]
  },
  {
   "cell_type": "markdown",
   "metadata": {},
   "source": [
    "G) Contar cantas películas hai de cada idioma"
   ]
  },
  {
   "cell_type": "code",
   "execution_count": null,
   "metadata": {},
   "outputs": [],
   "source": [
    "idioma = movies.distinct('languages')\n",
    "\n",
    "data = {}\n",
    "for i in idioma:\n",
    "    data[i] = movies.count_documents({\"languages\": i})\n",
    "\n",
    "df = pd.DataFrame(list(data.items()), columns=['Idioma', 'Peliculas'])\n",
    "\n",
    "df"
   ]
  },
  {
   "cell_type": "markdown",
   "metadata": {},
   "source": [
    "H) Cal é a media de premios das películas"
   ]
  },
  {
   "cell_type": "code",
   "execution_count": null,
   "metadata": {},
   "outputs": [
    {
     "name": "stdout",
     "output_type": "stream",
     "text": [
      "None\n"
     ]
    }
   ],
   "source": []
  },
  {
   "cell_type": "markdown",
   "metadata": {},
   "source": [
    "J) Amosar as películas que teñen alomenos 3 premios"
   ]
  },
  {
   "cell_type": "code",
   "execution_count": null,
   "metadata": {},
   "outputs": [],
   "source": []
  },
  {
   "cell_type": "markdown",
   "metadata": {},
   "source": [
    "K) Contar as películas por país"
   ]
  },
  {
   "cell_type": "code",
   "execution_count": 10,
   "metadata": {},
   "outputs": [
    {
     "data": {
      "text/html": [
       "<div>\n",
       "<style scoped>\n",
       "    .dataframe tbody tr th:only-of-type {\n",
       "        vertical-align: middle;\n",
       "    }\n",
       "\n",
       "    .dataframe tbody tr th {\n",
       "        vertical-align: top;\n",
       "    }\n",
       "\n",
       "    .dataframe thead th {\n",
       "        text-align: right;\n",
       "    }\n",
       "</style>\n",
       "<table border=\"1\" class=\"dataframe\">\n",
       "  <thead>\n",
       "    <tr style=\"text-align: right;\">\n",
       "      <th></th>\n",
       "      <th>País</th>\n",
       "      <th>Peliculas</th>\n",
       "    </tr>\n",
       "  </thead>\n",
       "  <tbody>\n",
       "    <tr>\n",
       "      <th>0</th>\n",
       "      <td>Afghanistan</td>\n",
       "      <td>8</td>\n",
       "    </tr>\n",
       "    <tr>\n",
       "      <th>1</th>\n",
       "      <td>Albania</td>\n",
       "      <td>3</td>\n",
       "    </tr>\n",
       "    <tr>\n",
       "      <th>2</th>\n",
       "      <td>Algeria</td>\n",
       "      <td>13</td>\n",
       "    </tr>\n",
       "    <tr>\n",
       "      <th>3</th>\n",
       "      <td>Angola</td>\n",
       "      <td>3</td>\n",
       "    </tr>\n",
       "    <tr>\n",
       "      <th>4</th>\n",
       "      <td>Argentina</td>\n",
       "      <td>195</td>\n",
       "    </tr>\n",
       "    <tr>\n",
       "      <th>...</th>\n",
       "      <td>...</td>\n",
       "      <td>...</td>\n",
       "    </tr>\n",
       "    <tr>\n",
       "      <th>153</th>\n",
       "      <td>Vietnam</td>\n",
       "      <td>9</td>\n",
       "    </tr>\n",
       "    <tr>\n",
       "      <th>154</th>\n",
       "      <td>West Germany</td>\n",
       "      <td>246</td>\n",
       "    </tr>\n",
       "    <tr>\n",
       "      <th>155</th>\n",
       "      <td>Yugoslavia</td>\n",
       "      <td>47</td>\n",
       "    </tr>\n",
       "    <tr>\n",
       "      <th>156</th>\n",
       "      <td>Zaire</td>\n",
       "      <td>1</td>\n",
       "    </tr>\n",
       "    <tr>\n",
       "      <th>157</th>\n",
       "      <td>Zimbabwe</td>\n",
       "      <td>1</td>\n",
       "    </tr>\n",
       "  </tbody>\n",
       "</table>\n",
       "<p>158 rows × 2 columns</p>\n",
       "</div>"
      ],
      "text/plain": [
       "             País  Peliculas\n",
       "0     Afghanistan          8\n",
       "1         Albania          3\n",
       "2         Algeria         13\n",
       "3          Angola          3\n",
       "4       Argentina        195\n",
       "..            ...        ...\n",
       "153       Vietnam          9\n",
       "154  West Germany        246\n",
       "155    Yugoslavia         47\n",
       "156         Zaire          1\n",
       "157      Zimbabwe          1\n",
       "\n",
       "[158 rows x 2 columns]"
      ]
     },
     "execution_count": 10,
     "metadata": {},
     "output_type": "execute_result"
    }
   ],
   "source": [
    "pais = movies.distinct('countries')\n",
    "\n",
    "data = {}\n",
    "for i in pais:\n",
    "    data[i] = movies.count_documents({\"countries\": i})\n",
    "\n",
    "df = pd.DataFrame(list(data.items()), columns=['País', 'Peliculas'])\n",
    "\n",
    "df"
   ]
  }
 ],
 "metadata": {
  "kernelspec": {
   "display_name": "IAbigdata",
   "language": "python",
   "name": "python3"
  },
  "language_info": {
   "codemirror_mode": {
    "name": "ipython",
    "version": 3
   },
   "file_extension": ".py",
   "mimetype": "text/x-python",
   "name": "python",
   "nbconvert_exporter": "python",
   "pygments_lexer": "ipython3",
   "version": "3.11.11"
  }
 },
 "nbformat": 4,
 "nbformat_minor": 2
}
