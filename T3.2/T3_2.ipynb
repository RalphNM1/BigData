{
 "cells": [
  {
   "cell_type": "markdown",
   "metadata": {},
   "source": [
    "# T3.2 Analizar e visualizar estatísticas de datos baixados de MongoDB\n",
    "## Ralphy Núñez Mercado\n",
    "## Conexión a MongoDB dende Python e análise de datos"
   ]
  },
  {
   "cell_type": "markdown",
   "metadata": {},
   "source": [
    "En Atlas mete o dataset de exemplo na túa base de datos.\n",
    "\n",
    "Engade o enderezo IP autorizado a conectar para que poidas conectar á base de datos.\n",
    "\n",
    "Proba a conectar dende compass coa URL de conexión que che da.\n",
    "\n",
    "Da BBDD de proba: sample_mfix, na colección movies: https://www.mongodb.com/docs/atlas/sample-data/sample-mflix/"
   ]
  },
  {
   "cell_type": "markdown",
   "metadata": {},
   "source": [
    "Conecta a Atlas dende Python, carga a colección en Pandas. Averigua o modo máis adecuado."
   ]
  },
  {
   "cell_type": "code",
   "execution_count": 26,
   "metadata": {},
   "outputs": [],
   "source": [
    "# %conda install -y pymongo dnspython\n",
    "from pymongo import MongoClient\n",
    "import json\n",
    "import pandas as pd\n",
    "\n",
    "#HOST=\"(...).mongodb.net\"\n",
    "HOST=\"cluster0.6ej71.mongodb.net\"\n",
    "PORT=27017\n",
    "USERNAME=\"ralphynm1000\"\n",
    "PASSWORD=\"hola1234\"\n",
    "\n",
    "if HOST == 'localhost':\n",
    "    if not USERNAME:\n",
    "        cli_mongo = MongoClient(HOST, PORT)\n",
    "    else:\n",
    "        cli_mongo = MongoClient(HOST, PORT, USERNAME, PASSWORD)\n",
    "else:\n",
    "    cli_mongo = MongoClient(f\"mongodb+srv://{USERNAME}:{PASSWORD}@{HOST}/\")\n",
    "\n",
    "db_sample_mflix = cli_mongo['sample_mflix']\n",
    "movies = db_sample_mflix['movies']\n"
   ]
  },
  {
   "cell_type": "markdown",
   "metadata": {},
   "source": [
    "A) Contar o total de películas.\n"
   ]
  },
  {
   "cell_type": "code",
   "execution_count": 27,
   "metadata": {},
   "outputs": [
    {
     "data": {
      "text/plain": [
       "21349"
      ]
     },
     "execution_count": 27,
     "metadata": {},
     "output_type": "execute_result"
    }
   ],
   "source": [
    "movies.estimated_document_count({})"
   ]
  },
  {
   "cell_type": "markdown",
   "metadata": {},
   "source": [
    "B) Contar o número de películas de cada xénero."
   ]
  },
  {
   "cell_type": "code",
   "execution_count": 48,
   "metadata": {},
   "outputs": [
    {
     "ename": "TypeError",
     "evalue": "cannot convert dictionary update sequence element #0 to a sequence",
     "output_type": "error",
     "traceback": [
      "\u001b[1;31m---------------------------------------------------------------------------\u001b[0m",
      "\u001b[1;31mTypeError\u001b[0m                                 Traceback (most recent call last)",
      "Cell \u001b[1;32mIn[48], line 6\u001b[0m\n\u001b[0;32m      4\u001b[0m data \u001b[38;5;241m=\u001b[39m {}\n\u001b[0;32m      5\u001b[0m \u001b[38;5;28;01mfor\u001b[39;00m i \u001b[38;5;129;01min\u001b[39;00m generos:\n\u001b[1;32m----> 6\u001b[0m   data\u001b[38;5;241m.\u001b[39mupdate({i,movies\u001b[38;5;241m.\u001b[39mcount_documents({\u001b[38;5;124m\"\u001b[39m\u001b[38;5;124mgenres\u001b[39m\u001b[38;5;124m\"\u001b[39m:i})})\n\u001b[0;32m      8\u001b[0m data\n",
      "\u001b[1;31mTypeError\u001b[0m: cannot convert dictionary update sequence element #0 to a sequence"
     ]
    }
   ],
   "source": [
    "generos = movies.distinct('genres')\n",
    "\n",
    "\n",
    "data = {}\n",
    "for i in generos:\n",
    "  data.update({i,movies.count_documents({\"genres\":i})})\n",
    "\n",
    "data\n",
    "# df = pd.DataFrame.from_dict(data)\n",
    "# df"
   ]
  },
  {
   "cell_type": "markdown",
   "metadata": {},
   "source": [
    "C) Contar cantas películas hai por ano."
   ]
  },
  {
   "cell_type": "code",
   "execution_count": null,
   "metadata": {},
   "outputs": [],
   "source": []
  },
  {
   "cell_type": "markdown",
   "metadata": {},
   "source": [
    "D) Mirar se hai correlación entre imdb e rotten tomatoes."
   ]
  },
  {
   "cell_type": "code",
   "execution_count": null,
   "metadata": {},
   "outputs": [],
   "source": []
  },
  {
   "cell_type": "markdown",
   "metadata": {},
   "source": [
    "E) Contar cantas películas ten cada director"
   ]
  },
  {
   "cell_type": "code",
   "execution_count": null,
   "metadata": {},
   "outputs": [],
   "source": []
  },
  {
   "cell_type": "markdown",
   "metadata": {},
   "source": [
    "F) Contar en cantas películas ten participado cada actor"
   ]
  },
  {
   "cell_type": "code",
   "execution_count": null,
   "metadata": {},
   "outputs": [],
   "source": []
  },
  {
   "cell_type": "markdown",
   "metadata": {},
   "source": [
    "G) Contar cantas películas hai de cada idioma"
   ]
  },
  {
   "cell_type": "code",
   "execution_count": null,
   "metadata": {},
   "outputs": [],
   "source": []
  },
  {
   "cell_type": "markdown",
   "metadata": {},
   "source": [
    "H) Cal é a media de premios das películas"
   ]
  },
  {
   "cell_type": "code",
   "execution_count": null,
   "metadata": {},
   "outputs": [],
   "source": []
  },
  {
   "cell_type": "markdown",
   "metadata": {},
   "source": [
    "J) Amosar as películas que teñen alomenos 3 premios"
   ]
  },
  {
   "cell_type": "code",
   "execution_count": null,
   "metadata": {},
   "outputs": [],
   "source": []
  },
  {
   "cell_type": "markdown",
   "metadata": {},
   "source": [
    "K) Contar as películas por país"
   ]
  },
  {
   "cell_type": "code",
   "execution_count": null,
   "metadata": {},
   "outputs": [],
   "source": []
  }
 ],
 "metadata": {
  "kernelspec": {
   "display_name": "bigdata",
   "language": "python",
   "name": "python3"
  },
  "language_info": {
   "codemirror_mode": {
    "name": "ipython",
    "version": 3
   },
   "file_extension": ".py",
   "mimetype": "text/x-python",
   "name": "python",
   "nbconvert_exporter": "python",
   "pygments_lexer": "ipython3",
   "version": "3.12.3"
  }
 },
 "nbformat": 4,
 "nbformat_minor": 2
}
