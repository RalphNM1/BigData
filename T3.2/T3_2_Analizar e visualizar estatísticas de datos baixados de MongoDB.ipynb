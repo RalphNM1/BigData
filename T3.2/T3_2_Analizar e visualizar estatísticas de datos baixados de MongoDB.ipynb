{
 "cells": [
  {
   "cell_type": "markdown",
   "metadata": {},
   "source": [
    "# T3.2 Analizar e visualizar estatísticas de datos baixados de MongoDB\n",
    "## Ralphy Núñez Mercado\n",
    "## Conexión a MongoDB dende Python e análise de datos"
   ]
  },
  {
   "cell_type": "markdown",
   "metadata": {},
   "source": [
    "En Atlas mete o dataset de exemplo na túa base de datos.\n",
    "\n",
    "Engade o enderezo IP autorizado a conectar para que poidas conectar á base de datos.\n",
    "\n",
    "Proba a conectar dende compass coa URL de conexión que che da.\n",
    "\n",
    "Da BBDD de proba: sample_mfix, na colección movies: https://www.mongodb.com/docs/atlas/sample-data/sample-mflix/"
   ]
  },
  {
   "cell_type": "markdown",
   "metadata": {},
   "source": [
    "Conecta a Atlas dende Python, carga a colección en Pandas. Averigua o modo máis adecuado."
   ]
  },
  {
   "cell_type": "code",
   "execution_count": 29,
   "metadata": {},
   "outputs": [],
   "source": [
    "# %conda install -y pymongo dnspython\n",
    "from pymongo import MongoClient\n",
    "import json\n",
    "import pandas as pd\n",
    "\n",
    "#HOST=\"(...).mongodb.net\"\n",
    "HOST=\"cluster0.6ej71.mongodb.net\"\n",
    "PORT=27017\n",
    "USERNAME=\"ralphynm1000\"\n",
    "PASSWORD=\"hola1234\"\n",
    "\n",
    "if HOST == 'localhost':\n",
    "    if not USERNAME:\n",
    "        cli_mongo = MongoClient(HOST, PORT)\n",
    "    else:\n",
    "        cli_mongo = MongoClient(HOST, PORT, USERNAME, PASSWORD)\n",
    "else:\n",
    "    cli_mongo = MongoClient(f\"mongodb+srv://{USERNAME}:{PASSWORD}@{HOST}/\")\n",
    "\n",
    "db_sample_mflix = cli_mongo['sample_mflix']\n",
    "movies = db_sample_mflix['movies']\n"
   ]
  },
  {
   "cell_type": "markdown",
   "metadata": {},
   "source": [
    "A) Contar o total de películas.\n"
   ]
  },
  {
   "cell_type": "code",
   "execution_count": 30,
   "metadata": {},
   "outputs": [
    {
     "data": {
      "text/plain": [
       "21349"
      ]
     },
     "execution_count": 30,
     "metadata": {},
     "output_type": "execute_result"
    }
   ],
   "source": [
    "movies.estimated_document_count({})"
   ]
  },
  {
   "cell_type": "markdown",
   "metadata": {},
   "source": [
    "B) Contar o número de películas de cada xénero."
   ]
  },
  {
   "cell_type": "code",
   "execution_count": 31,
   "metadata": {},
   "outputs": [
    {
     "data": {
      "text/html": [
       "<div>\n",
       "<style scoped>\n",
       "    .dataframe tbody tr th:only-of-type {\n",
       "        vertical-align: middle;\n",
       "    }\n",
       "\n",
       "    .dataframe tbody tr th {\n",
       "        vertical-align: top;\n",
       "    }\n",
       "\n",
       "    .dataframe thead th {\n",
       "        text-align: right;\n",
       "    }\n",
       "</style>\n",
       "<table border=\"1\" class=\"dataframe\">\n",
       "  <thead>\n",
       "    <tr style=\"text-align: right;\">\n",
       "      <th></th>\n",
       "      <th>Género</th>\n",
       "      <th>Cantidad</th>\n",
       "    </tr>\n",
       "  </thead>\n",
       "  <tbody>\n",
       "    <tr>\n",
       "      <th>0</th>\n",
       "      <td>Action</td>\n",
       "      <td>2381</td>\n",
       "    </tr>\n",
       "    <tr>\n",
       "      <th>1</th>\n",
       "      <td>Adventure</td>\n",
       "      <td>1900</td>\n",
       "    </tr>\n",
       "    <tr>\n",
       "      <th>2</th>\n",
       "      <td>Animation</td>\n",
       "      <td>912</td>\n",
       "    </tr>\n",
       "    <tr>\n",
       "      <th>3</th>\n",
       "      <td>Biography</td>\n",
       "      <td>1269</td>\n",
       "    </tr>\n",
       "    <tr>\n",
       "      <th>4</th>\n",
       "      <td>Comedy</td>\n",
       "      <td>6532</td>\n",
       "    </tr>\n",
       "    <tr>\n",
       "      <th>5</th>\n",
       "      <td>Crime</td>\n",
       "      <td>2457</td>\n",
       "    </tr>\n",
       "    <tr>\n",
       "      <th>6</th>\n",
       "      <td>Documentary</td>\n",
       "      <td>1834</td>\n",
       "    </tr>\n",
       "    <tr>\n",
       "      <th>7</th>\n",
       "      <td>Drama</td>\n",
       "      <td>12385</td>\n",
       "    </tr>\n",
       "    <tr>\n",
       "      <th>8</th>\n",
       "      <td>Family</td>\n",
       "      <td>1249</td>\n",
       "    </tr>\n",
       "    <tr>\n",
       "      <th>9</th>\n",
       "      <td>Fantasy</td>\n",
       "      <td>1055</td>\n",
       "    </tr>\n",
       "    <tr>\n",
       "      <th>10</th>\n",
       "      <td>Film-Noir</td>\n",
       "      <td>77</td>\n",
       "    </tr>\n",
       "    <tr>\n",
       "      <th>11</th>\n",
       "      <td>History</td>\n",
       "      <td>874</td>\n",
       "    </tr>\n",
       "    <tr>\n",
       "      <th>12</th>\n",
       "      <td>Horror</td>\n",
       "      <td>1470</td>\n",
       "    </tr>\n",
       "    <tr>\n",
       "      <th>13</th>\n",
       "      <td>Music</td>\n",
       "      <td>780</td>\n",
       "    </tr>\n",
       "    <tr>\n",
       "      <th>14</th>\n",
       "      <td>Musical</td>\n",
       "      <td>440</td>\n",
       "    </tr>\n",
       "    <tr>\n",
       "      <th>15</th>\n",
       "      <td>Mystery</td>\n",
       "      <td>1139</td>\n",
       "    </tr>\n",
       "    <tr>\n",
       "      <th>16</th>\n",
       "      <td>News</td>\n",
       "      <td>44</td>\n",
       "    </tr>\n",
       "    <tr>\n",
       "      <th>17</th>\n",
       "      <td>Romance</td>\n",
       "      <td>3318</td>\n",
       "    </tr>\n",
       "    <tr>\n",
       "      <th>18</th>\n",
       "      <td>Sci-Fi</td>\n",
       "      <td>958</td>\n",
       "    </tr>\n",
       "    <tr>\n",
       "      <th>19</th>\n",
       "      <td>Short</td>\n",
       "      <td>442</td>\n",
       "    </tr>\n",
       "    <tr>\n",
       "      <th>20</th>\n",
       "      <td>Sport</td>\n",
       "      <td>366</td>\n",
       "    </tr>\n",
       "    <tr>\n",
       "      <th>21</th>\n",
       "      <td>Talk-Show</td>\n",
       "      <td>1</td>\n",
       "    </tr>\n",
       "    <tr>\n",
       "      <th>22</th>\n",
       "      <td>Thriller</td>\n",
       "      <td>2454</td>\n",
       "    </tr>\n",
       "    <tr>\n",
       "      <th>23</th>\n",
       "      <td>War</td>\n",
       "      <td>699</td>\n",
       "    </tr>\n",
       "    <tr>\n",
       "      <th>24</th>\n",
       "      <td>Western</td>\n",
       "      <td>242</td>\n",
       "    </tr>\n",
       "  </tbody>\n",
       "</table>\n",
       "</div>"
      ],
      "text/plain": [
       "         Género  Cantidad\n",
       "0        Action      2381\n",
       "1     Adventure      1900\n",
       "2     Animation       912\n",
       "3     Biography      1269\n",
       "4        Comedy      6532\n",
       "5         Crime      2457\n",
       "6   Documentary      1834\n",
       "7         Drama     12385\n",
       "8        Family      1249\n",
       "9       Fantasy      1055\n",
       "10    Film-Noir        77\n",
       "11      History       874\n",
       "12       Horror      1470\n",
       "13        Music       780\n",
       "14      Musical       440\n",
       "15      Mystery      1139\n",
       "16         News        44\n",
       "17      Romance      3318\n",
       "18       Sci-Fi       958\n",
       "19        Short       442\n",
       "20        Sport       366\n",
       "21    Talk-Show         1\n",
       "22     Thriller      2454\n",
       "23          War       699\n",
       "24      Western       242"
      ]
     },
     "execution_count": 31,
     "metadata": {},
     "output_type": "execute_result"
    }
   ],
   "source": [
    "generos = movies.distinct('genres')\n",
    "\n",
    "data = {}\n",
    "for i in generos:\n",
    "    data[i] = movies.count_documents({\"genres\": i})\n",
    "\n",
    "# convertir diccionario en dataFrame\n",
    "df = pd.DataFrame(list(data.items()), columns=['Género', 'Cantidad'])\n",
    "\n",
    "df"
   ]
  },
  {
   "cell_type": "markdown",
   "metadata": {},
   "source": [
    "C) Contar cantas películas hai por ano."
   ]
  },
  {
   "cell_type": "code",
   "execution_count": 32,
   "metadata": {},
   "outputs": [
    {
     "data": {
      "text/plain": [
       "year\n",
       "2014.0    1089\n",
       "2013.0    1063\n",
       "2011.0     909\n",
       "2012.0     903\n",
       "2008.0     871\n",
       "          ... \n",
       "1913.0       1\n",
       "1909.0       1\n",
       "1918.0       1\n",
       "1919.0       1\n",
       "1903.0       1\n",
       "Name: count, Length: 107, dtype: int64"
      ]
     },
     "execution_count": 32,
     "metadata": {},
     "output_type": "execute_result"
    }
   ],
   "source": [
    "documentos = list(movies.find())\n",
    "\n",
    "df = pd.DataFrame(documentos)\n",
    "\n",
    "df[\"year\"] = df[\"released\"].dt.year\n",
    "\n",
    "contar_pelis_año = df[\"year\"].value_counts()\n",
    "\n",
    "contar_pelis_año\n"
   ]
  },
  {
   "cell_type": "markdown",
   "metadata": {},
   "source": [
    "D) Mirar se hai correlación entre imdb e rotten tomatoes."
   ]
  },
  {
   "cell_type": "code",
   "execution_count": 33,
   "metadata": {},
   "outputs": [
    {
     "name": "stdout",
     "output_type": "stream",
     "text": [
      "Correlación IMDb - Rotten Tomatoes: 0.75\n"
     ]
    }
   ],
   "source": [
    "df = pd.DataFrame(documentos)\n",
    "\n",
    "# Extraer la calificación de IMDb (rating) del campo 'imdb'.\n",
    "df['imdb_rating'] = df['imdb'].apply(\n",
    "    lambda x: x.get('rating') if isinstance(x, dict) else None\n",
    ")\n",
    "\n",
    "# Extraer la calificación de la crítica (critic rating) de Rotten Tomatoes.\n",
    "df['rt_critic_rating'] = df['tomatoes'].apply(\n",
    "    lambda x: x.get('critic', {}).get('rating') if isinstance(x, dict) and 'critic' in x else None\n",
    ")\n",
    "\n",
    "# Eliminar filas con valores faltantes\n",
    "df_clean = df.dropna(subset=['imdb_rating', 'rt_critic_rating'])\n",
    "\n",
    "# Convertir a valores numéricos\n",
    "df_clean.loc[:, 'imdb_rating'] = pd.to_numeric(df_clean['imdb_rating'], errors='coerce')\n",
    "df_clean.loc[:, 'rt_critic_rating'] = pd.to_numeric(df_clean['rt_critic_rating'], errors='coerce')\n",
    "\n",
    "\n",
    "# Eliminar NaNs\n",
    "df_clean = df_clean.dropna(subset=['imdb_rating', 'rt_critic_rating'])\n",
    "\n",
    "correlacion = df_clean['imdb_rating'].corr(df_clean['rt_critic_rating'])\n",
    "\n",
    "print(f\"Correlación IMDb - Rotten Tomatoes: {correlacion:.2f}\")\n",
    "\n"
   ]
  },
  {
   "cell_type": "markdown",
   "metadata": {},
   "source": [
    "E) Contar cantas películas ten cada director"
   ]
  },
  {
   "cell_type": "code",
   "execution_count": 40,
   "metadata": {},
   "outputs": [
    {
     "data": {
      "text/plain": [
       "directors\n",
       "Woody Allen         40\n",
       "Martin Scorsese     32\n",
       "Takashi Miike       31\n",
       "Sidney Lumet        29\n",
       "Steven Spielberg    29\n",
       "                    ..\n",
       "Cècile Telerman      1\n",
       "Jeeva                1\n",
       "Larry Bishop         1\n",
       "Diane Bertrand       1\n",
       "Marcin Koszalka      1\n",
       "Name: count, Length: 10843, dtype: int64"
      ]
     },
     "execution_count": 40,
     "metadata": {},
     "output_type": "execute_result"
    }
   ],
   "source": [
    "df = pd.DataFrame(documentos)\n",
    "\n",
    "# Asegurarse de que 'directors' no sea nulo\n",
    "df = df[df['directors'].notna()]\n",
    "\n",
    "# Expandir la lista de directores a filas individuales\n",
    "df_exploded = df.explode('directors').reset_index(drop=True)\n",
    "\n",
    "# Contar cuántas películas tiene cada director\n",
    "contar_pelis_directores = df_exploded['directors'].value_counts()\n",
    "\n",
    "contar_pelis_directores\n",
    "\n"
   ]
  },
  {
   "cell_type": "markdown",
   "metadata": {},
   "source": [
    "F) Contar en cantas películas ten participado cada actor"
   ]
  },
  {
   "cell_type": "code",
   "execution_count": 35,
   "metadata": {},
   "outputs": [
    {
     "name": "stdout",
     "output_type": "stream",
     "text": [
      "cast\n",
      "Gèrard Depardieu        67\n",
      "Robert De Niro          58\n",
      "Michael Caine           51\n",
      "Bruce Willis            49\n",
      "Samuel L. Jackson       48\n",
      "                        ..\n",
      "Margrèt èkadèttir        1\n",
      "Sibylle Canonica         1\n",
      "Stefanie von Pfetten     1\n",
      "Stellina Rusich          1\n",
      "Chantal Akerman          1\n",
      "Name: count, Length: 38636, dtype: int64\n"
     ]
    }
   ],
   "source": [
    "df = pd.DataFrame(documentos)\n",
    "\n",
    "# Filtrar filas donde 'cast' no sea nulo\n",
    "df = df[df['cast'].notna()]\n",
    "\n",
    "# Expandir la lista de actores a filas individuales\n",
    "df_exploded = df.explode('cast').reset_index(drop=True)\n",
    "\n",
    "# Contar cuántas películas tiene cada actor\n",
    "contar_pelis_actores = df_exploded['cast'].value_counts()\n",
    "\n",
    "print(contar_pelis_actores)"
   ]
  },
  {
   "cell_type": "markdown",
   "metadata": {},
   "source": [
    "G) Contar cantas películas hai de cada idioma"
   ]
  },
  {
   "cell_type": "code",
   "execution_count": 36,
   "metadata": {},
   "outputs": [
    {
     "name": "stdout",
     "output_type": "stream",
     "text": [
      "languages\n",
      "English      14639\n",
      "French        2405\n",
      "Spanish       1600\n",
      "German        1377\n",
      "Italian       1228\n",
      "             ...  \n",
      "Quenya           1\n",
      "Uighur           1\n",
      "Visayan          1\n",
      "Kabyle           1\n",
      "Purepecha        1\n",
      "Name: count, Length: 231, dtype: int64\n"
     ]
    }
   ],
   "source": [
    "df = pd.DataFrame(documentos)\n",
    "\n",
    "# Filtrar filas donde 'languages' no sea nulo\n",
    "df = df[df['languages'].notna()]\n",
    "\n",
    "# Expandir la lista de idiomas a filas individuales\n",
    "df_exploded = df.explode('languages').reset_index(drop=True)\n",
    "\n",
    "# Contar cuántas películas hay en cada idioma\n",
    "pelis_por_idioma = df_exploded['languages'].value_counts()\n",
    "\n",
    "print(pelis_por_idioma)"
   ]
  },
  {
   "cell_type": "markdown",
   "metadata": {},
   "source": [
    "H) Cal é a media de premios das películas"
   ]
  },
  {
   "cell_type": "code",
   "execution_count": 37,
   "metadata": {},
   "outputs": [
    {
     "name": "stdout",
     "output_type": "stream",
     "text": [
      "Media de premios (vitorias) por película: 4.06\n"
     ]
    }
   ],
   "source": [
    "df = pd.DataFrame(documentos)\n",
    "\n",
    "# Extraer só as películas que teñen 'awards.wins'\n",
    "df = df[df['awards'].notna()]\n",
    "df = df[df['awards'].apply(lambda x: 'wins' in x and isinstance(x['wins'], (int, float)))]\n",
    "\n",
    "# Calcular a media\n",
    "media_premios = df['awards'].apply(lambda x: x['wins']).mean()\n",
    "\n",
    "print(f\"Media de premios (vitorias) por película: {media_premios:.2f}\")"
   ]
  },
  {
   "cell_type": "markdown",
   "metadata": {},
   "source": [
    "J) Amosar as películas que teñen alomenos 3 premios"
   ]
  },
  {
   "cell_type": "code",
   "execution_count": 38,
   "metadata": {},
   "outputs": [
    {
     "data": {
      "text/html": [
       "<div>\n",
       "<style scoped>\n",
       "    .dataframe tbody tr th:only-of-type {\n",
       "        vertical-align: middle;\n",
       "    }\n",
       "\n",
       "    .dataframe tbody tr th {\n",
       "        vertical-align: top;\n",
       "    }\n",
       "\n",
       "    .dataframe thead th {\n",
       "        text-align: right;\n",
       "    }\n",
       "</style>\n",
       "<table border=\"1\" class=\"dataframe\">\n",
       "  <thead>\n",
       "    <tr style=\"text-align: right;\">\n",
       "      <th></th>\n",
       "      <th>title</th>\n",
       "      <th>awards</th>\n",
       "    </tr>\n",
       "  </thead>\n",
       "  <tbody>\n",
       "    <tr>\n",
       "      <th>44</th>\n",
       "      <td>Napoleon</td>\n",
       "      <td>{'wins': 3, 'nominations': 0, 'text': '3 wins.'}</td>\n",
       "    </tr>\n",
       "    <tr>\n",
       "      <th>46</th>\n",
       "      <td>Wings</td>\n",
       "      <td>{'wins': 5, 'nominations': 1, 'text': 'Won 2 O...</td>\n",
       "    </tr>\n",
       "    <tr>\n",
       "      <th>68</th>\n",
       "      <td>Morocco</td>\n",
       "      <td>{'wins': 7, 'nominations': 0, 'text': 'Nominat...</td>\n",
       "    </tr>\n",
       "    <tr>\n",
       "      <th>69</th>\n",
       "      <td>Romance</td>\n",
       "      <td>{'wins': 3, 'nominations': 0, 'text': 'Nominat...</td>\n",
       "    </tr>\n",
       "    <tr>\n",
       "      <th>74</th>\n",
       "      <td>Cimarron</td>\n",
       "      <td>{'wins': 5, 'nominations': 4, 'text': 'Won 3 O...</td>\n",
       "    </tr>\n",
       "    <tr>\n",
       "      <th>...</th>\n",
       "      <td>...</td>\n",
       "      <td>...</td>\n",
       "    </tr>\n",
       "    <tr>\n",
       "      <th>21304</th>\n",
       "      <td>Tikkun</td>\n",
       "      <td>{'wins': 7, 'nominations': 1, 'text': '7 wins ...</td>\n",
       "    </tr>\n",
       "    <tr>\n",
       "      <th>21317</th>\n",
       "      <td>The High Sun</td>\n",
       "      <td>{'wins': 8, 'nominations': 3, 'text': '8 wins ...</td>\n",
       "    </tr>\n",
       "    <tr>\n",
       "      <th>21330</th>\n",
       "      <td>Bitcoin: The End of Money as We Know It</td>\n",
       "      <td>{'wins': 3, 'nominations': 0, 'text': '3 wins.'}</td>\n",
       "    </tr>\n",
       "    <tr>\n",
       "      <th>21331</th>\n",
       "      <td>Land and Shade</td>\n",
       "      <td>{'wins': 4, 'nominations': 3, 'text': '4 wins ...</td>\n",
       "    </tr>\n",
       "    <tr>\n",
       "      <th>21340</th>\n",
       "      <td>Babai</td>\n",
       "      <td>{'wins': 6, 'nominations': 1, 'text': '6 wins ...</td>\n",
       "    </tr>\n",
       "  </tbody>\n",
       "</table>\n",
       "<p>7967 rows × 2 columns</p>\n",
       "</div>"
      ],
      "text/plain": [
       "                                         title  \\\n",
       "44                                    Napoleon   \n",
       "46                                       Wings   \n",
       "68                                     Morocco   \n",
       "69                                     Romance   \n",
       "74                                    Cimarron   \n",
       "...                                        ...   \n",
       "21304                                   Tikkun   \n",
       "21317                             The High Sun   \n",
       "21330  Bitcoin: The End of Money as We Know It   \n",
       "21331                           Land and Shade   \n",
       "21340                                    Babai   \n",
       "\n",
       "                                                  awards  \n",
       "44      {'wins': 3, 'nominations': 0, 'text': '3 wins.'}  \n",
       "46     {'wins': 5, 'nominations': 1, 'text': 'Won 2 O...  \n",
       "68     {'wins': 7, 'nominations': 0, 'text': 'Nominat...  \n",
       "69     {'wins': 3, 'nominations': 0, 'text': 'Nominat...  \n",
       "74     {'wins': 5, 'nominations': 4, 'text': 'Won 3 O...  \n",
       "...                                                  ...  \n",
       "21304  {'wins': 7, 'nominations': 1, 'text': '7 wins ...  \n",
       "21317  {'wins': 8, 'nominations': 3, 'text': '8 wins ...  \n",
       "21330   {'wins': 3, 'nominations': 0, 'text': '3 wins.'}  \n",
       "21331  {'wins': 4, 'nominations': 3, 'text': '4 wins ...  \n",
       "21340  {'wins': 6, 'nominations': 1, 'text': '6 wins ...  \n",
       "\n",
       "[7967 rows x 2 columns]"
      ]
     },
     "execution_count": 38,
     "metadata": {},
     "output_type": "execute_result"
    }
   ],
   "source": [
    "df = pd.DataFrame(documentos)\n",
    "\n",
    "# Filtrar películas que teñen o campo 'awards.wins' definido como número\n",
    "df = df[df['awards'].notna()]\n",
    "df = df[df['awards'].apply(lambda x: 'wins' in x and isinstance(x['wins'], (int, float)))]\n",
    "\n",
    "# Quedar só coas que teñen 3 ou máis premios\n",
    "pelis_con_3_premios = df[df['awards'].apply(lambda x: x['wins'] >= 3)]\n",
    "\n",
    "# Amosar título e número de premios\n",
    "pelis_con_3_premios[['title', 'awards']]"
   ]
  },
  {
   "cell_type": "markdown",
   "metadata": {},
   "source": [
    "K) Contar as películas por país"
   ]
  },
  {
   "cell_type": "code",
   "execution_count": 39,
   "metadata": {},
   "outputs": [
    {
     "data": {
      "text/html": [
       "<div>\n",
       "<style scoped>\n",
       "    .dataframe tbody tr th:only-of-type {\n",
       "        vertical-align: middle;\n",
       "    }\n",
       "\n",
       "    .dataframe tbody tr th {\n",
       "        vertical-align: top;\n",
       "    }\n",
       "\n",
       "    .dataframe thead th {\n",
       "        text-align: right;\n",
       "    }\n",
       "</style>\n",
       "<table border=\"1\" class=\"dataframe\">\n",
       "  <thead>\n",
       "    <tr style=\"text-align: right;\">\n",
       "      <th></th>\n",
       "      <th>País</th>\n",
       "      <th>Peliculas</th>\n",
       "    </tr>\n",
       "  </thead>\n",
       "  <tbody>\n",
       "    <tr>\n",
       "      <th>0</th>\n",
       "      <td>Afghanistan</td>\n",
       "      <td>8</td>\n",
       "    </tr>\n",
       "    <tr>\n",
       "      <th>1</th>\n",
       "      <td>Albania</td>\n",
       "      <td>3</td>\n",
       "    </tr>\n",
       "    <tr>\n",
       "      <th>2</th>\n",
       "      <td>Algeria</td>\n",
       "      <td>13</td>\n",
       "    </tr>\n",
       "    <tr>\n",
       "      <th>3</th>\n",
       "      <td>Angola</td>\n",
       "      <td>3</td>\n",
       "    </tr>\n",
       "    <tr>\n",
       "      <th>4</th>\n",
       "      <td>Argentina</td>\n",
       "      <td>195</td>\n",
       "    </tr>\n",
       "    <tr>\n",
       "      <th>...</th>\n",
       "      <td>...</td>\n",
       "      <td>...</td>\n",
       "    </tr>\n",
       "    <tr>\n",
       "      <th>153</th>\n",
       "      <td>Vietnam</td>\n",
       "      <td>9</td>\n",
       "    </tr>\n",
       "    <tr>\n",
       "      <th>154</th>\n",
       "      <td>West Germany</td>\n",
       "      <td>246</td>\n",
       "    </tr>\n",
       "    <tr>\n",
       "      <th>155</th>\n",
       "      <td>Yugoslavia</td>\n",
       "      <td>47</td>\n",
       "    </tr>\n",
       "    <tr>\n",
       "      <th>156</th>\n",
       "      <td>Zaire</td>\n",
       "      <td>1</td>\n",
       "    </tr>\n",
       "    <tr>\n",
       "      <th>157</th>\n",
       "      <td>Zimbabwe</td>\n",
       "      <td>1</td>\n",
       "    </tr>\n",
       "  </tbody>\n",
       "</table>\n",
       "<p>158 rows × 2 columns</p>\n",
       "</div>"
      ],
      "text/plain": [
       "             País  Peliculas\n",
       "0     Afghanistan          8\n",
       "1         Albania          3\n",
       "2         Algeria         13\n",
       "3          Angola          3\n",
       "4       Argentina        195\n",
       "..            ...        ...\n",
       "153       Vietnam          9\n",
       "154  West Germany        246\n",
       "155    Yugoslavia         47\n",
       "156         Zaire          1\n",
       "157      Zimbabwe          1\n",
       "\n",
       "[158 rows x 2 columns]"
      ]
     },
     "execution_count": 39,
     "metadata": {},
     "output_type": "execute_result"
    }
   ],
   "source": [
    "pais = movies.distinct('countries')\n",
    "\n",
    "data = {}\n",
    "for i in pais:\n",
    "    data[i] = movies.count_documents({\"countries\": i})\n",
    "\n",
    "df = pd.DataFrame(list(data.items()), columns=['País', 'Peliculas'])\n",
    "\n",
    "df"
   ]
  }
 ],
 "metadata": {
  "kernelspec": {
   "display_name": "bigdata",
   "language": "python",
   "name": "python3"
  },
  "language_info": {
   "codemirror_mode": {
    "name": "ipython",
    "version": 3
   },
   "file_extension": ".py",
   "mimetype": "text/x-python",
   "name": "python",
   "nbconvert_exporter": "python",
   "pygments_lexer": "ipython3",
   "version": "3.12.3"
  }
 },
 "nbformat": 4,
 "nbformat_minor": 2
}
