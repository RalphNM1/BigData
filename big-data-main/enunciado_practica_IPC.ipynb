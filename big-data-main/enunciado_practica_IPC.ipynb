{
 "cells": [
  {
   "cell_type": "markdown",
   "metadata": {
    "vscode": {
     "languageId": "plaintext"
    }
   },
   "source": [
    "# Práctica: Análise de Datos Temporais con Pandas\n",
    "\n",
    "\n",
    "Nesta práctica, traballaredes con datos do Instituto Nacional de Estatística (INE) sobre a evolución dos prezos do IPC de diferentes produtos. \n",
    "\n",
    "Sobre o dataset:\n",
    "\n",
    "- Índice: expresa un valor en base 100 (sobre un ano de referencia).\n",
    "- Variación anual: compara o mes actual co o mesmo mes do ano anterior.\n",
    "- Variación en lo que va de año: compara o mes actual co mes de xaneiro do mesmo ano.\n",
    "- Vairación mensual: compara o valor co mes anterior.\n",
    "\n",
    "## Preparación\n",
    "\n",
    "- Descarga dos datos: Accede á ligazón proporcionada e descarga os datos en calquer formato compatible con Pandas (XML, CSV, JSON) [https://datos.gob.es/es/catalogo/ea0010587-indices-nacionales-de-clases-ipc-identificador-api-509041](https://datos.gob.es/es/catalogo/ea0010587-indices-nacionales-de-clases-ipc-identificador-api-509041)\n",
    "\n",
    "- Utiliza un entorno conda que teña instalado ``pandas`` e ``matplotlib``.\n",
    "\n",
    "## Descrición\n",
    "\n",
    "1. Utiliza ``pandas`` para cargar os datos nun DataFrame e preparalos para a análise.\n",
    "    Ten en conta que será necesario preprocesar o dataset para o correcto funcionamiento do DataFrame. Douche unhas pistas: \n",
    "    - As datas están organizadas en sentido inverso, é decir aparecen primeiro as datas mais recentes. \n",
    "    - Por defecto o valor das datas é un string, deberás formatearlo correctamente para que o DataFrame o identifique en formato ``datetime``.\n",
    "    - Os valores no campo \"Total\" separan os valores decimais por \",\", para poder facer o casting a float debedes camialos por \".\".\n",
    "\n",
    "2. Determina os 5 produtos que máis incrementaron de prezo no ano 2024. (Usa o tipo de dato \"Variación anual\")\n",
    "\n",
    "3. Representa a evolución do valor do tipo de dato \"Índice\" dos 5 produtos anteriores nunha gráfica. \n",
    "\n",
    "4. Determina o ano co máximo valor de incremento medio considerando todos os produtos. (Usa o tipo de dato \"Variación anual\")\n",
    "\n",
    "\n",
    "## Entrega\n",
    "\n",
    "Debedes entregar un script en Python onde se realicen todos os pasos descritos e engadir a gráfica obtenida en formato .png.\n",
    "\n"
   ]
  },
  {
   "cell_type": "markdown",
   "metadata": {},
   "source": [
    "### ⬇️📦 Mágias para la instalación de los paquetes."
   ]
  },
  {
   "cell_type": "code",
   "execution_count": 57,
   "metadata": {},
   "outputs": [
    {
     "ename": "error",
     "evalue": "incomplete escape \\U at position 28",
     "output_type": "error",
     "traceback": [
      "\u001b[1;31m---------------------------------------------------------------------------\u001b[0m",
      "\u001b[1;31merror\u001b[0m                                     Traceback (most recent call last)",
      "Cell \u001b[1;32mIn[57], line 1\u001b[0m\n\u001b[1;32m----> 1\u001b[0m get_ipython()\u001b[38;5;241m.\u001b[39mrun_line_magic(\u001b[38;5;124m'\u001b[39m\u001b[38;5;124mconda\u001b[39m\u001b[38;5;124m'\u001b[39m, \u001b[38;5;124m'\u001b[39m\u001b[38;5;124minstall -y pandas # o  \u001b[39m\u001b[38;5;124m%\u001b[39m\u001b[38;5;124mpip install pandas\u001b[39m\u001b[38;5;124m'\u001b[39m)\n\u001b[0;32m      2\u001b[0m get_ipython()\u001b[38;5;241m.\u001b[39mrun_line_magic(\u001b[38;5;124m'\u001b[39m\u001b[38;5;124mconda\u001b[39m\u001b[38;5;124m'\u001b[39m, \u001b[38;5;124m'\u001b[39m\u001b[38;5;124minstall -y matplotlib # o \u001b[39m\u001b[38;5;124m%\u001b[39m\u001b[38;5;124mpip install matplotlib\u001b[39m\u001b[38;5;124m'\u001b[39m)\n\u001b[0;32m      3\u001b[0m get_ipython()\u001b[38;5;241m.\u001b[39mrun_line_magic(\u001b[38;5;124m'\u001b[39m\u001b[38;5;124mconda\u001b[39m\u001b[38;5;124m'\u001b[39m, \u001b[38;5;124m'\u001b[39m\u001b[38;5;124minstall -y numpy # o \u001b[39m\u001b[38;5;124m%\u001b[39m\u001b[38;5;124mpip install numpy\u001b[39m\u001b[38;5;124m'\u001b[39m)\n",
      "File \u001b[1;32mc:\\Users\\ralphy.nunezmercado\\AppData\\Local\\miniconda3\\envs\\bigdata\\Lib\\site-packages\\IPython\\core\\interactiveshell.py:2480\u001b[0m, in \u001b[0;36mInteractiveShell.run_line_magic\u001b[1;34m(self, magic_name, line, _stack_depth)\u001b[0m\n\u001b[0;32m   2478\u001b[0m     kwargs[\u001b[38;5;124m'\u001b[39m\u001b[38;5;124mlocal_ns\u001b[39m\u001b[38;5;124m'\u001b[39m] \u001b[38;5;241m=\u001b[39m \u001b[38;5;28mself\u001b[39m\u001b[38;5;241m.\u001b[39mget_local_scope(stack_depth)\n\u001b[0;32m   2479\u001b[0m \u001b[38;5;28;01mwith\u001b[39;00m \u001b[38;5;28mself\u001b[39m\u001b[38;5;241m.\u001b[39mbuiltin_trap:\n\u001b[1;32m-> 2480\u001b[0m     result \u001b[38;5;241m=\u001b[39m fn(\u001b[38;5;241m*\u001b[39margs, \u001b[38;5;241m*\u001b[39m\u001b[38;5;241m*\u001b[39mkwargs)\n\u001b[0;32m   2482\u001b[0m \u001b[38;5;66;03m# The code below prevents the output from being displayed\u001b[39;00m\n\u001b[0;32m   2483\u001b[0m \u001b[38;5;66;03m# when using magics with decorator @output_can_be_silenced\u001b[39;00m\n\u001b[0;32m   2484\u001b[0m \u001b[38;5;66;03m# when the last Python token in the expression is a ';'.\u001b[39;00m\n\u001b[0;32m   2485\u001b[0m \u001b[38;5;28;01mif\u001b[39;00m \u001b[38;5;28mgetattr\u001b[39m(fn, magic\u001b[38;5;241m.\u001b[39mMAGIC_OUTPUT_CAN_BE_SILENCED, \u001b[38;5;28;01mFalse\u001b[39;00m):\n",
      "File \u001b[1;32mc:\\Users\\ralphy.nunezmercado\\AppData\\Local\\miniconda3\\envs\\bigdata\\Lib\\site-packages\\IPython\\core\\magics\\packaging.py:30\u001b[0m, in \u001b[0;36mis_conda_environment.<locals>.wrapper\u001b[1;34m(*args, **kwargs)\u001b[0m\n\u001b[0;32m     25\u001b[0m \u001b[38;5;28;01mif\u001b[39;00m \u001b[38;5;129;01mnot\u001b[39;00m Path(sys\u001b[38;5;241m.\u001b[39mprefix, \u001b[38;5;124m\"\u001b[39m\u001b[38;5;124mconda-meta\u001b[39m\u001b[38;5;124m\"\u001b[39m, \u001b[38;5;124m\"\u001b[39m\u001b[38;5;124mhistory\u001b[39m\u001b[38;5;124m\"\u001b[39m)\u001b[38;5;241m.\u001b[39mexists():\n\u001b[0;32m     26\u001b[0m     \u001b[38;5;28;01mraise\u001b[39;00m \u001b[38;5;167;01mValueError\u001b[39;00m(\n\u001b[0;32m     27\u001b[0m         \u001b[38;5;124m\"\u001b[39m\u001b[38;5;124mThe python kernel does not appear to be a conda environment.  \u001b[39m\u001b[38;5;124m\"\u001b[39m\n\u001b[0;32m     28\u001b[0m         \u001b[38;5;124m\"\u001b[39m\u001b[38;5;124mPlease use ``\u001b[39m\u001b[38;5;124m%\u001b[39m\u001b[38;5;124mpip install`` instead.\u001b[39m\u001b[38;5;124m\"\u001b[39m\n\u001b[0;32m     29\u001b[0m     )\n\u001b[1;32m---> 30\u001b[0m \u001b[38;5;28;01mreturn\u001b[39;00m func(\u001b[38;5;241m*\u001b[39margs, \u001b[38;5;241m*\u001b[39m\u001b[38;5;241m*\u001b[39mkwargs)\n",
      "File \u001b[1;32mc:\\Users\\ralphy.nunezmercado\\AppData\\Local\\miniconda3\\envs\\bigdata\\Lib\\site-packages\\IPython\\core\\magics\\packaging.py:128\u001b[0m, in \u001b[0;36mPackagingMagics.conda\u001b[1;34m(self, line)\u001b[0m\n\u001b[0;32m    120\u001b[0m \u001b[38;5;129m@line_magic\u001b[39m\n\u001b[0;32m    121\u001b[0m \u001b[38;5;129m@is_conda_environment\u001b[39m\n\u001b[0;32m    122\u001b[0m \u001b[38;5;28;01mdef\u001b[39;00m \u001b[38;5;21mconda\u001b[39m(\u001b[38;5;28mself\u001b[39m, line):\n\u001b[0;32m    123\u001b[0m \u001b[38;5;250m    \u001b[39m\u001b[38;5;124;03m\"\"\"Run the conda package manager within the current kernel.\u001b[39;00m\n\u001b[0;32m    124\u001b[0m \n\u001b[0;32m    125\u001b[0m \u001b[38;5;124;03m    Usage:\u001b[39;00m\n\u001b[0;32m    126\u001b[0m \u001b[38;5;124;03m      %conda install [pkgs]\u001b[39;00m\n\u001b[0;32m    127\u001b[0m \u001b[38;5;124;03m    \"\"\"\u001b[39;00m\n\u001b[1;32m--> 128\u001b[0m     conda \u001b[38;5;241m=\u001b[39m _get_conda_like_executable(\u001b[38;5;124m\"\u001b[39m\u001b[38;5;124mconda\u001b[39m\u001b[38;5;124m\"\u001b[39m)\n\u001b[0;32m    129\u001b[0m     \u001b[38;5;28mself\u001b[39m\u001b[38;5;241m.\u001b[39m_run_command(conda, line)\n",
      "File \u001b[1;32mc:\\Users\\ralphy.nunezmercado\\AppData\\Local\\miniconda3\\envs\\bigdata\\Lib\\site-packages\\IPython\\core\\magics\\packaging.py:53\u001b[0m, in \u001b[0;36m_get_conda_like_executable\u001b[1;34m(command)\u001b[0m\n\u001b[0;32m     50\u001b[0m \u001b[38;5;66;03m# Otherwise, attempt to extract the executable from conda history.\u001b[39;00m\n\u001b[0;32m     51\u001b[0m \u001b[38;5;66;03m# This applies in any conda environment.\u001b[39;00m\n\u001b[0;32m     52\u001b[0m history \u001b[38;5;241m=\u001b[39m Path(sys\u001b[38;5;241m.\u001b[39mprefix, \u001b[38;5;124m\"\u001b[39m\u001b[38;5;124mconda-meta\u001b[39m\u001b[38;5;124m\"\u001b[39m, \u001b[38;5;124m\"\u001b[39m\u001b[38;5;124mhistory\u001b[39m\u001b[38;5;124m\"\u001b[39m)\u001b[38;5;241m.\u001b[39mread_text(encoding\u001b[38;5;241m=\u001b[39m\u001b[38;5;124m\"\u001b[39m\u001b[38;5;124mutf-8\u001b[39m\u001b[38;5;124m\"\u001b[39m)\n\u001b[1;32m---> 53\u001b[0m match \u001b[38;5;241m=\u001b[39m re\u001b[38;5;241m.\u001b[39msearch(\n\u001b[0;32m     54\u001b[0m     \u001b[38;5;124mrf\u001b[39m\u001b[38;5;124m\"\u001b[39m\u001b[38;5;124m^#\u001b[39m\u001b[38;5;124m\\\u001b[39m\u001b[38;5;124ms*cmd:\u001b[39m\u001b[38;5;124m\\\u001b[39m\u001b[38;5;124ms*(?P<command>.*\u001b[39m\u001b[38;5;132;01m{\u001b[39;00mexecutable\u001b[38;5;132;01m}\u001b[39;00m\u001b[38;5;124m)\u001b[39m\u001b[38;5;124m\\\u001b[39m\u001b[38;5;124ms[create|install]\u001b[39m\u001b[38;5;124m\"\u001b[39m,\n\u001b[0;32m     55\u001b[0m     history,\n\u001b[0;32m     56\u001b[0m     flags\u001b[38;5;241m=\u001b[39mre\u001b[38;5;241m.\u001b[39mMULTILINE,\n\u001b[0;32m     57\u001b[0m )\n\u001b[0;32m     58\u001b[0m \u001b[38;5;28;01mif\u001b[39;00m match:\n\u001b[0;32m     59\u001b[0m     \u001b[38;5;28;01mreturn\u001b[39;00m match\u001b[38;5;241m.\u001b[39mgroupdict()[\u001b[38;5;124m\"\u001b[39m\u001b[38;5;124mcommand\u001b[39m\u001b[38;5;124m\"\u001b[39m]\n",
      "File \u001b[1;32mc:\\Users\\ralphy.nunezmercado\\AppData\\Local\\miniconda3\\envs\\bigdata\\Lib\\re\\__init__.py:177\u001b[0m, in \u001b[0;36msearch\u001b[1;34m(pattern, string, flags)\u001b[0m\n\u001b[0;32m    174\u001b[0m \u001b[38;5;28;01mdef\u001b[39;00m \u001b[38;5;21msearch\u001b[39m(pattern, string, flags\u001b[38;5;241m=\u001b[39m\u001b[38;5;241m0\u001b[39m):\n\u001b[0;32m    175\u001b[0m \u001b[38;5;250m    \u001b[39m\u001b[38;5;124;03m\"\"\"Scan through string looking for a match to the pattern, returning\u001b[39;00m\n\u001b[0;32m    176\u001b[0m \u001b[38;5;124;03m    a Match object, or None if no match was found.\"\"\"\u001b[39;00m\n\u001b[1;32m--> 177\u001b[0m     \u001b[38;5;28;01mreturn\u001b[39;00m _compile(pattern, flags)\u001b[38;5;241m.\u001b[39msearch(string)\n",
      "File \u001b[1;32mc:\\Users\\ralphy.nunezmercado\\AppData\\Local\\miniconda3\\envs\\bigdata\\Lib\\re\\__init__.py:307\u001b[0m, in \u001b[0;36m_compile\u001b[1;34m(pattern, flags)\u001b[0m\n\u001b[0;32m    301\u001b[0m     \u001b[38;5;28;01mimport\u001b[39;00m \u001b[38;5;21;01mwarnings\u001b[39;00m\n\u001b[0;32m    302\u001b[0m     warnings\u001b[38;5;241m.\u001b[39mwarn(\u001b[38;5;124m\"\u001b[39m\u001b[38;5;124mThe re.TEMPLATE/re.T flag is deprecated \u001b[39m\u001b[38;5;124m\"\u001b[39m\n\u001b[0;32m    303\u001b[0m             \u001b[38;5;124m\"\u001b[39m\u001b[38;5;124mas it is an undocumented flag \u001b[39m\u001b[38;5;124m\"\u001b[39m\n\u001b[0;32m    304\u001b[0m             \u001b[38;5;124m\"\u001b[39m\u001b[38;5;124mwithout an obvious purpose. \u001b[39m\u001b[38;5;124m\"\u001b[39m\n\u001b[0;32m    305\u001b[0m             \u001b[38;5;124m\"\u001b[39m\u001b[38;5;124mDon\u001b[39m\u001b[38;5;124m'\u001b[39m\u001b[38;5;124mt use it.\u001b[39m\u001b[38;5;124m\"\u001b[39m,\n\u001b[0;32m    306\u001b[0m             \u001b[38;5;167;01mDeprecationWarning\u001b[39;00m)\n\u001b[1;32m--> 307\u001b[0m p \u001b[38;5;241m=\u001b[39m _compiler\u001b[38;5;241m.\u001b[39mcompile(pattern, flags)\n\u001b[0;32m    308\u001b[0m \u001b[38;5;28;01mif\u001b[39;00m flags \u001b[38;5;241m&\u001b[39m DEBUG:\n\u001b[0;32m    309\u001b[0m     \u001b[38;5;28;01mreturn\u001b[39;00m p\n",
      "File \u001b[1;32mc:\\Users\\ralphy.nunezmercado\\AppData\\Local\\miniconda3\\envs\\bigdata\\Lib\\re\\_compiler.py:745\u001b[0m, in \u001b[0;36mcompile\u001b[1;34m(p, flags)\u001b[0m\n\u001b[0;32m    743\u001b[0m \u001b[38;5;28;01mif\u001b[39;00m isstring(p):\n\u001b[0;32m    744\u001b[0m     pattern \u001b[38;5;241m=\u001b[39m p\n\u001b[1;32m--> 745\u001b[0m     p \u001b[38;5;241m=\u001b[39m _parser\u001b[38;5;241m.\u001b[39mparse(p, flags)\n\u001b[0;32m    746\u001b[0m \u001b[38;5;28;01melse\u001b[39;00m:\n\u001b[0;32m    747\u001b[0m     pattern \u001b[38;5;241m=\u001b[39m \u001b[38;5;28;01mNone\u001b[39;00m\n",
      "File \u001b[1;32mc:\\Users\\ralphy.nunezmercado\\AppData\\Local\\miniconda3\\envs\\bigdata\\Lib\\re\\_parser.py:979\u001b[0m, in \u001b[0;36mparse\u001b[1;34m(str, flags, state)\u001b[0m\n\u001b[0;32m    976\u001b[0m state\u001b[38;5;241m.\u001b[39mflags \u001b[38;5;241m=\u001b[39m flags\n\u001b[0;32m    977\u001b[0m state\u001b[38;5;241m.\u001b[39mstr \u001b[38;5;241m=\u001b[39m \u001b[38;5;28mstr\u001b[39m\n\u001b[1;32m--> 979\u001b[0m p \u001b[38;5;241m=\u001b[39m _parse_sub(source, state, flags \u001b[38;5;241m&\u001b[39m SRE_FLAG_VERBOSE, \u001b[38;5;241m0\u001b[39m)\n\u001b[0;32m    980\u001b[0m p\u001b[38;5;241m.\u001b[39mstate\u001b[38;5;241m.\u001b[39mflags \u001b[38;5;241m=\u001b[39m fix_flags(\u001b[38;5;28mstr\u001b[39m, p\u001b[38;5;241m.\u001b[39mstate\u001b[38;5;241m.\u001b[39mflags)\n\u001b[0;32m    982\u001b[0m \u001b[38;5;28;01mif\u001b[39;00m source\u001b[38;5;241m.\u001b[39mnext \u001b[38;5;129;01mis\u001b[39;00m \u001b[38;5;129;01mnot\u001b[39;00m \u001b[38;5;28;01mNone\u001b[39;00m:\n",
      "File \u001b[1;32mc:\\Users\\ralphy.nunezmercado\\AppData\\Local\\miniconda3\\envs\\bigdata\\Lib\\re\\_parser.py:460\u001b[0m, in \u001b[0;36m_parse_sub\u001b[1;34m(source, state, verbose, nested)\u001b[0m\n\u001b[0;32m    458\u001b[0m start \u001b[38;5;241m=\u001b[39m source\u001b[38;5;241m.\u001b[39mtell()\n\u001b[0;32m    459\u001b[0m \u001b[38;5;28;01mwhile\u001b[39;00m \u001b[38;5;28;01mTrue\u001b[39;00m:\n\u001b[1;32m--> 460\u001b[0m     itemsappend(_parse(source, state, verbose, nested \u001b[38;5;241m+\u001b[39m \u001b[38;5;241m1\u001b[39m,\n\u001b[0;32m    461\u001b[0m                        \u001b[38;5;129;01mnot\u001b[39;00m nested \u001b[38;5;129;01mand\u001b[39;00m \u001b[38;5;129;01mnot\u001b[39;00m items))\n\u001b[0;32m    462\u001b[0m     \u001b[38;5;28;01mif\u001b[39;00m \u001b[38;5;129;01mnot\u001b[39;00m sourcematch(\u001b[38;5;124m\"\u001b[39m\u001b[38;5;124m|\u001b[39m\u001b[38;5;124m\"\u001b[39m):\n\u001b[0;32m    463\u001b[0m         \u001b[38;5;28;01mbreak\u001b[39;00m\n",
      "File \u001b[1;32mc:\\Users\\ralphy.nunezmercado\\AppData\\Local\\miniconda3\\envs\\bigdata\\Lib\\re\\_parser.py:862\u001b[0m, in \u001b[0;36m_parse\u001b[1;34m(source, state, verbose, nested, first)\u001b[0m\n\u001b[0;32m    859\u001b[0m     group \u001b[38;5;241m=\u001b[39m \u001b[38;5;28;01mNone\u001b[39;00m\n\u001b[0;32m    860\u001b[0m sub_verbose \u001b[38;5;241m=\u001b[39m ((verbose \u001b[38;5;129;01mor\u001b[39;00m (add_flags \u001b[38;5;241m&\u001b[39m SRE_FLAG_VERBOSE)) \u001b[38;5;129;01mand\u001b[39;00m\n\u001b[0;32m    861\u001b[0m                \u001b[38;5;129;01mnot\u001b[39;00m (del_flags \u001b[38;5;241m&\u001b[39m SRE_FLAG_VERBOSE))\n\u001b[1;32m--> 862\u001b[0m p \u001b[38;5;241m=\u001b[39m _parse_sub(source, state, sub_verbose, nested \u001b[38;5;241m+\u001b[39m \u001b[38;5;241m1\u001b[39m)\n\u001b[0;32m    863\u001b[0m \u001b[38;5;28;01mif\u001b[39;00m \u001b[38;5;129;01mnot\u001b[39;00m source\u001b[38;5;241m.\u001b[39mmatch(\u001b[38;5;124m\"\u001b[39m\u001b[38;5;124m)\u001b[39m\u001b[38;5;124m\"\u001b[39m):\n\u001b[0;32m    864\u001b[0m     \u001b[38;5;28;01mraise\u001b[39;00m source\u001b[38;5;241m.\u001b[39merror(\u001b[38;5;124m\"\u001b[39m\u001b[38;5;124mmissing ), unterminated subpattern\u001b[39m\u001b[38;5;124m\"\u001b[39m,\n\u001b[0;32m    865\u001b[0m                        source\u001b[38;5;241m.\u001b[39mtell() \u001b[38;5;241m-\u001b[39m start)\n",
      "File \u001b[1;32mc:\\Users\\ralphy.nunezmercado\\AppData\\Local\\miniconda3\\envs\\bigdata\\Lib\\re\\_parser.py:460\u001b[0m, in \u001b[0;36m_parse_sub\u001b[1;34m(source, state, verbose, nested)\u001b[0m\n\u001b[0;32m    458\u001b[0m start \u001b[38;5;241m=\u001b[39m source\u001b[38;5;241m.\u001b[39mtell()\n\u001b[0;32m    459\u001b[0m \u001b[38;5;28;01mwhile\u001b[39;00m \u001b[38;5;28;01mTrue\u001b[39;00m:\n\u001b[1;32m--> 460\u001b[0m     itemsappend(_parse(source, state, verbose, nested \u001b[38;5;241m+\u001b[39m \u001b[38;5;241m1\u001b[39m,\n\u001b[0;32m    461\u001b[0m                        \u001b[38;5;129;01mnot\u001b[39;00m nested \u001b[38;5;129;01mand\u001b[39;00m \u001b[38;5;129;01mnot\u001b[39;00m items))\n\u001b[0;32m    462\u001b[0m     \u001b[38;5;28;01mif\u001b[39;00m \u001b[38;5;129;01mnot\u001b[39;00m sourcematch(\u001b[38;5;124m\"\u001b[39m\u001b[38;5;124m|\u001b[39m\u001b[38;5;124m\"\u001b[39m):\n\u001b[0;32m    463\u001b[0m         \u001b[38;5;28;01mbreak\u001b[39;00m\n",
      "File \u001b[1;32mc:\\Users\\ralphy.nunezmercado\\AppData\\Local\\miniconda3\\envs\\bigdata\\Lib\\re\\_parser.py:544\u001b[0m, in \u001b[0;36m_parse\u001b[1;34m(source, state, verbose, nested, first)\u001b[0m\n\u001b[0;32m    541\u001b[0m         \u001b[38;5;28;01mcontinue\u001b[39;00m\n\u001b[0;32m    543\u001b[0m \u001b[38;5;28;01mif\u001b[39;00m this[\u001b[38;5;241m0\u001b[39m] \u001b[38;5;241m==\u001b[39m \u001b[38;5;124m\"\u001b[39m\u001b[38;5;130;01m\\\\\u001b[39;00m\u001b[38;5;124m\"\u001b[39m:\n\u001b[1;32m--> 544\u001b[0m     code \u001b[38;5;241m=\u001b[39m _escape(source, this, state)\n\u001b[0;32m    545\u001b[0m     subpatternappend(code)\n\u001b[0;32m    547\u001b[0m \u001b[38;5;28;01melif\u001b[39;00m this \u001b[38;5;129;01mnot\u001b[39;00m \u001b[38;5;129;01min\u001b[39;00m SPECIAL_CHARS:\n",
      "File \u001b[1;32mc:\\Users\\ralphy.nunezmercado\\AppData\\Local\\miniconda3\\envs\\bigdata\\Lib\\re\\_parser.py:398\u001b[0m, in \u001b[0;36m_escape\u001b[1;34m(source, escape, state)\u001b[0m\n\u001b[0;32m    396\u001b[0m escape \u001b[38;5;241m+\u001b[39m\u001b[38;5;241m=\u001b[39m source\u001b[38;5;241m.\u001b[39mgetwhile(\u001b[38;5;241m8\u001b[39m, HEXDIGITS)\n\u001b[0;32m    397\u001b[0m \u001b[38;5;28;01mif\u001b[39;00m \u001b[38;5;28mlen\u001b[39m(escape) \u001b[38;5;241m!=\u001b[39m \u001b[38;5;241m10\u001b[39m:\n\u001b[1;32m--> 398\u001b[0m     \u001b[38;5;28;01mraise\u001b[39;00m source\u001b[38;5;241m.\u001b[39merror(\u001b[38;5;124m\"\u001b[39m\u001b[38;5;124mincomplete escape \u001b[39m\u001b[38;5;132;01m%s\u001b[39;00m\u001b[38;5;124m\"\u001b[39m \u001b[38;5;241m%\u001b[39m escape, \u001b[38;5;28mlen\u001b[39m(escape))\n\u001b[0;32m    399\u001b[0m c \u001b[38;5;241m=\u001b[39m \u001b[38;5;28mint\u001b[39m(escape[\u001b[38;5;241m2\u001b[39m:], \u001b[38;5;241m16\u001b[39m)\n\u001b[0;32m    400\u001b[0m \u001b[38;5;28mchr\u001b[39m(c) \u001b[38;5;66;03m# raise ValueError for invalid code\u001b[39;00m\n",
      "\u001b[1;31merror\u001b[0m: incomplete escape \\U at position 28"
     ]
    }
   ],
   "source": [
    "%conda install -y pandas # o  %pip install pandas\n",
    "%conda install -y matplotlib # o %pip install matplotlib\n",
    "%conda install -y numpy # o %pip install numpy"
   ]
  },
  {
   "cell_type": "markdown",
   "metadata": {},
   "source": [
    "## ⬇️📦 Imports Necesarios"
   ]
  },
  {
   "cell_type": "code",
   "execution_count": null,
   "metadata": {},
   "outputs": [],
   "source": [
    "import pandas as pd\n",
    "import matplotlib.pyplot as plt\n",
    "import numpy as np\n",
    "from datetime import datetime"
   ]
  },
  {
   "cell_type": "markdown",
   "metadata": {},
   "source": [
    "## 1. Utiliza ``pandas`` para cargar os datos nun DataFrame e preparalos para a análise.\n",
    "    Ten en conta que será necesario preprocesar o dataset para o correcto funcionamiento do DataFrame. Douche unhas pistas: \n",
    "    - As datas están organizadas en sentido inverso, é decir aparecen primeiro as datas mais recentes. \n",
    "    - Por defecto o valor das datas é un string, deberás formatearlo correctamente para que o DataFrame o identifique en formato ``datetime``.\n",
    "    - Os valores no campo \"Total\" separan os valores decimais por \",\", para poder facer o casting a float debedes camialos por \".\"."
   ]
  },
  {
   "cell_type": "markdown",
   "metadata": {},
   "source": [
    "### Leer el fichero csv y, con esto, obtener nuestro dataframe."
   ]
  },
  {
   "cell_type": "code",
   "execution_count": null,
   "metadata": {},
   "outputs": [
    {
     "data": {
      "text/html": [
       "<div>\n",
       "<style scoped>\n",
       "    .dataframe tbody tr th:only-of-type {\n",
       "        vertical-align: middle;\n",
       "    }\n",
       "\n",
       "    .dataframe tbody tr th {\n",
       "        vertical-align: top;\n",
       "    }\n",
       "\n",
       "    .dataframe thead th {\n",
       "        text-align: right;\n",
       "    }\n",
       "</style>\n",
       "<table border=\"1\" class=\"dataframe\">\n",
       "  <thead>\n",
       "    <tr style=\"text-align: right;\">\n",
       "      <th></th>\n",
       "      <th>Clases</th>\n",
       "      <th>Tipo de dato</th>\n",
       "      <th>Periodo</th>\n",
       "      <th>Total</th>\n",
       "    </tr>\n",
       "  </thead>\n",
       "  <tbody>\n",
       "    <tr>\n",
       "      <th>0</th>\n",
       "      <td>Índice general</td>\n",
       "      <td>Índice</td>\n",
       "      <td>2025M01</td>\n",
       "      <td>116,733</td>\n",
       "    </tr>\n",
       "    <tr>\n",
       "      <th>1</th>\n",
       "      <td>Índice general</td>\n",
       "      <td>Índice</td>\n",
       "      <td>2024M12</td>\n",
       "      <td>116,534</td>\n",
       "    </tr>\n",
       "    <tr>\n",
       "      <th>2</th>\n",
       "      <td>Índice general</td>\n",
       "      <td>Índice</td>\n",
       "      <td>2024M11</td>\n",
       "      <td>116,01</td>\n",
       "    </tr>\n",
       "    <tr>\n",
       "      <th>3</th>\n",
       "      <td>Índice general</td>\n",
       "      <td>Índice</td>\n",
       "      <td>2024M10</td>\n",
       "      <td>115,726</td>\n",
       "    </tr>\n",
       "    <tr>\n",
       "      <th>4</th>\n",
       "      <td>Índice general</td>\n",
       "      <td>Índice</td>\n",
       "      <td>2024M09</td>\n",
       "      <td>115,009</td>\n",
       "    </tr>\n",
       "    <tr>\n",
       "      <th>...</th>\n",
       "      <td>...</td>\n",
       "      <td>...</td>\n",
       "      <td>...</td>\n",
       "      <td>...</td>\n",
       "    </tr>\n",
       "    <tr>\n",
       "      <th>103039</th>\n",
       "      <td>1270 Otros servicios n.c.o.p.</td>\n",
       "      <td>Variación en lo que va de año</td>\n",
       "      <td>2002M05</td>\n",
       "      <td>2,3</td>\n",
       "    </tr>\n",
       "    <tr>\n",
       "      <th>103040</th>\n",
       "      <td>1270 Otros servicios n.c.o.p.</td>\n",
       "      <td>Variación en lo que va de año</td>\n",
       "      <td>2002M04</td>\n",
       "      <td>2,2</td>\n",
       "    </tr>\n",
       "    <tr>\n",
       "      <th>103041</th>\n",
       "      <td>1270 Otros servicios n.c.o.p.</td>\n",
       "      <td>Variación en lo que va de año</td>\n",
       "      <td>2002M03</td>\n",
       "      <td>2,2</td>\n",
       "    </tr>\n",
       "    <tr>\n",
       "      <th>103042</th>\n",
       "      <td>1270 Otros servicios n.c.o.p.</td>\n",
       "      <td>Variación en lo que va de año</td>\n",
       "      <td>2002M02</td>\n",
       "      <td>1,9</td>\n",
       "    </tr>\n",
       "    <tr>\n",
       "      <th>103043</th>\n",
       "      <td>1270 Otros servicios n.c.o.p.</td>\n",
       "      <td>Variación en lo que va de año</td>\n",
       "      <td>2002M01</td>\n",
       "      <td>1,5</td>\n",
       "    </tr>\n",
       "  </tbody>\n",
       "</table>\n",
       "<p>103044 rows × 4 columns</p>\n",
       "</div>"
      ],
      "text/plain": [
       "                               Clases                   Tipo de dato  Periodo  \\\n",
       "0                      Índice general                         Índice  2025M01   \n",
       "1                      Índice general                         Índice  2024M12   \n",
       "2                      Índice general                         Índice  2024M11   \n",
       "3                      Índice general                         Índice  2024M10   \n",
       "4                      Índice general                         Índice  2024M09   \n",
       "...                               ...                            ...      ...   \n",
       "103039  1270 Otros servicios n.c.o.p.  Variación en lo que va de año  2002M05   \n",
       "103040  1270 Otros servicios n.c.o.p.  Variación en lo que va de año  2002M04   \n",
       "103041  1270 Otros servicios n.c.o.p.  Variación en lo que va de año  2002M03   \n",
       "103042  1270 Otros servicios n.c.o.p.  Variación en lo que va de año  2002M02   \n",
       "103043  1270 Otros servicios n.c.o.p.  Variación en lo que va de año  2002M01   \n",
       "\n",
       "          Total  \n",
       "0       116,733  \n",
       "1       116,534  \n",
       "2        116,01  \n",
       "3       115,726  \n",
       "4       115,009  \n",
       "...         ...  \n",
       "103039      2,3  \n",
       "103040      2,2  \n",
       "103041      2,2  \n",
       "103042      1,9  \n",
       "103043      1,5  \n",
       "\n",
       "[103044 rows x 4 columns]"
      ]
     },
     "execution_count": 2,
     "metadata": {},
     "output_type": "execute_result"
    }
   ],
   "source": [
    "df = pd.read_csv(\"ipc.csv\",sep=\"\\t\")\n",
    "\n",
    "df\n"
   ]
  },
  {
   "cell_type": "markdown",
   "metadata": {},
   "source": [
    "### ➿ Reemplezar las comas por puntos"
   ]
  },
  {
   "cell_type": "code",
   "execution_count": null,
   "metadata": {},
   "outputs": [],
   "source": [
    "df['Total'] = df['Total'].replace(',','.', regex=True)\n",
    "\n"
   ]
  },
  {
   "cell_type": "markdown",
   "metadata": {},
   "source": [
    "### 🔄 Llenar los valores vacíos con 0"
   ]
  },
  {
   "cell_type": "code",
   "execution_count": null,
   "metadata": {},
   "outputs": [],
   "source": [
    "df.fillna(0.0, inplace=True) "
   ]
  },
  {
   "cell_type": "markdown",
   "metadata": {},
   "source": [
    "### 🔄 Parsear los valores de la columna 'Total' a float"
   ]
  },
  {
   "cell_type": "code",
   "execution_count": null,
   "metadata": {},
   "outputs": [],
   "source": [
    "df[\"Total\"] = pd.to_numeric(df['Total'],errors='coerce').astype(np.float32)"
   ]
  },
  {
   "cell_type": "markdown",
   "metadata": {},
   "source": [
    "### 📆 Formatear las fechas de la columna 'Periodo'"
   ]
  },
  {
   "cell_type": "code",
   "execution_count": null,
   "metadata": {},
   "outputs": [],
   "source": [
    "df['Periodo'] = df['Periodo'].apply(lambda x: datetime.strptime(x,'%YM%m'))\n"
   ]
  },
  {
   "cell_type": "markdown",
   "metadata": {},
   "source": [
    "### ✅ Dataframe preparado para operar"
   ]
  },
  {
   "cell_type": "code",
   "execution_count": null,
   "metadata": {},
   "outputs": [
    {
     "data": {
      "text/html": [
       "<div>\n",
       "<style scoped>\n",
       "    .dataframe tbody tr th:only-of-type {\n",
       "        vertical-align: middle;\n",
       "    }\n",
       "\n",
       "    .dataframe tbody tr th {\n",
       "        vertical-align: top;\n",
       "    }\n",
       "\n",
       "    .dataframe thead th {\n",
       "        text-align: right;\n",
       "    }\n",
       "</style>\n",
       "<table border=\"1\" class=\"dataframe\">\n",
       "  <thead>\n",
       "    <tr style=\"text-align: right;\">\n",
       "      <th></th>\n",
       "      <th>Clases</th>\n",
       "      <th>Tipo de dato</th>\n",
       "      <th>Periodo</th>\n",
       "      <th>Total</th>\n",
       "    </tr>\n",
       "  </thead>\n",
       "  <tbody>\n",
       "    <tr>\n",
       "      <th>0</th>\n",
       "      <td>Índice general</td>\n",
       "      <td>Índice</td>\n",
       "      <td>2025-01-01</td>\n",
       "      <td>116.733002</td>\n",
       "    </tr>\n",
       "    <tr>\n",
       "      <th>1</th>\n",
       "      <td>Índice general</td>\n",
       "      <td>Índice</td>\n",
       "      <td>2024-12-01</td>\n",
       "      <td>116.533997</td>\n",
       "    </tr>\n",
       "    <tr>\n",
       "      <th>2</th>\n",
       "      <td>Índice general</td>\n",
       "      <td>Índice</td>\n",
       "      <td>2024-11-01</td>\n",
       "      <td>116.010002</td>\n",
       "    </tr>\n",
       "    <tr>\n",
       "      <th>3</th>\n",
       "      <td>Índice general</td>\n",
       "      <td>Índice</td>\n",
       "      <td>2024-10-01</td>\n",
       "      <td>115.725998</td>\n",
       "    </tr>\n",
       "    <tr>\n",
       "      <th>4</th>\n",
       "      <td>Índice general</td>\n",
       "      <td>Índice</td>\n",
       "      <td>2024-09-01</td>\n",
       "      <td>115.009003</td>\n",
       "    </tr>\n",
       "    <tr>\n",
       "      <th>...</th>\n",
       "      <td>...</td>\n",
       "      <td>...</td>\n",
       "      <td>...</td>\n",
       "      <td>...</td>\n",
       "    </tr>\n",
       "    <tr>\n",
       "      <th>103039</th>\n",
       "      <td>1270 Otros servicios n.c.o.p.</td>\n",
       "      <td>Variación en lo que va de año</td>\n",
       "      <td>2002-05-01</td>\n",
       "      <td>2.300000</td>\n",
       "    </tr>\n",
       "    <tr>\n",
       "      <th>103040</th>\n",
       "      <td>1270 Otros servicios n.c.o.p.</td>\n",
       "      <td>Variación en lo que va de año</td>\n",
       "      <td>2002-04-01</td>\n",
       "      <td>2.200000</td>\n",
       "    </tr>\n",
       "    <tr>\n",
       "      <th>103041</th>\n",
       "      <td>1270 Otros servicios n.c.o.p.</td>\n",
       "      <td>Variación en lo que va de año</td>\n",
       "      <td>2002-03-01</td>\n",
       "      <td>2.200000</td>\n",
       "    </tr>\n",
       "    <tr>\n",
       "      <th>103042</th>\n",
       "      <td>1270 Otros servicios n.c.o.p.</td>\n",
       "      <td>Variación en lo que va de año</td>\n",
       "      <td>2002-02-01</td>\n",
       "      <td>1.900000</td>\n",
       "    </tr>\n",
       "    <tr>\n",
       "      <th>103043</th>\n",
       "      <td>1270 Otros servicios n.c.o.p.</td>\n",
       "      <td>Variación en lo que va de año</td>\n",
       "      <td>2002-01-01</td>\n",
       "      <td>1.500000</td>\n",
       "    </tr>\n",
       "  </tbody>\n",
       "</table>\n",
       "<p>103044 rows × 4 columns</p>\n",
       "</div>"
      ],
      "text/plain": [
       "                               Clases                   Tipo de dato  \\\n",
       "0                      Índice general                         Índice   \n",
       "1                      Índice general                         Índice   \n",
       "2                      Índice general                         Índice   \n",
       "3                      Índice general                         Índice   \n",
       "4                      Índice general                         Índice   \n",
       "...                               ...                            ...   \n",
       "103039  1270 Otros servicios n.c.o.p.  Variación en lo que va de año   \n",
       "103040  1270 Otros servicios n.c.o.p.  Variación en lo que va de año   \n",
       "103041  1270 Otros servicios n.c.o.p.  Variación en lo que va de año   \n",
       "103042  1270 Otros servicios n.c.o.p.  Variación en lo que va de año   \n",
       "103043  1270 Otros servicios n.c.o.p.  Variación en lo que va de año   \n",
       "\n",
       "          Periodo       Total  \n",
       "0      2025-01-01  116.733002  \n",
       "1      2024-12-01  116.533997  \n",
       "2      2024-11-01  116.010002  \n",
       "3      2024-10-01  115.725998  \n",
       "4      2024-09-01  115.009003  \n",
       "...           ...         ...  \n",
       "103039 2002-05-01    2.300000  \n",
       "103040 2002-04-01    2.200000  \n",
       "103041 2002-03-01    2.200000  \n",
       "103042 2002-02-01    1.900000  \n",
       "103043 2002-01-01    1.500000  \n",
       "\n",
       "[103044 rows x 4 columns]"
      ]
     },
     "execution_count": 7,
     "metadata": {},
     "output_type": "execute_result"
    }
   ],
   "source": [
    "df"
   ]
  },
  {
   "cell_type": "markdown",
   "metadata": {},
   "source": [
    "## 2. Determina os 5 produtos que máis incrementaron de prezo no ano 2024. (Usa o tipo de dato \"Variación anual\")\n"
   ]
  },
  {
   "cell_type": "code",
   "execution_count": null,
   "metadata": {},
   "outputs": [
    {
     "data": {
      "text/html": [
       "<div>\n",
       "<style scoped>\n",
       "    .dataframe tbody tr th:only-of-type {\n",
       "        vertical-align: middle;\n",
       "    }\n",
       "\n",
       "    .dataframe tbody tr th {\n",
       "        vertical-align: top;\n",
       "    }\n",
       "\n",
       "    .dataframe thead th {\n",
       "        text-align: right;\n",
       "    }\n",
       "</style>\n",
       "<table border=\"1\" class=\"dataframe\">\n",
       "  <thead>\n",
       "    <tr style=\"text-align: right;\">\n",
       "      <th></th>\n",
       "      <th>Clases</th>\n",
       "      <th>Tipo de dato</th>\n",
       "      <th>Periodo</th>\n",
       "      <th>Total</th>\n",
       "    </tr>\n",
       "  </thead>\n",
       "  <tbody>\n",
       "    <tr>\n",
       "      <th>0</th>\n",
       "      <td>0115 Aceites y grasas</td>\n",
       "      <td>Variación anual</td>\n",
       "      <td>2024-12-01</td>\n",
       "      <td>49.099998</td>\n",
       "    </tr>\n",
       "    <tr>\n",
       "      <th>1</th>\n",
       "      <td>0734 Transporte de pasajeros por mar y por vía...</td>\n",
       "      <td>Variación anual</td>\n",
       "      <td>2024-12-01</td>\n",
       "      <td>41.900002</td>\n",
       "    </tr>\n",
       "    <tr>\n",
       "      <th>2</th>\n",
       "      <td>0451 Electricidad</td>\n",
       "      <td>Variación anual</td>\n",
       "      <td>2024-12-01</td>\n",
       "      <td>19.799999</td>\n",
       "    </tr>\n",
       "    <tr>\n",
       "      <th>3</th>\n",
       "      <td>0960 Paquetes turísticos</td>\n",
       "      <td>Variación anual</td>\n",
       "      <td>2024-12-01</td>\n",
       "      <td>14.600000</td>\n",
       "    </tr>\n",
       "    <tr>\n",
       "      <th>4</th>\n",
       "      <td>0116 Frutas</td>\n",
       "      <td>Variación anual</td>\n",
       "      <td>2024-12-01</td>\n",
       "      <td>13.600000</td>\n",
       "    </tr>\n",
       "  </tbody>\n",
       "</table>\n",
       "</div>"
      ],
      "text/plain": [
       "                                              Clases     Tipo de dato  \\\n",
       "0                              0115 Aceites y grasas  Variación anual   \n",
       "1  0734 Transporte de pasajeros por mar y por vía...  Variación anual   \n",
       "2                                  0451 Electricidad  Variación anual   \n",
       "3                           0960 Paquetes turísticos  Variación anual   \n",
       "4                                        0116 Frutas  Variación anual   \n",
       "\n",
       "     Periodo      Total  \n",
       "0 2024-12-01  49.099998  \n",
       "1 2024-12-01  41.900002  \n",
       "2 2024-12-01  19.799999  \n",
       "3 2024-12-01  14.600000  \n",
       "4 2024-12-01  13.600000  "
      ]
     },
     "execution_count": 8,
     "metadata": {},
     "output_type": "execute_result"
    }
   ],
   "source": [
    "\n",
    "\n",
    "df2 = df[df['Periodo'].dt.strftime('%Y')=='2024']\n",
    "df2 = df2.loc[df2['Tipo de dato'] == 'Variación anual']\n",
    "\n",
    "df2.groupby(\"Clases\").max().sort_values(by='Total',ascending=False).head(5).reset_index()\n",
    "\n",
    "\n",
    "#df2 = df.loc[(df['Periodo'].dt.strftime('%Y')=='2024') & (df['Tipo de dato'] == 'Variación anual')].groupby(\"Clases\").max().reset_index().sort_values(by='Total',ascending=False).head(5)\n"
   ]
  },
  {
   "cell_type": "markdown",
   "metadata": {},
   "source": [
    "## 3. Representa a evolución do valor do tipo de dato \"Índice\" dos 5 produtos anteriores nunha gráfica. "
   ]
  },
  {
   "cell_type": "code",
   "execution_count": null,
   "metadata": {},
   "outputs": [
    {
     "data": {
      "image/png": "[encoded data removed]",
      "text/plain": [
       "<Figure size 1200x600 with 1 Axes>"
      ]
     },
     "metadata": {},
     "output_type": "display_data"
    }
   ],
   "source": [
    "#df3 = df.loc[(df['Periodo'].dt.strftime('%Y')=='2024') & (df['Tipo de dato'] == 'Índice')].groupby(\"Clases\").max().reset_index().sort_values(by='Total',ascending=False).head(5)\n",
    "\n",
    "\n",
    "df_aceite = df.loc[(df['Clases'] == '0115 Aceites y grasas' ) & (df['Tipo de dato'] == 'Índice') & (df['Periodo'].dt.strftime('%Y')=='2024')].sort_values(by='Periodo')\n",
    "df_transporte = df.loc[(df['Clases'] == '0734 Transporte de pasajeros por mar y por vías navegables interiores' ) & (df['Tipo de dato'] == 'Índice')& (df['Periodo'].dt.strftime('%Y')=='2024')].sort_values(by='Periodo')\n",
    "df_electricidad = df.loc[(df['Clases'] == '0451 Electricidad' ) & (df['Tipo de dato'] == 'Índice') & (df['Periodo'].dt.strftime('%Y')=='2024')].sort_values(by='Periodo')\n",
    "df_paquetes_turiticos = df.loc[(df['Clases'] == '0960 Paquetes turísticos' ) & (df['Tipo de dato'] == 'Índice') & (df['Periodo'].dt.strftime('%Y')=='2024')].sort_values(by='Periodo')\n",
    "df_frutas = df.loc[(df['Clases'] == '0116 Frutas' ) & (df['Tipo de dato'] == 'Índice') & (df['Periodo'].dt.strftime('%Y')=='2024')].sort_values(by='Periodo')\n",
    "\n",
    "\n",
    "\n",
    "df\n",
    "\n",
    "\n",
    "\n",
    "\n",
    "x = pd.to_datetime(df_aceite[\"Periodo\"])\n",
    "\n",
    "y_aceite = df_aceite['Total']\n",
    "y_transporte = df_transporte['Total']\n",
    "y_electricidad = df_electricidad['Total']\n",
    "y_paquetes_turiticos = df_paquetes_turiticos['Total']\n",
    "y_frutas = df_frutas['Total']\n",
    "\n",
    "\n",
    "plt.figure(figsize=(12,6))\n",
    "plt.xlabel('2024')\n",
    "plt.ylabel('Total')\n",
    "plt.title(\"Productos\")\n",
    "plt.plot(x.dt.month,y_aceite,label=\"Aceite\")\n",
    "plt.plot(x.dt.month,y_transporte,label=\"Transporte mar y vías interiores\")\n",
    "plt.plot(x.dt.month,y_electricidad,label=\"Electricidad\")\n",
    "plt.plot(x.dt.month,y_paquetes_turiticos,label=\"Paquetes Turísticos\")\n",
    "plt.plot(x.dt.month,y_frutas,label=\"Frutas\")\n",
    "plt.legend()\n",
    "\n",
    "plt.show()\n",
    "\n"
   ]
  },
  {
   "cell_type": "markdown",
   "metadata": {},
   "source": [
    "## 4. Determina o ano co máximo valor de incremento medio considerando todos os produtos. (Usa o tipo de dato \"Variación anual\")\n"
   ]
  },
  {
   "cell_type": "code",
   "execution_count": 71,
   "metadata": {},
   "outputs": [
    {
     "data": {
      "text/plain": [
       "Total               107.800003\n",
       "Periodo    2025-01-01 00:00:00\n",
       "Clases          Índice general\n",
       "dtype: object"
      ]
     },
     "execution_count": 71,
     "metadata": {},
     "output_type": "execute_result"
    }
   ],
   "source": [
    "\n",
    "\n",
    "df4 = df.loc[df['Tipo de dato'] == 'Variación anual']\n",
    "\n",
    "\n",
    "df4[['Total','Periodo','Clases']].max()\n",
    "\n",
    "\n"
   ]
  }
 ],
 "metadata": {
  "kernelspec": {
   "display_name": "bigdata",
   "language": "python",
   "name": "python3"
  },
  "language_info": {
   "codemirror_mode": {
    "name": "ipython",
    "version": 3
   },
   "file_extension": ".py",
   "mimetype": "text/x-python",
   "name": "python",
   "nbconvert_exporter": "python",
   "pygments_lexer": "ipython3",
   "version": "3.12.3"
  }
 },
 "nbformat": 4,
 "nbformat_minor": 2
}
