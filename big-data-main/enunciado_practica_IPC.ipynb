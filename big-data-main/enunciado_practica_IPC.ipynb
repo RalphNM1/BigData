{
 "cells": [
  {
   "cell_type": "markdown",
   "metadata": {
    "vscode": {
     "languageId": "plaintext"
    }
   },
   "source": [
    "# Práctica: Análise de Datos Temporais con Pandas\n",
    "\n",
    "\n",
    "Nesta práctica, traballaredes con datos do Instituto Nacional de Estatística (INE) sobre a evolución dos prezos do IPC de diferentes produtos. \n",
    "\n",
    "Sobre o dataset:\n",
    "\n",
    "- Índice: expresa un valor en base 100 (sobre un ano de referencia).\n",
    "- Variación anual: compara o mes actual co o mesmo mes do ano anterior.\n",
    "- Variación en lo que va de año: compara o mes actual co mes de xaneiro do mesmo ano.\n",
    "- Vairación mensual: compara o valor co mes anterior.\n",
    "\n",
    "## Preparación\n",
    "\n",
    "- Descarga dos datos: Accede á ligazón proporcionada e descarga os datos en calquer formato compatible con Pandas (XML, CSV, JSON) [https://datos.gob.es/es/catalogo/ea0010587-indices-nacionales-de-clases-ipc-identificador-api-509041](https://datos.gob.es/es/catalogo/ea0010587-indices-nacionales-de-clases-ipc-identificador-api-509041)\n",
    "\n",
    "- Utiliza un entorno conda que teña instalado ``pandas`` e ``matplotlib``.\n",
    "\n",
    "## Descrición\n",
    "\n",
    "1. Utiliza ``pandas`` para cargar os datos nun DataFrame e preparalos para a análise.\n",
    "    Ten en conta que será necesario preprocesar o dataset para o correcto funcionamiento do DataFrame. Douche unhas pistas: \n",
    "    - As datas están organizadas en sentido inverso, é decir aparecen primeiro as datas mais recentes. \n",
    "    - Por defecto o valor das datas é un string, deberás formatearlo correctamente para que o DataFrame o identifique en formato ``datetime``.\n",
    "    - Os valores no campo \"Total\" separan os valores decimais por \",\", para poder facer o casting a float debedes camialos por \".\".\n",
    "\n",
    "2. Determina os 5 produtos que máis incrementaron de prezo no ano 2024. (Usa o tipo de dato \"Variación anual\")\n",
    "\n",
    "3. Representa a evolución do valor do tipo de dato \"Índice\" dos 5 produtos anteriores nunha gráfica. \n",
    "\n",
    "4. Determina o ano co máximo valor de incremento medio considerando todos os produtos. (Usa o tipo de dato \"Variación anual\")\n",
    "\n",
    "\n",
    "## Entrega\n",
    "\n",
    "Debedes entregar un script en Python onde se realicen todos os pasos descritos e engadir a gráfica obtenida en formato .png.\n",
    "\n"
   ]
  },
  {
   "cell_type": "markdown",
   "metadata": {},
   "source": [
    "## Imports Necesarios"
   ]
  },
  {
   "cell_type": "code",
   "execution_count": 167,
   "metadata": {},
   "outputs": [],
   "source": [
    "import pandas as pd\n",
    "import matplotlib.pyplot as plt\n",
    "import numpy as np\n",
    "import unidecode\n",
    "from datetime import datetime"
   ]
  },
  {
   "cell_type": "markdown",
   "metadata": {},
   "source": [
    "## 1. Utiliza ``pandas`` para cargar os datos nun DataFrame e preparalos para a análise.\n",
    "    Ten en conta que será necesario preprocesar o dataset para o correcto funcionamiento do DataFrame. Douche unhas pistas: \n",
    "    - As datas están organizadas en sentido inverso, é decir aparecen primeiro as datas mais recentes. \n",
    "    - Por defecto o valor das datas é un string, deberás formatearlo correctamente para que o DataFrame o identifique en formato ``datetime``.\n",
    "    - Os valores no campo \"Total\" separan os valores decimais por \",\", para poder facer o casting a float debedes camialos por \".\"."
   ]
  },
  {
   "cell_type": "markdown",
   "metadata": {},
   "source": [
    "### Leer el fichero csv y, con esto, obtener nuestro dataframe."
   ]
  },
  {
   "cell_type": "code",
   "execution_count": 168,
   "metadata": {},
   "outputs": [
    {
     "data": {
      "text/html": [
       "<div>\n",
       "<style scoped>\n",
       "    .dataframe tbody tr th:only-of-type {\n",
       "        vertical-align: middle;\n",
       "    }\n",
       "\n",
       "    .dataframe tbody tr th {\n",
       "        vertical-align: top;\n",
       "    }\n",
       "\n",
       "    .dataframe thead th {\n",
       "        text-align: right;\n",
       "    }\n",
       "</style>\n",
       "<table border=\"1\" class=\"dataframe\">\n",
       "  <thead>\n",
       "    <tr style=\"text-align: right;\">\n",
       "      <th></th>\n",
       "      <th>Clases</th>\n",
       "      <th>Tipo de dato</th>\n",
       "      <th>Periodo</th>\n",
       "      <th>Total</th>\n",
       "    </tr>\n",
       "  </thead>\n",
       "  <tbody>\n",
       "    <tr>\n",
       "      <th>0</th>\n",
       "      <td>Índice general</td>\n",
       "      <td>Índice</td>\n",
       "      <td>2025M01</td>\n",
       "      <td>116,733</td>\n",
       "    </tr>\n",
       "    <tr>\n",
       "      <th>1</th>\n",
       "      <td>Índice general</td>\n",
       "      <td>Índice</td>\n",
       "      <td>2024M12</td>\n",
       "      <td>116,534</td>\n",
       "    </tr>\n",
       "    <tr>\n",
       "      <th>2</th>\n",
       "      <td>Índice general</td>\n",
       "      <td>Índice</td>\n",
       "      <td>2024M11</td>\n",
       "      <td>116,01</td>\n",
       "    </tr>\n",
       "    <tr>\n",
       "      <th>3</th>\n",
       "      <td>Índice general</td>\n",
       "      <td>Índice</td>\n",
       "      <td>2024M10</td>\n",
       "      <td>115,726</td>\n",
       "    </tr>\n",
       "    <tr>\n",
       "      <th>4</th>\n",
       "      <td>Índice general</td>\n",
       "      <td>Índice</td>\n",
       "      <td>2024M09</td>\n",
       "      <td>115,009</td>\n",
       "    </tr>\n",
       "    <tr>\n",
       "      <th>...</th>\n",
       "      <td>...</td>\n",
       "      <td>...</td>\n",
       "      <td>...</td>\n",
       "      <td>...</td>\n",
       "    </tr>\n",
       "    <tr>\n",
       "      <th>103039</th>\n",
       "      <td>1270 Otros servicios n.c.o.p.</td>\n",
       "      <td>Variación en lo que va de año</td>\n",
       "      <td>2002M05</td>\n",
       "      <td>2,3</td>\n",
       "    </tr>\n",
       "    <tr>\n",
       "      <th>103040</th>\n",
       "      <td>1270 Otros servicios n.c.o.p.</td>\n",
       "      <td>Variación en lo que va de año</td>\n",
       "      <td>2002M04</td>\n",
       "      <td>2,2</td>\n",
       "    </tr>\n",
       "    <tr>\n",
       "      <th>103041</th>\n",
       "      <td>1270 Otros servicios n.c.o.p.</td>\n",
       "      <td>Variación en lo que va de año</td>\n",
       "      <td>2002M03</td>\n",
       "      <td>2,2</td>\n",
       "    </tr>\n",
       "    <tr>\n",
       "      <th>103042</th>\n",
       "      <td>1270 Otros servicios n.c.o.p.</td>\n",
       "      <td>Variación en lo que va de año</td>\n",
       "      <td>2002M02</td>\n",
       "      <td>1,9</td>\n",
       "    </tr>\n",
       "    <tr>\n",
       "      <th>103043</th>\n",
       "      <td>1270 Otros servicios n.c.o.p.</td>\n",
       "      <td>Variación en lo que va de año</td>\n",
       "      <td>2002M01</td>\n",
       "      <td>1,5</td>\n",
       "    </tr>\n",
       "  </tbody>\n",
       "</table>\n",
       "<p>103044 rows × 4 columns</p>\n",
       "</div>"
      ],
      "text/plain": [
       "                               Clases                   Tipo de dato  Periodo  \\\n",
       "0                      Índice general                         Índice  2025M01   \n",
       "1                      Índice general                         Índice  2024M12   \n",
       "2                      Índice general                         Índice  2024M11   \n",
       "3                      Índice general                         Índice  2024M10   \n",
       "4                      Índice general                         Índice  2024M09   \n",
       "...                               ...                            ...      ...   \n",
       "103039  1270 Otros servicios n.c.o.p.  Variación en lo que va de año  2002M05   \n",
       "103040  1270 Otros servicios n.c.o.p.  Variación en lo que va de año  2002M04   \n",
       "103041  1270 Otros servicios n.c.o.p.  Variación en lo que va de año  2002M03   \n",
       "103042  1270 Otros servicios n.c.o.p.  Variación en lo que va de año  2002M02   \n",
       "103043  1270 Otros servicios n.c.o.p.  Variación en lo que va de año  2002M01   \n",
       "\n",
       "          Total  \n",
       "0       116,733  \n",
       "1       116,534  \n",
       "2        116,01  \n",
       "3       115,726  \n",
       "4       115,009  \n",
       "...         ...  \n",
       "103039      2,3  \n",
       "103040      2,2  \n",
       "103041      2,2  \n",
       "103042      1,9  \n",
       "103043      1,5  \n",
       "\n",
       "[103044 rows x 4 columns]"
      ]
     },
     "execution_count": 168,
     "metadata": {},
     "output_type": "execute_result"
    }
   ],
   "source": [
    "df = pd.read_csv(\"ipc.csv\",sep=\"\\t\")\n",
    "\n",
    "df\n"
   ]
  },
  {
   "cell_type": "markdown",
   "metadata": {},
   "source": [
    "### Reemplezar las comas por puntos"
   ]
  },
  {
   "cell_type": "code",
   "execution_count": 169,
   "metadata": {},
   "outputs": [],
   "source": [
    "df['Total'] = df['Total'].replace(',','.', regex=True)\n",
    "\n"
   ]
  },
  {
   "cell_type": "markdown",
   "metadata": {},
   "source": [
    "### Llenar los valores vacíos con 0"
   ]
  },
  {
   "cell_type": "code",
   "execution_count": 170,
   "metadata": {},
   "outputs": [],
   "source": [
    "df.fillna(0.0, inplace=True) "
   ]
  },
  {
   "cell_type": "markdown",
   "metadata": {},
   "source": [
    "### Parsear los valores de la columna 'Total' a float"
   ]
  },
  {
   "cell_type": "code",
   "execution_count": 171,
   "metadata": {},
   "outputs": [],
   "source": [
    "df[\"Total\"] = pd.to_numeric(df['Total'],errors='coerce').astype(np.float32)"
   ]
  },
  {
   "cell_type": "markdown",
   "metadata": {},
   "source": [
    "### Formatear las fechas de la columna 'Periodo'"
   ]
  },
  {
   "cell_type": "code",
   "execution_count": 172,
   "metadata": {},
   "outputs": [],
   "source": [
    "df['Periodo'] = df['Periodo'].apply(lambda x: datetime.strptime(x,'%YM%m'))\n",
    "#df['Periodo'] = df['Periodo'].apply(lambda x: datetime.fromtimestamp(x))"
   ]
  },
  {
   "cell_type": "markdown",
   "metadata": {},
   "source": [
    "### Dataframe preparado para operar"
   ]
  },
  {
   "cell_type": "code",
   "execution_count": 173,
   "metadata": {},
   "outputs": [
    {
     "data": {
      "text/html": [
       "<div>\n",
       "<style scoped>\n",
       "    .dataframe tbody tr th:only-of-type {\n",
       "        vertical-align: middle;\n",
       "    }\n",
       "\n",
       "    .dataframe tbody tr th {\n",
       "        vertical-align: top;\n",
       "    }\n",
       "\n",
       "    .dataframe thead th {\n",
       "        text-align: right;\n",
       "    }\n",
       "</style>\n",
       "<table border=\"1\" class=\"dataframe\">\n",
       "  <thead>\n",
       "    <tr style=\"text-align: right;\">\n",
       "      <th></th>\n",
       "      <th>Clases</th>\n",
       "      <th>Tipo de dato</th>\n",
       "      <th>Periodo</th>\n",
       "      <th>Total</th>\n",
       "    </tr>\n",
       "  </thead>\n",
       "  <tbody>\n",
       "    <tr>\n",
       "      <th>0</th>\n",
       "      <td>Índice general</td>\n",
       "      <td>Índice</td>\n",
       "      <td>2025-01-01</td>\n",
       "      <td>116.733002</td>\n",
       "    </tr>\n",
       "    <tr>\n",
       "      <th>1</th>\n",
       "      <td>Índice general</td>\n",
       "      <td>Índice</td>\n",
       "      <td>2024-12-01</td>\n",
       "      <td>116.533997</td>\n",
       "    </tr>\n",
       "    <tr>\n",
       "      <th>2</th>\n",
       "      <td>Índice general</td>\n",
       "      <td>Índice</td>\n",
       "      <td>2024-11-01</td>\n",
       "      <td>116.010002</td>\n",
       "    </tr>\n",
       "    <tr>\n",
       "      <th>3</th>\n",
       "      <td>Índice general</td>\n",
       "      <td>Índice</td>\n",
       "      <td>2024-10-01</td>\n",
       "      <td>115.725998</td>\n",
       "    </tr>\n",
       "    <tr>\n",
       "      <th>4</th>\n",
       "      <td>Índice general</td>\n",
       "      <td>Índice</td>\n",
       "      <td>2024-09-01</td>\n",
       "      <td>115.009003</td>\n",
       "    </tr>\n",
       "    <tr>\n",
       "      <th>...</th>\n",
       "      <td>...</td>\n",
       "      <td>...</td>\n",
       "      <td>...</td>\n",
       "      <td>...</td>\n",
       "    </tr>\n",
       "    <tr>\n",
       "      <th>103039</th>\n",
       "      <td>1270 Otros servicios n.c.o.p.</td>\n",
       "      <td>Variación en lo que va de año</td>\n",
       "      <td>2002-05-01</td>\n",
       "      <td>2.300000</td>\n",
       "    </tr>\n",
       "    <tr>\n",
       "      <th>103040</th>\n",
       "      <td>1270 Otros servicios n.c.o.p.</td>\n",
       "      <td>Variación en lo que va de año</td>\n",
       "      <td>2002-04-01</td>\n",
       "      <td>2.200000</td>\n",
       "    </tr>\n",
       "    <tr>\n",
       "      <th>103041</th>\n",
       "      <td>1270 Otros servicios n.c.o.p.</td>\n",
       "      <td>Variación en lo que va de año</td>\n",
       "      <td>2002-03-01</td>\n",
       "      <td>2.200000</td>\n",
       "    </tr>\n",
       "    <tr>\n",
       "      <th>103042</th>\n",
       "      <td>1270 Otros servicios n.c.o.p.</td>\n",
       "      <td>Variación en lo que va de año</td>\n",
       "      <td>2002-02-01</td>\n",
       "      <td>1.900000</td>\n",
       "    </tr>\n",
       "    <tr>\n",
       "      <th>103043</th>\n",
       "      <td>1270 Otros servicios n.c.o.p.</td>\n",
       "      <td>Variación en lo que va de año</td>\n",
       "      <td>2002-01-01</td>\n",
       "      <td>1.500000</td>\n",
       "    </tr>\n",
       "  </tbody>\n",
       "</table>\n",
       "<p>103044 rows × 4 columns</p>\n",
       "</div>"
      ],
      "text/plain": [
       "                               Clases                   Tipo de dato  \\\n",
       "0                      Índice general                         Índice   \n",
       "1                      Índice general                         Índice   \n",
       "2                      Índice general                         Índice   \n",
       "3                      Índice general                         Índice   \n",
       "4                      Índice general                         Índice   \n",
       "...                               ...                            ...   \n",
       "103039  1270 Otros servicios n.c.o.p.  Variación en lo que va de año   \n",
       "103040  1270 Otros servicios n.c.o.p.  Variación en lo que va de año   \n",
       "103041  1270 Otros servicios n.c.o.p.  Variación en lo que va de año   \n",
       "103042  1270 Otros servicios n.c.o.p.  Variación en lo que va de año   \n",
       "103043  1270 Otros servicios n.c.o.p.  Variación en lo que va de año   \n",
       "\n",
       "          Periodo       Total  \n",
       "0      2025-01-01  116.733002  \n",
       "1      2024-12-01  116.533997  \n",
       "2      2024-11-01  116.010002  \n",
       "3      2024-10-01  115.725998  \n",
       "4      2024-09-01  115.009003  \n",
       "...           ...         ...  \n",
       "103039 2002-05-01    2.300000  \n",
       "103040 2002-04-01    2.200000  \n",
       "103041 2002-03-01    2.200000  \n",
       "103042 2002-02-01    1.900000  \n",
       "103043 2002-01-01    1.500000  \n",
       "\n",
       "[103044 rows x 4 columns]"
      ]
     },
     "execution_count": 173,
     "metadata": {},
     "output_type": "execute_result"
    }
   ],
   "source": [
    "df"
   ]
  },
  {
   "cell_type": "markdown",
   "metadata": {},
   "source": [
    "## 2. Determina os 5 produtos que máis incrementaron de prezo no ano 2024. (Usa o tipo de dato \"Variación anual\")\n"
   ]
  },
  {
   "cell_type": "code",
   "execution_count": 229,
   "metadata": {},
   "outputs": [
    {
     "data": {
      "text/html": [
       "<div>\n",
       "<style scoped>\n",
       "    .dataframe tbody tr th:only-of-type {\n",
       "        vertical-align: middle;\n",
       "    }\n",
       "\n",
       "    .dataframe tbody tr th {\n",
       "        vertical-align: top;\n",
       "    }\n",
       "\n",
       "    .dataframe thead th {\n",
       "        text-align: right;\n",
       "    }\n",
       "</style>\n",
       "<table border=\"1\" class=\"dataframe\">\n",
       "  <thead>\n",
       "    <tr style=\"text-align: right;\">\n",
       "      <th></th>\n",
       "      <th>Tipo de dato</th>\n",
       "      <th>Periodo</th>\n",
       "      <th>Total</th>\n",
       "    </tr>\n",
       "    <tr>\n",
       "      <th>Clases</th>\n",
       "      <th></th>\n",
       "      <th></th>\n",
       "      <th></th>\n",
       "    </tr>\n",
       "  </thead>\n",
       "  <tbody>\n",
       "  </tbody>\n",
       "</table>\n",
       "</div>"
      ],
      "text/plain": [
       "Empty DataFrame\n",
       "Columns: [Tipo de dato, Periodo, Total]\n",
       "Index: []"
      ]
     },
     "execution_count": 229,
     "metadata": {},
     "output_type": "execute_result"
    }
   ],
   "source": [
    "df2 = df[df['Periodo'].dt.strftime('%Y')=='2024'].groupby(\"Clases\").max()\n",
    "\n",
    "df2[df2['Tipo de dato'] == \"Variación anual\"]\n",
    "\n",
    "\n",
    "#groupby('LISTA')['TOTAL PERCIBIDO'].sum().reset_index().sort_values(by='TOTAL PERCIBIDO', ascending=False)\n"
   ]
  }
 ],
 "metadata": {
  "kernelspec": {
   "display_name": "bigdata",
   "language": "python",
   "name": "python3"
  },
  "language_info": {
   "codemirror_mode": {
    "name": "ipython",
    "version": 3
   },
   "file_extension": ".py",
   "mimetype": "text/x-python",
   "name": "python",
   "nbconvert_exporter": "python",
   "pygments_lexer": "ipython3",
   "version": "3.12.3"
  }
 },
 "nbformat": 4,
 "nbformat_minor": 2
}
