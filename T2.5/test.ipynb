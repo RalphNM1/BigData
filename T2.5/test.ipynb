{
 "cells": [
  {
   "cell_type": "code",
   "execution_count": 70,
   "metadata": {},
   "outputs": [],
   "source": [
    "import pandas as pd\n",
    "from selenium import webdriver \n",
    "from selenium.webdriver.common.by import By\n",
    "from PIL import Image\n",
    "import re\n",
    "#from Screenshot import Screenshot_clipping\n",
    "\n",
    "driver = webdriver.Firefox()\n",
    "\n",
    "URL = \"https://eumostwanted.eu/\"\n",
    "\n",
    "driver.get(URL)\n",
    "\n",
    "# lista =  driver.find_elements(By.XPATH, \"//div[contains(@class, 'wanted_list')]\")\n",
    "# test =  driver.find_elements(By.XPATH, \"//div[contains(@class, 'wanted_list')]/div[contains(@class, 'wantedItem N1915 EE ')]\")\n",
    "\n",
    "\n",
    "test =  driver.find_elements(By.XPATH, \"//div[contains(@class, 'wantedItem.*$')]\")\n",
    "\n",
    "for i in test:\n",
    "    test\n"
   ]
  },
  {
   "cell_type": "code",
   "execution_count": null,
   "metadata": {},
   "outputs": [],
   "source": []
  }
 ],
 "metadata": {
  "kernelspec": {
   "display_name": "bigdata",
   "language": "python",
   "name": "python3"
  },
  "language_info": {
   "codemirror_mode": {
    "name": "ipython",
    "version": 3
   },
   "file_extension": ".py",
   "mimetype": "text/x-python",
   "name": "python",
   "nbconvert_exporter": "python",
   "pygments_lexer": "ipython3",
   "version": "3.12.3"
  }
 },
 "nbformat": 4,
 "nbformat_minor": 2
}
