{
 "cells": [
  {
   "cell_type": "code",
   "execution_count": null,
   "metadata": {},
   "outputs": [],
   "source": [
    "import pandas as pd\n",
    "from selenium import webdriver \n",
    "from selenium.webdriver.common.by import By\n",
    "from PIL import Image\n",
    "import re\n",
    "\n",
    "import time\n",
    "#from Screenshot import Screenshot_clipping\n",
    "#screenshot_as_png\n",
    "\n",
    "driver = webdriver.Firefox()\n",
    "\n",
    "URL = \"https://eumostwanted.eu/\"\n",
    "\n",
    "driver.get(URL)\n",
    "\n",
    "\n",
    "cookies = driver.find_element(By.ID, 'sort_close')\n",
    "\n",
    "cookies.click() \n",
    "\n",
    "# lista = driver.find_elements(By.CLASS_NAME, 'wanted_list')\n",
    "lista2 = driver.find_elements(By.XPATH, \"//div[starts-with(., 'wantedItem ')]\")\n",
    "\n",
    "\n",
    "\n",
    "\n",
    "# print(lista2)\n",
    "# for i in lista2:\n",
    "#     i.text()\n",
    "#     # y = driver.find_element(By.CLASS_NAME, 'mobile')\n",
    "#     # time.sleep(5)\n",
    "#     # y.click()\n",
    "    \n",
    "for i in lista2:\n",
    "    i.click()\n",
    "    y = driver.find_element(By.CLASS_NAME, 'mobile')\n",
    "    time.sleep(5)\n",
    "    y.click()\n",
    "\n",
    "\n",
    "\n"
   ]
  },
  {
   "cell_type": "code",
   "execution_count": null,
   "metadata": {},
   "outputs": [],
   "source": []
  }
 ],
 "metadata": {
  "kernelspec": {
   "display_name": "bigdata",
   "language": "python",
   "name": "python3"
  },
  "language_info": {
   "codemirror_mode": {
    "name": "ipython",
    "version": 3
   },
   "file_extension": ".py",
   "mimetype": "text/x-python",
   "name": "python",
   "nbconvert_exporter": "python",
   "pygments_lexer": "ipython3",
   "version": "3.12.3"
  }
 },
 "nbformat": 4,
 "nbformat_minor": 2
}
