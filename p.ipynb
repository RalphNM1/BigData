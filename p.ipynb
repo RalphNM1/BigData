{
 "cells": [
  {
   "cell_type": "code",
   "execution_count": null,
   "metadata": {},
   "outputs": [],
   "source": [
    "# data_reader.py\n",
    "import pandas as pd\n",
    "\n",
    "\n",
    "class Reader:\n",
    "    def __init__(self, file_name):\n",
    "        self.file_name = file_name\n",
    "        self.data = pd.DataFrame()\n",
    "        self.read_file()\n",
    "        self.process_data()\n",
    "\n",
    "    def read_file(self):\n",
    "        self.data = pd.read_csv('path/to/your_data.csv' + self.file_name,\n",
    "                                sep=',',\n",
    "                                header='infer',\n",
    "                                encoding='iso-8859-1')\n",
    "\n",
    "    def process_data(self):\n",
    "        columns_tmp = self.data.columns\n",
    "        columns_tmp = [column_name.lower() for column_name in columns_tmp]\n",
    "        self.data.columns = columns_tmp\n",
    "        self.data.rename(columns={'open': 'open_price',\n",
    "                                  'close': 'close_price',\n",
    "                                  'adj close': 'adj_close'}, inplace=True)\n",
    "\n",
    "\n",
    "if __name__ == '__main__':\n",
    "    pass"
   ]
  },
  {
   "cell_type": "code",
   "execution_count": null,
   "metadata": {},
   "outputs": [],
   "source": [
    "# producer.py\n",
    "from kafka import KafkaProducer\n",
    "import time\n",
    "import json\n",
    "\n",
    "from .reader import Reader\n",
    "\n",
    "\n",
    "class Producer:\n",
    "    def __init__(self, file_name, topic, freq):\n",
    "        self.topic = topic\n",
    "        self.freq = freq if isinstance(freq, int) else int(freq)\n",
    "        self.producer = KafkaProducer(bootstrap_servers='localhost:9092',\n",
    "                                      value_serializer=lambda x: json.dumps(x).encode('utf-8'))\n",
    "\n",
    "        self.reader = Reader(file_name)\n",
    "\n",
    "    def start_write(self):\n",
    "        for index, value in self.reader.data.iterrows():\n",
    "            dict_data = dict(value)\n",
    "            self.producer.send(self.topic, value=dict_data)\n",
    "            print(f'Message {index + 1}: {dict_data}')\n",
    "            time.sleep(self.freq)\n",
    "\n",
    "\n",
    "if __name__ == '__main__':\n",
    "    pass"
   ]
  },
  {
   "cell_type": "code",
   "execution_count": null,
   "metadata": {},
   "outputs": [],
   "source": [
    "\n",
    "# __main__.py\n",
    "from .producer import Producer\n",
    "import sys\n",
    "\n",
    "\n",
    "if __name__ == '__main__':\n",
    "    producer = Producer(sys.argv[1], sys.argv[2], sys.argv[3])\n",
    "    producer.start_write()"
   ]
  }
 ],
 "metadata": {
  "kernelspec": {
   "display_name": "bigdata",
   "language": "python",
   "name": "python3"
  },
  "language_info": {
   "name": "python",
   "version": "3.12.3"
  }
 },
 "nbformat": 4,
 "nbformat_minor": 2
}
