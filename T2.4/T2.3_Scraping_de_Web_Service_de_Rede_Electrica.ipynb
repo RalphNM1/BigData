{
 "cells": [
  {
   "cell_type": "markdown",
   "metadata": {},
   "source": [
    "## T2.3: Scraping de Web Service de Red Eléctrica\n",
    "### Autor: Ralphy Núñez Mercado"
   ]
  },
  {
   "cell_type": "markdown",
   "metadata": {},
   "source": [
    "<p>\n",
    "Fai unha función en Python que descargue a información dun día dado en: es / mercados / precios-mercados-tiempo-real.  \n",
    "\n",
    "Imprime por pantalla os prezos de cada franxa horaria por megavatio/hora e indica cales son:\n",
    "\n",
    "- As dúas horas máis baratas.  \n",
    "- As dúas horas máis caras.  \n",
    "- A media do día.  \n",
    "- Fai unha gráfica de barras con MatPlotLib.\n",
    "</p>"
   ]
  },
  {
   "cell_type": "markdown",
   "metadata": {},
   "source": [
    "### ⬇️📦 Mágias para la instalación de los paquetes."
   ]
  },
  {
   "cell_type": "code",
   "execution_count": null,
   "metadata": {},
   "outputs": [],
   "source": [
    "%conda install -y pandas # o  %pip install pandas\n",
    "%conda install -y requests #o %pip install requests\n",
    "%conda install -y matplotlib # o %pip install matplotlib\n",
    "%conda install -y numpy # o %pip install numpy"
   ]
  },
  {
   "cell_type": "markdown",
   "metadata": {},
   "source": [
    "### ⬇️📦 Importación de los paquetes."
   ]
  },
  {
   "cell_type": "code",
   "execution_count": 2,
   "metadata": {},
   "outputs": [],
   "source": [
    "import requests\n",
    "import pandas as pd\n",
    "import matplotlib.pyplot as plt\n",
    "import numpy as np"
   ]
  },
  {
   "cell_type": "markdown",
   "metadata": {},
   "source": [
    "### 📨 Hacer request a la api para conseguir los datos y formatear los datos para poder utilizarlos de una manera óptima.  \n",
    "<a href=\"https://www.ree.es/es/datos/apidatos\">API | Red Eléctrica</a>"
   ]
  },
  {
   "cell_type": "code",
   "execution_count": 3,
   "metadata": {},
   "outputs": [
    {
     "data": {
      "text/html": [
       "<div>\n",
       "<style scoped>\n",
       "    .dataframe tbody tr th:only-of-type {\n",
       "        vertical-align: middle;\n",
       "    }\n",
       "\n",
       "    .dataframe tbody tr th {\n",
       "        vertical-align: top;\n",
       "    }\n",
       "\n",
       "    .dataframe thead th {\n",
       "        text-align: right;\n",
       "    }\n",
       "</style>\n",
       "<table border=\"1\" class=\"dataframe\">\n",
       "  <thead>\n",
       "    <tr style=\"text-align: right;\">\n",
       "      <th></th>\n",
       "      <th>value</th>\n",
       "      <th>percentage</th>\n",
       "      <th>datetime</th>\n",
       "    </tr>\n",
       "  </thead>\n",
       "  <tbody>\n",
       "    <tr>\n",
       "      <th>0</th>\n",
       "      <td>150.94</td>\n",
       "      <td>0.564578</td>\n",
       "      <td>2025-02-03T00:00:00.000+01:00</td>\n",
       "    </tr>\n",
       "    <tr>\n",
       "      <th>1</th>\n",
       "      <td>135.98</td>\n",
       "      <td>0.570123</td>\n",
       "      <td>2025-02-03T01:00:00.000+01:00</td>\n",
       "    </tr>\n",
       "    <tr>\n",
       "      <th>2</th>\n",
       "      <td>137.55</td>\n",
       "      <td>0.573747</td>\n",
       "      <td>2025-02-03T02:00:00.000+01:00</td>\n",
       "    </tr>\n",
       "    <tr>\n",
       "      <th>3</th>\n",
       "      <td>139.61</td>\n",
       "      <td>0.576567</td>\n",
       "      <td>2025-02-03T03:00:00.000+01:00</td>\n",
       "    </tr>\n",
       "    <tr>\n",
       "      <th>4</th>\n",
       "      <td>138.92</td>\n",
       "      <td>0.575548</td>\n",
       "      <td>2025-02-03T04:00:00.000+01:00</td>\n",
       "    </tr>\n",
       "    <tr>\n",
       "      <th>5</th>\n",
       "      <td>141.66</td>\n",
       "      <td>0.569992</td>\n",
       "      <td>2025-02-03T05:00:00.000+01:00</td>\n",
       "    </tr>\n",
       "    <tr>\n",
       "      <th>6</th>\n",
       "      <td>133.92</td>\n",
       "      <td>0.567193</td>\n",
       "      <td>2025-02-03T06:00:00.000+01:00</td>\n",
       "    </tr>\n",
       "    <tr>\n",
       "      <th>7</th>\n",
       "      <td>172.65</td>\n",
       "      <td>0.544723</td>\n",
       "      <td>2025-02-03T07:00:00.000+01:00</td>\n",
       "    </tr>\n",
       "    <tr>\n",
       "      <th>8</th>\n",
       "      <td>219.18</td>\n",
       "      <td>0.570514</td>\n",
       "      <td>2025-02-03T08:00:00.000+01:00</td>\n",
       "    </tr>\n",
       "    <tr>\n",
       "      <th>9</th>\n",
       "      <td>203.74</td>\n",
       "      <td>0.584050</td>\n",
       "      <td>2025-02-03T09:00:00.000+01:00</td>\n",
       "    </tr>\n",
       "    <tr>\n",
       "      <th>10</th>\n",
       "      <td>219.14</td>\n",
       "      <td>0.663779</td>\n",
       "      <td>2025-02-03T10:00:00.000+01:00</td>\n",
       "    </tr>\n",
       "    <tr>\n",
       "      <th>11</th>\n",
       "      <td>210.46</td>\n",
       "      <td>0.672267</td>\n",
       "      <td>2025-02-03T11:00:00.000+01:00</td>\n",
       "    </tr>\n",
       "    <tr>\n",
       "      <th>12</th>\n",
       "      <td>210.51</td>\n",
       "      <td>0.672556</td>\n",
       "      <td>2025-02-03T12:00:00.000+01:00</td>\n",
       "    </tr>\n",
       "    <tr>\n",
       "      <th>13</th>\n",
       "      <td>208.18</td>\n",
       "      <td>0.670186</td>\n",
       "      <td>2025-02-03T13:00:00.000+01:00</td>\n",
       "    </tr>\n",
       "    <tr>\n",
       "      <th>14</th>\n",
       "      <td>143.19</td>\n",
       "      <td>0.582926</td>\n",
       "      <td>2025-02-03T14:00:00.000+01:00</td>\n",
       "    </tr>\n",
       "    <tr>\n",
       "      <th>15</th>\n",
       "      <td>157.20</td>\n",
       "      <td>0.583952</td>\n",
       "      <td>2025-02-03T15:00:00.000+01:00</td>\n",
       "    </tr>\n",
       "    <tr>\n",
       "      <th>16</th>\n",
       "      <td>167.52</td>\n",
       "      <td>0.575591</td>\n",
       "      <td>2025-02-03T16:00:00.000+01:00</td>\n",
       "    </tr>\n",
       "    <tr>\n",
       "      <th>17</th>\n",
       "      <td>190.60</td>\n",
       "      <td>0.567853</td>\n",
       "      <td>2025-02-03T17:00:00.000+01:00</td>\n",
       "    </tr>\n",
       "    <tr>\n",
       "      <th>18</th>\n",
       "      <td>326.26</td>\n",
       "      <td>0.619101</td>\n",
       "      <td>2025-02-03T18:00:00.000+01:00</td>\n",
       "    </tr>\n",
       "    <tr>\n",
       "      <th>19</th>\n",
       "      <td>326.97</td>\n",
       "      <td>0.619179</td>\n",
       "      <td>2025-02-03T19:00:00.000+01:00</td>\n",
       "    </tr>\n",
       "    <tr>\n",
       "      <th>20</th>\n",
       "      <td>360.70</td>\n",
       "      <td>0.613216</td>\n",
       "      <td>2025-02-03T20:00:00.000+01:00</td>\n",
       "    </tr>\n",
       "    <tr>\n",
       "      <th>21</th>\n",
       "      <td>311.15</td>\n",
       "      <td>0.625867</td>\n",
       "      <td>2025-02-03T21:00:00.000+01:00</td>\n",
       "    </tr>\n",
       "    <tr>\n",
       "      <th>22</th>\n",
       "      <td>202.94</td>\n",
       "      <td>0.573504</td>\n",
       "      <td>2025-02-03T22:00:00.000+01:00</td>\n",
       "    </tr>\n",
       "    <tr>\n",
       "      <th>23</th>\n",
       "      <td>186.43</td>\n",
       "      <td>0.578544</td>\n",
       "      <td>2025-02-03T23:00:00.000+01:00</td>\n",
       "    </tr>\n",
       "    <tr>\n",
       "      <th>24</th>\n",
       "      <td>157.37</td>\n",
       "      <td>0.543086</td>\n",
       "      <td>2025-02-04T00:00:00.000+01:00</td>\n",
       "    </tr>\n",
       "  </tbody>\n",
       "</table>\n",
       "</div>"
      ],
      "text/plain": [
       "     value  percentage                       datetime\n",
       "0   150.94    0.564578  2025-02-03T00:00:00.000+01:00\n",
       "1   135.98    0.570123  2025-02-03T01:00:00.000+01:00\n",
       "2   137.55    0.573747  2025-02-03T02:00:00.000+01:00\n",
       "3   139.61    0.576567  2025-02-03T03:00:00.000+01:00\n",
       "4   138.92    0.575548  2025-02-03T04:00:00.000+01:00\n",
       "5   141.66    0.569992  2025-02-03T05:00:00.000+01:00\n",
       "6   133.92    0.567193  2025-02-03T06:00:00.000+01:00\n",
       "7   172.65    0.544723  2025-02-03T07:00:00.000+01:00\n",
       "8   219.18    0.570514  2025-02-03T08:00:00.000+01:00\n",
       "9   203.74    0.584050  2025-02-03T09:00:00.000+01:00\n",
       "10  219.14    0.663779  2025-02-03T10:00:00.000+01:00\n",
       "11  210.46    0.672267  2025-02-03T11:00:00.000+01:00\n",
       "12  210.51    0.672556  2025-02-03T12:00:00.000+01:00\n",
       "13  208.18    0.670186  2025-02-03T13:00:00.000+01:00\n",
       "14  143.19    0.582926  2025-02-03T14:00:00.000+01:00\n",
       "15  157.20    0.583952  2025-02-03T15:00:00.000+01:00\n",
       "16  167.52    0.575591  2025-02-03T16:00:00.000+01:00\n",
       "17  190.60    0.567853  2025-02-03T17:00:00.000+01:00\n",
       "18  326.26    0.619101  2025-02-03T18:00:00.000+01:00\n",
       "19  326.97    0.619179  2025-02-03T19:00:00.000+01:00\n",
       "20  360.70    0.613216  2025-02-03T20:00:00.000+01:00\n",
       "21  311.15    0.625867  2025-02-03T21:00:00.000+01:00\n",
       "22  202.94    0.573504  2025-02-03T22:00:00.000+01:00\n",
       "23  186.43    0.578544  2025-02-03T23:00:00.000+01:00\n",
       "24  157.37    0.543086  2025-02-04T00:00:00.000+01:00"
      ]
     },
     "execution_count": 3,
     "metadata": {},
     "output_type": "execute_result"
    }
   ],
   "source": [
    "def buscar_precios(fecha_inicio, fecha_fin):\n",
    "    link = f\"https://apidatos.ree.es/es/datos/mercados/precios-mercados-tiempo-real?start_date={fecha_inicio}T00:00&end_date={fecha_fin}T00:00&time_trunc=hour\"\n",
    "    return link\n",
    "\n",
    "\n",
    "precios_json = requests.get(buscar_precios(\"2025-02-03\",\"2025-02-04\")).json()\n",
    "\n",
    "# Extraer los datos de 'included'\n",
    "datos = precios_json['included'][0]['attributes']['values']\n",
    "\n",
    "# Convertir los datos en un dataframe\n",
    "df_precios = pd.DataFrame(datos)\n",
    "\n",
    "df_precios"
   ]
  },
  {
   "cell_type": "markdown",
   "metadata": {},
   "source": [
    "### 🔢  Obtener las dos horas más baratas."
   ]
  },
  {
   "cell_type": "code",
   "execution_count": 4,
   "metadata": {},
   "outputs": [
    {
     "data": {
      "text/html": [
       "<div>\n",
       "<style scoped>\n",
       "    .dataframe tbody tr th:only-of-type {\n",
       "        vertical-align: middle;\n",
       "    }\n",
       "\n",
       "    .dataframe tbody tr th {\n",
       "        vertical-align: top;\n",
       "    }\n",
       "\n",
       "    .dataframe thead th {\n",
       "        text-align: right;\n",
       "    }\n",
       "</style>\n",
       "<table border=\"1\" class=\"dataframe\">\n",
       "  <thead>\n",
       "    <tr style=\"text-align: right;\">\n",
       "      <th></th>\n",
       "      <th>value</th>\n",
       "      <th>percentage</th>\n",
       "      <th>datetime</th>\n",
       "    </tr>\n",
       "  </thead>\n",
       "  <tbody>\n",
       "    <tr>\n",
       "      <th>6</th>\n",
       "      <td>133.92</td>\n",
       "      <td>0.567193</td>\n",
       "      <td>2025-02-03T06:00:00.000+01:00</td>\n",
       "    </tr>\n",
       "    <tr>\n",
       "      <th>1</th>\n",
       "      <td>135.98</td>\n",
       "      <td>0.570123</td>\n",
       "      <td>2025-02-03T01:00:00.000+01:00</td>\n",
       "    </tr>\n",
       "  </tbody>\n",
       "</table>\n",
       "</div>"
      ],
      "text/plain": [
       "    value  percentage                       datetime\n",
       "6  133.92    0.567193  2025-02-03T06:00:00.000+01:00\n",
       "1  135.98    0.570123  2025-02-03T01:00:00.000+01:00"
      ]
     },
     "execution_count": 4,
     "metadata": {},
     "output_type": "execute_result"
    }
   ],
   "source": [
    "horas_mas_baratas =  df_precios.sort_values(by='value')\n",
    "\n",
    "horas_mas_baratas.head(2)"
   ]
  },
  {
   "cell_type": "markdown",
   "metadata": {},
   "source": [
    "### 🔢 Obtener las dos horas más caras."
   ]
  },
  {
   "cell_type": "code",
   "execution_count": 5,
   "metadata": {},
   "outputs": [
    {
     "data": {
      "text/html": [
       "<div>\n",
       "<style scoped>\n",
       "    .dataframe tbody tr th:only-of-type {\n",
       "        vertical-align: middle;\n",
       "    }\n",
       "\n",
       "    .dataframe tbody tr th {\n",
       "        vertical-align: top;\n",
       "    }\n",
       "\n",
       "    .dataframe thead th {\n",
       "        text-align: right;\n",
       "    }\n",
       "</style>\n",
       "<table border=\"1\" class=\"dataframe\">\n",
       "  <thead>\n",
       "    <tr style=\"text-align: right;\">\n",
       "      <th></th>\n",
       "      <th>value</th>\n",
       "      <th>percentage</th>\n",
       "      <th>datetime</th>\n",
       "    </tr>\n",
       "  </thead>\n",
       "  <tbody>\n",
       "    <tr>\n",
       "      <th>20</th>\n",
       "      <td>360.70</td>\n",
       "      <td>0.613216</td>\n",
       "      <td>2025-02-03T20:00:00.000+01:00</td>\n",
       "    </tr>\n",
       "    <tr>\n",
       "      <th>19</th>\n",
       "      <td>326.97</td>\n",
       "      <td>0.619179</td>\n",
       "      <td>2025-02-03T19:00:00.000+01:00</td>\n",
       "    </tr>\n",
       "  </tbody>\n",
       "</table>\n",
       "</div>"
      ],
      "text/plain": [
       "     value  percentage                       datetime\n",
       "20  360.70    0.613216  2025-02-03T20:00:00.000+01:00\n",
       "19  326.97    0.619179  2025-02-03T19:00:00.000+01:00"
      ]
     },
     "execution_count": 5,
     "metadata": {},
     "output_type": "execute_result"
    }
   ],
   "source": [
    "horas_mas_caras = df_precios.sort_values(by='value', ascending=False) \n",
    "\n",
    "horas_mas_caras.head(2)"
   ]
  },
  {
   "cell_type": "markdown",
   "metadata": {},
   "source": [
    "### 🔢 Calcular la media del precio durante el día."
   ]
  },
  {
   "cell_type": "code",
   "execution_count": 6,
   "metadata": {},
   "outputs": [
    {
     "name": "stdout",
     "output_type": "stream",
     "text": [
      "Media de los precios durante el día: 198.11079999999998 €.\n"
     ]
    }
   ],
   "source": [
    "media = df_precios['value'].mean()\n",
    "\n",
    "print(f\"Media de los precios durante el día: {media} €.\")"
   ]
  },
  {
   "cell_type": "markdown",
   "metadata": {},
   "source": [
    "### 🔄 Convertir la columna 'datetime' a formato datetime."
   ]
  },
  {
   "cell_type": "code",
   "execution_count": 7,
   "metadata": {},
   "outputs": [],
   "source": [
    "df_precios['datetime'] = pd.to_datetime(df_precios['datetime'])"
   ]
  },
  {
   "cell_type": "markdown",
   "metadata": {},
   "source": [
    "### 📈 Graficar los datos con MatPlotLib."
   ]
  },
  {
   "cell_type": "code",
   "execution_count": 8,
   "metadata": {},
   "outputs": [
    {
     "data": {
      "image/png": "[encoded data removed]",
      "text/plain": [
       "<Figure size 1200x600 with 1 Axes>"
      ]
     },
     "metadata": {},
     "output_type": "display_data"
    }
   ],
   "source": [
    "# Por si acaso, ordenar el dataframe por horas.\n",
    "df_precios = df_precios.sort_values(by='datetime')\n",
    "\n",
    "x = pd.to_datetime(df_precios[\"datetime\"])\n",
    "y = df_precios['value']\n",
    "\n",
    "plt.figure(figsize=(12,6))\n",
    "plt.xlabel('Horas')\n",
    "plt.ylabel('€')\n",
    "plt.title(\"€/Hora\")\n",
    "plt.xticks(np.arange(0, 24, step=1))\n",
    "plt.bar(x.dt.hour,y)\n",
    "plt.show()\n",
    "\n"
   ]
  }
 ],
 "metadata": {
  "kernelspec": {
   "display_name": "bigdata",
   "language": "python",
   "name": "python3"
  },
  "language_info": {
   "codemirror_mode": {
    "name": "ipython",
    "version": 3
   },
   "file_extension": ".py",
   "mimetype": "text/x-python",
   "name": "python",
   "nbconvert_exporter": "python",
   "pygments_lexer": "ipython3",
   "version": "3.12.3"
  }
 },
 "nbformat": 4,
 "nbformat_minor": 2
}
