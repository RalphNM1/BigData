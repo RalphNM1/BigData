{
 "cells": [
  {
   "cell_type": "markdown",
   "metadata": {},
   "source": [
    "## T2.3: Scraping de Web Service de Red Eléctrica\n",
    "### Autor: Ralphy Núñez Mercado"
   ]
  },
  {
   "cell_type": "markdown",
   "metadata": {},
   "source": [
    "<p>\n",
    "Fai unha función en Python que descargue a información dun día dado en: es / mercados / precios-mercados-tiempo-real.  \n",
    "\n",
    "Imprime por pantalla os prezos de cada franxa horaria por megavatio/hora e indica cales son:\n",
    "\n",
    "- As dúas horas máis baratas.  \n",
    "- As dúas horas máis caras.  \n",
    "- A media do día.  \n",
    "- Fai unha gráfica de barras con MatPlotLib.\n",
    "</p>"
   ]
  },
  {
   "cell_type": "markdown",
   "metadata": {},
   "source": [
    "### ⬇️📦 Mágias para la instalación de los paquetes."
   ]
  },
  {
   "cell_type": "code",
   "execution_count": null,
   "metadata": {},
   "outputs": [],
   "source": [
    "%conda install pandas # o  %pip install pandas\n",
    "%conda install requests #o %pip install requests\n",
    "%conda install matplotlib # o %pip install matplotlib\n",
    "%conda install numpy # o %pip install numpy"
   ]
  },
  {
   "cell_type": "markdown",
   "metadata": {},
   "source": [
    "### ⬇️📦 Importación de los paquetes."
   ]
  },
  {
   "cell_type": "code",
   "execution_count": 57,
   "metadata": {},
   "outputs": [],
   "source": [
    "# /es/datos/mercados/precios-mercados-tiempo-real\n",
    "import requests\n",
    "import pandas as pd\n",
    "import matplotlib.pyplot as plt\n",
    "import numpy as np"
   ]
  },
  {
   "cell_type": "markdown",
   "metadata": {},
   "source": [
    "### 📨 Hacer request a la api para conseguir los datos y formatear los datos para poder utilizarlos de una manera óptima.  \n",
    "<a href=\"https://www.ree.es/es/datos/apidatos\">API | Red Eléctrica</a>"
   ]
  },
  {
   "cell_type": "code",
   "execution_count": 32,
   "metadata": {},
   "outputs": [
    {
     "data": {
      "text/html": [
       "<div>\n",
       "<style scoped>\n",
       "    .dataframe tbody tr th:only-of-type {\n",
       "        vertical-align: middle;\n",
       "    }\n",
       "\n",
       "    .dataframe tbody tr th {\n",
       "        vertical-align: top;\n",
       "    }\n",
       "\n",
       "    .dataframe thead th {\n",
       "        text-align: right;\n",
       "    }\n",
       "</style>\n",
       "<table border=\"1\" class=\"dataframe\">\n",
       "  <thead>\n",
       "    <tr style=\"text-align: right;\">\n",
       "      <th></th>\n",
       "      <th>value</th>\n",
       "      <th>percentage</th>\n",
       "      <th>datetime</th>\n",
       "    </tr>\n",
       "  </thead>\n",
       "  <tbody>\n",
       "    <tr>\n",
       "      <th>0</th>\n",
       "      <td>75.24</td>\n",
       "      <td>0.862448</td>\n",
       "      <td>2025-01-27T00:00:00.000+01:00</td>\n",
       "    </tr>\n",
       "    <tr>\n",
       "      <th>1</th>\n",
       "      <td>65.24</td>\n",
       "      <td>0.948807</td>\n",
       "      <td>2025-01-27T01:00:00.000+01:00</td>\n",
       "    </tr>\n",
       "    <tr>\n",
       "      <th>2</th>\n",
       "      <td>66.83</td>\n",
       "      <td>0.949964</td>\n",
       "      <td>2025-01-27T02:00:00.000+01:00</td>\n",
       "    </tr>\n",
       "    <tr>\n",
       "      <th>3</th>\n",
       "      <td>70.16</td>\n",
       "      <td>0.952226</td>\n",
       "      <td>2025-01-27T03:00:00.000+01:00</td>\n",
       "    </tr>\n",
       "    <tr>\n",
       "      <th>4</th>\n",
       "      <td>66.13</td>\n",
       "      <td>0.990267</td>\n",
       "      <td>2025-01-27T04:00:00.000+01:00</td>\n",
       "    </tr>\n",
       "    <tr>\n",
       "      <th>5</th>\n",
       "      <td>67.99</td>\n",
       "      <td>0.950776</td>\n",
       "      <td>2025-01-27T05:00:00.000+01:00</td>\n",
       "    </tr>\n",
       "    <tr>\n",
       "      <th>6</th>\n",
       "      <td>70.01</td>\n",
       "      <td>0.909221</td>\n",
       "      <td>2025-01-27T06:00:00.000+01:00</td>\n",
       "    </tr>\n",
       "    <tr>\n",
       "      <th>7</th>\n",
       "      <td>89.22</td>\n",
       "      <td>0.736990</td>\n",
       "      <td>2025-01-27T07:00:00.000+01:00</td>\n",
       "    </tr>\n",
       "    <tr>\n",
       "      <th>8</th>\n",
       "      <td>126.50</td>\n",
       "      <td>0.724887</td>\n",
       "      <td>2025-01-27T08:00:00.000+01:00</td>\n",
       "    </tr>\n",
       "    <tr>\n",
       "      <th>9</th>\n",
       "      <td>122.56</td>\n",
       "      <td>0.740007</td>\n",
       "      <td>2025-01-27T09:00:00.000+01:00</td>\n",
       "    </tr>\n",
       "    <tr>\n",
       "      <th>10</th>\n",
       "      <td>177.05</td>\n",
       "      <td>0.832119</td>\n",
       "      <td>2025-01-27T10:00:00.000+01:00</td>\n",
       "    </tr>\n",
       "    <tr>\n",
       "      <th>11</th>\n",
       "      <td>162.65</td>\n",
       "      <td>0.861129</td>\n",
       "      <td>2025-01-27T11:00:00.000+01:00</td>\n",
       "    </tr>\n",
       "    <tr>\n",
       "      <th>12</th>\n",
       "      <td>148.39</td>\n",
       "      <td>0.910815</td>\n",
       "      <td>2025-01-27T12:00:00.000+01:00</td>\n",
       "    </tr>\n",
       "    <tr>\n",
       "      <th>13</th>\n",
       "      <td>133.75</td>\n",
       "      <td>0.968782</td>\n",
       "      <td>2025-01-27T13:00:00.000+01:00</td>\n",
       "    </tr>\n",
       "    <tr>\n",
       "      <th>14</th>\n",
       "      <td>67.75</td>\n",
       "      <td>0.949544</td>\n",
       "      <td>2025-01-27T14:00:00.000+01:00</td>\n",
       "    </tr>\n",
       "    <tr>\n",
       "      <th>15</th>\n",
       "      <td>70.97</td>\n",
       "      <td>0.934185</td>\n",
       "      <td>2025-01-27T15:00:00.000+01:00</td>\n",
       "    </tr>\n",
       "    <tr>\n",
       "      <th>16</th>\n",
       "      <td>83.47</td>\n",
       "      <td>0.856366</td>\n",
       "      <td>2025-01-27T16:00:00.000+01:00</td>\n",
       "    </tr>\n",
       "    <tr>\n",
       "      <th>17</th>\n",
       "      <td>107.05</td>\n",
       "      <td>0.769867</td>\n",
       "      <td>2025-01-27T17:00:00.000+01:00</td>\n",
       "    </tr>\n",
       "    <tr>\n",
       "      <th>18</th>\n",
       "      <td>181.12</td>\n",
       "      <td>0.816224</td>\n",
       "      <td>2025-01-27T18:00:00.000+01:00</td>\n",
       "    </tr>\n",
       "    <tr>\n",
       "      <th>19</th>\n",
       "      <td>198.78</td>\n",
       "      <td>0.788340</td>\n",
       "      <td>2025-01-27T19:00:00.000+01:00</td>\n",
       "    </tr>\n",
       "    <tr>\n",
       "      <th>20</th>\n",
       "      <td>182.79</td>\n",
       "      <td>0.817158</td>\n",
       "      <td>2025-01-27T20:00:00.000+01:00</td>\n",
       "    </tr>\n",
       "    <tr>\n",
       "      <th>21</th>\n",
       "      <td>179.76</td>\n",
       "      <td>0.826711</td>\n",
       "      <td>2025-01-27T21:00:00.000+01:00</td>\n",
       "    </tr>\n",
       "    <tr>\n",
       "      <th>22</th>\n",
       "      <td>105.41</td>\n",
       "      <td>0.767120</td>\n",
       "      <td>2025-01-27T22:00:00.000+01:00</td>\n",
       "    </tr>\n",
       "    <tr>\n",
       "      <th>23</th>\n",
       "      <td>102.35</td>\n",
       "      <td>0.796002</td>\n",
       "      <td>2025-01-27T23:00:00.000+01:00</td>\n",
       "    </tr>\n",
       "    <tr>\n",
       "      <th>24</th>\n",
       "      <td>53.78</td>\n",
       "      <td>0.938569</td>\n",
       "      <td>2025-01-28T00:00:00.000+01:00</td>\n",
       "    </tr>\n",
       "  </tbody>\n",
       "</table>\n",
       "</div>"
      ],
      "text/plain": [
       "     value  percentage                       datetime\n",
       "0    75.24    0.862448  2025-01-27T00:00:00.000+01:00\n",
       "1    65.24    0.948807  2025-01-27T01:00:00.000+01:00\n",
       "2    66.83    0.949964  2025-01-27T02:00:00.000+01:00\n",
       "3    70.16    0.952226  2025-01-27T03:00:00.000+01:00\n",
       "4    66.13    0.990267  2025-01-27T04:00:00.000+01:00\n",
       "5    67.99    0.950776  2025-01-27T05:00:00.000+01:00\n",
       "6    70.01    0.909221  2025-01-27T06:00:00.000+01:00\n",
       "7    89.22    0.736990  2025-01-27T07:00:00.000+01:00\n",
       "8   126.50    0.724887  2025-01-27T08:00:00.000+01:00\n",
       "9   122.56    0.740007  2025-01-27T09:00:00.000+01:00\n",
       "10  177.05    0.832119  2025-01-27T10:00:00.000+01:00\n",
       "11  162.65    0.861129  2025-01-27T11:00:00.000+01:00\n",
       "12  148.39    0.910815  2025-01-27T12:00:00.000+01:00\n",
       "13  133.75    0.968782  2025-01-27T13:00:00.000+01:00\n",
       "14   67.75    0.949544  2025-01-27T14:00:00.000+01:00\n",
       "15   70.97    0.934185  2025-01-27T15:00:00.000+01:00\n",
       "16   83.47    0.856366  2025-01-27T16:00:00.000+01:00\n",
       "17  107.05    0.769867  2025-01-27T17:00:00.000+01:00\n",
       "18  181.12    0.816224  2025-01-27T18:00:00.000+01:00\n",
       "19  198.78    0.788340  2025-01-27T19:00:00.000+01:00\n",
       "20  182.79    0.817158  2025-01-27T20:00:00.000+01:00\n",
       "21  179.76    0.826711  2025-01-27T21:00:00.000+01:00\n",
       "22  105.41    0.767120  2025-01-27T22:00:00.000+01:00\n",
       "23  102.35    0.796002  2025-01-27T23:00:00.000+01:00\n",
       "24   53.78    0.938569  2025-01-28T00:00:00.000+01:00"
      ]
     },
     "execution_count": 32,
     "metadata": {},
     "output_type": "execute_result"
    }
   ],
   "source": [
    "def buscar_precios(fecha_inicio, fecha_fin):\n",
    "    link = f\"https://apidatos.ree.es/es/datos/mercados/precios-mercados-tiempo-real?start_date={fecha_inicio}T00:00&end_date={fecha_fin}T00:00&time_trunc=hour\"\n",
    "    return link\n",
    "\n",
    "\n",
    "precios_json = requests.get(buscar_precios(\"2025-01-27\",\"2025-01-28\")).json()\n",
    "\n",
    "# Extraer los datos de 'included'\n",
    "datos_pvpc = precios_json['included'][0]['attributes']['values']\n",
    "\n",
    "# Convertir los datos en un dataframe\n",
    "df_precios = pd.DataFrame(datos_pvpc)\n",
    "\n",
    "df_precios"
   ]
  },
  {
   "cell_type": "markdown",
   "metadata": {},
   "source": [
    "### 🔢  Obtener las dos horas más baratas."
   ]
  },
  {
   "cell_type": "code",
   "execution_count": 27,
   "metadata": {},
   "outputs": [
    {
     "data": {
      "text/html": [
       "<div>\n",
       "<style scoped>\n",
       "    .dataframe tbody tr th:only-of-type {\n",
       "        vertical-align: middle;\n",
       "    }\n",
       "\n",
       "    .dataframe tbody tr th {\n",
       "        vertical-align: top;\n",
       "    }\n",
       "\n",
       "    .dataframe thead th {\n",
       "        text-align: right;\n",
       "    }\n",
       "</style>\n",
       "<table border=\"1\" class=\"dataframe\">\n",
       "  <thead>\n",
       "    <tr style=\"text-align: right;\">\n",
       "      <th></th>\n",
       "      <th>value</th>\n",
       "      <th>percentage</th>\n",
       "      <th>datetime</th>\n",
       "    </tr>\n",
       "  </thead>\n",
       "  <tbody>\n",
       "    <tr>\n",
       "      <th>24</th>\n",
       "      <td>53.78</td>\n",
       "      <td>0.938569</td>\n",
       "      <td>2025-01-28T00:00:00.000+01:00</td>\n",
       "    </tr>\n",
       "    <tr>\n",
       "      <th>1</th>\n",
       "      <td>65.24</td>\n",
       "      <td>0.948807</td>\n",
       "      <td>2025-01-27T01:00:00.000+01:00</td>\n",
       "    </tr>\n",
       "  </tbody>\n",
       "</table>\n",
       "</div>"
      ],
      "text/plain": [
       "    value  percentage                       datetime\n",
       "24  53.78    0.938569  2025-01-28T00:00:00.000+01:00\n",
       "1   65.24    0.948807  2025-01-27T01:00:00.000+01:00"
      ]
     },
     "execution_count": 27,
     "metadata": {},
     "output_type": "execute_result"
    }
   ],
   "source": [
    "horas_mas_baratas =  df_precios.sort_values(by='value')\n",
    "\n",
    "horas_mas_baratas.head(2)"
   ]
  },
  {
   "cell_type": "markdown",
   "metadata": {},
   "source": [
    "### 🔢 Obtener las dos horas más caras."
   ]
  },
  {
   "cell_type": "code",
   "execution_count": 28,
   "metadata": {},
   "outputs": [
    {
     "data": {
      "text/html": [
       "<div>\n",
       "<style scoped>\n",
       "    .dataframe tbody tr th:only-of-type {\n",
       "        vertical-align: middle;\n",
       "    }\n",
       "\n",
       "    .dataframe tbody tr th {\n",
       "        vertical-align: top;\n",
       "    }\n",
       "\n",
       "    .dataframe thead th {\n",
       "        text-align: right;\n",
       "    }\n",
       "</style>\n",
       "<table border=\"1\" class=\"dataframe\">\n",
       "  <thead>\n",
       "    <tr style=\"text-align: right;\">\n",
       "      <th></th>\n",
       "      <th>value</th>\n",
       "      <th>percentage</th>\n",
       "      <th>datetime</th>\n",
       "    </tr>\n",
       "  </thead>\n",
       "  <tbody>\n",
       "    <tr>\n",
       "      <th>19</th>\n",
       "      <td>198.78</td>\n",
       "      <td>0.788340</td>\n",
       "      <td>2025-01-27T19:00:00.000+01:00</td>\n",
       "    </tr>\n",
       "    <tr>\n",
       "      <th>20</th>\n",
       "      <td>182.79</td>\n",
       "      <td>0.817158</td>\n",
       "      <td>2025-01-27T20:00:00.000+01:00</td>\n",
       "    </tr>\n",
       "  </tbody>\n",
       "</table>\n",
       "</div>"
      ],
      "text/plain": [
       "     value  percentage                       datetime\n",
       "19  198.78    0.788340  2025-01-27T19:00:00.000+01:00\n",
       "20  182.79    0.817158  2025-01-27T20:00:00.000+01:00"
      ]
     },
     "execution_count": 28,
     "metadata": {},
     "output_type": "execute_result"
    }
   ],
   "source": [
    "horas_mas_caras = df_precios.sort_values(by='value', ascending=False) \n",
    "\n",
    "horas_mas_caras.head(2)"
   ]
  },
  {
   "cell_type": "markdown",
   "metadata": {},
   "source": [
    "### 🔢 Calcular la media del precio durante el día."
   ]
  },
  {
   "cell_type": "code",
   "execution_count": 29,
   "metadata": {},
   "outputs": [
    {
     "name": "stdout",
     "output_type": "stream",
     "text": [
      "Media de los precios durante el día: 110.998\n"
     ]
    }
   ],
   "source": [
    "media = df_precios['value'].mean()\n",
    "\n",
    "print(f\"Media de los precios durante el día: {media}\")"
   ]
  },
  {
   "cell_type": "markdown",
   "metadata": {},
   "source": [
    "### 🔄 Convertir la columna 'datetime' a formato datetime."
   ]
  },
  {
   "cell_type": "code",
   "execution_count": 51,
   "metadata": {},
   "outputs": [],
   "source": [
    "df_precios['datetime'] = pd.to_datetime(df_precios['datetime'])"
   ]
  },
  {
   "cell_type": "markdown",
   "metadata": {},
   "source": [
    "### 📈 Graficar los datos con MatPlotLib."
   ]
  },
  {
   "cell_type": "code",
   "execution_count": 102,
   "metadata": {},
   "outputs": [
    {
     "data": {
      "image/png": "[encoded data removed]",
      "text/plain": [
       "<Figure size 1200x600 with 1 Axes>"
      ]
     },
     "metadata": {},
     "output_type": "display_data"
    }
   ],
   "source": [
    "# Por si acaso, ordenar el dataframe por horas.\n",
    "df_precios = df_precios.sort_values(by='datetime')\n",
    "\n",
    "x = pd.to_datetime(df_precios[\"datetime\"])\n",
    "y = df_precios['value']\n",
    "\n",
    "plt.figure(figsize=(12,6))\n",
    "plt.xlabel('Horas')\n",
    "plt.ylabel('€')\n",
    "plt.title(\"€/Hora\")\n",
    "plt.xticks(np.arange(0, 24, step=1))\n",
    "plt.bar(x.dt.hour,y)\n",
    "plt.show()\n",
    "\n"
   ]
  }
 ],
 "metadata": {
  "kernelspec": {
   "display_name": "bigdata",
   "language": "python",
   "name": "python3"
  },
  "language_info": {
   "codemirror_mode": {
    "name": "ipython",
    "version": 3
   },
   "file_extension": ".py",
   "mimetype": "text/x-python",
   "name": "python",
   "nbconvert_exporter": "python",
   "pygments_lexer": "ipython3",
   "version": "3.12.3"
  }
 },
 "nbformat": 4,
 "nbformat_minor": 2
}
