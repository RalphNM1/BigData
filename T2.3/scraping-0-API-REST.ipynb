{
 "cells": [
  {
   "attachments": {},
   "cell_type": "markdown",
   "metadata": {},
   "source": [
    "# Web scraping. Capítulo 0\n",
    "## Consumindo API REST con requests"
   ]
  },
  {
   "cell_type": "markdown",
   "metadata": {},
   "source": [
    "### Instalar as dependencias\n",
    "\n",
    "Imos empregar requests."
   ]
  },
  {
   "cell_type": "code",
   "execution_count": null,
   "metadata": {},
   "outputs": [],
   "source": [
    "!conda install -y requests"
   ]
  },
  {
   "cell_type": "code",
   "execution_count": 1,
   "metadata": {},
   "outputs": [
    {
     "name": "stdout",
     "output_type": "stream",
     "text": [
      "<Response [200]>\n"
     ]
    }
   ],
   "source": [
    "import requests\n",
    "\n",
    "enderezo = \"http://api.open-notify.org/astros.json\"\n",
    "resposta = requests.get(enderezo)\n",
    "\n",
    "print (resposta)"
   ]
  },
  {
   "cell_type": "code",
   "execution_count": 2,
   "metadata": {},
   "outputs": [
    {
     "data": {
      "text/plain": [
       "{'people': [{'craft': 'ISS', 'name': 'Oleg Kononenko'},\n",
       "  {'craft': 'ISS', 'name': 'Nikolai Chub'},\n",
       "  {'craft': 'ISS', 'name': 'Tracy Caldwell Dyson'},\n",
       "  {'craft': 'ISS', 'name': 'Matthew Dominick'},\n",
       "  {'craft': 'ISS', 'name': 'Michael Barratt'},\n",
       "  {'craft': 'ISS', 'name': 'Jeanette Epps'},\n",
       "  {'craft': 'ISS', 'name': 'Alexander Grebenkin'},\n",
       "  {'craft': 'ISS', 'name': 'Butch Wilmore'},\n",
       "  {'craft': 'ISS', 'name': 'Sunita Williams'},\n",
       "  {'craft': 'Tiangong', 'name': 'Li Guangsu'},\n",
       "  {'craft': 'Tiangong', 'name': 'Li Cong'},\n",
       "  {'craft': 'Tiangong', 'name': 'Ye Guangfu'}],\n",
       " 'number': 12,\n",
       " 'message': 'success'}"
      ]
     },
     "execution_count": 2,
     "metadata": {},
     "output_type": "execute_result"
    }
   ],
   "source": [
    "# print(resposta.content)\n",
    "# print(resposta.text)\n",
    "resposta.json()"
   ]
  },
  {
   "cell_type": "code",
   "execution_count": 3,
   "metadata": {},
   "outputs": [
    {
     "name": "stdout",
     "output_type": "stream",
     "text": [
      "people\n",
      "[{'craft': 'ISS', 'name': 'Oleg Kononenko'}, {'craft': 'ISS', 'name': 'Nikolai Chub'}, {'craft': 'ISS', 'name': 'Tracy Caldwell Dyson'}, {'craft': 'ISS', 'name': 'Matthew Dominick'}, {'craft': 'ISS', 'name': 'Michael Barratt'}, {'craft': 'ISS', 'name': 'Jeanette Epps'}, {'craft': 'ISS', 'name': 'Alexander Grebenkin'}, {'craft': 'ISS', 'name': 'Butch Wilmore'}, {'craft': 'ISS', 'name': 'Sunita Williams'}, {'craft': 'Tiangong', 'name': 'Li Guangsu'}, {'craft': 'Tiangong', 'name': 'Li Cong'}, {'craft': 'Tiangong', 'name': 'Ye Guangfu'}]\n",
      "number\n",
      "12\n",
      "message\n",
      "success\n"
     ]
    }
   ],
   "source": [
    "import json\n",
    "variables=json.loads(json.dumps(resposta.json()))\n",
    "for i in variables:\n",
    "    print(i)\n",
    "    print (variables[i])"
   ]
  },
  {
   "cell_type": "code",
   "execution_count": 4,
   "metadata": {},
   "outputs": [
    {
     "name": "stdout",
     "output_type": "stream",
     "text": [
      "Éxito rotundo obtendo datos!\n",
      "Teño 12 pilotos!\n",
      "Oleg Kononenko tripulación do: ISS\n",
      "Nikolai Chub tripulación do: ISS\n",
      "Tracy Caldwell Dyson tripulación do: ISS\n",
      "Matthew Dominick tripulación do: ISS\n",
      "Michael Barratt tripulación do: ISS\n",
      "Jeanette Epps tripulación do: ISS\n",
      "Alexander Grebenkin tripulación do: ISS\n",
      "Butch Wilmore tripulación do: ISS\n",
      "Sunita Williams tripulación do: ISS\n",
      "Li Guangsu tripulación do: Tiangong\n",
      "Li Cong tripulación do: Tiangong\n",
      "Ye Guangfu tripulación do: Tiangong\n"
     ]
    }
   ],
   "source": [
    "if (variables['message'] == 'success'):\n",
    "    print('Éxito rotundo obtendo datos!')\n",
    "    print(f\"Teño {variables['number']} pilotos!\")\n",
    "    for piloto in variables['people']:\n",
    "        print(piloto['name'], \"tripulación do:\", piloto['craft'])"
   ]
  },
  {
   "attachments": {},
   "cell_type": "markdown",
   "metadata": {},
   "source": [
    "Baseado en: <https://www.nylas.com/blog/use-python-requests-module-rest-apis/>\n",
    "\n",
    "**Exercicio**: Do servizo: <https://rickandmortyapi.com/api/episode/> podes obter os episodios e personaxes de cada un deles.\n",
    "\n",
    "Queremos saber aqueles personaxes que participan en **tódolos** episodios."
   ]
  },
  {
   "attachments": {},
   "cell_type": "markdown",
   "metadata": {},
   "source": [
    "**Máis información:**\n",
    "   - <https://www.chakray.com/es/que-diferencias-hay-entre-rest-y-soap/>\n",
    "   - <https://blog.hubspot.es/website/que-es-api-rest>\n",
    "   - <https://www.redhat.com/es/topics/integration/whats-the-difference-between-soap-rest>\n",
    "   - <https://es.martech.zone/what-is-an-api/>"
   ]
  }
 ],
 "metadata": {
  "kernelspec": {
   "display_name": "bigdata",
   "language": "python",
   "name": "python3"
  },
  "language_info": {
   "codemirror_mode": {
    "name": "ipython",
    "version": 3
   },
   "file_extension": ".py",
   "mimetype": "text/x-python",
   "name": "python",
   "nbconvert_exporter": "python",
   "pygments_lexer": "ipython3",
   "version": "3.12.3"
  },
  "orig_nbformat": 4,
  "vscode": {
   "interpreter": {
    "hash": "6f2c8ca1a79d6d82f32e116612cbd8f0319de1d4a0a5509748c0bfa14525846a"
   }
  }
 },
 "nbformat": 4,
 "nbformat_minor": 2
}
